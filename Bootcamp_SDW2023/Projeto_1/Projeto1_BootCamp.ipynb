{
 "cells": [
  {
   "cell_type": "code",
   "execution_count": 1,
   "id": "27b16536",
   "metadata": {
    "ExecuteTime": {
     "end_time": "2023-09-25T02:36:38.696923Z",
     "start_time": "2023-09-25T02:36:32.442152Z"
    }
   },
   "outputs": [],
   "source": [
    "import numpy as np\n",
    "import pandas as pd\n",
    "import matplotlib.pyplot as plt\n",
    "import astropy.units as u\n",
    "import math\n",
    "import scipy.stats as stats\n",
    "from tqdm import tqdm \n",
    "import time\n",
    "import multiprocessing as mp"
   ]
  },
  {
   "cell_type": "markdown",
   "id": "6e811163",
   "metadata": {},
   "source": [
    "### Explorando IA Generativa em um Pipeline de ETL \n",
    "\n",
    " - Extrair, transformar e carregar dados. \n",
    "\n",
    "**Projeto 1 do BootCamp Santander 2023 (Data Science)**"
   ]
  },
  {
   "cell_type": "markdown",
   "id": "ba63aaa1",
   "metadata": {},
   "source": [
    "##### Plano:\n",
    " - Consumir o endpoint (GET https://sdw-2023-prd.up.railway.app/users/{id}) (API do Santander) p obter dados de cada cliente.\n",
    " - Usar API do ChatGPT para gerar uma mensagem de marketing personalizada para cada cliente.\n",
    " - Enviar as mensagens de volta API atualizando a lista de \"news\" de cada usuário."
   ]
  },
  {
   "cell_type": "markdown",
   "id": "a24b86f7",
   "metadata": {},
   "source": [
    "> Pipeline nos vídeos"
   ]
  },
  {
   "cell_type": "markdown",
   "id": "368c9492",
   "metadata": {},
   "source": [
    "#### Extração:"
   ]
  },
  {
   "cell_type": "code",
   "execution_count": 2,
   "id": "b4f35555",
   "metadata": {
    "ExecuteTime": {
     "end_time": "2023-09-25T02:36:38.719649Z",
     "start_time": "2023-09-25T02:36:38.708645Z"
    }
   },
   "outputs": [],
   "source": [
    "#Repositorio API: https://github.com/digitalinnovationone/santander-dev-week-2023-api\n",
    "sdw2023_api_url = 'https://sdw-2023-prd.up.railway.app'"
   ]
  },
  {
   "cell_type": "code",
   "execution_count": 3,
   "id": "da1155d4",
   "metadata": {
    "ExecuteTime": {
     "end_time": "2023-09-25T02:36:38.827902Z",
     "start_time": "2023-09-25T02:36:38.730591Z"
    }
   },
   "outputs": [
    {
     "name": "stdout",
     "output_type": "stream",
     "text": [
      "[1251, 3146, 3147, 3148]\n"
     ]
    }
   ],
   "source": [
    "df = pd.read_csv('SDW2023.csv')\n",
    "user_ids = df['User ID'].tolist()\n",
    "print(user_ids)"
   ]
  },
  {
   "cell_type": "code",
   "execution_count": 4,
   "id": "e99a77ca",
   "metadata": {
    "ExecuteTime": {
     "end_time": "2023-09-25T02:36:41.324892Z",
     "start_time": "2023-09-25T02:36:38.834010Z"
    }
   },
   "outputs": [
    {
     "name": "stdout",
     "output_type": "stream",
     "text": [
      "[\n",
      "  {\n",
      "    \"id\": 3146,\n",
      "    \"name\": \"Laidler\",\n",
      "    \"account\": {\n",
      "      \"id\": 3323,\n",
      "      \"number\": \"12222-2\",\n",
      "      \"agency\": \"2222\",\n",
      "      \"balance\": 1000.0,\n",
      "      \"limit\": 3000.0\n",
      "    },\n",
      "    \"card\": {\n",
      "      \"id\": 3044,\n",
      "      \"number\": \"xxxx xxxx xxxx 1222\",\n",
      "      \"limit\": 500.0\n",
      "    },\n",
      "    \"features\": [],\n",
      "    \"news\": []\n",
      "  },\n",
      "  {\n",
      "    \"id\": 3147,\n",
      "    \"name\": \"Jack\",\n",
      "    \"account\": {\n",
      "      \"id\": 3324,\n",
      "      \"number\": \"13333-3\",\n",
      "      \"agency\": \"3333\",\n",
      "      \"balance\": 4500.0,\n",
      "      \"limit\": 3000.0\n",
      "    },\n",
      "    \"card\": {\n",
      "      \"id\": 3045,\n",
      "      \"number\": \"xxxx xxxx xxxx 3332\",\n",
      "      \"limit\": 1500.0\n",
      "    },\n",
      "    \"features\": [],\n",
      "    \"news\": []\n",
      "  },\n",
      "  {\n",
      "    \"id\": 3148,\n",
      "    \"name\": \"Teuzinho\",\n",
      "    \"account\": {\n",
      "      \"id\": 3325,\n",
      "      \"number\": \"14444-4\",\n",
      "      \"agency\": \"4444\",\n",
      "      \"balance\": 14500.0,\n",
      "      \"limit\": 300000.0\n",
      "    },\n",
      "    \"card\": {\n",
      "      \"id\": 3046,\n",
      "      \"number\": \"xxxx xxxx xxxx 4444\",\n",
      "      \"limit\": 5500.0\n",
      "    },\n",
      "    \"features\": [],\n",
      "    \"news\": []\n",
      "  }\n",
      "]\n"
     ]
    }
   ],
   "source": [
    "# Obtendo os dados de cada ID pela API da Santander\n",
    "import requests\n",
    "import json\n",
    "\n",
    "def get_user(id):\n",
    "    response = requests.get(f'{sdw2023_api_url}/users/{id}')\n",
    "    return response.json() if response.status_code == 200 else None\n",
    "\n",
    "#Status 200 significa que a tentativa foi bem sucedida. Outro status indica algum erro na busca dos dados.\n",
    "\n",
    "user = [user for id in user_ids if (user := get_user(id)) is not None] #compreensão de listas\n",
    "#Só iremos atribuir os dados do usuario se ele não for None (evitar adicionai elemento None na lista)\n",
    "print(json.dumps(user, indent= 2))"
   ]
  },
  {
   "cell_type": "markdown",
   "id": "8336a128",
   "metadata": {},
   "source": [
    "#### Transformação:"
   ]
  },
  {
   "cell_type": "code",
   "execution_count": 5,
   "id": "7f79f379",
   "metadata": {
    "ExecuteTime": {
     "end_time": "2023-09-25T02:36:41.853643Z",
     "start_time": "2023-09-25T02:36:41.333190Z"
    }
   },
   "outputs": [],
   "source": [
    "#Utilizando API do OpenAI GPT\n",
    "import openai\n",
    "openai.api_key = 's428EFgZKDH*****************Dmb0H7ZfYxxxxxxxxxxE' #ov"
   ]
  },
  {
   "cell_type": "code",
   "execution_count": 6,
   "id": "631bd5ca",
   "metadata": {
    "ExecuteTime": {
     "end_time": "2023-09-25T02:37:44.492371Z",
     "start_time": "2023-09-25T02:36:41.858588Z"
    }
   },
   "outputs": [
    {
     "name": "stdout",
     "output_type": "stream",
     "text": [
      "Invista no seu futuro financeiro com Laidler.\n",
      "Jack, invista em seu futuro! #mudandovidascominvestimentos\n",
      "Teuzinho, invista no seu futuro! 💰\n"
     ]
    }
   ],
   "source": [
    "def generate_ai_news(us):\n",
    "    completion = openai.ChatCompletion.create(\n",
    "  model=\"gpt-3.5-turbo-0301\",\n",
    "  messages=[\n",
    "    {\"role\": \"system\", \"content\": \"Você é um especialista em Marketing bancário.\"},\n",
    "    {\"role\": \"user\", \"content\": 'Crie uma mensagem personalizada para '+ str(us['name'])+ ', sobre a importância dos investimentos (máximo de 100 caracteres).'}\n",
    "  ]\n",
    ")\n",
    "    time.sleep(20) #Limite de 3 msg por minuto no plano gratuito\n",
    "    return completion.choices[0].message.content.strip('\\\"')\n",
    "\n",
    "for us in user:\n",
    "    news = generate_ai_news(us)\n",
    "    us['news'].append({\"description\": news})\n",
    "    print(news)"
   ]
  },
  {
   "cell_type": "markdown",
   "id": "e41034a2",
   "metadata": {},
   "source": [
    "#### Carregamento:"
   ]
  },
  {
   "cell_type": "code",
   "execution_count": 7,
   "id": "016d5f9b",
   "metadata": {
    "ExecuteTime": {
     "end_time": "2023-09-25T02:44:55.745799Z",
     "start_time": "2023-09-25T02:44:55.731454Z"
    }
   },
   "outputs": [],
   "source": [
    "def update_user(user):\n",
    "    response = requests.put(f\"{sdw2023_api_url}/users/{user['id']}\", json = user)\n",
    "    return True if response.status_code == 200 else False"
   ]
  },
  {
   "cell_type": "code",
   "execution_count": 8,
   "id": "99696b74",
   "metadata": {
    "ExecuteTime": {
     "end_time": "2023-09-25T02:46:15.423256Z",
     "start_time": "2023-09-25T02:46:13.841761Z"
    }
   },
   "outputs": [
    {
     "name": "stdout",
     "output_type": "stream",
     "text": [
      "Laidler updated? True!\n",
      "Jack updated? True!\n",
      "Teuzinho updated? True!\n"
     ]
    }
   ],
   "source": [
    "for us in user:\n",
    "    success = update_user(us)\n",
    "    print(f\"{us['name']} updated? {success}!\")"
   ]
  },
  {
   "cell_type": "markdown",
   "id": "e91aaba1",
   "metadata": {},
   "source": [
    "> Pipeline feito por mim"
   ]
  },
  {
   "cell_type": "markdown",
   "id": "e2947f78",
   "metadata": {},
   "source": [
    "Extrair, Transformar e Carregar no contexto da análise de Fundos Imobiliários!"
   ]
  },
  {
   "cell_type": "markdown",
   "id": "926e9bba",
   "metadata": {},
   "source": [
    "### Preparação"
   ]
  },
  {
   "cell_type": "code",
   "execution_count": 9,
   "id": "dc6a1900",
   "metadata": {
    "ExecuteTime": {
     "end_time": "2023-09-25T03:02:26.447477Z",
     "start_time": "2023-09-25T03:02:20.718969Z"
    }
   },
   "outputs": [],
   "source": [
    "# Importando Bibliotecas\n",
    "import numpy as np\n",
    "import pandas as pd\n",
    "import matplotlib.pyplot as plt\n",
    "import math\n",
    "from tqdm import tqdm \n",
    "import time\n",
    "import multiprocessing as mp\n",
    "import random\n",
    "import datetime\n",
    "import yfinance as yf\n",
    "import mplcyberpunk\n",
    "import smtplib\n",
    "from email.mime.multipart import MIMEMultipart\n",
    "from email.mime.text import MIMEText\n",
    "from email.mime.base import MIMEBase\n",
    "from email import encoders\n",
    "import time\n",
    "from selenium import webdriver\n",
    "from selenium.webdriver.firefox.service import Service as FirefoxService\n",
    "from webdriver_manager.firefox import GeckoDriverManager\n",
    "import datetime\n",
    "import pandas_datareader.data as pdr\n",
    "from numpy import linalg as LA\n",
    "import yfinance as yf\n",
    "from alpha_vantage.timeseries import TimeSeries\n",
    "import os\n",
    "from pathlib import Path\n",
    "yf.pdr_override()\n",
    "\n",
    "#Funções utilizadas:\n",
    "def encontrar_arquivo_download(nome_arquivo):\n",
    "    # Encontra o caminho da pasta de download padrão\n",
    "    if os.name == \"nt\":  # Windows\n",
    "        pasta_download = Path(os.path.expanduser(\"~\")) / \"Downloads\"\n",
    "    elif os.name == \"posix\":  # Linux ou macOS\n",
    "        pasta_download = Path(os.path.expanduser(\"~\")) / \"Downloads\"\n",
    "    else:\n",
    "        raise OSError(\"Sistema operacional não suportado.\")\n",
    "    \n",
    "    # Verifica se o arquivo está presente na pasta de download\n",
    "    arquivo_procurado = pasta_download / nome_arquivo\n",
    "    if arquivo_procurado.is_file():\n",
    "        return str(arquivo_procurado)\n",
    "    else:\n",
    "        return None\n",
    "\n",
    "def BolaDeNeve(data):\n",
    "    '''Docstring:\n",
    "        Função recebe Data Frame e retorna valores para calcularmos o Magic Number necessário para\n",
    "        começar a 'bola de neve'. Ou seja, a quantidade de cotas e a quantidade de investimento necessario\n",
    "        para que a rentabilidade pague +1 cota.    \n",
    "    '''\n",
    "    cotas=[]\n",
    "    valores=[]\n",
    "    for i in range(1,len(data)+1):\n",
    "        preco = data.loc[i]['Preco']\n",
    "        div_ult = data.loc[i]['Ultimo Dividendo']\n",
    "        cotas_nec = round(preco/div_ult)\n",
    "        valor_nec = cotas_nec*preco\n",
    "        cotas.append(cotas_nec)\n",
    "        valores.append(valor_nec)\n",
    "    return cotas,valores\n"
   ]
  },
  {
   "cell_type": "markdown",
   "id": "712eb5fb",
   "metadata": {},
   "source": [
    "### Extrair\n",
    "\n",
    "Iremos extrair os dados do csv previamente carregado, do yahoo finance e Alpha Vantage."
   ]
  },
  {
   "cell_type": "code",
   "execution_count": 14,
   "id": "b9ffad49",
   "metadata": {
    "ExecuteTime": {
     "end_time": "2023-09-25T03:06:28.612217Z",
     "start_time": "2023-09-25T03:06:26.306143Z"
    }
   },
   "outputs": [
    {
     "name": "stdout",
     "output_type": "stream",
     "text": [
      "[*********************100%***********************]  2 of 2 completed\n"
     ]
    }
   ],
   "source": [
    "#Procurando dados Ibovespa e IFIX (no momento os dados de IFIX n podem ser baixados pelo yfinance)\n",
    "codigos = [\"^BVSP\",\"IFIX.SA\"] #Ibovespa e IFIX\n",
    "data_final = pd.Timestamp.today()\n",
    "data_inicial = data_final - pd.DateOffset(months=12) #dados do ultimo ano\n",
    "dados_mercado = yf.download(codigos, data_inicial, data_final, ignore_tz=True)['Adj Close']\n",
    "\n",
    "###Necessário outra API para puxar IFIX:\n",
    "ALPHA_VANTAGE_KEY = \"7JAS31B6R89N7FA8\" #Codigo adquirido ao me registrar\n",
    "ts = TimeSeries(key=ALPHA_VANTAGE_KEY,output_format='pandas')\n",
    "ts.get_daily(\"IFIX.SAO\") #Versão gratuita\n",
    "dados_ifix, meta = ts.get_daily(\"IFIX.SAO\",outputsize='full') #separando os dados necessarios"
   ]
  },
  {
   "cell_type": "code",
   "execution_count": 27,
   "id": "64c0c8a1",
   "metadata": {
    "ExecuteTime": {
     "end_time": "2023-09-25T03:17:23.078031Z",
     "start_time": "2023-09-25T03:17:23.038465Z"
    }
   },
   "outputs": [],
   "source": [
    "tabela_dwnl = pd.read_csv(\"statusinvest-busca-avancada.csv\",                 #error_bad_lines=False\n",
    "                          sep=';', comment='#', na_values=' ')"
   ]
  },
  {
   "cell_type": "code",
   "execution_count": 30,
   "id": "51b9b88a",
   "metadata": {
    "ExecuteTime": {
     "end_time": "2023-09-25T03:18:09.213243Z",
     "start_time": "2023-09-25T03:18:09.164837Z"
    }
   },
   "outputs": [
    {
     "name": "stdout",
     "output_type": "stream",
     "text": [
      "              1. open    2. high     3. low   4. close  5. volume\n",
      "date                                                             \n",
      "2023-09-22  3224.2400  3231.0300  3224.2400  3226.3899        0.0\n",
      "2023-09-21  3224.7000  3230.1101  3221.9800  3224.2400        0.0\n",
      "2023-09-20  3229.5200  3233.4500  3224.0200  3224.7000        0.0\n",
      "2023-09-19  3233.3701  3239.7200  3227.2800  3229.5200        0.0\n",
      "2023-09-18  3234.0901  3235.6299  3228.3201  3233.3799        0.0\n",
      "...               ...        ...        ...        ...        ...\n",
      "2013-01-15  1584.9600  1587.1300  1581.5900  1583.7600        0.0\n",
      "2013-01-14  1587.2200  1588.4600  1582.7000  1584.4500        0.0\n",
      "2013-01-11  1589.8700  1590.0300  1583.6600  1587.2100        0.0\n",
      "2013-01-10  1587.9600  1590.7700  1584.3000  1589.8700        0.0\n",
      "2013-01-09  1587.8300  1590.0100  1582.0500  1587.9600        0.0\n",
      "\n",
      "[2654 rows x 5 columns]                 IFIX.SA          ^BVSP\n",
      "Date                                  \n",
      "2022-09-26          NaN  109114.000000\n",
      "2022-09-27          NaN  108376.000000\n",
      "2022-09-28          NaN  108451.000000\n",
      "2022-09-29          NaN  107664.000000\n",
      "2022-09-30          NaN  110037.000000\n",
      "...                 ...            ...\n",
      "2023-09-18          NaN  118288.000000\n",
      "2023-09-19          NaN  117846.000000\n",
      "2023-09-20          NaN  118695.000000\n",
      "2023-09-21          NaN  116145.000000\n",
      "2023-09-22  3226.389893  116008.640625\n",
      "\n",
      "[249 rows x 2 columns]      TICKER   PRECO ULTIMO DIVIDENDO     DY VALOR PATRIMONIAL COTA  P/VP  \\\n",
      "0    ABCP11   67,39         0,500000   8,41                  91,88  0,73   \n",
      "1    AFHI11   97,62         1,050000  12,83                  95,83  1,02   \n",
      "2    AIEC11   68,40         0,760000  13,27                  94,79  0,72   \n",
      "3    ALMI11  736,00         0,371133   0,00               2.033,68  0,36   \n",
      "4    ALZC11    0,00              NaN   0,00                    NaN   NaN   \n",
      "..      ...     ...              ...    ...                    ...   ...   \n",
      "466  XPPR11   22,00         0,100000  10,00                  70,31  0,31   \n",
      "467  XPSF11    8,52         0,075000  10,75                   8,75  0,97   \n",
      "468  YUFI11   88,90         0,383187   3,70                 101,66  0,87   \n",
      "469  ZAVI11  129,18         1,160000   9,54                 135,32  0,95   \n",
      "470  ZIFI11  900,00         3,304958   0,00               1.204,65  0,75   \n",
      "\n",
      "    LIQUIDEZ MEDIA DIARIA PERCENTUAL EM CAIXA CAGR DIVIDENDOS 3 ANOS  \\\n",
      "0               72.120,89                1,59                  13,18   \n",
      "1            1.160.677,24                9,42                    NaN   \n",
      "2              714.338,92                2,54                   9,48   \n",
      "3               46.322,49                2,39                    NaN   \n",
      "4                     NaN                 NaN                    NaN   \n",
      "..                    ...                 ...                    ...   \n",
      "466            355.919,05                3,55                 -30,77   \n",
      "467            578.835,81                2,40                   0,78   \n",
      "468                149,00                8,94                    NaN   \n",
      "469            523.192,32                5,73                    NaN   \n",
      "470             22.051,41                0,00                    NaN   \n",
      "\n",
      "     CAGR VALOR CORA 3 ANOS      PATRIMONIO N COTISTAS   GESTAO        N COTAS  \n",
      "0                     -5,20  432.661.319,21  17.747,00  Passiva   4.709.082,00  \n",
      "1                       NaN  320.377.772,86  23.891,00    Ativa   3.343.095,00  \n",
      "2                       NaN  457.355.067,47  15.564,00    Ativa   4.824.987,00  \n",
      "3                    -14,61  226.098.370,52   2.338,00  Passiva     111.177,00  \n",
      "4                       NaN             NaN        NaN      NaN   1.000.000,00  \n",
      "..                      ...             ...        ...      ...            ...  \n",
      "466                  -36,07  514.431.993,46  60.101,00    Ativa   7.316.171,00  \n",
      "467                   -4,03  378.973.987,60  47.223,00    Ativa  43.302.140,00  \n",
      "468                     NaN   50.084.544,38      56,00    Ativa     492.650,00  \n",
      "469                     NaN  158.779.618,00   3.838,00    Ativa   1.173.322,00  \n",
      "470                     NaN   57.202.841,60      74,00    Ativa      47.485,00  \n",
      "\n",
      "[471 rows x 14 columns]\n"
     ]
    }
   ],
   "source": [
    "print(dados_ifix, dados_mercado, tabela_dwnl)"
   ]
  },
  {
   "cell_type": "markdown",
   "id": "2e25cb4e",
   "metadata": {},
   "source": [
    "### Transformar"
   ]
  },
  {
   "cell_type": "markdown",
   "id": "b151b99d",
   "metadata": {},
   "source": [
    "* Organizando os dados do ifix e ibovespa de acordo com a forma mais conveniente (analisar anualmente e mensalmente). "
   ]
  },
  {
   "cell_type": "code",
   "execution_count": 19,
   "id": "3dcdcd6e",
   "metadata": {
    "ExecuteTime": {
     "end_time": "2023-09-25T03:09:02.626511Z",
     "start_time": "2023-09-25T03:09:02.505446Z"
    }
   },
   "outputs": [],
   "source": [
    "#Dados anuais (ifix):\n",
    "ifix_anual = dados_ifix['4. close'].resample(\"Y\").last() #pegando dados anuais do IFIX\n",
    "media_anual = dados_ifix['4. close'].resample(\"Y\").mean()\n",
    "#calcular fechamento do dia, retorno no ano dos ativos\n",
    "retorno_anual_ifix = ifix_anual.pct_change() #funcao que automatiza isso\n",
    "retorno_anual_ifix = retorno_anual_ifix.dropna()\n",
    "\n",
    "#Dados mensais (ifix):\n",
    "ifix_mensal = dados_ifix['4. close'].resample(\"M\").last() # Pegando dados mensais do IFIX\n",
    "retorno_mensal_ifix = ifix_mensal.pct_change().dropna()\n",
    "\n",
    "ifix =  dados_ifix['4. close'][:150]\n",
    "\n",
    "ibov = dados_mercado['^BVSP'].sort_index(ascending = False)\n",
    "\n",
    "#Dados anuais (IBOVESPA):\n",
    "ibov_anual = ibov.resample(\"Y\").last() #pegando dados anuais do IBOVESPA\n",
    "media_anual = ibov.resample(\"Y\").mean()\n",
    "#calcular fechamento do dia, retorno no ano dos ativos\n",
    "retorno_anual_ibov = ibov_anual.pct_change()\n",
    "retorno_anual_ibov = retorno_anual_ibov.dropna()\n",
    "\n",
    "#Dados mensais (IBOVESPA):\n",
    "ibov_mensal = ibov.resample(\"M\").last() #pegando dados anuais do IBOVESPA\n",
    "media_mensal = ibov.resample(\"M\").mean()\n",
    "#calcular fechamento do dia, retorno no ano dos ativos\n",
    "retorno_mensal_ibov = ibov_mensal.pct_change()\n",
    "retorno_mensal_ibov = retorno_mensal_ibov.dropna()"
   ]
  },
  {
   "cell_type": "code",
   "execution_count": 21,
   "id": "a4eb3bb8",
   "metadata": {
    "ExecuteTime": {
     "end_time": "2023-09-25T03:10:10.505063Z",
     "start_time": "2023-09-25T03:10:10.473624Z"
    }
   },
   "outputs": [],
   "source": [
    "#Guardando tudo em Data Frame:\n",
    "df_ibov = pd.DataFrame(data=ibov)\n",
    "df_ifix = pd.DataFrame(data=ifix)\n",
    "df_ifix.rename(columns = {'5. adjusted close':'IFIX.SA'}, inplace=True)"
   ]
  },
  {
   "cell_type": "code",
   "execution_count": 23,
   "id": "b52aec9a",
   "metadata": {
    "ExecuteTime": {
     "end_time": "2023-09-25T03:10:25.782834Z",
     "start_time": "2023-09-25T03:10:25.753568Z"
    }
   },
   "outputs": [
    {
     "data": {
      "text/html": [
       "<div>\n",
       "<style scoped>\n",
       "    .dataframe tbody tr th:only-of-type {\n",
       "        vertical-align: middle;\n",
       "    }\n",
       "\n",
       "    .dataframe tbody tr th {\n",
       "        vertical-align: top;\n",
       "    }\n",
       "\n",
       "    .dataframe thead th {\n",
       "        text-align: right;\n",
       "    }\n",
       "</style>\n",
       "<table border=\"1\" class=\"dataframe\">\n",
       "  <thead>\n",
       "    <tr style=\"text-align: right;\">\n",
       "      <th></th>\n",
       "      <th>^BVSP</th>\n",
       "    </tr>\n",
       "    <tr>\n",
       "      <th>Date</th>\n",
       "      <th></th>\n",
       "    </tr>\n",
       "  </thead>\n",
       "  <tbody>\n",
       "    <tr>\n",
       "      <th>2023-09-22</th>\n",
       "      <td>116008.640625</td>\n",
       "    </tr>\n",
       "    <tr>\n",
       "      <th>2023-09-21</th>\n",
       "      <td>116145.000000</td>\n",
       "    </tr>\n",
       "    <tr>\n",
       "      <th>2023-09-20</th>\n",
       "      <td>118695.000000</td>\n",
       "    </tr>\n",
       "    <tr>\n",
       "      <th>2023-09-19</th>\n",
       "      <td>117846.000000</td>\n",
       "    </tr>\n",
       "    <tr>\n",
       "      <th>2023-09-18</th>\n",
       "      <td>118288.000000</td>\n",
       "    </tr>\n",
       "    <tr>\n",
       "      <th>...</th>\n",
       "      <td>...</td>\n",
       "    </tr>\n",
       "    <tr>\n",
       "      <th>2022-09-30</th>\n",
       "      <td>110037.000000</td>\n",
       "    </tr>\n",
       "    <tr>\n",
       "      <th>2022-09-29</th>\n",
       "      <td>107664.000000</td>\n",
       "    </tr>\n",
       "    <tr>\n",
       "      <th>2022-09-28</th>\n",
       "      <td>108451.000000</td>\n",
       "    </tr>\n",
       "    <tr>\n",
       "      <th>2022-09-27</th>\n",
       "      <td>108376.000000</td>\n",
       "    </tr>\n",
       "    <tr>\n",
       "      <th>2022-09-26</th>\n",
       "      <td>109114.000000</td>\n",
       "    </tr>\n",
       "  </tbody>\n",
       "</table>\n",
       "<p>249 rows × 1 columns</p>\n",
       "</div>"
      ],
      "text/plain": [
       "                    ^BVSP\n",
       "Date                     \n",
       "2023-09-22  116008.640625\n",
       "2023-09-21  116145.000000\n",
       "2023-09-20  118695.000000\n",
       "2023-09-19  117846.000000\n",
       "2023-09-18  118288.000000\n",
       "...                   ...\n",
       "2022-09-30  110037.000000\n",
       "2022-09-29  107664.000000\n",
       "2022-09-28  108451.000000\n",
       "2022-09-27  108376.000000\n",
       "2022-09-26  109114.000000\n",
       "\n",
       "[249 rows x 1 columns]"
      ]
     },
     "execution_count": 23,
     "metadata": {},
     "output_type": "execute_result"
    }
   ],
   "source": [
    "df_ibov"
   ]
  },
  {
   "cell_type": "code",
   "execution_count": 24,
   "id": "097e996c",
   "metadata": {
    "ExecuteTime": {
     "end_time": "2023-09-25T03:10:29.815907Z",
     "start_time": "2023-09-25T03:10:29.792141Z"
    }
   },
   "outputs": [
    {
     "data": {
      "text/html": [
       "<div>\n",
       "<style scoped>\n",
       "    .dataframe tbody tr th:only-of-type {\n",
       "        vertical-align: middle;\n",
       "    }\n",
       "\n",
       "    .dataframe tbody tr th {\n",
       "        vertical-align: top;\n",
       "    }\n",
       "\n",
       "    .dataframe thead th {\n",
       "        text-align: right;\n",
       "    }\n",
       "</style>\n",
       "<table border=\"1\" class=\"dataframe\">\n",
       "  <thead>\n",
       "    <tr style=\"text-align: right;\">\n",
       "      <th></th>\n",
       "      <th>4. close</th>\n",
       "    </tr>\n",
       "    <tr>\n",
       "      <th>date</th>\n",
       "      <th></th>\n",
       "    </tr>\n",
       "  </thead>\n",
       "  <tbody>\n",
       "    <tr>\n",
       "      <th>2023-09-22</th>\n",
       "      <td>3226.3899</td>\n",
       "    </tr>\n",
       "    <tr>\n",
       "      <th>2023-09-21</th>\n",
       "      <td>3224.2400</td>\n",
       "    </tr>\n",
       "    <tr>\n",
       "      <th>2023-09-20</th>\n",
       "      <td>3224.7000</td>\n",
       "    </tr>\n",
       "    <tr>\n",
       "      <th>2023-09-19</th>\n",
       "      <td>3229.5200</td>\n",
       "    </tr>\n",
       "    <tr>\n",
       "      <th>2023-09-18</th>\n",
       "      <td>3233.3799</td>\n",
       "    </tr>\n",
       "    <tr>\n",
       "      <th>...</th>\n",
       "      <td>...</td>\n",
       "    </tr>\n",
       "    <tr>\n",
       "      <th>2023-02-24</th>\n",
       "      <td>2803.1101</td>\n",
       "    </tr>\n",
       "    <tr>\n",
       "      <th>2023-02-23</th>\n",
       "      <td>2793.4900</td>\n",
       "    </tr>\n",
       "    <tr>\n",
       "      <th>2023-02-22</th>\n",
       "      <td>2797.8501</td>\n",
       "    </tr>\n",
       "    <tr>\n",
       "      <th>2023-02-17</th>\n",
       "      <td>2797.3999</td>\n",
       "    </tr>\n",
       "    <tr>\n",
       "      <th>2023-02-16</th>\n",
       "      <td>2780.7100</td>\n",
       "    </tr>\n",
       "  </tbody>\n",
       "</table>\n",
       "<p>150 rows × 1 columns</p>\n",
       "</div>"
      ],
      "text/plain": [
       "             4. close\n",
       "date                 \n",
       "2023-09-22  3226.3899\n",
       "2023-09-21  3224.2400\n",
       "2023-09-20  3224.7000\n",
       "2023-09-19  3229.5200\n",
       "2023-09-18  3233.3799\n",
       "...               ...\n",
       "2023-02-24  2803.1101\n",
       "2023-02-23  2793.4900\n",
       "2023-02-22  2797.8501\n",
       "2023-02-17  2797.3999\n",
       "2023-02-16  2780.7100\n",
       "\n",
       "[150 rows x 1 columns]"
      ]
     },
     "execution_count": 24,
     "metadata": {},
     "output_type": "execute_result"
    }
   ],
   "source": [
    "df_ifix"
   ]
  },
  {
   "cell_type": "markdown",
   "id": "d8490cfa",
   "metadata": {},
   "source": [
    "* Limpando e filtrando a tabela csv"
   ]
  },
  {
   "cell_type": "code",
   "execution_count": 31,
   "id": "7de2ffca",
   "metadata": {
    "ExecuteTime": {
     "end_time": "2023-09-25T03:19:59.767307Z",
     "start_time": "2023-09-25T03:19:59.728604Z"
    }
   },
   "outputs": [
    {
     "name": "stderr",
     "output_type": "stream",
     "text": [
      "<ipython-input-31-d9f2a8e39d53>:1: FutureWarning: The default value of regex will change from True to False in a future version. In addition, single character regular expressions will *not* be treated as literal strings when regex=True.\n",
      "  tabela_dwnl.DY = tabela_dwnl.DY.str.replace(\".\",\"\").str.replace(\",\",\".\").astype(float)\n",
      "<ipython-input-31-d9f2a8e39d53>:2: FutureWarning: The default value of regex will change from True to False in a future version. In addition, single character regular expressions will *not* be treated as literal strings when regex=True.\n",
      "  tabela_dwnl['P/VP'] = tabela_dwnl['P/VP'].str.replace(\".\",\"\").str.replace(\",\",\".\").astype(float)\n",
      "<ipython-input-31-d9f2a8e39d53>:3: FutureWarning: The default value of regex will change from True to False in a future version. In addition, single character regular expressions will *not* be treated as literal strings when regex=True.\n",
      "  tabela_dwnl['PATRIMONIO'] = tabela_dwnl['PATRIMONIO'].str.replace(\".\",\"\").str.replace(\",\",\".\").astype(float)\n",
      "<ipython-input-31-d9f2a8e39d53>:4: FutureWarning: The default value of regex will change from True to False in a future version. In addition, single character regular expressions will *not* be treated as literal strings when regex=True.\n",
      "  tabela_dwnl['ULTIMO DIVIDENDO'] = tabela_dwnl['ULTIMO DIVIDENDO'].str.replace(\".\",\"\").str.replace(\",\",\".\").astype(float)\n",
      "<ipython-input-31-d9f2a8e39d53>:5: FutureWarning: The default value of regex will change from True to False in a future version. In addition, single character regular expressions will *not* be treated as literal strings when regex=True.\n",
      "  tabela_dwnl['PRECO'] = tabela_dwnl['PRECO'].str.replace(\".\",\"\").str.replace(\",\",\".\").astype(float)\n"
     ]
    }
   ],
   "source": [
    "tabela_dwnl.DY = tabela_dwnl.DY.str.replace(\".\",\"\").str.replace(\",\",\".\").astype(float)\n",
    "tabela_dwnl['P/VP'] = tabela_dwnl['P/VP'].str.replace(\".\",\"\").str.replace(\",\",\".\").astype(float)\n",
    "tabela_dwnl['PATRIMONIO'] = tabela_dwnl['PATRIMONIO'].str.replace(\".\",\"\").str.replace(\",\",\".\").astype(float)\n",
    "tabela_dwnl['ULTIMO DIVIDENDO'] = tabela_dwnl['ULTIMO DIVIDENDO'].str.replace(\".\",\"\").str.replace(\",\",\".\").astype(float)\n",
    "tabela_dwnl['PRECO'] = tabela_dwnl['PRECO'].str.replace(\".\",\"\").str.replace(\",\",\".\").astype(float)"
   ]
  },
  {
   "cell_type": "code",
   "execution_count": 32,
   "id": "3a4cdcb8",
   "metadata": {
    "ExecuteTime": {
     "end_time": "2023-09-25T03:20:08.094936Z",
     "start_time": "2023-09-25T03:20:08.020139Z"
    }
   },
   "outputs": [
    {
     "data": {
      "text/html": [
       "<div>\n",
       "<style scoped>\n",
       "    .dataframe tbody tr th:only-of-type {\n",
       "        vertical-align: middle;\n",
       "    }\n",
       "\n",
       "    .dataframe tbody tr th {\n",
       "        vertical-align: top;\n",
       "    }\n",
       "\n",
       "    .dataframe thead th {\n",
       "        text-align: right;\n",
       "    }\n",
       "</style>\n",
       "<table border=\"1\" class=\"dataframe\">\n",
       "  <thead>\n",
       "    <tr style=\"text-align: right;\">\n",
       "      <th></th>\n",
       "      <th>TICKER</th>\n",
       "      <th>PRECO</th>\n",
       "      <th>ULTIMO DIVIDENDO</th>\n",
       "      <th>DY</th>\n",
       "      <th>VALOR PATRIMONIAL COTA</th>\n",
       "      <th>P/VP</th>\n",
       "      <th>LIQUIDEZ MEDIA DIARIA</th>\n",
       "      <th>PERCENTUAL EM CAIXA</th>\n",
       "      <th>CAGR DIVIDENDOS 3 ANOS</th>\n",
       "      <th>CAGR VALOR CORA 3 ANOS</th>\n",
       "      <th>PATRIMONIO</th>\n",
       "      <th>N COTISTAS</th>\n",
       "      <th>GESTAO</th>\n",
       "      <th>N COTAS</th>\n",
       "    </tr>\n",
       "  </thead>\n",
       "  <tbody>\n",
       "    <tr>\n",
       "      <th>0</th>\n",
       "      <td>ABCP11</td>\n",
       "      <td>67.39</td>\n",
       "      <td>0.500000</td>\n",
       "      <td>8.41</td>\n",
       "      <td>91,88</td>\n",
       "      <td>0.73</td>\n",
       "      <td>72.120,89</td>\n",
       "      <td>1,59</td>\n",
       "      <td>13,18</td>\n",
       "      <td>-5,20</td>\n",
       "      <td>4.326613e+08</td>\n",
       "      <td>17.747,00</td>\n",
       "      <td>Passiva</td>\n",
       "      <td>4.709.082,00</td>\n",
       "    </tr>\n",
       "    <tr>\n",
       "      <th>1</th>\n",
       "      <td>AFHI11</td>\n",
       "      <td>97.62</td>\n",
       "      <td>1.050000</td>\n",
       "      <td>12.83</td>\n",
       "      <td>95,83</td>\n",
       "      <td>1.02</td>\n",
       "      <td>1.160.677,24</td>\n",
       "      <td>9,42</td>\n",
       "      <td>NaN</td>\n",
       "      <td>NaN</td>\n",
       "      <td>3.203778e+08</td>\n",
       "      <td>23.891,00</td>\n",
       "      <td>Ativa</td>\n",
       "      <td>3.343.095,00</td>\n",
       "    </tr>\n",
       "    <tr>\n",
       "      <th>2</th>\n",
       "      <td>AIEC11</td>\n",
       "      <td>68.40</td>\n",
       "      <td>0.760000</td>\n",
       "      <td>13.27</td>\n",
       "      <td>94,79</td>\n",
       "      <td>0.72</td>\n",
       "      <td>714.338,92</td>\n",
       "      <td>2,54</td>\n",
       "      <td>9,48</td>\n",
       "      <td>NaN</td>\n",
       "      <td>4.573551e+08</td>\n",
       "      <td>15.564,00</td>\n",
       "      <td>Ativa</td>\n",
       "      <td>4.824.987,00</td>\n",
       "    </tr>\n",
       "    <tr>\n",
       "      <th>3</th>\n",
       "      <td>ALMI11</td>\n",
       "      <td>736.00</td>\n",
       "      <td>0.371133</td>\n",
       "      <td>0.00</td>\n",
       "      <td>2.033,68</td>\n",
       "      <td>0.36</td>\n",
       "      <td>46.322,49</td>\n",
       "      <td>2,39</td>\n",
       "      <td>NaN</td>\n",
       "      <td>-14,61</td>\n",
       "      <td>2.260984e+08</td>\n",
       "      <td>2.338,00</td>\n",
       "      <td>Passiva</td>\n",
       "      <td>111.177,00</td>\n",
       "    </tr>\n",
       "    <tr>\n",
       "      <th>4</th>\n",
       "      <td>ALZC11</td>\n",
       "      <td>0.00</td>\n",
       "      <td>NaN</td>\n",
       "      <td>0.00</td>\n",
       "      <td>NaN</td>\n",
       "      <td>NaN</td>\n",
       "      <td>NaN</td>\n",
       "      <td>NaN</td>\n",
       "      <td>NaN</td>\n",
       "      <td>NaN</td>\n",
       "      <td>NaN</td>\n",
       "      <td>NaN</td>\n",
       "      <td>NaN</td>\n",
       "      <td>1.000.000,00</td>\n",
       "    </tr>\n",
       "    <tr>\n",
       "      <th>...</th>\n",
       "      <td>...</td>\n",
       "      <td>...</td>\n",
       "      <td>...</td>\n",
       "      <td>...</td>\n",
       "      <td>...</td>\n",
       "      <td>...</td>\n",
       "      <td>...</td>\n",
       "      <td>...</td>\n",
       "      <td>...</td>\n",
       "      <td>...</td>\n",
       "      <td>...</td>\n",
       "      <td>...</td>\n",
       "      <td>...</td>\n",
       "      <td>...</td>\n",
       "    </tr>\n",
       "    <tr>\n",
       "      <th>466</th>\n",
       "      <td>XPPR11</td>\n",
       "      <td>22.00</td>\n",
       "      <td>0.100000</td>\n",
       "      <td>10.00</td>\n",
       "      <td>70,31</td>\n",
       "      <td>0.31</td>\n",
       "      <td>355.919,05</td>\n",
       "      <td>3,55</td>\n",
       "      <td>-30,77</td>\n",
       "      <td>-36,07</td>\n",
       "      <td>5.144320e+08</td>\n",
       "      <td>60.101,00</td>\n",
       "      <td>Ativa</td>\n",
       "      <td>7.316.171,00</td>\n",
       "    </tr>\n",
       "    <tr>\n",
       "      <th>467</th>\n",
       "      <td>XPSF11</td>\n",
       "      <td>8.52</td>\n",
       "      <td>0.075000</td>\n",
       "      <td>10.75</td>\n",
       "      <td>8,75</td>\n",
       "      <td>0.97</td>\n",
       "      <td>578.835,81</td>\n",
       "      <td>2,40</td>\n",
       "      <td>0,78</td>\n",
       "      <td>-4,03</td>\n",
       "      <td>3.789740e+08</td>\n",
       "      <td>47.223,00</td>\n",
       "      <td>Ativa</td>\n",
       "      <td>43.302.140,00</td>\n",
       "    </tr>\n",
       "    <tr>\n",
       "      <th>468</th>\n",
       "      <td>YUFI11</td>\n",
       "      <td>88.90</td>\n",
       "      <td>0.383187</td>\n",
       "      <td>3.70</td>\n",
       "      <td>101,66</td>\n",
       "      <td>0.87</td>\n",
       "      <td>149,00</td>\n",
       "      <td>8,94</td>\n",
       "      <td>NaN</td>\n",
       "      <td>NaN</td>\n",
       "      <td>5.008454e+07</td>\n",
       "      <td>56,00</td>\n",
       "      <td>Ativa</td>\n",
       "      <td>492.650,00</td>\n",
       "    </tr>\n",
       "    <tr>\n",
       "      <th>469</th>\n",
       "      <td>ZAVI11</td>\n",
       "      <td>129.18</td>\n",
       "      <td>1.160000</td>\n",
       "      <td>9.54</td>\n",
       "      <td>135,32</td>\n",
       "      <td>0.95</td>\n",
       "      <td>523.192,32</td>\n",
       "      <td>5,73</td>\n",
       "      <td>NaN</td>\n",
       "      <td>NaN</td>\n",
       "      <td>1.587796e+08</td>\n",
       "      <td>3.838,00</td>\n",
       "      <td>Ativa</td>\n",
       "      <td>1.173.322,00</td>\n",
       "    </tr>\n",
       "    <tr>\n",
       "      <th>470</th>\n",
       "      <td>ZIFI11</td>\n",
       "      <td>900.00</td>\n",
       "      <td>3.304958</td>\n",
       "      <td>0.00</td>\n",
       "      <td>1.204,65</td>\n",
       "      <td>0.75</td>\n",
       "      <td>22.051,41</td>\n",
       "      <td>0,00</td>\n",
       "      <td>NaN</td>\n",
       "      <td>NaN</td>\n",
       "      <td>5.720284e+07</td>\n",
       "      <td>74,00</td>\n",
       "      <td>Ativa</td>\n",
       "      <td>47.485,00</td>\n",
       "    </tr>\n",
       "  </tbody>\n",
       "</table>\n",
       "<p>471 rows × 14 columns</p>\n",
       "</div>"
      ],
      "text/plain": [
       "     TICKER   PRECO  ULTIMO DIVIDENDO     DY VALOR PATRIMONIAL COTA  P/VP  \\\n",
       "0    ABCP11   67.39          0.500000   8.41                  91,88  0.73   \n",
       "1    AFHI11   97.62          1.050000  12.83                  95,83  1.02   \n",
       "2    AIEC11   68.40          0.760000  13.27                  94,79  0.72   \n",
       "3    ALMI11  736.00          0.371133   0.00               2.033,68  0.36   \n",
       "4    ALZC11    0.00               NaN   0.00                    NaN   NaN   \n",
       "..      ...     ...               ...    ...                    ...   ...   \n",
       "466  XPPR11   22.00          0.100000  10.00                  70,31  0.31   \n",
       "467  XPSF11    8.52          0.075000  10.75                   8,75  0.97   \n",
       "468  YUFI11   88.90          0.383187   3.70                 101,66  0.87   \n",
       "469  ZAVI11  129.18          1.160000   9.54                 135,32  0.95   \n",
       "470  ZIFI11  900.00          3.304958   0.00               1.204,65  0.75   \n",
       "\n",
       "    LIQUIDEZ MEDIA DIARIA PERCENTUAL EM CAIXA CAGR DIVIDENDOS 3 ANOS  \\\n",
       "0               72.120,89                1,59                  13,18   \n",
       "1            1.160.677,24                9,42                    NaN   \n",
       "2              714.338,92                2,54                   9,48   \n",
       "3               46.322,49                2,39                    NaN   \n",
       "4                     NaN                 NaN                    NaN   \n",
       "..                    ...                 ...                    ...   \n",
       "466            355.919,05                3,55                 -30,77   \n",
       "467            578.835,81                2,40                   0,78   \n",
       "468                149,00                8,94                    NaN   \n",
       "469            523.192,32                5,73                    NaN   \n",
       "470             22.051,41                0,00                    NaN   \n",
       "\n",
       "     CAGR VALOR CORA 3 ANOS    PATRIMONIO N COTISTAS   GESTAO        N COTAS  \n",
       "0                     -5,20  4.326613e+08  17.747,00  Passiva   4.709.082,00  \n",
       "1                       NaN  3.203778e+08  23.891,00    Ativa   3.343.095,00  \n",
       "2                       NaN  4.573551e+08  15.564,00    Ativa   4.824.987,00  \n",
       "3                    -14,61  2.260984e+08   2.338,00  Passiva     111.177,00  \n",
       "4                       NaN           NaN        NaN      NaN   1.000.000,00  \n",
       "..                      ...           ...        ...      ...            ...  \n",
       "466                  -36,07  5.144320e+08  60.101,00    Ativa   7.316.171,00  \n",
       "467                   -4,03  3.789740e+08  47.223,00    Ativa  43.302.140,00  \n",
       "468                     NaN  5.008454e+07      56,00    Ativa     492.650,00  \n",
       "469                     NaN  1.587796e+08   3.838,00    Ativa   1.173.322,00  \n",
       "470                     NaN  5.720284e+07      74,00    Ativa      47.485,00  \n",
       "\n",
       "[471 rows x 14 columns]"
      ]
     },
     "execution_count": 32,
     "metadata": {},
     "output_type": "execute_result"
    }
   ],
   "source": [
    "tabela_dwnl"
   ]
  },
  {
   "cell_type": "code",
   "execution_count": 33,
   "id": "da139511",
   "metadata": {
    "ExecuteTime": {
     "end_time": "2023-09-25T03:23:25.146430Z",
     "start_time": "2023-09-25T03:23:25.087222Z"
    }
   },
   "outputs": [
    {
     "name": "stdout",
     "output_type": "stream",
     "text": [
      "Testando uma carteira de fundos imobiliário com os ativos: ['MXRF11', 'KNCR11', 'IRDM11', 'BRCR11', 'CPTS11'] e ['KNCR11', 'MXRF11', 'IRDM11', 'CPTS11', 'HGBS11']\n"
     ]
    }
   ],
   "source": [
    "### Filtro ditado por mim\n",
    "minimo_DY = 4.0 #Valor mínimo para Dividend Yield\n",
    "maximo_DY = 16.0 #Valor maximo dividend Yield\n",
    "valor_max = 1.1 #Valor maximo da relação patrimonial\n",
    "\n",
    "Filtro_DY = tabela_dwnl[(tabela_dwnl.DY >= minimo_DY)*(tabela_dwnl.DY < maximo_DY)] # Aqueles com DY entre 6 e 10\n",
    "Filtro = Filtro_DY[Filtro_DY['P/VP'] <= valor_max] #Aqueles com valor de cota menor ou igual ao valor patrimonial\n",
    "Filtro = Filtro.sort_values(by=['PATRIMONIO'], ascending=False).dropna() \n",
    "\n",
    "#####Após o filtro, manipularemos os dados para fins de conveniencia:\n",
    "#Renomeando colunas + selecionando as 15 cotas mais interessantes\n",
    "df_2 = pd.DataFrame(data = Filtro[1:16].values,index = list(range(1,16)),columns = ['Ticker','Preco','Ultimo Dividendo','DY','VALOR PATRIMONIAL COTA','P/VP','LIQUIDEZ MEDIA DIARIA','PERCENTUAL EM CAIXA','Dividendos 3 anos','Valor CORA 3 anos','PATRIMONIO','COTISTAS','GESTAO','N COTAS'])\n",
    "#Adicionando rentabilidade do ultimo mês como uma coluna nova\n",
    "df_2['% ult mês'] = (df_2['Ultimo Dividendo']/df_2['Preco'])*100\n",
    "#Adicionando o Magic Number como uma coluna nova\n",
    "df_2['Cotas Necessarias'],df_2['Investimento Necessario (Real)'] = BolaDeNeve(df_2)\n",
    "#Ordenando pelo menor valor necessário para alcançar o Magic Number\n",
    "df_2 = df_2.sort_values(by=['Investimento Necessario (Real)'])\n",
    "\n",
    "### Criando as duas seleções de escolha de ativos:\n",
    "## 1° : Os 5 melhores magic numbers\n",
    "MN_5_melhores = df_2[:5]\n",
    "## 2°: Os 5 melhores rendimentos do ultimos mês\n",
    "# Ordenando de acordo com a rentabilidade SEGUNDO O ULTIMO DIVIDENDO\n",
    "df_2 = df_2.sort_values(by=['% ult mês'], ascending=False)\n",
    "Rent_5_melhores = df_2[:5]\n",
    "\n",
    "print(\"Testando uma carteira de fundos imobiliário com os ativos: \"+str(MN_5_melhores['Ticker'].tolist())+\" e \"+str(Rent_5_melhores['Ticker'].tolist()))"
   ]
  },
  {
   "cell_type": "code",
   "execution_count": 36,
   "id": "1f8e4e01",
   "metadata": {
    "ExecuteTime": {
     "end_time": "2023-09-25T03:25:50.146304Z",
     "start_time": "2023-09-25T03:25:48.344363Z"
    }
   },
   "outputs": [
    {
     "name": "stdout",
     "output_type": "stream",
     "text": [
      "[*********************100%***********************]  6 of 6 completed\n"
     ]
    }
   ],
   "source": [
    "#Selecionando os Tickers dos nossos ativos:\n",
    "escolhas = MN_5_melhores['Ticker'].tolist() + Rent_5_melhores['Ticker'].tolist()\n",
    "escolhas = list(dict.fromkeys(escolhas))\n",
    "\n",
    "\n",
    "##Buscar dados para simulações de Monte Carlo:\n",
    "lista_acoes = escolhas #pegando os fundos que escolhemos\n",
    "lista_acoes = [fii + \".SA\" for fii in lista_acoes] #para conseguir puxar os dados da yfinance\n",
    "\n",
    "data_final = pd.Timestamp.today()\n",
    "data_inicial = data_final - pd.DateOffset(months=110) #pegar dados desde 2014\n",
    "precos = yf.download(lista_acoes, start=data_inicial, end=data_final)['Adj Close']"
   ]
  },
  {
   "cell_type": "code",
   "execution_count": 37,
   "id": "9759f044",
   "metadata": {
    "ExecuteTime": {
     "end_time": "2023-09-25T03:25:53.228293Z",
     "start_time": "2023-09-25T03:25:53.188871Z"
    }
   },
   "outputs": [],
   "source": [
    "#Informações sobre o retorno da nossa carteira no momento\n",
    "retornos = precos.pct_change().dropna()\n",
    "media_retornos = retornos.mean()\n",
    "matriz_covariancia = retornos.cov()\n",
    "pesos_carteira = np.full(len(lista_acoes), 1/len(lista_acoes))\n",
    "numero_acoes = len(lista_acoes)"
   ]
  },
  {
   "cell_type": "code",
   "execution_count": 38,
   "id": "ca8900e1",
   "metadata": {
    "ExecuteTime": {
     "end_time": "2023-09-25T03:26:02.031169Z",
     "start_time": "2023-09-25T03:26:01.999506Z"
    }
   },
   "outputs": [
    {
     "data": {
      "text/html": [
       "<div>\n",
       "<style scoped>\n",
       "    .dataframe tbody tr th:only-of-type {\n",
       "        vertical-align: middle;\n",
       "    }\n",
       "\n",
       "    .dataframe tbody tr th {\n",
       "        vertical-align: top;\n",
       "    }\n",
       "\n",
       "    .dataframe thead th {\n",
       "        text-align: right;\n",
       "    }\n",
       "</style>\n",
       "<table border=\"1\" class=\"dataframe\">\n",
       "  <thead>\n",
       "    <tr style=\"text-align: right;\">\n",
       "      <th></th>\n",
       "      <th>BRCR11.SA</th>\n",
       "      <th>CPTS11.SA</th>\n",
       "      <th>HGBS11.SA</th>\n",
       "      <th>IRDM11.SA</th>\n",
       "      <th>KNCR11.SA</th>\n",
       "      <th>MXRF11.SA</th>\n",
       "    </tr>\n",
       "    <tr>\n",
       "      <th>Date</th>\n",
       "      <th></th>\n",
       "      <th></th>\n",
       "      <th></th>\n",
       "      <th></th>\n",
       "      <th></th>\n",
       "      <th></th>\n",
       "    </tr>\n",
       "  </thead>\n",
       "  <tbody>\n",
       "    <tr>\n",
       "      <th>2020-06-05</th>\n",
       "      <td>0.024061</td>\n",
       "      <td>0.007845</td>\n",
       "      <td>0.012253</td>\n",
       "      <td>-0.014607</td>\n",
       "      <td>-0.001080</td>\n",
       "      <td>0.000000</td>\n",
       "    </tr>\n",
       "    <tr>\n",
       "      <th>2020-06-08</th>\n",
       "      <td>0.005292</td>\n",
       "      <td>-0.003632</td>\n",
       "      <td>0.009776</td>\n",
       "      <td>0.011753</td>\n",
       "      <td>0.000432</td>\n",
       "      <td>0.002740</td>\n",
       "    </tr>\n",
       "    <tr>\n",
       "      <th>2020-06-09</th>\n",
       "      <td>0.013371</td>\n",
       "      <td>0.001042</td>\n",
       "      <td>0.012817</td>\n",
       "      <td>-0.001734</td>\n",
       "      <td>0.013941</td>\n",
       "      <td>-0.000911</td>\n",
       "    </tr>\n",
       "    <tr>\n",
       "      <th>2020-06-10</th>\n",
       "      <td>0.010909</td>\n",
       "      <td>0.000832</td>\n",
       "      <td>0.010606</td>\n",
       "      <td>-0.003908</td>\n",
       "      <td>-0.007887</td>\n",
       "      <td>0.000911</td>\n",
       "    </tr>\n",
       "    <tr>\n",
       "      <th>2020-06-12</th>\n",
       "      <td>0.006886</td>\n",
       "      <td>-0.003743</td>\n",
       "      <td>0.008964</td>\n",
       "      <td>0.000872</td>\n",
       "      <td>-0.000860</td>\n",
       "      <td>-0.010018</td>\n",
       "    </tr>\n",
       "    <tr>\n",
       "      <th>...</th>\n",
       "      <td>...</td>\n",
       "      <td>...</td>\n",
       "      <td>...</td>\n",
       "      <td>...</td>\n",
       "      <td>...</td>\n",
       "      <td>...</td>\n",
       "    </tr>\n",
       "    <tr>\n",
       "      <th>2023-09-18</th>\n",
       "      <td>0.008939</td>\n",
       "      <td>0.014102</td>\n",
       "      <td>0.008079</td>\n",
       "      <td>0.015810</td>\n",
       "      <td>-0.000200</td>\n",
       "      <td>-0.001799</td>\n",
       "    </tr>\n",
       "    <tr>\n",
       "      <th>2023-09-19</th>\n",
       "      <td>-0.002215</td>\n",
       "      <td>0.001780</td>\n",
       "      <td>-0.001516</td>\n",
       "      <td>0.011388</td>\n",
       "      <td>-0.004109</td>\n",
       "      <td>-0.018018</td>\n",
       "    </tr>\n",
       "    <tr>\n",
       "      <th>2023-09-20</th>\n",
       "      <td>-0.004281</td>\n",
       "      <td>0.003776</td>\n",
       "      <td>-0.001085</td>\n",
       "      <td>0.011760</td>\n",
       "      <td>0.002617</td>\n",
       "      <td>0.007339</td>\n",
       "    </tr>\n",
       "    <tr>\n",
       "      <th>2023-09-21</th>\n",
       "      <td>0.001592</td>\n",
       "      <td>-0.024560</td>\n",
       "      <td>0.002997</td>\n",
       "      <td>0.001360</td>\n",
       "      <td>-0.001707</td>\n",
       "      <td>-0.002732</td>\n",
       "    </tr>\n",
       "    <tr>\n",
       "      <th>2023-09-22</th>\n",
       "      <td>-0.007472</td>\n",
       "      <td>-0.000227</td>\n",
       "      <td>0.002555</td>\n",
       "      <td>-0.004569</td>\n",
       "      <td>-0.004525</td>\n",
       "      <td>0.000000</td>\n",
       "    </tr>\n",
       "  </tbody>\n",
       "</table>\n",
       "<p>822 rows × 6 columns</p>\n",
       "</div>"
      ],
      "text/plain": [
       "            BRCR11.SA  CPTS11.SA  HGBS11.SA  IRDM11.SA  KNCR11.SA  MXRF11.SA\n",
       "Date                                                                        \n",
       "2020-06-05   0.024061   0.007845   0.012253  -0.014607  -0.001080   0.000000\n",
       "2020-06-08   0.005292  -0.003632   0.009776   0.011753   0.000432   0.002740\n",
       "2020-06-09   0.013371   0.001042   0.012817  -0.001734   0.013941  -0.000911\n",
       "2020-06-10   0.010909   0.000832   0.010606  -0.003908  -0.007887   0.000911\n",
       "2020-06-12   0.006886  -0.003743   0.008964   0.000872  -0.000860  -0.010018\n",
       "...               ...        ...        ...        ...        ...        ...\n",
       "2023-09-18   0.008939   0.014102   0.008079   0.015810  -0.000200  -0.001799\n",
       "2023-09-19  -0.002215   0.001780  -0.001516   0.011388  -0.004109  -0.018018\n",
       "2023-09-20  -0.004281   0.003776  -0.001085   0.011760   0.002617   0.007339\n",
       "2023-09-21   0.001592  -0.024560   0.002997   0.001360  -0.001707  -0.002732\n",
       "2023-09-22  -0.007472  -0.000227   0.002555  -0.004569  -0.004525   0.000000\n",
       "\n",
       "[822 rows x 6 columns]"
      ]
     },
     "execution_count": 38,
     "metadata": {},
     "output_type": "execute_result"
    }
   ],
   "source": [
    "retornos"
   ]
  },
  {
   "cell_type": "code",
   "execution_count": 39,
   "id": "449353ac",
   "metadata": {
    "ExecuteTime": {
     "end_time": "2023-09-25T03:26:50.494653Z",
     "start_time": "2023-09-25T03:26:34.965151Z"
    }
   },
   "outputs": [
    {
     "data": {
      "text/plain": [
       "Text(0.5, 0, 'Dias')"
      ]
     },
     "execution_count": 39,
     "metadata": {},
     "output_type": "execute_result"
    },
    {
     "data": {
      "image/png": "[encoded data removed]",
      "text/plain": [
       "<Figure size 576x504 with 1 Axes>"
      ]
     },
     "metadata": {},
     "output_type": "display_data"
    }
   ],
   "source": [
    "#### Simulações:\n",
    "# Premissas montecarlo\n",
    "\n",
    "numero_simulacoes = 1000\n",
    "dias_projetados = 252*20 #252 dias uteis -> proximos 20 anos\n",
    "capital_inicial = 1000 #o que vai ocorrer com 1000 reais?\n",
    "\n",
    "#Retorno medio em forma de matriz\n",
    "\n",
    "retorno_medio = retornos.mean(axis = 0).to_numpy()\n",
    "matriz_retorno_medio = retorno_medio*np.ones(shape = (dias_projetados,numero_acoes))\n",
    "\n",
    "#Nossa matriz L\n",
    "\n",
    "L = LA.cholesky(matriz_covariancia)\n",
    "\n",
    "retornos_carteira = np.zeros([dias_projetados, numero_simulacoes])\n",
    "montante_final = np.zeros(numero_simulacoes)\n",
    "\n",
    "for s in range(numero_simulacoes):\n",
    "    \n",
    "    Rpdf = np.random.normal(size = (dias_projetados, numero_acoes))\n",
    "    retornos_sinteticos = matriz_retorno_medio + np.inner(Rpdf, L) #Unico parametro aleatorio é Rpdf\n",
    "    \n",
    "    retornos_carteira[:,s] = np.cumprod(np.inner(pesos_carteira, retornos_sinteticos) + 1) * capital_inicial\n",
    "    montante_final[s] = retornos_carteira[-1,s]\n",
    "\n",
    "plt.figure(figsize = [8,7])\n",
    "plt.title(\"Projeção de 1000 reais rendendo na carteira top5 MagicNumber-FIIs\")\n",
    "plt.plot(retornos_carteira,linewidth = 1)\n",
    "plt.ylabel('Dinheiro')\n",
    "plt.xlabel('Dias')"
   ]
  },
  {
   "cell_type": "code",
   "execution_count": 41,
   "id": "283b3689",
   "metadata": {
    "ExecuteTime": {
     "end_time": "2023-09-25T03:27:44.071092Z",
     "start_time": "2023-09-25T03:27:44.046901Z"
    }
   },
   "outputs": [
    {
     "name": "stdout",
     "output_type": "stream",
     "text": [
      "Ao investir R$ 1000,00 na carteira ['MXRF11.SA', 'KNCR11.SA', 'IRDM11.SA', 'BRCR11.SA', 'CPTS11.SA', 'HGBS11.SA'] o resultado esperado para as próximas duas décadas, seguindo o método Monte Carlo com 1.000 simulações: \n",
      "\n",
      "50% de chance do montante ser maior que R$1454.1651102531464\n",
      "95% de chance do montante ser maior que R$891.6702439247139\n",
      "99% de chance do montante ser maior que R$750.0899925457575\n",
      "Cenários com lucro: 89.4%\n"
     ]
    }
   ],
   "source": [
    "#Criando as estatísticas para a nossa análise de carteira\n",
    "\n",
    "montante_99 = str(np.percentile(montante_final,1))\n",
    "montante_95 = str(np.percentile(montante_final,5))\n",
    "montante_mediano = str(np.percentile(montante_final, 50))\n",
    "cenarios_com_lucro = str(round((len(montante_final[montante_final > 1000])/len(montante_final))*100,2))+\"%\"\n",
    "\n",
    "print(\"Ao investir R$ 1000,00 na carteira \" + str(lista_acoes), \"o resultado esperado para as próximas duas décadas, seguindo o método Monte Carlo com 1.000 simulações: \\n\")\n",
    "print(\"50% de chance do montante ser maior que R$\"+str(montante_mediano))\n",
    "print(\"95% de chance do montante ser maior que R$\"+str(montante_95))\n",
    "print(\"99% de chance do montante ser maior que R$\"+str(montante_99))\n",
    "print(\"Cenários com lucro: \"+str(cenarios_com_lucro))"
   ]
  },
  {
   "cell_type": "markdown",
   "id": "648dcfc0",
   "metadata": {},
   "source": [
    "### Carregar"
   ]
  },
  {
   "cell_type": "code",
   "execution_count": 25,
   "id": "111246dd",
   "metadata": {
    "ExecuteTime": {
     "end_time": "2023-09-25T03:13:00.866776Z",
     "start_time": "2023-09-25T03:12:59.213227Z"
    }
   },
   "outputs": [
    {
     "data": {
      "image/png": "[encoded data removed]",
      "text/plain": [
       "<Figure size 432x288 with 1 Axes>"
      ]
     },
     "metadata": {
      "needs_background": "dark"
     },
     "output_type": "display_data"
    }
   ],
   "source": [
    "#Save_plot:\n",
    "plt.style.use('cyberpunk')\n",
    "df_ifix.plot()\n",
    "plt.savefig('IFIX.png', dpi = 300)\n",
    "plt.show()"
   ]
  },
  {
   "cell_type": "code",
   "execution_count": 26,
   "id": "dfb0dc1d",
   "metadata": {
    "ExecuteTime": {
     "end_time": "2023-09-25T03:13:03.992351Z",
     "start_time": "2023-09-25T03:13:03.592340Z"
    }
   },
   "outputs": [
    {
     "data": {
      "image/png": "[encoded data removed]",
      "text/plain": [
       "<Figure size 432x288 with 1 Axes>"
      ]
     },
     "metadata": {},
     "output_type": "display_data"
    }
   ],
   "source": [
    "#Save_plot:\n",
    "plt.style.use('cyberpunk')\n",
    "df_ibov.plot()\n",
    "plt.show()"
   ]
  },
  {
   "cell_type": "code",
   "execution_count": 34,
   "id": "722de735",
   "metadata": {
    "ExecuteTime": {
     "end_time": "2023-09-25T03:24:16.578750Z",
     "start_time": "2023-09-25T03:24:16.450070Z"
    }
   },
   "outputs": [],
   "source": [
    "#Criando planilha dos ativos escolhidos:\n",
    "df_escolhas = pd.concat([MN_5_melhores, Rent_5_melhores], ignore_index=True).drop_duplicates()\n",
    "df_escolhas.to_excel(\"carteira_ifix.xlsx\") "
   ]
  },
  {
   "cell_type": "code",
   "execution_count": 40,
   "id": "d22e8c1a",
   "metadata": {
    "ExecuteTime": {
     "end_time": "2023-09-25T03:27:20.450106Z",
     "start_time": "2023-09-25T03:27:20.270144Z"
    }
   },
   "outputs": [
    {
     "data": {
      "text/plain": [
       "<Figure size 432x288 with 0 Axes>"
      ]
     },
     "metadata": {},
     "output_type": "display_data"
    }
   ],
   "source": [
    "#salvar a imagem\n",
    "plt.savefig('proj.png', dpi = 300)\n",
    "\n",
    "plt.show()"
   ]
  },
  {
   "cell_type": "markdown",
   "id": "34b9ad87",
   "metadata": {},
   "source": [
    "Receber a análise via e-mail:"
   ]
  },
  {
   "cell_type": "code",
   "execution_count": 60,
   "id": "f4a390c6",
   "metadata": {
    "ExecuteTime": {
     "end_time": "2023-09-25T03:41:18.054784Z",
     "start_time": "2023-09-25T03:41:10.314739Z"
    }
   },
   "outputs": [
    {
     "name": "stdout",
     "output_type": "stream",
     "text": [
      "Digite seu e-mail (para mais de um, separe por virgula): thithicu@gmail.com, thiago18@ov.ufrj.br\n"
     ]
    },
    {
     "data": {
      "text/plain": [
       "(221,\n",
       " b'2.0.0 closing connection e3-20020a170902b78300b001befac3b3cbsm7508592pls.290 - gsmtp')"
      ]
     },
     "execution_count": 60,
     "metadata": {},
     "output_type": "execute_result"
    }
   ],
   "source": [
    "#### Envio de e-mail (gmail):\n",
    "\n",
    "fromaddr = \"hutakegames@gmail.com\" #Email de teste. Mude para um seu.\n",
    "remetentes = str(input(\"Digite seu e-mail (para mais de um, separe por virgula): \")).split(',')\n",
    "toaddr = \" , \".join(remetentes)\n",
    "msg = MIMEMultipart()\n",
    "msg['From'] = fromaddr\n",
    "msg['To'] = toaddr\n",
    "msg['Subject'] = \"Relatorio Automático FIIs.\"\n",
    "body = f''' \n",
    "    Prezado,\n",
    "    \n",
    "    Segue a análise dos melhores fundos imobiliários com respeito ao Magic Number (aqueles que necessitam menor investimento para pagarem as proprias cotas).\n",
    "    \n",
    "    As cotas escolhidas para a carteira foram {lista_acoes}. \n",
    "    Com essa carteira, a chance de ter lucro nos próximos 20 anos será de {cenarios_com_lucro}. \n",
    "    Com R$1.000,00 investidos, haverá 50% de chance do montante ser maior que {montante_mediano} e 95% de chance do montante ser maior que {montante_95}.\n",
    "    \n",
    "    O rendimento mensal do IFIX: {round(retorno_mensal_ifix[-1],2)}%.\n",
    "    O rendimento anual do IFIX: {round(retorno_anual_ifix[-1],2)}%.\n",
    "    \n",
    "    O rendimento mensal do IBOVESPA: {round(retorno_mensal_ibov[-1],2)}%.\n",
    "    O rendimento anual de IBOVESPA: {round(retorno_anual_ibov[-1],2)}%.\n",
    "    \n",
    "    Segue em anexo os gráficos que mostram as possíveis evoluções destes rendimentos seguindo o método Monte Carlo.\n",
    "    \n",
    "    Abraços!\n",
    "    \n",
    "    \n",
    "    Robô Hutake, auxiliar de Thiago Laidler (astrofísico e cientista de dados).\n",
    "    Prazer.\n",
    "    '''\n",
    "msg.attach(MIMEText(body, 'plain'))\n",
    "\n",
    "filename = \"proj.png\"\n",
    "attachment = open(\"proj.png\", \"rb\")\n",
    "\n",
    "filename2 = \"IFIX.png\"\n",
    "attachment2 = open(\"IFIX.png\", \"rb\")\n",
    "\n",
    "filename3 = \"carteira_ifix.xlsx\"\n",
    "attachment3 = open(\"carteira_ifix.xlsx\", \"rb\")\n",
    "\n",
    "p = MIMEBase('application', 'octet-stream')\n",
    "p.set_payload((attachment).read())\n",
    "encoders.encode_base64(p)\n",
    "p.add_header('Content-Disposition', \"attachment; filename= %s\" % filename)\n",
    "msg.attach(p)\n",
    "p2 = MIMEBase('application', 'octet-stream')\n",
    "p2.set_payload((attachment2).read())\n",
    "encoders.encode_base64(p2)\n",
    "p2.add_header('Content-Disposition', \"attachment2; filename= %s\" % filename2)\n",
    "msg.attach(p2)\n",
    "p3 = MIMEBase('application', 'octet-stream')\n",
    "p3.set_payload((attachment3).read())\n",
    "encoders.encode_base64(p3)\n",
    "p3.add_header('Content-Disposition', \"attachment3; filename= %s\" % filename3)\n",
    "msg.attach(p3)\n",
    "\n",
    "s = smtplib.SMTP('smtp.gmail.com', 587)\n",
    "s.starttls()\n",
    "s.login(fromaddr, \"xxl*****xfv*****v\") #Depende da password para apps do seu gmail\n",
    "text = msg.as_string()\n",
    "s.sendmail(fromaddr, remetentes, text)\n",
    "\n",
    "s.quit()"
   ]
  }
 ],
 "metadata": {
  "kernelspec": {
   "display_name": "Python 3",
   "language": "python",
   "name": "python3"
  },
  "language_info": {
   "codemirror_mode": {
    "name": "ipython",
    "version": 3
   },
   "file_extension": ".py",
   "mimetype": "text/x-python",
   "name": "python",
   "nbconvert_exporter": "python",
   "pygments_lexer": "ipython3",
   "version": "3.8.3"
  }
 },
 "nbformat": 4,
 "nbformat_minor": 5
}
