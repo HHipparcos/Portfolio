{
 "cells": [
  {
   "cell_type": "code",
   "execution_count": 1,
   "id": "253d18c4",
   "metadata": {
    "ExecuteTime": {
     "end_time": "2023-04-26T01:16:34.699493Z",
     "start_time": "2023-04-26T01:16:31.772216Z"
    },
    "code_folding": [
     0
    ]
   },
   "outputs": [],
   "source": [
    "# Importando Bibliotecas\n",
    "import numpy as np\n",
    "import pandas as pd\n",
    "import matplotlib.pyplot as plt\n",
    "import astropy.units as u\n",
    "import math\n",
    "import scipy.stats as stats\n",
    "from tqdm import tqdm \n",
    "import time\n",
    "import multiprocessing as mp\n",
    "from scipy.stats import norm\n",
    "from scipy.stats import poisson\n",
    "from scipy.optimize import curve_fit\n",
    "import random\n",
    "import scipy.special as sp\n",
    "from scipy import signal\n",
    "from scipy.fft import fft, fftfreq, fftshift\n",
    "from scipy.signal import butter, freqz, filtfilt\n",
    "import datetime\n",
    "import yfinance as yf\n",
    "import mplcyberpunk\n",
    "import smtplib\n",
    "from email.mime.multipart import MIMEMultipart\n",
    "from email.mime.text import MIMEText\n",
    "from email.mime.base import MIMEBase\n",
    "from email import encoders\n",
    "import time\n",
    "from selenium import webdriver\n",
    "from selenium.webdriver.firefox.service import Service as FirefoxService\n",
    "from webdriver_manager.firefox import GeckoDriverManager\n",
    "import datetime\n",
    "import pandas_datareader.data as pdr\n",
    "from numpy import linalg as LA"
   ]
  },
  {
   "cell_type": "markdown",
   "id": "64d51002",
   "metadata": {},
   "source": [
    "# Cálculo Numérico\n",
    "### Ferramenta auxiliar\n",
    "\n",
    "*Thiago Laidler Vidal Cunha*"
   ]
  },
  {
   "cell_type": "markdown",
   "id": "e17e4e10",
   "metadata": {},
   "source": [
    " - Criando função de teste (o mesmo que a professora utilizou em aula)"
   ]
  },
  {
   "cell_type": "code",
   "execution_count": 2,
   "id": "324d7bff",
   "metadata": {
    "ExecuteTime": {
     "end_time": "2023-04-26T01:16:34.711669Z",
     "start_time": "2023-04-26T01:16:34.705461Z"
    }
   },
   "outputs": [],
   "source": [
    "def funcao(x):\n",
    "    return x**3 + 4*x**2 - 2"
   ]
  },
  {
   "cell_type": "markdown",
   "id": "819dee0e",
   "metadata": {},
   "source": [
    "#### 1. Representação de Números em ponto flutuante\n",
    "\n",
    "Criaremos funções conversores que nos ajudarão a converter números da bse binárias e decimal. "
   ]
  },
  {
   "cell_type": "markdown",
   "id": "d5b54db9",
   "metadata": {},
   "source": [
    " - Conversor de **decimal** para **binário**"
   ]
  },
  {
   "cell_type": "code",
   "execution_count": 3,
   "id": "f8f18aad",
   "metadata": {
    "ExecuteTime": {
     "end_time": "2023-04-26T01:16:34.733746Z",
     "start_time": "2023-04-26T01:16:34.719794Z"
    }
   },
   "outputs": [],
   "source": [
    "def decimal_para_binario(decimal):\n",
    "    # Dividindo a parte inteira e a parte decimal do número\n",
    "    inteiro = int(decimal)\n",
    "    decimal = decimal - inteiro\n",
    "\n",
    "    # Convertendo a parte inteira para binário\n",
    "    binario_inteiro = bin(inteiro)[2:]\n",
    "\n",
    "    # Convertendo a parte decimal para binário\n",
    "    binario_decimal = ''\n",
    "    while decimal > 0:\n",
    "        decimal = decimal * 2\n",
    "        if decimal >= 1:\n",
    "            binario_decimal += '1'\n",
    "            decimal = decimal - 1\n",
    "        else:\n",
    "            binario_decimal += '0'\n",
    "\n",
    "    # Concatenando a parte inteira e a parte decimal em um único número binário\n",
    "    if len(binario_decimal) > 0:\n",
    "        binario = binario_inteiro + '.' + binario_decimal\n",
    "    else:\n",
    "        binario = binario_inteiro\n",
    "\n",
    "    return binario"
   ]
  },
  {
   "cell_type": "code",
   "execution_count": 4,
   "id": "105647c2",
   "metadata": {
    "ExecuteTime": {
     "end_time": "2023-04-26T01:16:34.767927Z",
     "start_time": "2023-04-26T01:16:34.743162Z"
    }
   },
   "outputs": [
    {
     "data": {
      "text/plain": [
       "'1.111111101111100111011011001000101101000011100101011'"
      ]
     },
     "execution_count": 4,
     "metadata": {},
     "output_type": "execute_result"
    }
   ],
   "source": [
    "decimal_para_binario(1.996)"
   ]
  },
  {
   "cell_type": "code",
   "execution_count": 5,
   "id": "79615149",
   "metadata": {
    "ExecuteTime": {
     "end_time": "2023-04-26T01:16:34.787493Z",
     "start_time": "2023-04-26T01:16:34.774285Z"
    }
   },
   "outputs": [
    {
     "data": {
      "text/plain": [
       "'1.11'"
      ]
     },
     "execution_count": 5,
     "metadata": {},
     "output_type": "execute_result"
    }
   ],
   "source": [
    "decimal_para_binario(1.75)"
   ]
  },
  {
   "cell_type": "code",
   "execution_count": 6,
   "id": "ca142190",
   "metadata": {
    "ExecuteTime": {
     "end_time": "2023-04-26T01:16:34.807757Z",
     "start_time": "2023-04-26T01:16:34.794013Z"
    }
   },
   "outputs": [
    {
     "data": {
      "text/plain": [
       "'0.0000000000000000000010001001011100000101111101000001001101101011010010101'"
      ]
     },
     "execution_count": 6,
     "metadata": {},
     "output_type": "execute_result"
    }
   ],
   "source": [
    "decimal_para_binario(0.000000512)"
   ]
  },
  {
   "cell_type": "code",
   "execution_count": 7,
   "id": "36510a32",
   "metadata": {
    "ExecuteTime": {
     "end_time": "2023-04-26T01:16:34.828643Z",
     "start_time": "2023-04-26T01:16:34.813453Z"
    }
   },
   "outputs": [
    {
     "data": {
      "text/plain": [
       "'1100100'"
      ]
     },
     "execution_count": 7,
     "metadata": {},
     "output_type": "execute_result"
    }
   ],
   "source": [
    "decimal_para_binario(100)"
   ]
  },
  {
   "cell_type": "code",
   "execution_count": 8,
   "id": "32e59ca1",
   "metadata": {
    "ExecuteTime": {
     "end_time": "2023-04-26T01:16:34.855254Z",
     "start_time": "2023-04-26T01:16:34.842067Z"
    }
   },
   "outputs": [
    {
     "data": {
      "text/plain": [
       "'1101.0011011000000100000110001001001101110100101111001'"
      ]
     },
     "execution_count": 8,
     "metadata": {},
     "output_type": "execute_result"
    }
   ],
   "source": [
    "decimal_para_binario(13.211)"
   ]
  },
  {
   "cell_type": "code",
   "execution_count": 9,
   "id": "638f721d",
   "metadata": {
    "ExecuteTime": {
     "end_time": "2023-04-26T01:16:34.881703Z",
     "start_time": "2023-04-26T01:16:34.865247Z"
    }
   },
   "outputs": [
    {
     "data": {
      "text/plain": [
       "'0.001100110011001100110011001100110011001100110011001101'"
      ]
     },
     "execution_count": 9,
     "metadata": {},
     "output_type": "execute_result"
    }
   ],
   "source": [
    "decimal_para_binario(0.2)"
   ]
  },
  {
   "cell_type": "code",
   "execution_count": 10,
   "id": "820c56c9",
   "metadata": {
    "ExecuteTime": {
     "end_time": "2023-04-26T01:16:34.901825Z",
     "start_time": "2023-04-26T01:16:34.887625Z"
    }
   },
   "outputs": [
    {
     "data": {
      "text/plain": [
       "'1101.0011011000000100000110001001001101110100101111001'"
      ]
     },
     "execution_count": 10,
     "metadata": {},
     "output_type": "execute_result"
    }
   ],
   "source": [
    "decimal_para_binario(13.211)"
   ]
  },
  {
   "cell_type": "code",
   "execution_count": 11,
   "id": "e7b61bb1",
   "metadata": {
    "ExecuteTime": {
     "end_time": "2023-04-26T01:16:34.926672Z",
     "start_time": "2023-04-26T01:16:34.910080Z"
    }
   },
   "outputs": [
    {
     "data": {
      "text/plain": [
       "'1.0011001100110011001100110011001100110011001100110011'"
      ]
     },
     "execution_count": 11,
     "metadata": {},
     "output_type": "execute_result"
    }
   ],
   "source": [
    "decimal_para_binario(1.2)"
   ]
  },
  {
   "cell_type": "code",
   "execution_count": 12,
   "id": "95db1a6c",
   "metadata": {
    "ExecuteTime": {
     "end_time": "2023-04-26T01:16:34.943352Z",
     "start_time": "2023-04-26T01:16:34.932690Z"
    }
   },
   "outputs": [
    {
     "data": {
      "text/plain": [
       "'1100.0000000101000111101011100001010001111010111000011'"
      ]
     },
     "execution_count": 12,
     "metadata": {},
     "output_type": "execute_result"
    }
   ],
   "source": [
    "decimal_para_binario(12.005)"
   ]
  },
  {
   "cell_type": "code",
   "execution_count": 13,
   "id": "2621f7a3",
   "metadata": {
    "ExecuteTime": {
     "end_time": "2023-04-26T01:16:34.963011Z",
     "start_time": "2023-04-26T01:16:34.949460Z"
    }
   },
   "outputs": [
    {
     "data": {
      "text/plain": [
       "'1000.01'"
      ]
     },
     "execution_count": 13,
     "metadata": {},
     "output_type": "execute_result"
    }
   ],
   "source": [
    "decimal_para_binario(8.25)"
   ]
  },
  {
   "cell_type": "code",
   "execution_count": 14,
   "id": "5a6a1f6f",
   "metadata": {
    "ExecuteTime": {
     "end_time": "2023-04-26T01:16:34.986757Z",
     "start_time": "2023-04-26T01:16:34.967976Z"
    }
   },
   "outputs": [
    {
     "data": {
      "text/plain": [
       "'100'"
      ]
     },
     "execution_count": 14,
     "metadata": {},
     "output_type": "execute_result"
    }
   ],
   "source": [
    "decimal_para_binario(4)"
   ]
  },
  {
   "cell_type": "markdown",
   "id": "56924ecd",
   "metadata": {},
   "source": [
    " - Conversor de **binário** para **decimal**"
   ]
  },
  {
   "cell_type": "code",
   "execution_count": 15,
   "id": "bfa930a2",
   "metadata": {
    "ExecuteTime": {
     "end_time": "2023-04-26T01:16:35.008977Z",
     "start_time": "2023-04-26T01:16:34.994715Z"
    }
   },
   "outputs": [],
   "source": [
    "def binario_para_decimal(binario):\n",
    "    # Dividindo a parte inteira e a parte decimal do número\n",
    "    partes = str(binario).split('.')\n",
    "    parte_inteira = partes[0]\n",
    "    if len(partes) > 1:\n",
    "        parte_decimal = partes[1]\n",
    "    else:\n",
    "        parte_decimal = ''\n",
    "\n",
    "    # Convertendo a parte inteira para decimal\n",
    "    decimal_inteiro = 0\n",
    "    for i in range(len(parte_inteira)):\n",
    "        digito = int(parte_inteira[-(i+1)])\n",
    "        decimal_inteiro += digito * 2**i\n",
    "\n",
    "    # Convertendo a parte decimal para decimal\n",
    "    decimal_decimal = 0\n",
    "    for i in range(len(parte_decimal)):\n",
    "        digito = int(parte_decimal[i])\n",
    "        decimal_decimal += digito * 2**(-(i+1))\n",
    "\n",
    "    # Somando a parte inteira e a parte decimal para obter o número decimal final\n",
    "    decimal = decimal_inteiro + decimal_decimal\n",
    "\n",
    "    return decimal"
   ]
  },
  {
   "cell_type": "code",
   "execution_count": 16,
   "id": "9823c6c7",
   "metadata": {
    "ExecuteTime": {
     "end_time": "2023-04-26T01:16:35.027198Z",
     "start_time": "2023-04-26T01:16:35.015587Z"
    }
   },
   "outputs": [
    {
     "data": {
      "text/plain": [
       "630"
      ]
     },
     "execution_count": 16,
     "metadata": {},
     "output_type": "execute_result"
    }
   ],
   "source": [
    "binario_para_decimal(1001110110)"
   ]
  },
  {
   "cell_type": "code",
   "execution_count": 17,
   "id": "80997765",
   "metadata": {
    "ExecuteTime": {
     "end_time": "2023-04-26T01:16:35.046118Z",
     "start_time": "2023-04-26T01:16:35.033701Z"
    }
   },
   "outputs": [
    {
     "data": {
      "text/plain": [
       "2047"
      ]
     },
     "execution_count": 17,
     "metadata": {},
     "output_type": "execute_result"
    }
   ],
   "source": [
    "binario_para_decimal(11111111111)"
   ]
  },
  {
   "cell_type": "code",
   "execution_count": 18,
   "id": "05a93d7b",
   "metadata": {
    "ExecuteTime": {
     "end_time": "2023-04-26T01:16:35.063947Z",
     "start_time": "2023-04-26T01:16:35.050771Z"
    }
   },
   "outputs": [
    {
     "data": {
      "text/plain": [
       "254.9375"
      ]
     },
     "execution_count": 18,
     "metadata": {},
     "output_type": "execute_result"
    }
   ],
   "source": [
    "binario_para_decimal(11111110.1111)"
   ]
  },
  {
   "cell_type": "code",
   "execution_count": 19,
   "id": "48fb7153",
   "metadata": {
    "ExecuteTime": {
     "end_time": "2023-04-26T01:16:35.080339Z",
     "start_time": "2023-04-26T01:16:35.069815Z"
    }
   },
   "outputs": [
    {
     "data": {
      "text/plain": [
       "0.99609375"
      ]
     },
     "execution_count": 19,
     "metadata": {},
     "output_type": "execute_result"
    }
   ],
   "source": [
    "binario_para_decimal(0.11111111)"
   ]
  },
  {
   "cell_type": "code",
   "execution_count": 20,
   "id": "b454c65c",
   "metadata": {
    "ExecuteTime": {
     "end_time": "2023-04-26T01:16:35.093812Z",
     "start_time": "2023-04-26T01:16:35.085110Z"
    }
   },
   "outputs": [
    {
     "data": {
      "text/plain": [
       "0.65234375"
      ]
     },
     "execution_count": 20,
     "metadata": {},
     "output_type": "execute_result"
    }
   ],
   "source": [
    "binario_para_decimal(0.10100111)"
   ]
  },
  {
   "cell_type": "code",
   "execution_count": 21,
   "id": "10ea8778",
   "metadata": {
    "ExecuteTime": {
     "end_time": "2023-04-26T01:16:35.106933Z",
     "start_time": "2023-04-26T01:16:35.098163Z"
    }
   },
   "outputs": [
    {
     "data": {
      "text/plain": [
       "12.00390625"
      ]
     },
     "execution_count": 21,
     "metadata": {},
     "output_type": "execute_result"
    }
   ],
   "source": [
    "binario_para_decimal(1100.00000001)"
   ]
  },
  {
   "cell_type": "code",
   "execution_count": 22,
   "id": "8bddcae5",
   "metadata": {
    "ExecuteTime": {
     "end_time": "2023-04-26T01:16:35.120582Z",
     "start_time": "2023-04-26T01:16:35.111590Z"
    }
   },
   "outputs": [
    {
     "name": "stdout",
     "output_type": "stream",
     "text": [
      "254\n"
     ]
    }
   ],
   "source": [
    "from math import floor #Permite utilizar o comando ‘‘floor’’ posteriormente\n",
    "from math import sqrt #Permite utilizar o comando ‘‘sqrt’’ posteriormente\n",
    "k = 2.55 #Atribui valor para vari ́avel k\n",
    "x = k*100 #Multiplica o valor de k por 100\n",
    "y = floor(x) #Atribui para y a parte inteira de x\n",
    "#w = sqrt(y-255) #Calcula a raiz quadrada de (y − 255)\n",
    "print(y) "
   ]
  },
  {
   "cell_type": "markdown",
   "id": "3d44f40d",
   "metadata": {},
   "source": [
    "#### 2. Encontrar zeros de funções:\n",
    "\n",
    "- Método da Bissecção"
   ]
  },
  {
   "cell_type": "code",
   "execution_count": 23,
   "id": "89b2d89f",
   "metadata": {
    "ExecuteTime": {
     "end_time": "2023-04-26T01:16:35.162448Z",
     "start_time": "2023-04-26T01:16:35.142302Z"
    }
   },
   "outputs": [],
   "source": [
    "def bisseccao(funcao, a, b, tolerancia):\n",
    "    \n",
    "    df = pd.DataFrame(columns=['k','X_k','f(X_k)','a_k','b_k','b_k - a_k']) #Tabela armazena informações\n",
    "    k=[]\n",
    "    x=[]\n",
    "    fx=[]\n",
    "    ak=[]\n",
    "    bk=[]\n",
    "    bk_ak = []\n",
    "    \n",
    "    cont=0 #contador de iterações\n",
    "    \n",
    "    fa = funcao(a)\n",
    "    fb = funcao(b)\n",
    "    \n",
    "    if fa * fb >= 0: #vericiando o teorema dos sinais opostos\n",
    "        raise ValueError(\"A função deve ter valores opostos em 'a' e 'b'.\")\n",
    "    \n",
    "    while abs(b - a) > tolerancia or fc > tolerancia:\n",
    "        \n",
    "        c = (a + b) / 2 #primeiro x_k\n",
    "        fc = funcao(c) #imagem de x_k\n",
    "        x.append(c) #armazenando valor de x_k\n",
    "        fx.append(fc) #armazenando valor de f(xk)\n",
    "        \n",
    "        if fa * fc < 0: #se os sinais de f(a) e f(xk) forem inversos, trocar o b pelo xk\n",
    "            b = c\n",
    "            fb = fc\n",
    "        else: #Se não, trocar o f(a) pelo f(xk)\n",
    "            a = c\n",
    "            fa = fc\n",
    "            \n",
    "        cont = cont + 1\n",
    "        k.append(cont)\n",
    "        ak.append(a) #Armazenando primeiro valor de a\n",
    "        bk.append(b) #Armazenando primeiro valor de b\n",
    "        bk_ak.append(abs(b - a)) #Armazenando diferença de a e b\n",
    "        \n",
    "    df['k'] = k\n",
    "    df['X_k'] = x\n",
    "    df['f(X_k)'] = fx\n",
    "    df['a_k'] = ak\n",
    "    df['b_k'] = bk\n",
    "    df['b_k - a_k'] = bk_ak\n",
    "    \n",
    "    return c,fc,df"
   ]
  },
  {
   "cell_type": "code",
   "execution_count": 24,
   "id": "8b27e99b",
   "metadata": {
    "ExecuteTime": {
     "end_time": "2023-04-26T01:16:35.208217Z",
     "start_time": "2023-04-26T01:16:35.169477Z"
    }
   },
   "outputs": [
    {
     "data": {
      "text/html": [
       "<div>\n",
       "<style scoped>\n",
       "    .dataframe tbody tr th:only-of-type {\n",
       "        vertical-align: middle;\n",
       "    }\n",
       "\n",
       "    .dataframe tbody tr th {\n",
       "        vertical-align: top;\n",
       "    }\n",
       "\n",
       "    .dataframe thead th {\n",
       "        text-align: right;\n",
       "    }\n",
       "</style>\n",
       "<table border=\"1\" class=\"dataframe\">\n",
       "  <thead>\n",
       "    <tr style=\"text-align: right;\">\n",
       "      <th></th>\n",
       "      <th>k</th>\n",
       "      <th>X_k</th>\n",
       "      <th>f(X_k)</th>\n",
       "      <th>a_k</th>\n",
       "      <th>b_k</th>\n",
       "      <th>b_k - a_k</th>\n",
       "    </tr>\n",
       "  </thead>\n",
       "  <tbody>\n",
       "    <tr>\n",
       "      <th>0</th>\n",
       "      <td>1</td>\n",
       "      <td>-1.000000</td>\n",
       "      <td>1.000000</td>\n",
       "      <td>-1.000000</td>\n",
       "      <td>0.000000</td>\n",
       "      <td>1.000000</td>\n",
       "    </tr>\n",
       "    <tr>\n",
       "      <th>1</th>\n",
       "      <td>2</td>\n",
       "      <td>-0.500000</td>\n",
       "      <td>-1.125000</td>\n",
       "      <td>-1.000000</td>\n",
       "      <td>-0.500000</td>\n",
       "      <td>0.500000</td>\n",
       "    </tr>\n",
       "    <tr>\n",
       "      <th>2</th>\n",
       "      <td>3</td>\n",
       "      <td>-0.750000</td>\n",
       "      <td>-0.171875</td>\n",
       "      <td>-1.000000</td>\n",
       "      <td>-0.750000</td>\n",
       "      <td>0.250000</td>\n",
       "    </tr>\n",
       "    <tr>\n",
       "      <th>3</th>\n",
       "      <td>4</td>\n",
       "      <td>-0.875000</td>\n",
       "      <td>0.392578</td>\n",
       "      <td>-0.875000</td>\n",
       "      <td>-0.750000</td>\n",
       "      <td>0.125000</td>\n",
       "    </tr>\n",
       "    <tr>\n",
       "      <th>4</th>\n",
       "      <td>5</td>\n",
       "      <td>-0.812500</td>\n",
       "      <td>0.104248</td>\n",
       "      <td>-0.812500</td>\n",
       "      <td>-0.750000</td>\n",
       "      <td>0.062500</td>\n",
       "    </tr>\n",
       "    <tr>\n",
       "      <th>5</th>\n",
       "      <td>6</td>\n",
       "      <td>-0.781250</td>\n",
       "      <td>-0.035431</td>\n",
       "      <td>-0.812500</td>\n",
       "      <td>-0.781250</td>\n",
       "      <td>0.031250</td>\n",
       "    </tr>\n",
       "    <tr>\n",
       "      <th>6</th>\n",
       "      <td>7</td>\n",
       "      <td>-0.796875</td>\n",
       "      <td>0.034016</td>\n",
       "      <td>-0.796875</td>\n",
       "      <td>-0.781250</td>\n",
       "      <td>0.015625</td>\n",
       "    </tr>\n",
       "    <tr>\n",
       "      <th>7</th>\n",
       "      <td>8</td>\n",
       "      <td>-0.789062</td>\n",
       "      <td>-0.000807</td>\n",
       "      <td>-0.796875</td>\n",
       "      <td>-0.789062</td>\n",
       "      <td>0.007812</td>\n",
       "    </tr>\n",
       "  </tbody>\n",
       "</table>\n",
       "</div>"
      ],
      "text/plain": [
       "   k       X_k    f(X_k)       a_k       b_k  b_k - a_k\n",
       "0  1 -1.000000  1.000000 -1.000000  0.000000   1.000000\n",
       "1  2 -0.500000 -1.125000 -1.000000 -0.500000   0.500000\n",
       "2  3 -0.750000 -0.171875 -1.000000 -0.750000   0.250000\n",
       "3  4 -0.875000  0.392578 -0.875000 -0.750000   0.125000\n",
       "4  5 -0.812500  0.104248 -0.812500 -0.750000   0.062500\n",
       "5  6 -0.781250 -0.035431 -0.812500 -0.781250   0.031250\n",
       "6  7 -0.796875  0.034016 -0.796875 -0.781250   0.015625\n",
       "7  8 -0.789062 -0.000807 -0.796875 -0.789062   0.007812"
      ]
     },
     "execution_count": 24,
     "metadata": {},
     "output_type": "execute_result"
    }
   ],
   "source": [
    "bisseccao(funcao, -2, 0, 0.01)[2]"
   ]
  },
  {
   "cell_type": "markdown",
   "id": "5fb95438",
   "metadata": {},
   "source": [
    "- Método da Posição Falsa:"
   ]
  },
  {
   "cell_type": "code",
   "execution_count": 25,
   "id": "fed2fc9e",
   "metadata": {
    "ExecuteTime": {
     "end_time": "2023-04-26T01:16:35.239884Z",
     "start_time": "2023-04-26T01:16:35.213356Z"
    },
    "code_folding": []
   },
   "outputs": [],
   "source": [
    "def posicao_falsa(funcao, a, b, tolerancia, max_iteracoes=100):\n",
    "\n",
    "    df = pd.DataFrame(columns=['k','X_k','f(X_k)','a_k','f(ak)','b_k','f(bk)','b_k - a_k']) #Tabela armazena informações\n",
    "    k=[]\n",
    "    x=[]\n",
    "    fx=[]\n",
    "    ak=[]\n",
    "    fak=[]\n",
    "    bk=[]\n",
    "    fbk=[]\n",
    "    bk_ak = []\n",
    "    \n",
    "    cont=0 #contador de iterações\n",
    "    \n",
    "    fa = funcao(a)\n",
    "    fb = funcao(b)\n",
    "    \n",
    "    if fa * fb >= 0:\n",
    "        raise ValueError(\"A função deve ter valores opostos em 'a' e 'b'.\")\n",
    "    \n",
    "    c = (a * fb - b * fa) / (fb - fa)\n",
    "    fc = funcao(c) \n",
    "    \n",
    "    while abs(b - a) > tolerancia and abs(fc) > tolerancia:\n",
    "        \n",
    "        c = (a * fb - b * fa) / (fb - fa)\n",
    "        fc = funcao(c) #atualiza o valor da imagem da função no ponto c\n",
    "        x.append(c) #armazenando valor de x_k\n",
    "        fx.append(fc) #armazenando valor de f(xk)\n",
    "        \n",
    "        if fa * fc < 0:\n",
    "            b = c\n",
    "            fb = fc\n",
    "            \n",
    "        else:\n",
    "            a = c\n",
    "            fa = fc\n",
    "            \n",
    "        cont = cont + 1\n",
    "        k.append(cont)\n",
    "        ak.append(a) #Armazenando primeiro valor de a\n",
    "        fak.append(fa)\n",
    "        bk.append(b) #Armazenando primeiro valor de b\n",
    "        fbk.append(fb)\n",
    "        bk_ak.append(abs(b - a)) #Armazenando diferença de a e b\n",
    "        \n",
    "    df['k'] = k\n",
    "    df['X_k'] = x\n",
    "    df['f(X_k)'] = fx\n",
    "    df['a_k'] = ak\n",
    "    df['f(ak)'] = fak\n",
    "    df['b_k'] = bk\n",
    "    df['f(bk)'] = fbk\n",
    "    df['b_k - a_k'] = bk_ak\n",
    "    \n",
    "    return df"
   ]
  },
  {
   "cell_type": "code",
   "execution_count": 26,
   "id": "de1b76dc",
   "metadata": {
    "ExecuteTime": {
     "end_time": "2023-04-26T01:16:35.285162Z",
     "start_time": "2023-04-26T01:16:35.244838Z"
    },
    "scrolled": true
   },
   "outputs": [
    {
     "data": {
      "text/html": [
       "<div>\n",
       "<style scoped>\n",
       "    .dataframe tbody tr th:only-of-type {\n",
       "        vertical-align: middle;\n",
       "    }\n",
       "\n",
       "    .dataframe tbody tr th {\n",
       "        vertical-align: top;\n",
       "    }\n",
       "\n",
       "    .dataframe thead th {\n",
       "        text-align: right;\n",
       "    }\n",
       "</style>\n",
       "<table border=\"1\" class=\"dataframe\">\n",
       "  <thead>\n",
       "    <tr style=\"text-align: right;\">\n",
       "      <th></th>\n",
       "      <th>k</th>\n",
       "      <th>X_k</th>\n",
       "      <th>f(X_k)</th>\n",
       "      <th>a_k</th>\n",
       "      <th>f(ak)</th>\n",
       "      <th>b_k</th>\n",
       "      <th>f(bk)</th>\n",
       "      <th>b_k - a_k</th>\n",
       "    </tr>\n",
       "  </thead>\n",
       "  <tbody>\n",
       "    <tr>\n",
       "      <th>0</th>\n",
       "      <td>1</td>\n",
       "      <td>-0.500000</td>\n",
       "      <td>-1.125000</td>\n",
       "      <td>-2</td>\n",
       "      <td>6</td>\n",
       "      <td>-0.500000</td>\n",
       "      <td>-1.125000</td>\n",
       "      <td>1.500000</td>\n",
       "    </tr>\n",
       "    <tr>\n",
       "      <th>1</th>\n",
       "      <td>2</td>\n",
       "      <td>-0.736842</td>\n",
       "      <td>-0.228313</td>\n",
       "      <td>-2</td>\n",
       "      <td>6</td>\n",
       "      <td>-0.736842</td>\n",
       "      <td>-0.228313</td>\n",
       "      <td>1.263158</td>\n",
       "    </tr>\n",
       "    <tr>\n",
       "      <th>2</th>\n",
       "      <td>3</td>\n",
       "      <td>-0.783146</td>\n",
       "      <td>-0.027046</td>\n",
       "      <td>-2</td>\n",
       "      <td>6</td>\n",
       "      <td>-0.783146</td>\n",
       "      <td>-0.027046</td>\n",
       "      <td>1.216854</td>\n",
       "    </tr>\n",
       "    <tr>\n",
       "      <th>3</th>\n",
       "      <td>4</td>\n",
       "      <td>-0.788607</td>\n",
       "      <td>-0.002833</td>\n",
       "      <td>-2</td>\n",
       "      <td>6</td>\n",
       "      <td>-0.788607</td>\n",
       "      <td>-0.002833</td>\n",
       "      <td>1.211393</td>\n",
       "    </tr>\n",
       "  </tbody>\n",
       "</table>\n",
       "</div>"
      ],
      "text/plain": [
       "   k       X_k    f(X_k)  a_k  f(ak)       b_k     f(bk)  b_k - a_k\n",
       "0  1 -0.500000 -1.125000   -2      6 -0.500000 -1.125000   1.500000\n",
       "1  2 -0.736842 -0.228313   -2      6 -0.736842 -0.228313   1.263158\n",
       "2  3 -0.783146 -0.027046   -2      6 -0.783146 -0.027046   1.216854\n",
       "3  4 -0.788607 -0.002833   -2      6 -0.788607 -0.002833   1.211393"
      ]
     },
     "execution_count": 26,
     "metadata": {},
     "output_type": "execute_result"
    }
   ],
   "source": [
    "posicao_falsa(funcao,-2,0,0.01)"
   ]
  },
  {
   "cell_type": "markdown",
   "id": "afd8b7bc",
   "metadata": {},
   "source": [
    " ## Questões da lista 2\n",
    " \n",
    " - 1) Utilize o método da bissecção para encontrar uma solução com precisão de 10^−5 para os seguintes problemas:\n",
    "\n",
    "**(a)** $x − 2^{x} = 0$ para 0 ≤ x ≤ 1\n",
    "\n",
    "**(b)** $x*\\cos(x) − 2x^{2} + 3x − 1 = 0$ para 0,2 ≤ x ≤ 0, 3 e 1, 2 ≤ x ≤ 1, 3."
   ]
  },
  {
   "cell_type": "code",
   "execution_count": 27,
   "id": "0d9ab4b8",
   "metadata": {
    "ExecuteTime": {
     "end_time": "2023-04-26T01:16:35.298704Z",
     "start_time": "2023-04-26T01:16:35.291635Z"
    }
   },
   "outputs": [],
   "source": [
    "def fa(x):\n",
    "    return x - 2**x\n",
    "\n",
    "def fb(x):\n",
    "    return x*np.cos(x) - 2*x**2 + 3*x -1"
   ]
  },
  {
   "cell_type": "markdown",
   "id": "524ec30a",
   "metadata": {},
   "source": [
    " - As imagens de função dada em **(a)** nunca são opostas, de forma que o teorema dos sinais opostos não pode ser adotado e, portanto, o método não funciona."
   ]
  },
  {
   "cell_type": "code",
   "execution_count": 28,
   "id": "119fc19d",
   "metadata": {
    "ExecuteTime": {
     "end_time": "2023-04-26T01:16:35.314411Z",
     "start_time": "2023-04-26T01:16:35.303735Z"
    }
   },
   "outputs": [],
   "source": [
    "#bisseccao(fa,0,1,0.00001)[2]"
   ]
  },
  {
   "cell_type": "code",
   "execution_count": 29,
   "id": "a20df959",
   "metadata": {
    "ExecuteTime": {
     "end_time": "2023-04-26T01:16:35.366659Z",
     "start_time": "2023-04-26T01:16:35.323869Z"
    }
   },
   "outputs": [
    {
     "data": {
      "text/html": [
       "<div>\n",
       "<style scoped>\n",
       "    .dataframe tbody tr th:only-of-type {\n",
       "        vertical-align: middle;\n",
       "    }\n",
       "\n",
       "    .dataframe tbody tr th {\n",
       "        vertical-align: top;\n",
       "    }\n",
       "\n",
       "    .dataframe thead th {\n",
       "        text-align: right;\n",
       "    }\n",
       "</style>\n",
       "<table border=\"1\" class=\"dataframe\">\n",
       "  <thead>\n",
       "    <tr style=\"text-align: right;\">\n",
       "      <th></th>\n",
       "      <th>k</th>\n",
       "      <th>X_k</th>\n",
       "      <th>f(X_k)</th>\n",
       "      <th>a_k</th>\n",
       "      <th>b_k</th>\n",
       "      <th>b_k - a_k</th>\n",
       "    </tr>\n",
       "  </thead>\n",
       "  <tbody>\n",
       "    <tr>\n",
       "      <th>0</th>\n",
       "      <td>1</td>\n",
       "      <td>0.250000</td>\n",
       "      <td>-0.132772</td>\n",
       "      <td>0.250000</td>\n",
       "      <td>0.300000</td>\n",
       "      <td>0.050000</td>\n",
       "    </tr>\n",
       "    <tr>\n",
       "      <th>1</th>\n",
       "      <td>2</td>\n",
       "      <td>0.275000</td>\n",
       "      <td>-0.061583</td>\n",
       "      <td>0.275000</td>\n",
       "      <td>0.300000</td>\n",
       "      <td>0.025000</td>\n",
       "    </tr>\n",
       "    <tr>\n",
       "      <th>2</th>\n",
       "      <td>3</td>\n",
       "      <td>0.287500</td>\n",
       "      <td>-0.027113</td>\n",
       "      <td>0.287500</td>\n",
       "      <td>0.300000</td>\n",
       "      <td>0.012500</td>\n",
       "    </tr>\n",
       "    <tr>\n",
       "      <th>3</th>\n",
       "      <td>4</td>\n",
       "      <td>0.293750</td>\n",
       "      <td>-0.010161</td>\n",
       "      <td>0.293750</td>\n",
       "      <td>0.300000</td>\n",
       "      <td>0.006250</td>\n",
       "    </tr>\n",
       "    <tr>\n",
       "      <th>4</th>\n",
       "      <td>5</td>\n",
       "      <td>0.296875</td>\n",
       "      <td>-0.001756</td>\n",
       "      <td>0.296875</td>\n",
       "      <td>0.300000</td>\n",
       "      <td>0.003125</td>\n",
       "    </tr>\n",
       "    <tr>\n",
       "      <th>5</th>\n",
       "      <td>6</td>\n",
       "      <td>0.298438</td>\n",
       "      <td>0.002428</td>\n",
       "      <td>0.296875</td>\n",
       "      <td>0.298438</td>\n",
       "      <td>0.001563</td>\n",
       "    </tr>\n",
       "    <tr>\n",
       "      <th>6</th>\n",
       "      <td>7</td>\n",
       "      <td>0.297656</td>\n",
       "      <td>0.000338</td>\n",
       "      <td>0.296875</td>\n",
       "      <td>0.297656</td>\n",
       "      <td>0.000781</td>\n",
       "    </tr>\n",
       "    <tr>\n",
       "      <th>7</th>\n",
       "      <td>8</td>\n",
       "      <td>0.297266</td>\n",
       "      <td>-0.000709</td>\n",
       "      <td>0.297266</td>\n",
       "      <td>0.297656</td>\n",
       "      <td>0.000391</td>\n",
       "    </tr>\n",
       "    <tr>\n",
       "      <th>8</th>\n",
       "      <td>9</td>\n",
       "      <td>0.297461</td>\n",
       "      <td>-0.000186</td>\n",
       "      <td>0.297461</td>\n",
       "      <td>0.297656</td>\n",
       "      <td>0.000195</td>\n",
       "    </tr>\n",
       "    <tr>\n",
       "      <th>9</th>\n",
       "      <td>10</td>\n",
       "      <td>0.297559</td>\n",
       "      <td>0.000076</td>\n",
       "      <td>0.297461</td>\n",
       "      <td>0.297559</td>\n",
       "      <td>0.000098</td>\n",
       "    </tr>\n",
       "    <tr>\n",
       "      <th>10</th>\n",
       "      <td>11</td>\n",
       "      <td>0.297510</td>\n",
       "      <td>-0.000055</td>\n",
       "      <td>0.297510</td>\n",
       "      <td>0.297559</td>\n",
       "      <td>0.000049</td>\n",
       "    </tr>\n",
       "    <tr>\n",
       "      <th>11</th>\n",
       "      <td>12</td>\n",
       "      <td>0.297534</td>\n",
       "      <td>0.000011</td>\n",
       "      <td>0.297510</td>\n",
       "      <td>0.297534</td>\n",
       "      <td>0.000024</td>\n",
       "    </tr>\n",
       "    <tr>\n",
       "      <th>12</th>\n",
       "      <td>13</td>\n",
       "      <td>0.297522</td>\n",
       "      <td>-0.000022</td>\n",
       "      <td>0.297522</td>\n",
       "      <td>0.297534</td>\n",
       "      <td>0.000012</td>\n",
       "    </tr>\n",
       "    <tr>\n",
       "      <th>13</th>\n",
       "      <td>14</td>\n",
       "      <td>0.297528</td>\n",
       "      <td>-0.000006</td>\n",
       "      <td>0.297528</td>\n",
       "      <td>0.297534</td>\n",
       "      <td>0.000006</td>\n",
       "    </tr>\n",
       "  </tbody>\n",
       "</table>\n",
       "</div>"
      ],
      "text/plain": [
       "     k       X_k    f(X_k)       a_k       b_k  b_k - a_k\n",
       "0    1  0.250000 -0.132772  0.250000  0.300000   0.050000\n",
       "1    2  0.275000 -0.061583  0.275000  0.300000   0.025000\n",
       "2    3  0.287500 -0.027113  0.287500  0.300000   0.012500\n",
       "3    4  0.293750 -0.010161  0.293750  0.300000   0.006250\n",
       "4    5  0.296875 -0.001756  0.296875  0.300000   0.003125\n",
       "5    6  0.298438  0.002428  0.296875  0.298438   0.001563\n",
       "6    7  0.297656  0.000338  0.296875  0.297656   0.000781\n",
       "7    8  0.297266 -0.000709  0.297266  0.297656   0.000391\n",
       "8    9  0.297461 -0.000186  0.297461  0.297656   0.000195\n",
       "9   10  0.297559  0.000076  0.297461  0.297559   0.000098\n",
       "10  11  0.297510 -0.000055  0.297510  0.297559   0.000049\n",
       "11  12  0.297534  0.000011  0.297510  0.297534   0.000024\n",
       "12  13  0.297522 -0.000022  0.297522  0.297534   0.000012\n",
       "13  14  0.297528 -0.000006  0.297528  0.297534   0.000006"
      ]
     },
     "execution_count": 29,
     "metadata": {},
     "output_type": "execute_result"
    }
   ],
   "source": [
    "bisseccao(fb,0.2,0.3,0.00001)[2]"
   ]
  },
  {
   "cell_type": "code",
   "execution_count": 30,
   "id": "126a96dc",
   "metadata": {
    "ExecuteTime": {
     "end_time": "2023-04-26T01:16:35.405528Z",
     "start_time": "2023-04-26T01:16:35.372085Z"
    },
    "scrolled": false
   },
   "outputs": [
    {
     "data": {
      "text/html": [
       "<div>\n",
       "<style scoped>\n",
       "    .dataframe tbody tr th:only-of-type {\n",
       "        vertical-align: middle;\n",
       "    }\n",
       "\n",
       "    .dataframe tbody tr th {\n",
       "        vertical-align: top;\n",
       "    }\n",
       "\n",
       "    .dataframe thead th {\n",
       "        text-align: right;\n",
       "    }\n",
       "</style>\n",
       "<table border=\"1\" class=\"dataframe\">\n",
       "  <thead>\n",
       "    <tr style=\"text-align: right;\">\n",
       "      <th></th>\n",
       "      <th>k</th>\n",
       "      <th>X_k</th>\n",
       "      <th>f(X_k)</th>\n",
       "      <th>a_k</th>\n",
       "      <th>b_k</th>\n",
       "      <th>b_k - a_k</th>\n",
       "    </tr>\n",
       "  </thead>\n",
       "  <tbody>\n",
       "    <tr>\n",
       "      <th>0</th>\n",
       "      <td>1</td>\n",
       "      <td>1.250000</td>\n",
       "      <td>0.019153</td>\n",
       "      <td>1.250000</td>\n",
       "      <td>1.300000</td>\n",
       "      <td>0.050000</td>\n",
       "    </tr>\n",
       "    <tr>\n",
       "      <th>1</th>\n",
       "      <td>2</td>\n",
       "      <td>1.275000</td>\n",
       "      <td>-0.054585</td>\n",
       "      <td>1.250000</td>\n",
       "      <td>1.275000</td>\n",
       "      <td>0.025000</td>\n",
       "    </tr>\n",
       "    <tr>\n",
       "      <th>2</th>\n",
       "      <td>3</td>\n",
       "      <td>1.262500</td>\n",
       "      <td>-0.017225</td>\n",
       "      <td>1.250000</td>\n",
       "      <td>1.262500</td>\n",
       "      <td>0.012500</td>\n",
       "    </tr>\n",
       "    <tr>\n",
       "      <th>3</th>\n",
       "      <td>4</td>\n",
       "      <td>1.256250</td>\n",
       "      <td>0.001087</td>\n",
       "      <td>1.256250</td>\n",
       "      <td>1.262500</td>\n",
       "      <td>0.006250</td>\n",
       "    </tr>\n",
       "    <tr>\n",
       "      <th>4</th>\n",
       "      <td>5</td>\n",
       "      <td>1.259375</td>\n",
       "      <td>-0.008038</td>\n",
       "      <td>1.256250</td>\n",
       "      <td>1.259375</td>\n",
       "      <td>0.003125</td>\n",
       "    </tr>\n",
       "    <tr>\n",
       "      <th>5</th>\n",
       "      <td>6</td>\n",
       "      <td>1.257812</td>\n",
       "      <td>-0.003468</td>\n",
       "      <td>1.256250</td>\n",
       "      <td>1.257812</td>\n",
       "      <td>0.001562</td>\n",
       "    </tr>\n",
       "    <tr>\n",
       "      <th>6</th>\n",
       "      <td>7</td>\n",
       "      <td>1.257031</td>\n",
       "      <td>-0.001189</td>\n",
       "      <td>1.256250</td>\n",
       "      <td>1.257031</td>\n",
       "      <td>0.000781</td>\n",
       "    </tr>\n",
       "    <tr>\n",
       "      <th>7</th>\n",
       "      <td>8</td>\n",
       "      <td>1.256641</td>\n",
       "      <td>-0.000050</td>\n",
       "      <td>1.256250</td>\n",
       "      <td>1.256641</td>\n",
       "      <td>0.000391</td>\n",
       "    </tr>\n",
       "    <tr>\n",
       "      <th>8</th>\n",
       "      <td>9</td>\n",
       "      <td>1.256445</td>\n",
       "      <td>0.000518</td>\n",
       "      <td>1.256445</td>\n",
       "      <td>1.256641</td>\n",
       "      <td>0.000195</td>\n",
       "    </tr>\n",
       "    <tr>\n",
       "      <th>9</th>\n",
       "      <td>10</td>\n",
       "      <td>1.256543</td>\n",
       "      <td>0.000234</td>\n",
       "      <td>1.256543</td>\n",
       "      <td>1.256641</td>\n",
       "      <td>0.000098</td>\n",
       "    </tr>\n",
       "    <tr>\n",
       "      <th>10</th>\n",
       "      <td>11</td>\n",
       "      <td>1.256592</td>\n",
       "      <td>0.000092</td>\n",
       "      <td>1.256592</td>\n",
       "      <td>1.256641</td>\n",
       "      <td>0.000049</td>\n",
       "    </tr>\n",
       "    <tr>\n",
       "      <th>11</th>\n",
       "      <td>12</td>\n",
       "      <td>1.256616</td>\n",
       "      <td>0.000021</td>\n",
       "      <td>1.256616</td>\n",
       "      <td>1.256641</td>\n",
       "      <td>0.000024</td>\n",
       "    </tr>\n",
       "    <tr>\n",
       "      <th>12</th>\n",
       "      <td>13</td>\n",
       "      <td>1.256628</td>\n",
       "      <td>-0.000015</td>\n",
       "      <td>1.256616</td>\n",
       "      <td>1.256628</td>\n",
       "      <td>0.000012</td>\n",
       "    </tr>\n",
       "    <tr>\n",
       "      <th>13</th>\n",
       "      <td>14</td>\n",
       "      <td>1.256622</td>\n",
       "      <td>0.000003</td>\n",
       "      <td>1.256622</td>\n",
       "      <td>1.256628</td>\n",
       "      <td>0.000006</td>\n",
       "    </tr>\n",
       "  </tbody>\n",
       "</table>\n",
       "</div>"
      ],
      "text/plain": [
       "     k       X_k    f(X_k)       a_k       b_k  b_k - a_k\n",
       "0    1  1.250000  0.019153  1.250000  1.300000   0.050000\n",
       "1    2  1.275000 -0.054585  1.250000  1.275000   0.025000\n",
       "2    3  1.262500 -0.017225  1.250000  1.262500   0.012500\n",
       "3    4  1.256250  0.001087  1.256250  1.262500   0.006250\n",
       "4    5  1.259375 -0.008038  1.256250  1.259375   0.003125\n",
       "5    6  1.257812 -0.003468  1.256250  1.257812   0.001562\n",
       "6    7  1.257031 -0.001189  1.256250  1.257031   0.000781\n",
       "7    8  1.256641 -0.000050  1.256250  1.256641   0.000391\n",
       "8    9  1.256445  0.000518  1.256445  1.256641   0.000195\n",
       "9   10  1.256543  0.000234  1.256543  1.256641   0.000098\n",
       "10  11  1.256592  0.000092  1.256592  1.256641   0.000049\n",
       "11  12  1.256616  0.000021  1.256616  1.256641   0.000024\n",
       "12  13  1.256628 -0.000015  1.256616  1.256628   0.000012\n",
       "13  14  1.256622  0.000003  1.256622  1.256628   0.000006"
      ]
     },
     "execution_count": 30,
     "metadata": {},
     "output_type": "execute_result"
    }
   ],
   "source": [
    "bisseccao(fb,1.2,1.3,0.00001)[2]"
   ]
  },
  {
   "cell_type": "markdown",
   "id": "4c40221f",
   "metadata": {},
   "source": [
    " - 2. Encontre o número máximo de iterações necessário para obter, com uma precisão de 10^−3, a solução de \n",
    " \n",
    " $x^3 + x − 4 = 0$ que se encontra no intervalo [1; 2]. Encontre um valor aproximado para a raiz com esse grau de precisão."
   ]
  },
  {
   "cell_type": "markdown",
   "id": "8c17e24f",
   "metadata": {},
   "source": [
    "*Pelo método da bissecção*"
   ]
  },
  {
   "cell_type": "code",
   "execution_count": 31,
   "id": "ce9e746d",
   "metadata": {
    "ExecuteTime": {
     "end_time": "2023-04-26T01:16:35.417661Z",
     "start_time": "2023-04-26T01:16:35.410896Z"
    }
   },
   "outputs": [],
   "source": [
    "def fa2(x):\n",
    "    return x**3 + x - 4"
   ]
  },
  {
   "cell_type": "code",
   "execution_count": 32,
   "id": "60978e8a",
   "metadata": {
    "ExecuteTime": {
     "end_time": "2023-04-26T01:16:35.477148Z",
     "start_time": "2023-04-26T01:16:35.425175Z"
    }
   },
   "outputs": [
    {
     "data": {
      "text/html": [
       "<div>\n",
       "<style scoped>\n",
       "    .dataframe tbody tr th:only-of-type {\n",
       "        vertical-align: middle;\n",
       "    }\n",
       "\n",
       "    .dataframe tbody tr th {\n",
       "        vertical-align: top;\n",
       "    }\n",
       "\n",
       "    .dataframe thead th {\n",
       "        text-align: right;\n",
       "    }\n",
       "</style>\n",
       "<table border=\"1\" class=\"dataframe\">\n",
       "  <thead>\n",
       "    <tr style=\"text-align: right;\">\n",
       "      <th></th>\n",
       "      <th>k</th>\n",
       "      <th>X_k</th>\n",
       "      <th>f(X_k)</th>\n",
       "      <th>a_k</th>\n",
       "      <th>b_k</th>\n",
       "      <th>b_k - a_k</th>\n",
       "    </tr>\n",
       "  </thead>\n",
       "  <tbody>\n",
       "    <tr>\n",
       "      <th>0</th>\n",
       "      <td>1</td>\n",
       "      <td>1.500000</td>\n",
       "      <td>0.875000</td>\n",
       "      <td>1.000000</td>\n",
       "      <td>1.500000</td>\n",
       "      <td>0.500000</td>\n",
       "    </tr>\n",
       "    <tr>\n",
       "      <th>1</th>\n",
       "      <td>2</td>\n",
       "      <td>1.250000</td>\n",
       "      <td>-0.796875</td>\n",
       "      <td>1.250000</td>\n",
       "      <td>1.500000</td>\n",
       "      <td>0.250000</td>\n",
       "    </tr>\n",
       "    <tr>\n",
       "      <th>2</th>\n",
       "      <td>3</td>\n",
       "      <td>1.375000</td>\n",
       "      <td>-0.025391</td>\n",
       "      <td>1.375000</td>\n",
       "      <td>1.500000</td>\n",
       "      <td>0.125000</td>\n",
       "    </tr>\n",
       "    <tr>\n",
       "      <th>3</th>\n",
       "      <td>4</td>\n",
       "      <td>1.437500</td>\n",
       "      <td>0.407959</td>\n",
       "      <td>1.375000</td>\n",
       "      <td>1.437500</td>\n",
       "      <td>0.062500</td>\n",
       "    </tr>\n",
       "    <tr>\n",
       "      <th>4</th>\n",
       "      <td>5</td>\n",
       "      <td>1.406250</td>\n",
       "      <td>0.187164</td>\n",
       "      <td>1.375000</td>\n",
       "      <td>1.406250</td>\n",
       "      <td>0.031250</td>\n",
       "    </tr>\n",
       "    <tr>\n",
       "      <th>5</th>\n",
       "      <td>6</td>\n",
       "      <td>1.390625</td>\n",
       "      <td>0.079868</td>\n",
       "      <td>1.375000</td>\n",
       "      <td>1.390625</td>\n",
       "      <td>0.015625</td>\n",
       "    </tr>\n",
       "    <tr>\n",
       "      <th>6</th>\n",
       "      <td>7</td>\n",
       "      <td>1.382812</td>\n",
       "      <td>0.026986</td>\n",
       "      <td>1.375000</td>\n",
       "      <td>1.382812</td>\n",
       "      <td>0.007812</td>\n",
       "    </tr>\n",
       "    <tr>\n",
       "      <th>7</th>\n",
       "      <td>8</td>\n",
       "      <td>1.378906</td>\n",
       "      <td>0.000734</td>\n",
       "      <td>1.375000</td>\n",
       "      <td>1.378906</td>\n",
       "      <td>0.003906</td>\n",
       "    </tr>\n",
       "    <tr>\n",
       "      <th>8</th>\n",
       "      <td>9</td>\n",
       "      <td>1.376953</td>\n",
       "      <td>-0.012344</td>\n",
       "      <td>1.376953</td>\n",
       "      <td>1.378906</td>\n",
       "      <td>0.001953</td>\n",
       "    </tr>\n",
       "    <tr>\n",
       "      <th>9</th>\n",
       "      <td>10</td>\n",
       "      <td>1.377930</td>\n",
       "      <td>-0.005809</td>\n",
       "      <td>1.377930</td>\n",
       "      <td>1.378906</td>\n",
       "      <td>0.000977</td>\n",
       "    </tr>\n",
       "  </tbody>\n",
       "</table>\n",
       "</div>"
      ],
      "text/plain": [
       "    k       X_k    f(X_k)       a_k       b_k  b_k - a_k\n",
       "0   1  1.500000  0.875000  1.000000  1.500000   0.500000\n",
       "1   2  1.250000 -0.796875  1.250000  1.500000   0.250000\n",
       "2   3  1.375000 -0.025391  1.375000  1.500000   0.125000\n",
       "3   4  1.437500  0.407959  1.375000  1.437500   0.062500\n",
       "4   5  1.406250  0.187164  1.375000  1.406250   0.031250\n",
       "5   6  1.390625  0.079868  1.375000  1.390625   0.015625\n",
       "6   7  1.382812  0.026986  1.375000  1.382812   0.007812\n",
       "7   8  1.378906  0.000734  1.375000  1.378906   0.003906\n",
       "8   9  1.376953 -0.012344  1.376953  1.378906   0.001953\n",
       "9  10  1.377930 -0.005809  1.377930  1.378906   0.000977"
      ]
     },
     "execution_count": 32,
     "metadata": {},
     "output_type": "execute_result"
    }
   ],
   "source": [
    "bisseccao(fa2,1,2,0.001)[2]"
   ]
  },
  {
   "cell_type": "markdown",
   "id": "a870fbda",
   "metadata": {},
   "source": [
    "*Pelo método da posição falsa*"
   ]
  },
  {
   "cell_type": "code",
   "execution_count": 33,
   "id": "2d8a8204",
   "metadata": {
    "ExecuteTime": {
     "end_time": "2023-04-26T01:16:35.539575Z",
     "start_time": "2023-04-26T01:16:35.482641Z"
    }
   },
   "outputs": [
    {
     "data": {
      "text/html": [
       "<div>\n",
       "<style scoped>\n",
       "    .dataframe tbody tr th:only-of-type {\n",
       "        vertical-align: middle;\n",
       "    }\n",
       "\n",
       "    .dataframe tbody tr th {\n",
       "        vertical-align: top;\n",
       "    }\n",
       "\n",
       "    .dataframe thead th {\n",
       "        text-align: right;\n",
       "    }\n",
       "</style>\n",
       "<table border=\"1\" class=\"dataframe\">\n",
       "  <thead>\n",
       "    <tr style=\"text-align: right;\">\n",
       "      <th></th>\n",
       "      <th>k</th>\n",
       "      <th>X_k</th>\n",
       "      <th>f(X_k)</th>\n",
       "      <th>a_k</th>\n",
       "      <th>f(ak)</th>\n",
       "      <th>b_k</th>\n",
       "      <th>f(bk)</th>\n",
       "      <th>b_k - a_k</th>\n",
       "    </tr>\n",
       "  </thead>\n",
       "  <tbody>\n",
       "    <tr>\n",
       "      <th>0</th>\n",
       "      <td>1</td>\n",
       "      <td>1.250000</td>\n",
       "      <td>-0.796875</td>\n",
       "      <td>1.250000</td>\n",
       "      <td>-0.796875</td>\n",
       "      <td>2</td>\n",
       "      <td>6</td>\n",
       "      <td>0.750000</td>\n",
       "    </tr>\n",
       "    <tr>\n",
       "      <th>1</th>\n",
       "      <td>2</td>\n",
       "      <td>1.337931</td>\n",
       "      <td>-0.267093</td>\n",
       "      <td>1.337931</td>\n",
       "      <td>-0.267093</td>\n",
       "      <td>2</td>\n",
       "      <td>6</td>\n",
       "      <td>0.662069</td>\n",
       "    </tr>\n",
       "    <tr>\n",
       "      <th>2</th>\n",
       "      <td>3</td>\n",
       "      <td>1.366147</td>\n",
       "      <td>-0.084132</td>\n",
       "      <td>1.366147</td>\n",
       "      <td>-0.084132</td>\n",
       "      <td>2</td>\n",
       "      <td>6</td>\n",
       "      <td>0.633853</td>\n",
       "    </tr>\n",
       "    <tr>\n",
       "      <th>3</th>\n",
       "      <td>4</td>\n",
       "      <td>1.374912</td>\n",
       "      <td>-0.025976</td>\n",
       "      <td>1.374912</td>\n",
       "      <td>-0.025976</td>\n",
       "      <td>2</td>\n",
       "      <td>6</td>\n",
       "      <td>0.625088</td>\n",
       "    </tr>\n",
       "    <tr>\n",
       "      <th>4</th>\n",
       "      <td>5</td>\n",
       "      <td>1.377607</td>\n",
       "      <td>-0.007970</td>\n",
       "      <td>1.377607</td>\n",
       "      <td>-0.007970</td>\n",
       "      <td>2</td>\n",
       "      <td>6</td>\n",
       "      <td>0.622393</td>\n",
       "    </tr>\n",
       "    <tr>\n",
       "      <th>5</th>\n",
       "      <td>6</td>\n",
       "      <td>1.378432</td>\n",
       "      <td>-0.002441</td>\n",
       "      <td>1.378432</td>\n",
       "      <td>-0.002441</td>\n",
       "      <td>2</td>\n",
       "      <td>6</td>\n",
       "      <td>0.621568</td>\n",
       "    </tr>\n",
       "    <tr>\n",
       "      <th>6</th>\n",
       "      <td>7</td>\n",
       "      <td>1.378685</td>\n",
       "      <td>-0.000747</td>\n",
       "      <td>1.378685</td>\n",
       "      <td>-0.000747</td>\n",
       "      <td>2</td>\n",
       "      <td>6</td>\n",
       "      <td>0.621315</td>\n",
       "    </tr>\n",
       "  </tbody>\n",
       "</table>\n",
       "</div>"
      ],
      "text/plain": [
       "   k       X_k    f(X_k)       a_k     f(ak)  b_k  f(bk)  b_k - a_k\n",
       "0  1  1.250000 -0.796875  1.250000 -0.796875    2      6   0.750000\n",
       "1  2  1.337931 -0.267093  1.337931 -0.267093    2      6   0.662069\n",
       "2  3  1.366147 -0.084132  1.366147 -0.084132    2      6   0.633853\n",
       "3  4  1.374912 -0.025976  1.374912 -0.025976    2      6   0.625088\n",
       "4  5  1.377607 -0.007970  1.377607 -0.007970    2      6   0.622393\n",
       "5  6  1.378432 -0.002441  1.378432 -0.002441    2      6   0.621568\n",
       "6  7  1.378685 -0.000747  1.378685 -0.000747    2      6   0.621315"
      ]
     },
     "execution_count": 33,
     "metadata": {},
     "output_type": "execute_result"
    }
   ],
   "source": [
    "posicao_falsa(fa2,1,2,0.001)"
   ]
  },
  {
   "cell_type": "markdown",
   "id": "1fc88d06",
   "metadata": {},
   "source": [
    " - Método do ponto fixo (Newton e Secante):"
   ]
  },
  {
   "cell_type": "code",
   "execution_count": 34,
   "id": "405ce507",
   "metadata": {
    "ExecuteTime": {
     "end_time": "2023-04-26T01:16:35.569962Z",
     "start_time": "2023-04-26T01:16:35.546007Z"
    }
   },
   "outputs": [],
   "source": [
    "def ponto_fixo_newton(funcao, derivada, x0, tolerancia, max_iteracoes=100):\n",
    "    \"\"\"\n",
    "    Encontra o zero de uma função utilizando o método do ponto fixo de Newton.\n",
    "    \n",
    "    Args:\n",
    "        funcao: função que se deseja encontrar o zero\n",
    "        derivada: derivada da função que se deseja encontrar o zero\n",
    "        x0: estimativa inicial\n",
    "        tolerancia: tolerância do erro absoluto\n",
    "        max_iteracoes: número máximo de iterações\n",
    "    \n",
    "    Returns:\n",
    "        Tabela com todas as iterações.\n",
    "    \"\"\"\n",
    "    \n",
    "    df = pd.DataFrame(columns=['k','X_k','f(X_k)','f_deriv(X_k)']) #Tabela armazena informações\n",
    "    k=[]\n",
    "    x_k=[]\n",
    "    fx=[]\n",
    "    fxx=[]\n",
    "        \n",
    "    cont = 0\n",
    "    x = x0\n",
    "    \n",
    "    x_next = x - funcao(x) / derivada(x) #definindo x_next\n",
    "    \n",
    "    while abs(funcao(x)) > tolerancia and cont < max_iteracoes:\n",
    "        \n",
    "        x_next = x - funcao(x) / derivada(x)\n",
    "        \n",
    "        x = x_next\n",
    "        cont += 1\n",
    "        \n",
    "        k.append(cont)\n",
    "        x_k.append(x_next)\n",
    "        fx.append(funcao(x))\n",
    "        fxx.append(derivada(x))\n",
    "        \n",
    "    df['k'] = k\n",
    "    df['X_k'] = x_k\n",
    "    df['f(X_k)'] = fx\n",
    "    df['f_deriv(X_k)'] = fxx\n",
    "    \n",
    "    return df\n",
    "    \n",
    "    raise ValueError(f'O método não convergiu em {max_iteracoes} iterações.')"
   ]
  },
  {
   "cell_type": "code",
   "execution_count": 35,
   "id": "d60453c1",
   "metadata": {
    "ExecuteTime": {
     "end_time": "2023-04-26T01:16:35.608388Z",
     "start_time": "2023-04-26T01:16:35.578645Z"
    },
    "code_folding": []
   },
   "outputs": [],
   "source": [
    "## Tentativa de mesclar Newton com Secante\n",
    "def secante(funcao, x0, x1, tolerancia, max_iteracoes=100):\n",
    "    df = pd.DataFrame(columns=['k','X_k','f(X_k)']) #Tabela armazena informações\n",
    "    k=[]\n",
    "    x_k=[]\n",
    "    fx=[]\n",
    "        \n",
    "    cont = 0\n",
    "    \n",
    "    fx0 = funcao(x0)\n",
    "    fx1 = funcao(x1)\n",
    "    x2 = x1 - fx1 * (x1 - x0) / (fx1 - fx0)\n",
    "    \n",
    "    k.append(cont)\n",
    "    x_k.append(x0)\n",
    "    fx.append(fx0)\n",
    "    x_k.append(x1)\n",
    "    fx.append(fx1)\n",
    "    \n",
    "    cont = cont + 1\n",
    "    \n",
    "    k.append(cont)\n",
    "    \n",
    "    while abs(fx1) > tolerancia and cont < max_iteracoes:\n",
    "        \n",
    "        fx0 = funcao(x0)\n",
    "        fx1 = funcao(x1)\n",
    "        x2 = x1 - fx1 * (x1 - x0) / (fx1 - fx0)\n",
    "        \n",
    "        x0 = x1\n",
    "        x1 = x2\n",
    "        fx1 = funcao(x1)\n",
    "        cont = cont+1\n",
    "        \n",
    "        k.append(cont)\n",
    "        x_k.append(x1)\n",
    "        fx.append(fx1)\n",
    "    \n",
    "    df['k'] = k\n",
    "    df['X_k'] = x_k\n",
    "    df['f(X_k)'] = fx\n",
    "    \n",
    "    return df\n",
    "\n",
    "    raise Exception(\"O método da secante não convergiu.\")\n",
    "\n",
    "def newton(funcao, derivada, x0, tolerancia, max_iteracoes=100):\n",
    "    for i in range(max_iteracoes):\n",
    "        fx = funcao(x0)\n",
    "        fpx = derivada(x0)\n",
    "        x1 = x0 - fx / fpx\n",
    "        \n",
    "        if abs(x1 - x0) < tolerancia:\n",
    "            return x1\n",
    "        \n",
    "        x0 = x1\n",
    "    \n",
    "    # Se o método do ponto fixo de Newton diverge, usar o método da secante\n",
    "    return secante(funcao, x0, x1, tolerancia, max_iteracoes)"
   ]
  },
  {
   "cell_type": "code",
   "execution_count": 36,
   "id": "3cd0ccd8",
   "metadata": {
    "ExecuteTime": {
     "end_time": "2023-04-26T01:16:35.631312Z",
     "start_time": "2023-04-26T01:16:35.618394Z"
    }
   },
   "outputs": [],
   "source": [
    "def phi(x):\n",
    "    return (2/x**2) - 4"
   ]
  },
  {
   "cell_type": "code",
   "execution_count": 37,
   "id": "04b761a0",
   "metadata": {
    "ExecuteTime": {
     "end_time": "2023-04-26T01:16:35.648323Z",
     "start_time": "2023-04-26T01:16:35.638652Z"
    }
   },
   "outputs": [],
   "source": [
    "def derivada_phi(x):\n",
    "    return -4/x**3"
   ]
  },
  {
   "cell_type": "code",
   "execution_count": 38,
   "id": "7bf87651",
   "metadata": {
    "ExecuteTime": {
     "end_time": "2023-04-26T01:16:35.667152Z",
     "start_time": "2023-04-26T01:16:35.658138Z"
    }
   },
   "outputs": [],
   "source": [
    "def derivada_funcao(x):\n",
    "    return 3*x**2 + 8*x"
   ]
  },
  {
   "cell_type": "code",
   "execution_count": 39,
   "id": "4479d74f",
   "metadata": {
    "ExecuteTime": {
     "end_time": "2023-04-26T01:16:35.721208Z",
     "start_time": "2023-04-26T01:16:35.673554Z"
    }
   },
   "outputs": [
    {
     "data": {
      "text/html": [
       "<div>\n",
       "<style scoped>\n",
       "    .dataframe tbody tr th:only-of-type {\n",
       "        vertical-align: middle;\n",
       "    }\n",
       "\n",
       "    .dataframe tbody tr th {\n",
       "        vertical-align: top;\n",
       "    }\n",
       "\n",
       "    .dataframe thead th {\n",
       "        text-align: right;\n",
       "    }\n",
       "</style>\n",
       "<table border=\"1\" class=\"dataframe\">\n",
       "  <thead>\n",
       "    <tr style=\"text-align: right;\">\n",
       "      <th></th>\n",
       "      <th>k</th>\n",
       "      <th>X_k</th>\n",
       "      <th>f(X_k)</th>\n",
       "      <th>f_deriv(X_k)</th>\n",
       "    </tr>\n",
       "  </thead>\n",
       "  <tbody>\n",
       "    <tr>\n",
       "      <th>0</th>\n",
       "      <td>1</td>\n",
       "      <td>-0.500000</td>\n",
       "      <td>-1.125000</td>\n",
       "      <td>-3.250000</td>\n",
       "    </tr>\n",
       "    <tr>\n",
       "      <th>1</th>\n",
       "      <td>2</td>\n",
       "      <td>-0.846154</td>\n",
       "      <td>0.258079</td>\n",
       "      <td>-4.621302</td>\n",
       "    </tr>\n",
       "    <tr>\n",
       "      <th>2</th>\n",
       "      <td>3</td>\n",
       "      <td>-0.790308</td>\n",
       "      <td>0.004732</td>\n",
       "      <td>-4.448705</td>\n",
       "    </tr>\n",
       "  </tbody>\n",
       "</table>\n",
       "</div>"
      ],
      "text/plain": [
       "   k       X_k    f(X_k)  f_deriv(X_k)\n",
       "0  1 -0.500000 -1.125000     -3.250000\n",
       "1  2 -0.846154  0.258079     -4.621302\n",
       "2  3 -0.790308  0.004732     -4.448705"
      ]
     },
     "execution_count": 39,
     "metadata": {},
     "output_type": "execute_result"
    }
   ],
   "source": [
    "#newton(funcao, derivada_funcao, 2, 0.01)\n",
    "ponto_fixo_newton(funcao,derivada_funcao,-2,0.01)"
   ]
  },
  {
   "cell_type": "code",
   "execution_count": 40,
   "id": "dab9c3b8",
   "metadata": {
    "ExecuteTime": {
     "end_time": "2023-04-26T01:16:35.763081Z",
     "start_time": "2023-04-26T01:16:35.728362Z"
    }
   },
   "outputs": [
    {
     "data": {
      "text/html": [
       "<div>\n",
       "<style scoped>\n",
       "    .dataframe tbody tr th:only-of-type {\n",
       "        vertical-align: middle;\n",
       "    }\n",
       "\n",
       "    .dataframe tbody tr th {\n",
       "        vertical-align: top;\n",
       "    }\n",
       "\n",
       "    .dataframe thead th {\n",
       "        text-align: right;\n",
       "    }\n",
       "</style>\n",
       "<table border=\"1\" class=\"dataframe\">\n",
       "  <thead>\n",
       "    <tr style=\"text-align: right;\">\n",
       "      <th></th>\n",
       "      <th>k</th>\n",
       "      <th>X_k</th>\n",
       "      <th>f(X_k)</th>\n",
       "    </tr>\n",
       "  </thead>\n",
       "  <tbody>\n",
       "    <tr>\n",
       "      <th>0</th>\n",
       "      <td>0</td>\n",
       "      <td>-2.000000</td>\n",
       "      <td>6.000000</td>\n",
       "    </tr>\n",
       "    <tr>\n",
       "      <th>1</th>\n",
       "      <td>1</td>\n",
       "      <td>0.000000</td>\n",
       "      <td>-2.000000</td>\n",
       "    </tr>\n",
       "    <tr>\n",
       "      <th>2</th>\n",
       "      <td>2</td>\n",
       "      <td>-0.500000</td>\n",
       "      <td>-1.125000</td>\n",
       "    </tr>\n",
       "    <tr>\n",
       "      <th>3</th>\n",
       "      <td>3</td>\n",
       "      <td>-1.142857</td>\n",
       "      <td>1.731778</td>\n",
       "    </tr>\n",
       "    <tr>\n",
       "      <th>4</th>\n",
       "      <td>4</td>\n",
       "      <td>-0.753157</td>\n",
       "      <td>-0.158242</td>\n",
       "    </tr>\n",
       "    <tr>\n",
       "      <th>5</th>\n",
       "      <td>5</td>\n",
       "      <td>-0.785785</td>\n",
       "      <td>-0.015358</td>\n",
       "    </tr>\n",
       "    <tr>\n",
       "      <th>6</th>\n",
       "      <td>6</td>\n",
       "      <td>-0.789292</td>\n",
       "      <td>0.000212</td>\n",
       "    </tr>\n",
       "  </tbody>\n",
       "</table>\n",
       "</div>"
      ],
      "text/plain": [
       "   k       X_k    f(X_k)\n",
       "0  0 -2.000000  6.000000\n",
       "1  1  0.000000 -2.000000\n",
       "2  2 -0.500000 -1.125000\n",
       "3  3 -1.142857  1.731778\n",
       "4  4 -0.753157 -0.158242\n",
       "5  5 -0.785785 -0.015358\n",
       "6  6 -0.789292  0.000212"
      ]
     },
     "execution_count": 40,
     "metadata": {},
     "output_type": "execute_result"
    }
   ],
   "source": [
    "secante(funcao, -2, 0, 0.01)"
   ]
  },
  {
   "cell_type": "markdown",
   "id": "a273972d",
   "metadata": {},
   "source": [
    "### Questão 3 da Lista 2:\n",
    "Seja $f(x) = x^2 − 6$. Com $x_0 = 3$, ache $x_3$ usando:\n",
    "\n",
    "**(a)** Método Secante, com $x_1 = 2$.\n",
    "**(b)** Método de Newton. \n",
    "\n",
    "Qual método dá o resultado para $x_3$ mais próximo de $\\sqrt{3}$?"
   ]
  },
  {
   "cell_type": "code",
   "execution_count": 41,
   "id": "1467d178",
   "metadata": {
    "ExecuteTime": {
     "end_time": "2023-04-26T01:16:35.777173Z",
     "start_time": "2023-04-26T01:16:35.770400Z"
    }
   },
   "outputs": [],
   "source": [
    "def f3(x):\n",
    "    return x**2 - 6"
   ]
  },
  {
   "cell_type": "code",
   "execution_count": 42,
   "id": "c56184b7",
   "metadata": {
    "ExecuteTime": {
     "end_time": "2023-04-26T01:16:35.828578Z",
     "start_time": "2023-04-26T01:16:35.784826Z"
    }
   },
   "outputs": [
    {
     "data": {
      "text/html": [
       "<div>\n",
       "<style scoped>\n",
       "    .dataframe tbody tr th:only-of-type {\n",
       "        vertical-align: middle;\n",
       "    }\n",
       "\n",
       "    .dataframe tbody tr th {\n",
       "        vertical-align: top;\n",
       "    }\n",
       "\n",
       "    .dataframe thead th {\n",
       "        text-align: right;\n",
       "    }\n",
       "</style>\n",
       "<table border=\"1\" class=\"dataframe\">\n",
       "  <thead>\n",
       "    <tr style=\"text-align: right;\">\n",
       "      <th></th>\n",
       "      <th>k</th>\n",
       "      <th>X_k</th>\n",
       "      <th>f(X_k)</th>\n",
       "    </tr>\n",
       "  </thead>\n",
       "  <tbody>\n",
       "    <tr>\n",
       "      <th>0</th>\n",
       "      <td>0</td>\n",
       "      <td>3.000000</td>\n",
       "      <td>3.000000</td>\n",
       "    </tr>\n",
       "    <tr>\n",
       "      <th>1</th>\n",
       "      <td>1</td>\n",
       "      <td>2.000000</td>\n",
       "      <td>-2.000000</td>\n",
       "    </tr>\n",
       "    <tr>\n",
       "      <th>2</th>\n",
       "      <td>2</td>\n",
       "      <td>2.400000</td>\n",
       "      <td>-0.240000</td>\n",
       "    </tr>\n",
       "    <tr>\n",
       "      <th>3</th>\n",
       "      <td>3</td>\n",
       "      <td>2.454545</td>\n",
       "      <td>0.024793</td>\n",
       "    </tr>\n",
       "    <tr>\n",
       "      <th>4</th>\n",
       "      <td>4</td>\n",
       "      <td>2.449438</td>\n",
       "      <td>-0.000252</td>\n",
       "    </tr>\n",
       "  </tbody>\n",
       "</table>\n",
       "</div>"
      ],
      "text/plain": [
       "   k       X_k    f(X_k)\n",
       "0  0  3.000000  3.000000\n",
       "1  1  2.000000 -2.000000\n",
       "2  2  2.400000 -0.240000\n",
       "3  3  2.454545  0.024793\n",
       "4  4  2.449438 -0.000252"
      ]
     },
     "execution_count": 42,
     "metadata": {},
     "output_type": "execute_result"
    }
   ],
   "source": [
    "secante(f3,3,2,0.001)"
   ]
  },
  {
   "cell_type": "code",
   "execution_count": 43,
   "id": "674bf677",
   "metadata": {
    "ExecuteTime": {
     "end_time": "2023-04-26T01:16:35.843749Z",
     "start_time": "2023-04-26T01:16:35.834930Z"
    }
   },
   "outputs": [],
   "source": [
    "def f3_dev(x):\n",
    "    return 2*x"
   ]
  },
  {
   "cell_type": "code",
   "execution_count": 44,
   "id": "9b0b9790",
   "metadata": {
    "ExecuteTime": {
     "end_time": "2023-04-26T01:16:35.890916Z",
     "start_time": "2023-04-26T01:16:35.852710Z"
    },
    "scrolled": true
   },
   "outputs": [
    {
     "data": {
      "text/html": [
       "<div>\n",
       "<style scoped>\n",
       "    .dataframe tbody tr th:only-of-type {\n",
       "        vertical-align: middle;\n",
       "    }\n",
       "\n",
       "    .dataframe tbody tr th {\n",
       "        vertical-align: top;\n",
       "    }\n",
       "\n",
       "    .dataframe thead th {\n",
       "        text-align: right;\n",
       "    }\n",
       "</style>\n",
       "<table border=\"1\" class=\"dataframe\">\n",
       "  <thead>\n",
       "    <tr style=\"text-align: right;\">\n",
       "      <th></th>\n",
       "      <th>k</th>\n",
       "      <th>X_k</th>\n",
       "      <th>f(X_k)</th>\n",
       "      <th>f_deriv(X_k)</th>\n",
       "    </tr>\n",
       "  </thead>\n",
       "  <tbody>\n",
       "    <tr>\n",
       "      <th>0</th>\n",
       "      <td>1</td>\n",
       "      <td>2.50000</td>\n",
       "      <td>2.500000e-01</td>\n",
       "      <td>5.00000</td>\n",
       "    </tr>\n",
       "    <tr>\n",
       "      <th>1</th>\n",
       "      <td>2</td>\n",
       "      <td>2.45000</td>\n",
       "      <td>2.500000e-03</td>\n",
       "      <td>4.90000</td>\n",
       "    </tr>\n",
       "    <tr>\n",
       "      <th>2</th>\n",
       "      <td>3</td>\n",
       "      <td>2.44949</td>\n",
       "      <td>2.603082e-07</td>\n",
       "      <td>4.89898</td>\n",
       "    </tr>\n",
       "  </tbody>\n",
       "</table>\n",
       "</div>"
      ],
      "text/plain": [
       "   k      X_k        f(X_k)  f_deriv(X_k)\n",
       "0  1  2.50000  2.500000e-01       5.00000\n",
       "1  2  2.45000  2.500000e-03       4.90000\n",
       "2  3  2.44949  2.603082e-07       4.89898"
      ]
     },
     "execution_count": 44,
     "metadata": {},
     "output_type": "execute_result"
    }
   ],
   "source": [
    "ponto_fixo_newton(f3,f3_dev,3,0.001)"
   ]
  },
  {
   "cell_type": "code",
   "execution_count": 45,
   "id": "db1ce628",
   "metadata": {
    "ExecuteTime": {
     "end_time": "2023-04-26T01:16:36.537941Z",
     "start_time": "2023-04-26T01:16:35.897588Z"
    }
   },
   "outputs": [
    {
     "data": {
      "image/png": "[encoded data removed]",
      "text/plain": [
       "<Figure size 432x288 with 1 Axes>"
      ]
     },
     "metadata": {
      "needs_background": "dark"
     },
     "output_type": "display_data"
    }
   ],
   "source": [
    "y = []\n",
    "for i in range(-10,10):\n",
    "    y.append(f3(i))\n",
    "\n",
    "plt.style.use('cyberpunk')\n",
    "plt.plot(list(range(-10,10)),y)\n",
    "plt.axhline(0, color='k') # y = zero\n",
    "plt.axvline(2.44, color='r') #encontrado pelo método secante e newton\n",
    "plt.axvline(np.sqrt(3), color='m') #raiz de 3\n",
    "plt.legend(['Função'])\n",
    "plt.show()"
   ]
  },
  {
   "cell_type": "code",
   "execution_count": 46,
   "id": "d8d2c7dc",
   "metadata": {
    "ExecuteTime": {
     "end_time": "2023-04-26T01:16:36.573351Z",
     "start_time": "2023-04-26T01:16:36.551603Z"
    }
   },
   "outputs": [
    {
     "name": "stdout",
     "output_type": "stream",
     "text": [
      "0.7174391924311228\n",
      "0.7173871924311226\n"
     ]
    }
   ],
   "source": [
    "print(abs(np.sqrt(3) - 2.44949)) #newton\n",
    "print(abs(np.sqrt(3) - 2.449438)) #Secante"
   ]
  },
  {
   "cell_type": "markdown",
   "id": "7c85aa72",
   "metadata": {},
   "source": [
    "### Prova 2\n",
    "\n",
    "$f(x) = [(x+2)*\\sin(x)] + \\cos(x) $ Possui 4 zeros entre $ [-8;+8] $.\n",
    "\n",
    "## 1. a) obter zero da funcao f(x) entre -8 e -4:\n",
    "$x_o = -8 $ e $x_1 = -4 $ para tolerancia $\\epsilon = 10^{-2}$ **(Método Secante)**\n",
    "\n"
   ]
  },
  {
   "cell_type": "code",
   "execution_count": 47,
   "id": "41ed2d01",
   "metadata": {
    "ExecuteTime": {
     "end_time": "2023-04-26T01:16:36.600685Z",
     "start_time": "2023-04-26T01:16:36.583245Z"
    }
   },
   "outputs": [],
   "source": [
    "def f_prova(x):\n",
    "    return ((x+2)*np.sin(x)) + np.cos(x)"
   ]
  },
  {
   "cell_type": "code",
   "execution_count": 48,
   "id": "f01ee282",
   "metadata": {
    "ExecuteTime": {
     "end_time": "2023-04-26T01:16:37.276205Z",
     "start_time": "2023-04-26T01:16:36.609737Z"
    }
   },
   "outputs": [
    {
     "data": {
      "image/png": "[encoded data removed]",
      "text/plain": [
       "<Figure size 432x288 with 1 Axes>"
      ]
     },
     "metadata": {},
     "output_type": "display_data"
    }
   ],
   "source": [
    "y = []\n",
    "for i in range(-10,10):\n",
    "    y.append(f_prova(i))\n",
    "\n",
    "plt.style.use('cyberpunk')\n",
    "plt.title(\"Gráfico da função Av2\")\n",
    "plt.plot(list(range(-10,10)),y)\n",
    "plt.axhline(0, color='k') # y = zero\n",
    "#plt.plot(x2,y2,'rx',alpha = 0.9)\n",
    "plt.legend(['Função'])\n",
    "plt.show()"
   ]
  },
  {
   "cell_type": "code",
   "execution_count": 49,
   "id": "d8436152",
   "metadata": {
    "ExecuteTime": {
     "end_time": "2023-04-26T01:16:37.313850Z",
     "start_time": "2023-04-26T01:16:37.285264Z"
    },
    "scrolled": true
   },
   "outputs": [
    {
     "data": {
      "text/html": [
       "<div>\n",
       "<style scoped>\n",
       "    .dataframe tbody tr th:only-of-type {\n",
       "        vertical-align: middle;\n",
       "    }\n",
       "\n",
       "    .dataframe tbody tr th {\n",
       "        vertical-align: top;\n",
       "    }\n",
       "\n",
       "    .dataframe thead th {\n",
       "        text-align: right;\n",
       "    }\n",
       "</style>\n",
       "<table border=\"1\" class=\"dataframe\">\n",
       "  <thead>\n",
       "    <tr style=\"text-align: right;\">\n",
       "      <th></th>\n",
       "      <th>k</th>\n",
       "      <th>X_k</th>\n",
       "      <th>f(X_k)</th>\n",
       "    </tr>\n",
       "  </thead>\n",
       "  <tbody>\n",
       "    <tr>\n",
       "      <th>0</th>\n",
       "      <td>0</td>\n",
       "      <td>-8.000000</td>\n",
       "      <td>5.790649</td>\n",
       "    </tr>\n",
       "    <tr>\n",
       "      <th>1</th>\n",
       "      <td>1</td>\n",
       "      <td>-4.000000</td>\n",
       "      <td>-2.167249</td>\n",
       "    </tr>\n",
       "    <tr>\n",
       "      <th>2</th>\n",
       "      <td>2</td>\n",
       "      <td>-5.089357</td>\n",
       "      <td>-2.504334</td>\n",
       "    </tr>\n",
       "    <tr>\n",
       "      <th>3</th>\n",
       "      <td>3</td>\n",
       "      <td>3.003881</td>\n",
       "      <td>-0.303614</td>\n",
       "    </tr>\n",
       "    <tr>\n",
       "      <th>4</th>\n",
       "      <td>4</td>\n",
       "      <td>4.120432</td>\n",
       "      <td>-5.637030</td>\n",
       "    </tr>\n",
       "    <tr>\n",
       "      <th>5</th>\n",
       "      <td>5</td>\n",
       "      <td>2.940319</td>\n",
       "      <td>0.007843</td>\n",
       "    </tr>\n",
       "  </tbody>\n",
       "</table>\n",
       "</div>"
      ],
      "text/plain": [
       "   k       X_k    f(X_k)\n",
       "0  0 -8.000000  5.790649\n",
       "1  1 -4.000000 -2.167249\n",
       "2  2 -5.089357 -2.504334\n",
       "3  3  3.003881 -0.303614\n",
       "4  4  4.120432 -5.637030\n",
       "5  5  2.940319  0.007843"
      ]
     },
     "execution_count": 49,
     "metadata": {},
     "output_type": "execute_result"
    }
   ],
   "source": [
    "secante(f_prova,-8,-4,0.01)"
   ]
  },
  {
   "cell_type": "code",
   "execution_count": 50,
   "id": "620e69a9",
   "metadata": {
    "ExecuteTime": {
     "end_time": "2023-04-26T01:16:37.366104Z",
     "start_time": "2023-04-26T01:16:37.320157Z"
    }
   },
   "outputs": [
    {
     "data": {
      "text/html": [
       "<div>\n",
       "<style scoped>\n",
       "    .dataframe tbody tr th:only-of-type {\n",
       "        vertical-align: middle;\n",
       "    }\n",
       "\n",
       "    .dataframe tbody tr th {\n",
       "        vertical-align: top;\n",
       "    }\n",
       "\n",
       "    .dataframe thead th {\n",
       "        text-align: right;\n",
       "    }\n",
       "</style>\n",
       "<table border=\"1\" class=\"dataframe\">\n",
       "  <thead>\n",
       "    <tr style=\"text-align: right;\">\n",
       "      <th></th>\n",
       "      <th>k</th>\n",
       "      <th>X_k</th>\n",
       "      <th>f(X_k)</th>\n",
       "      <th>a_k</th>\n",
       "      <th>b_k</th>\n",
       "      <th>b_k - a_k</th>\n",
       "    </tr>\n",
       "  </thead>\n",
       "  <tbody>\n",
       "    <tr>\n",
       "      <th>0</th>\n",
       "      <td>1</td>\n",
       "      <td>-6.000000</td>\n",
       "      <td>-0.157492</td>\n",
       "      <td>-8.000000</td>\n",
       "      <td>-6.000000</td>\n",
       "      <td>2.000000</td>\n",
       "    </tr>\n",
       "    <tr>\n",
       "      <th>1</th>\n",
       "      <td>2</td>\n",
       "      <td>-7.000000</td>\n",
       "      <td>4.038835</td>\n",
       "      <td>-7.000000</td>\n",
       "      <td>-6.000000</td>\n",
       "      <td>1.000000</td>\n",
       "    </tr>\n",
       "    <tr>\n",
       "      <th>2</th>\n",
       "      <td>3</td>\n",
       "      <td>-6.500000</td>\n",
       "      <td>1.944628</td>\n",
       "      <td>-6.500000</td>\n",
       "      <td>-6.000000</td>\n",
       "      <td>0.500000</td>\n",
       "    </tr>\n",
       "    <tr>\n",
       "      <th>3</th>\n",
       "      <td>4</td>\n",
       "      <td>-6.250000</td>\n",
       "      <td>0.858438</td>\n",
       "      <td>-6.250000</td>\n",
       "      <td>-6.000000</td>\n",
       "      <td>0.250000</td>\n",
       "    </tr>\n",
       "    <tr>\n",
       "      <th>4</th>\n",
       "      <td>5</td>\n",
       "      <td>-6.125000</td>\n",
       "      <td>0.337718</td>\n",
       "      <td>-6.125000</td>\n",
       "      <td>-6.000000</td>\n",
       "      <td>0.125000</td>\n",
       "    </tr>\n",
       "    <tr>\n",
       "      <th>5</th>\n",
       "      <td>6</td>\n",
       "      <td>-6.062500</td>\n",
       "      <td>0.086473</td>\n",
       "      <td>-6.062500</td>\n",
       "      <td>-6.000000</td>\n",
       "      <td>0.062500</td>\n",
       "    </tr>\n",
       "    <tr>\n",
       "      <th>6</th>\n",
       "      <td>7</td>\n",
       "      <td>-6.031250</td>\n",
       "      <td>-0.036473</td>\n",
       "      <td>-6.062500</td>\n",
       "      <td>-6.031250</td>\n",
       "      <td>0.031250</td>\n",
       "    </tr>\n",
       "    <tr>\n",
       "      <th>7</th>\n",
       "      <td>8</td>\n",
       "      <td>-6.046875</td>\n",
       "      <td>0.024766</td>\n",
       "      <td>-6.046875</td>\n",
       "      <td>-6.031250</td>\n",
       "      <td>0.015625</td>\n",
       "    </tr>\n",
       "    <tr>\n",
       "      <th>8</th>\n",
       "      <td>9</td>\n",
       "      <td>-6.039062</td>\n",
       "      <td>-0.005913</td>\n",
       "      <td>-6.046875</td>\n",
       "      <td>-6.039062</td>\n",
       "      <td>0.007812</td>\n",
       "    </tr>\n",
       "  </tbody>\n",
       "</table>\n",
       "</div>"
      ],
      "text/plain": [
       "   k       X_k    f(X_k)       a_k       b_k  b_k - a_k\n",
       "0  1 -6.000000 -0.157492 -8.000000 -6.000000   2.000000\n",
       "1  2 -7.000000  4.038835 -7.000000 -6.000000   1.000000\n",
       "2  3 -6.500000  1.944628 -6.500000 -6.000000   0.500000\n",
       "3  4 -6.250000  0.858438 -6.250000 -6.000000   0.250000\n",
       "4  5 -6.125000  0.337718 -6.125000 -6.000000   0.125000\n",
       "5  6 -6.062500  0.086473 -6.062500 -6.000000   0.062500\n",
       "6  7 -6.031250 -0.036473 -6.062500 -6.031250   0.031250\n",
       "7  8 -6.046875  0.024766 -6.046875 -6.031250   0.015625\n",
       "8  9 -6.039062 -0.005913 -6.046875 -6.039062   0.007812"
      ]
     },
     "execution_count": 50,
     "metadata": {},
     "output_type": "execute_result"
    }
   ],
   "source": [
    "bisseccao(f_prova,-8,-4,0.01)[2]"
   ]
  },
  {
   "cell_type": "code",
   "execution_count": 55,
   "id": "ea473c14",
   "metadata": {
    "ExecuteTime": {
     "end_time": "2023-04-26T01:16:37.459193Z",
     "start_time": "2023-04-26T01:16:37.452142Z"
    }
   },
   "outputs": [],
   "source": [
    "zeros = []\n",
    "zero_1 = -6.039062 #Encontrado por bisseccao\n",
    "zeros.append(zero_1)"
   ]
  },
  {
   "cell_type": "markdown",
   "id": "2f5eaf3a",
   "metadata": {},
   "source": [
    "## 1. b) Partindo de x_0 = -2.1 e com método de Newton"
   ]
  },
  {
   "cell_type": "code",
   "execution_count": 52,
   "id": "f181a95e",
   "metadata": {
    "ExecuteTime": {
     "end_time": "2023-04-26T01:16:37.392240Z",
     "start_time": "2023-04-26T01:16:37.383621Z"
    }
   },
   "outputs": [],
   "source": [
    "def f_prova_der(x):\n",
    "    return (x+2)*np.cos(x)"
   ]
  },
  {
   "cell_type": "code",
   "execution_count": 53,
   "id": "dbb09b21",
   "metadata": {
    "ExecuteTime": {
     "end_time": "2023-04-26T01:16:37.429986Z",
     "start_time": "2023-04-26T01:16:37.401224Z"
    }
   },
   "outputs": [
    {
     "data": {
      "text/html": [
       "<div>\n",
       "<style scoped>\n",
       "    .dataframe tbody tr th:only-of-type {\n",
       "        vertical-align: middle;\n",
       "    }\n",
       "\n",
       "    .dataframe tbody tr th {\n",
       "        vertical-align: top;\n",
       "    }\n",
       "\n",
       "    .dataframe thead th {\n",
       "        text-align: right;\n",
       "    }\n",
       "</style>\n",
       "<table border=\"1\" class=\"dataframe\">\n",
       "  <thead>\n",
       "    <tr style=\"text-align: right;\">\n",
       "      <th></th>\n",
       "      <th>k</th>\n",
       "      <th>X_k</th>\n",
       "      <th>f(X_k)</th>\n",
       "      <th>f_deriv(X_k)</th>\n",
       "    </tr>\n",
       "  </thead>\n",
       "  <tbody>\n",
       "    <tr>\n",
       "      <th>0</th>\n",
       "      <td>1</td>\n",
       "      <td>6.190153</td>\n",
       "      <td>0.234829</td>\n",
       "      <td>8.154736</td>\n",
       "    </tr>\n",
       "    <tr>\n",
       "      <th>1</th>\n",
       "      <td>2</td>\n",
       "      <td>6.161357</td>\n",
       "      <td>0.000760</td>\n",
       "      <td>8.100865</td>\n",
       "    </tr>\n",
       "  </tbody>\n",
       "</table>\n",
       "</div>"
      ],
      "text/plain": [
       "   k       X_k    f(X_k)  f_deriv(X_k)\n",
       "0  1  6.190153  0.234829      8.154736\n",
       "1  2  6.161357  0.000760      8.100865"
      ]
     },
     "execution_count": 53,
     "metadata": {},
     "output_type": "execute_result"
    }
   ],
   "source": [
    "ponto_fixo_newton(f_prova,f_prova_der,-2.1,0.01)"
   ]
  },
  {
   "cell_type": "code",
   "execution_count": 54,
   "id": "6f2b84fc",
   "metadata": {
    "ExecuteTime": {
     "end_time": "2023-04-26T01:16:37.442719Z",
     "start_time": "2023-04-26T01:16:37.436017Z"
    }
   },
   "outputs": [],
   "source": [
    "zero_2 = 6.161357\n",
    "zeros.append(zero_2)"
   ]
  },
  {
   "cell_type": "code",
   "execution_count": 56,
   "id": "10dbff03",
   "metadata": {
    "ExecuteTime": {
     "end_time": "2023-04-26T01:16:38.084748Z",
     "start_time": "2023-04-26T01:16:37.468908Z"
    }
   },
   "outputs": [
    {
     "data": {
      "image/png": "[encoded data removed]",
      "text/plain": [
       "<Figure size 432x288 with 1 Axes>"
      ]
     },
     "metadata": {},
     "output_type": "display_data"
    }
   ],
   "source": [
    "plt.style.use('cyberpunk')\n",
    "plt.title(\"Verificando aos zeros da função\")\n",
    "plt.plot(list(range(-10,10)),y)\n",
    "plt.axhline(0, color='k') # y = zero\n",
    "plt.plot(zeros,[0,0],'rx',alpha = 0.9)\n",
    "plt.legend(['Função'])\n",
    "plt.show()"
   ]
  },
  {
   "cell_type": "markdown",
   "id": "4d72c489",
   "metadata": {},
   "source": [
    "### C) bissecção entre 0 e 4"
   ]
  },
  {
   "cell_type": "code",
   "execution_count": 57,
   "id": "c6cc373d",
   "metadata": {
    "ExecuteTime": {
     "end_time": "2023-04-26T01:16:38.126045Z",
     "start_time": "2023-04-26T01:16:38.091192Z"
    }
   },
   "outputs": [
    {
     "data": {
      "text/html": [
       "<div>\n",
       "<style scoped>\n",
       "    .dataframe tbody tr th:only-of-type {\n",
       "        vertical-align: middle;\n",
       "    }\n",
       "\n",
       "    .dataframe tbody tr th {\n",
       "        vertical-align: top;\n",
       "    }\n",
       "\n",
       "    .dataframe thead th {\n",
       "        text-align: right;\n",
       "    }\n",
       "</style>\n",
       "<table border=\"1\" class=\"dataframe\">\n",
       "  <thead>\n",
       "    <tr style=\"text-align: right;\">\n",
       "      <th></th>\n",
       "      <th>k</th>\n",
       "      <th>X_k</th>\n",
       "      <th>f(X_k)</th>\n",
       "      <th>a_k</th>\n",
       "      <th>b_k</th>\n",
       "      <th>b_k - a_k</th>\n",
       "    </tr>\n",
       "  </thead>\n",
       "  <tbody>\n",
       "    <tr>\n",
       "      <th>0</th>\n",
       "      <td>1</td>\n",
       "      <td>2.000000</td>\n",
       "      <td>3.221043</td>\n",
       "      <td>2.0000</td>\n",
       "      <td>4.000000</td>\n",
       "      <td>2.000000</td>\n",
       "    </tr>\n",
       "    <tr>\n",
       "      <th>1</th>\n",
       "      <td>2</td>\n",
       "      <td>3.000000</td>\n",
       "      <td>-0.284392</td>\n",
       "      <td>2.0000</td>\n",
       "      <td>3.000000</td>\n",
       "      <td>1.000000</td>\n",
       "    </tr>\n",
       "    <tr>\n",
       "      <th>2</th>\n",
       "      <td>3</td>\n",
       "      <td>2.500000</td>\n",
       "      <td>1.891981</td>\n",
       "      <td>2.5000</td>\n",
       "      <td>3.000000</td>\n",
       "      <td>0.500000</td>\n",
       "    </tr>\n",
       "    <tr>\n",
       "      <th>3</th>\n",
       "      <td>4</td>\n",
       "      <td>2.750000</td>\n",
       "      <td>0.888587</td>\n",
       "      <td>2.7500</td>\n",
       "      <td>3.000000</td>\n",
       "      <td>0.250000</td>\n",
       "    </tr>\n",
       "    <tr>\n",
       "      <th>4</th>\n",
       "      <td>5</td>\n",
       "      <td>2.875000</td>\n",
       "      <td>0.319625</td>\n",
       "      <td>2.8750</td>\n",
       "      <td>3.000000</td>\n",
       "      <td>0.125000</td>\n",
       "    </tr>\n",
       "    <tr>\n",
       "      <th>5</th>\n",
       "      <td>6</td>\n",
       "      <td>2.937500</td>\n",
       "      <td>0.021481</td>\n",
       "      <td>2.9375</td>\n",
       "      <td>3.000000</td>\n",
       "      <td>0.062500</td>\n",
       "    </tr>\n",
       "    <tr>\n",
       "      <th>6</th>\n",
       "      <td>7</td>\n",
       "      <td>2.968750</td>\n",
       "      <td>-0.130558</td>\n",
       "      <td>2.9375</td>\n",
       "      <td>2.968750</td>\n",
       "      <td>0.031250</td>\n",
       "    </tr>\n",
       "    <tr>\n",
       "      <th>7</th>\n",
       "      <td>8</td>\n",
       "      <td>2.953125</td>\n",
       "      <td>-0.054305</td>\n",
       "      <td>2.9375</td>\n",
       "      <td>2.953125</td>\n",
       "      <td>0.015625</td>\n",
       "    </tr>\n",
       "    <tr>\n",
       "      <th>8</th>\n",
       "      <td>9</td>\n",
       "      <td>2.945312</td>\n",
       "      <td>-0.016353</td>\n",
       "      <td>2.9375</td>\n",
       "      <td>2.945312</td>\n",
       "      <td>0.007812</td>\n",
       "    </tr>\n",
       "  </tbody>\n",
       "</table>\n",
       "</div>"
      ],
      "text/plain": [
       "   k       X_k    f(X_k)     a_k       b_k  b_k - a_k\n",
       "0  1  2.000000  3.221043  2.0000  4.000000   2.000000\n",
       "1  2  3.000000 -0.284392  2.0000  3.000000   1.000000\n",
       "2  3  2.500000  1.891981  2.5000  3.000000   0.500000\n",
       "3  4  2.750000  0.888587  2.7500  3.000000   0.250000\n",
       "4  5  2.875000  0.319625  2.8750  3.000000   0.125000\n",
       "5  6  2.937500  0.021481  2.9375  3.000000   0.062500\n",
       "6  7  2.968750 -0.130558  2.9375  2.968750   0.031250\n",
       "7  8  2.953125 -0.054305  2.9375  2.953125   0.015625\n",
       "8  9  2.945312 -0.016353  2.9375  2.945312   0.007812"
      ]
     },
     "execution_count": 57,
     "metadata": {},
     "output_type": "execute_result"
    }
   ],
   "source": [
    "bisseccao(f_prova,0,4,0.01)[2]"
   ]
  },
  {
   "cell_type": "code",
   "execution_count": null,
   "id": "206d63b3",
   "metadata": {},
   "outputs": [],
   "source": [
    "zeros.append(2.945312)"
   ]
  },
  {
   "cell_type": "markdown",
   "id": "e0cc731a",
   "metadata": {},
   "source": [
    "## 1. D) Partindo de a_0 = 5 e b_0 = 8, com método de Posição Falsa"
   ]
  },
  {
   "cell_type": "code",
   "execution_count": 58,
   "id": "bb190839",
   "metadata": {
    "ExecuteTime": {
     "end_time": "2023-04-26T01:16:38.171474Z",
     "start_time": "2023-04-26T01:16:38.131864Z"
    }
   },
   "outputs": [
    {
     "data": {
      "text/html": [
       "<div>\n",
       "<style scoped>\n",
       "    .dataframe tbody tr th:only-of-type {\n",
       "        vertical-align: middle;\n",
       "    }\n",
       "\n",
       "    .dataframe tbody tr th {\n",
       "        vertical-align: top;\n",
       "    }\n",
       "\n",
       "    .dataframe thead th {\n",
       "        text-align: right;\n",
       "    }\n",
       "</style>\n",
       "<table border=\"1\" class=\"dataframe\">\n",
       "  <thead>\n",
       "    <tr style=\"text-align: right;\">\n",
       "      <th></th>\n",
       "      <th>k</th>\n",
       "      <th>X_k</th>\n",
       "      <th>f(X_k)</th>\n",
       "      <th>a_k</th>\n",
       "      <th>f(ak)</th>\n",
       "      <th>b_k</th>\n",
       "      <th>f(bk)</th>\n",
       "      <th>b_k - a_k</th>\n",
       "    </tr>\n",
       "  </thead>\n",
       "  <tbody>\n",
       "    <tr>\n",
       "      <th>0</th>\n",
       "      <td>1</td>\n",
       "      <td>6.192221</td>\n",
       "      <td>0.251691</td>\n",
       "      <td>5.000000</td>\n",
       "      <td>-6.428808</td>\n",
       "      <td>6.192221</td>\n",
       "      <td>0.251691</td>\n",
       "      <td>1.192221</td>\n",
       "    </tr>\n",
       "    <tr>\n",
       "      <th>1</th>\n",
       "      <td>2</td>\n",
       "      <td>6.147303</td>\n",
       "      <td>-0.112886</td>\n",
       "      <td>6.147303</td>\n",
       "      <td>-0.112886</td>\n",
       "      <td>6.192221</td>\n",
       "      <td>0.251691</td>\n",
       "      <td>0.044917</td>\n",
       "    </tr>\n",
       "    <tr>\n",
       "      <th>2</th>\n",
       "      <td>3</td>\n",
       "      <td>6.161211</td>\n",
       "      <td>-0.000418</td>\n",
       "      <td>6.161211</td>\n",
       "      <td>-0.000418</td>\n",
       "      <td>6.192221</td>\n",
       "      <td>0.251691</td>\n",
       "      <td>0.031009</td>\n",
       "    </tr>\n",
       "  </tbody>\n",
       "</table>\n",
       "</div>"
      ],
      "text/plain": [
       "   k       X_k    f(X_k)       a_k     f(ak)       b_k     f(bk)  b_k - a_k\n",
       "0  1  6.192221  0.251691  5.000000 -6.428808  6.192221  0.251691   1.192221\n",
       "1  2  6.147303 -0.112886  6.147303 -0.112886  6.192221  0.251691   0.044917\n",
       "2  3  6.161211 -0.000418  6.161211 -0.000418  6.192221  0.251691   0.031009"
      ]
     },
     "execution_count": 58,
     "metadata": {},
     "output_type": "execute_result"
    }
   ],
   "source": [
    "posicao_falsa(f_prova,5,8,0.01)"
   ]
  },
  {
   "cell_type": "code",
   "execution_count": null,
   "id": "0c7a7ebe",
   "metadata": {},
   "outputs": [],
   "source": [
    "zeros.append(6.161211)"
   ]
  },
  {
   "cell_type": "code",
   "execution_count": 60,
   "id": "7f6ad7db",
   "metadata": {
    "ExecuteTime": {
     "end_time": "2023-04-26T01:16:38.737763Z",
     "start_time": "2023-04-26T01:16:38.187506Z"
    },
    "scrolled": true
   },
   "outputs": [
    {
     "data": {
      "image/png": "[encoded data removed]",
      "text/plain": [
       "<Figure size 432x288 with 1 Axes>"
      ]
     },
     "metadata": {},
     "output_type": "display_data"
    }
   ],
   "source": [
    "plt.style.use('cyberpunk')\n",
    "plt.title(\"Verificando aos zeros da função\")\n",
    "plt.plot(list(range(-10,10)),y)\n",
    "plt.axhline(0, color='k') # y = zero\n",
    "plt.plot(zeros,[0,0,0],'rx',alpha = 0.9)\n",
    "plt.legend(['Função'])\n",
    "plt.show()"
   ]
  },
  {
   "cell_type": "markdown",
   "id": "21c7f9ab",
   "metadata": {},
   "source": [
    "### Questão 2:\n",
    "Tentativa de encontrar a raíz seguindo o phi que não converge (para confirmar)"
   ]
  },
  {
   "cell_type": "code",
   "execution_count": 66,
   "id": "a03d67cb",
   "metadata": {
    "ExecuteTime": {
     "end_time": "2023-04-26T01:21:02.814877Z",
     "start_time": "2023-04-26T01:21:02.791629Z"
    }
   },
   "outputs": [
    {
     "name": "stdout",
     "output_type": "stream",
     "text": [
      "Não foi possível encontrar uma raiz com a precisão desejada.\n"
     ]
    }
   ],
   "source": [
    "def phi(x):\n",
    "    return -(np.cos(x)/np.sin(x)) - 2 # Define a função phi(x)\n",
    "\n",
    "def ponto_fixo(g, x0, tol, max_it):\n",
    "    for i in range(max_it):\n",
    "        x1 = g(x0)\n",
    "        if abs(x1 - x0) < tol:\n",
    "            return x1\n",
    "        x0 = x1\n",
    "    return None\n",
    "\n",
    "x0 = 5 # Define o valor inicial\n",
    "tol = 0.01 # Define a tolerância\n",
    "max_it = 100 # Define o número máximo de iterações\n",
    "\n",
    "raiz = ponto_fixo(phi, x0, tol, max_it) # Encontra a raiz por meio do método do ponto fixo\n",
    "\n",
    "if raiz is not None:\n",
    "    print(f\"A raiz da função é {raiz:.6f}.\")\n",
    "else:\n",
    "    print(\"Não foi possível encontrar uma raiz com a precisão desejada.\")"
   ]
  }
 ],
 "metadata": {
  "kernelspec": {
   "display_name": "Python 3",
   "language": "python",
   "name": "python3"
  },
  "language_info": {
   "codemirror_mode": {
    "name": "ipython",
    "version": 3
   },
   "file_extension": ".py",
   "mimetype": "text/x-python",
   "name": "python",
   "nbconvert_exporter": "python",
   "pygments_lexer": "ipython3",
   "version": "3.8.3"
  }
 },
 "nbformat": 4,
 "nbformat_minor": 5
}
