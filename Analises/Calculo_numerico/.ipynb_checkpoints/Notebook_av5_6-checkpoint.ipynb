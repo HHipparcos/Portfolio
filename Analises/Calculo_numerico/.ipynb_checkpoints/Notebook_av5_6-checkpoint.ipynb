{
 "cells": [
  {
   "cell_type": "code",
   "execution_count": 1,
   "id": "253d18c4",
   "metadata": {
    "ExecuteTime": {
     "end_time": "2023-06-21T00:59:04.965508Z",
     "start_time": "2023-06-21T00:59:02.471577Z"
    },
    "code_folding": []
   },
   "outputs": [],
   "source": [
    "# Importando Bibliotecas\n",
    "import numpy as np\n",
    "import pandas as pd\n",
    "import matplotlib.pyplot as plt\n",
    "import astropy.units as u\n",
    "import math\n",
    "import scipy.stats as stats\n",
    "from tqdm import tqdm \n",
    "import time\n",
    "import mplcyberpunk\n",
    "import smtplib\n",
    "from scipy.optimize import curve_fit\n",
    "\n",
    "plt.style.use('cyberpunk')"
   ]
  },
  {
   "cell_type": "markdown",
   "id": "64d51002",
   "metadata": {},
   "source": [
    "# Cálculo Numérico\n",
    "### Ferramenta auxiliar\n",
    "\n",
    "*Thiago Laidler Vidal Cunha*"
   ]
  },
  {
   "cell_type": "markdown",
   "id": "36cfb51a",
   "metadata": {},
   "source": [
    "### Ajuste de curvas"
   ]
  },
  {
   "cell_type": "code",
   "execution_count": 2,
   "id": "6c809da6",
   "metadata": {
    "ExecuteTime": {
     "end_time": "2023-06-21T00:59:04.997002Z",
     "start_time": "2023-06-21T00:59:04.971050Z"
    }
   },
   "outputs": [],
   "source": [
    "def Minimos_Quadrados(x, y, func):\n",
    "    \"\"\"Ajuste de curva pelo método dos mínimos quadrados\"\"\"\n",
    "    n = len(x)\n",
    "    m = len(func)\n",
    "    \n",
    "    # Construção da matriz V\n",
    "    V = np.zeros((n, m))\n",
    "    for i in range(n):\n",
    "        for j in range(m):\n",
    "            V[i, j] = func[j](x[i])\n",
    "    \n",
    "    # Cálculo da matriz transposta de V\n",
    "    Vt = V.T\n",
    "    \n",
    "    # Cálculo da matriz V^T * V = A\n",
    "    VtV = np.dot(Vt, V)\n",
    "    \n",
    "    # Cálculo da matriz V^T * y = b\n",
    "    VtY = np.dot(Vt, y)\n",
    "    \n",
    "    # Cálculo do vetor de coeficientes \n",
    "    coefficients = np.linalg.solve(VtV, VtY)\n",
    "    \n",
    "    # Criação dos DataFrames para armazenar as matrizes\n",
    "    df_V = pd.DataFrame(V, columns=['f{}'.format(i+1) for i in range(m)])\n",
    "    df_Vt = pd.DataFrame(Vt, columns=['f{}'.format(i+1) for i in range(n)])\n",
    "    df_VtV = pd.DataFrame(VtV, columns=['f{}'.format(i+1) for i in range(m)], index=['f{}'.format(i+1) for i in range(m)])\n",
    "    df_VtY = pd.DataFrame(VtY, columns=['y'])\n",
    "    \n",
    "    return df_V, df_Vt, df_VtV, df_VtY, coefficients"
   ]
  },
  {
   "cell_type": "markdown",
   "id": "01480477",
   "metadata": {},
   "source": [
    "#### Questão 1 Prova"
   ]
  },
  {
   "cell_type": "code",
   "execution_count": 3,
   "id": "8f5fb688",
   "metadata": {
    "ExecuteTime": {
     "end_time": "2023-06-21T00:59:05.083858Z",
     "start_time": "2023-06-21T00:59:05.009435Z"
    }
   },
   "outputs": [
    {
     "data": {
      "text/plain": [
       "(    f1    f2     f3      f4\n",
       " 0  1.0   9.0   81.0   729.0\n",
       " 1  1.0  11.0  121.0  1331.0\n",
       " 2  1.0  12.0  144.0  1728.0\n",
       " 3  1.0  15.0  225.0  3375.0\n",
       " 4  1.0  16.0  256.0  4096.0\n",
       " 5  1.0  18.0  324.0  5832.0,\n",
       "       f1      f2      f3      f4      f5      f6\n",
       " 0    1.0     1.0     1.0     1.0     1.0     1.0\n",
       " 1    9.0    11.0    12.0    15.0    16.0    18.0\n",
       " 2   81.0   121.0   144.0   225.0   256.0   324.0\n",
       " 3  729.0  1331.0  1728.0  3375.0  4096.0  5832.0,\n",
       "          f1        f2         f3          f4\n",
       " f1      6.0      81.0     1151.0     17091.0\n",
       " f2     81.0    1151.0    17091.0    263075.0\n",
       " f3   1151.0   17091.0   263075.0   4166451.0\n",
       " f4  17091.0  263075.0  4166451.0  67469051.0,\n",
       "            y\n",
       " 0      395.0\n",
       " 1     5496.0\n",
       " 2    80284.0\n",
       " 3  1224594.0,\n",
       " array([-2.84789700e+03,  6.85918975e+02, -5.23863385e+01,  1.30007727e+00]))"
      ]
     },
     "execution_count": 3,
     "metadata": {},
     "output_type": "execute_result"
    }
   ],
   "source": [
    "# Função de ajuste: f = a + b*x + c*x^2 + d*x^3\n",
    "func = [lambda x: 1, lambda x: x, lambda x: x**2, lambda x: x**3]\n",
    "\n",
    "# Tabela de dados\n",
    "x = np.array([9, 11, 12, 15, 16, 18])\n",
    "y = np.array([33, 68, 110, 27, 50, 107])\n",
    "\n",
    "# Ajuste de curva pelo método dos mínimos quadrados\n",
    "Minimos_Quadrados(x, y, func)"
   ]
  },
  {
   "cell_type": "code",
   "execution_count": 4,
   "id": "c9e2842c",
   "metadata": {
    "ExecuteTime": {
     "end_time": "2023-06-21T00:59:05.628617Z",
     "start_time": "2023-06-21T00:59:05.090885Z"
    }
   },
   "outputs": [
    {
     "data": {
      "image/png": "[encoded data removed]",
      "text/plain": [
       "<Figure size 432x288 with 1 Axes>"
      ]
     },
     "metadata": {
      "needs_background": "dark"
     },
     "output_type": "display_data"
    }
   ],
   "source": [
    "coef = Minimos_Quadrados(x, y, func)[4]\n",
    "def pol_3(a,b,c,d,x):\n",
    "    return a + b*x + c*x**2+d*x**3\n",
    "\n",
    "plt.title(\"Gráfico questão 1\")\n",
    "plt.plot(x,y,'.')\n",
    "plt.plot(x,pol_3(coef[0],coef[1],coef[2],coef[3],x),'r-')\n",
    "plt.legend(['Dados','Curva Ajustada'])\n",
    "plt.show()"
   ]
  },
  {
   "cell_type": "markdown",
   "id": "e81ae996",
   "metadata": {},
   "source": [
    "### Questão 2"
   ]
  },
  {
   "cell_type": "code",
   "execution_count": 5,
   "id": "7e5e99ef",
   "metadata": {
    "ExecuteTime": {
     "end_time": "2023-06-21T00:59:05.650740Z",
     "start_time": "2023-06-21T00:59:05.635480Z"
    }
   },
   "outputs": [],
   "source": [
    "'''\n",
    "definindo as funções passadas\n",
    "'''\n",
    "def q(a,b,x):\n",
    "    return a*np.sin(x+b) +50\n",
    "\n",
    "def r(a,b,x):\n",
    "    return a/(b + (x - 12)**2)"
   ]
  },
  {
   "cell_type": "code",
   "execution_count": 6,
   "id": "e6e5dd6c",
   "metadata": {
    "ExecuteTime": {
     "end_time": "2023-06-21T00:59:06.511746Z",
     "start_time": "2023-06-21T00:59:05.656695Z"
    }
   },
   "outputs": [
    {
     "data": {
      "image/png": "[encoded data removed]",
      "text/plain": [
       "<Figure size 864x360 with 2 Axes>"
      ]
     },
     "metadata": {
      "needs_background": "dark"
     },
     "output_type": "display_data"
    }
   ],
   "source": [
    "#Visualizando-as\n",
    "x = np.arange(0,50,1)\n",
    "\n",
    "# Criação da figura e dos dois subplots\n",
    "fig, (ax1, ax2) = plt.subplots(1, 2, figsize=(12, 5))\n",
    "\n",
    "# Plot do gráfico da função q\n",
    "ax1.plot(x, q(1, 1, x), label='q(a, b, x)') #Coeficientes arbitrários\n",
    "ax1.set_xlabel('x')\n",
    "ax1.set_ylabel('y')\n",
    "ax1.set_title('Gráfico da função q(a, b, x)')\n",
    "\n",
    "# Plot do gráfico da função r\n",
    "ax2.plot(x, r(1, 1, x), label='r(a, b, x)') #Coeficientes arbitrarios\n",
    "ax2.set_xlabel('x')\n",
    "ax2.set_ylabel('y')\n",
    "ax2.set_title('Gráfico da função r(a, b, x)')\n",
    "plt.xlim(8,20) #Limitando à escala dos nossos dados\n",
    "\n",
    "# Ajusta a margem entre os subplots\n",
    "plt.subplots_adjust(wspace=0.3)\n",
    "\n",
    "# Exibe o gráfico\n",
    "plt.show()"
   ]
  },
  {
   "cell_type": "markdown",
   "id": "b717d45b",
   "metadata": {},
   "source": [
    "Observando o comportamento das funções, é de se esperar que 'q' se ajuste melhor nos dados. Para ter certeza, poderemos calcular o desvio médio do ajuste feito por ele e comparar com o feito pelo r."
   ]
  },
  {
   "cell_type": "code",
   "execution_count": 7,
   "id": "6d65f19b",
   "metadata": {
    "ExecuteTime": {
     "end_time": "2023-06-21T00:59:06.525193Z",
     "start_time": "2023-06-21T00:59:06.518691Z"
    }
   },
   "outputs": [],
   "source": [
    "def calcular_rmse(y_obs, y_pred):\n",
    "    '''\n",
    "    Funcao que calcula o desvio padrão\n",
    "    '''\n",
    "    n = len(y_obs)\n",
    "    rmse = np.sqrt(np.sum((y_obs - y_pred)**2) / n)\n",
    "    return rmse"
   ]
  },
  {
   "cell_type": "markdown",
   "id": "0069f549",
   "metadata": {},
   "source": [
    "#### Questão 3:"
   ]
  },
  {
   "cell_type": "code",
   "execution_count": 8,
   "id": "6ab753e2",
   "metadata": {
    "ExecuteTime": {
     "end_time": "2023-06-21T00:59:06.555691Z",
     "start_time": "2023-06-21T00:59:06.537460Z"
    }
   },
   "outputs": [
    {
     "data": {
      "text/plain": [
       "array([-87.859265  , -20.32890895])"
      ]
     },
     "execution_count": 8,
     "metadata": {},
     "output_type": "execute_result"
    }
   ],
   "source": [
    "# Funções para o ajuste função q -> b1*g1 + b2*g2 +50\n",
    "func = [lambda x: np.sin(x), lambda x: np.cos(x)]  #Foi preciso linearizar ela 'na mão'\n",
    "\n",
    "# Tabela de dados\n",
    "x = np.array([9, 11, 12, 15, 16, 18])\n",
    "y = np.array([33, 68, 110, 27, 50, 107])\n",
    "\n",
    "# Ajuste de curva pelo método dos mínimos quadrados\n",
    "Minimos_Quadrados(x, y, func)[4]"
   ]
  },
  {
   "cell_type": "code",
   "execution_count": 9,
   "id": "2436e4d5",
   "metadata": {
    "ExecuteTime": {
     "end_time": "2023-06-21T00:59:07.008900Z",
     "start_time": "2023-06-21T00:59:06.564919Z"
    }
   },
   "outputs": [
    {
     "data": {
      "image/png": "[encoded data removed]",
      "text/plain": [
       "<Figure size 432x288 with 1 Axes>"
      ]
     },
     "metadata": {},
     "output_type": "display_data"
    }
   ],
   "source": [
    "coef = Minimos_Quadrados(x, y, func)[4]\n",
    "\n",
    "def q_lin(b1,b2,x):\n",
    "    return b1*np.sin(x) + b2*np.cos(x) + 50\n",
    "\n",
    "plt.style.use('cyberpunk')\n",
    "plt.title(\"Gráfico questão 3\")\n",
    "plt.plot(x,y,'.')\n",
    "plt.plot(x,q_lin(coef[0],coef[1],x),'r-')\n",
    "plt.legend(['Dados','Curva Ajustada'])\n",
    "plt.show()"
   ]
  },
  {
   "cell_type": "code",
   "execution_count": 10,
   "id": "68ce5149",
   "metadata": {
    "ExecuteTime": {
     "end_time": "2023-06-21T00:59:07.656515Z",
     "start_time": "2023-06-21T00:59:07.016107Z"
    }
   },
   "outputs": [
    {
     "data": {
      "image/png": "[encoded data removed]",
      "text/plain": [
       "<Figure size 432x288 with 1 Axes>"
      ]
     },
     "metadata": {},
     "output_type": "display_data"
    }
   ],
   "source": [
    "###Comparando com o ajuste mais preciso que temos com o 'curve_fit'\n",
    "\n",
    "# Ajuste da função aos dados (q)\n",
    "params, _ = curve_fit(q, x, y)\n",
    "\n",
    "# Parâmetros ajustados\n",
    "a = params[0]\n",
    "b = params[1]\n",
    "\n",
    "# Valores previstos pela função ajustada\n",
    "y_pred = q(a, b, x)\n",
    "\n",
    "####Plot\n",
    "plt.style.use('cyberpunk')\n",
    "plt.title(\"Gráfico Exemplo\")\n",
    "plt.plot(x,y,'.')\n",
    "plt.plot(x,y_pred,'r-')\n",
    "mplcyberpunk.make_lines_glow()\n",
    "plt.legend(['Dados','Curva Ajustada'])\n",
    "plt.show()"
   ]
  },
  {
   "cell_type": "markdown",
   "id": "573a71f3",
   "metadata": {},
   "source": [
    "#### Questão 4"
   ]
  },
  {
   "cell_type": "markdown",
   "id": "6f916b4b",
   "metadata": {},
   "source": [
    " - Calcular desvio padrão de ambas."
   ]
  },
  {
   "cell_type": "code",
   "execution_count": 11,
   "id": "c386bbe0",
   "metadata": {
    "ExecuteTime": {
     "end_time": "2023-06-21T00:59:08.068226Z",
     "start_time": "2023-06-21T00:59:07.663044Z"
    }
   },
   "outputs": [
    {
     "data": {
      "image/png": "[encoded data removed]",
      "text/plain": [
       "<Figure size 432x288 with 1 Axes>"
      ]
     },
     "metadata": {},
     "output_type": "display_data"
    }
   ],
   "source": [
    "# Recuperando a primeira questão\n",
    "func = [lambda x: 1, lambda x: x, lambda x: x**2, lambda x: x**3]\n",
    "\n",
    "# Tabela de dados\n",
    "x = np.array([9, 11, 12, 15, 16, 18])\n",
    "y = np.array([33, 68, 110, 27, 50, 107])\n",
    "\n",
    "coef = Minimos_Quadrados(x, y, func)[4]\n",
    "def pol_3(a,b,c,d,x):\n",
    "    return a + b*x + c*x**2+d*x**3\n",
    "\n",
    "plt.style.use('cyberpunk')\n",
    "plt.title(\"Gráfico questão 1\")\n",
    "plt.plot(x,y,'.')\n",
    "plt.plot(x,pol_3(coef[0],coef[1],coef[2],coef[3],x),'r-')\n",
    "plt.legend(['Dados','Curva Ajustada'])\n",
    "plt.show()"
   ]
  },
  {
   "cell_type": "code",
   "execution_count": 12,
   "id": "21d0eb42",
   "metadata": {
    "ExecuteTime": {
     "end_time": "2023-06-21T00:59:08.086639Z",
     "start_time": "2023-06-21T00:59:08.073692Z"
    }
   },
   "outputs": [
    {
     "data": {
      "text/plain": [
       "14.818923090513852"
      ]
     },
     "execution_count": 12,
     "metadata": {},
     "output_type": "execute_result"
    }
   ],
   "source": [
    "y_pred = pol_3(coef[0],coef[1],coef[2],coef[3],x)\n",
    "y_obs = y\n",
    "calcular_rmse(y,y_pred)"
   ]
  },
  {
   "cell_type": "code",
   "execution_count": 13,
   "id": "fdcbb515",
   "metadata": {
    "ExecuteTime": {
     "end_time": "2023-06-21T00:59:08.542148Z",
     "start_time": "2023-06-21T00:59:08.093297Z"
    }
   },
   "outputs": [
    {
     "data": {
      "image/png": "[encoded data removed]",
      "text/plain": [
       "<Figure size 432x288 with 1 Axes>"
      ]
     },
     "metadata": {},
     "output_type": "display_data"
    }
   ],
   "source": [
    "#Recuperando a terceira questão:\n",
    "func = [lambda x: np.sin(x), lambda x: np.cos(x)]  #Foi preciso linearizar ela 'na mão'\n",
    "\n",
    "# Tabela de dados\n",
    "x = np.array([9, 11, 12, 15, 16, 18])\n",
    "y = np.array([33, 68, 110, 27, 50, 107])\n",
    "\n",
    "coef = Minimos_Quadrados(x, y, func)[4]\n",
    "\n",
    "def q_lin(b1,b2,x):\n",
    "    return b1*np.sin(x) + b2*np.cos(x) + 50\n",
    "\n",
    "plt.style.use('cyberpunk')\n",
    "plt.title(\"Gráfico questão 3\")\n",
    "plt.plot(x,y,'.')\n",
    "plt.plot(x,q_lin(coef[0],coef[1],x),'r-')\n",
    "plt.legend(['Dados','Curva Ajustada'])\n",
    "plt.show()"
   ]
  },
  {
   "cell_type": "code",
   "execution_count": 14,
   "id": "019ea52e",
   "metadata": {
    "ExecuteTime": {
     "end_time": "2023-06-21T00:59:08.567105Z",
     "start_time": "2023-06-21T00:59:08.548642Z"
    }
   },
   "outputs": [
    {
     "data": {
      "text/plain": [
       "36.83658895191417"
      ]
     },
     "execution_count": 14,
     "metadata": {},
     "output_type": "execute_result"
    }
   ],
   "source": [
    "y_pred = q_lin(coef[0],coef[1],x)\n",
    "y_obs = y\n",
    "calcular_rmse(y,y_pred)"
   ]
  },
  {
   "cell_type": "markdown",
   "id": "e2e3711c",
   "metadata": {},
   "source": [
    " - É preferível o ajuste da primeira questão por conter menos desvios. "
   ]
  },
  {
   "cell_type": "markdown",
   "id": "7b8f0bc8",
   "metadata": {
    "ExecuteTime": {
     "end_time": "2023-06-17T03:50:40.815248Z",
     "start_time": "2023-06-17T03:50:40.808832Z"
    }
   },
   "source": [
    "### Métodos de integrais"
   ]
  },
  {
   "cell_type": "markdown",
   "id": "d536ddea",
   "metadata": {},
   "source": [
    " - Método dos trapézios"
   ]
  },
  {
   "cell_type": "markdown",
   "id": "1673408c",
   "metadata": {},
   "source": [
    "    A função integral_trapezoidal recebe como entrada a função f, os limites de integração a e b, e o número de subintervalos n.\n",
    "    Calculamos o tamanho de cada subintervalo h dividindo a diferença entre b e a por n.\n",
    "    Inicializamos a soma com o valor de f(a) e f(b).\n",
    "    Utilizamos um loop para somar os valores intermediários. Para cada subintervalo, calculamos o valor de x e adicionamos 2 * f(x) à soma.\n",
    "    Finalmente, calculamos a integral multiplicando a soma pelo tamanho do subintervalo h e dividindo por 2."
   ]
  },
  {
   "cell_type": "code",
   "execution_count": 15,
   "id": "db5eb4dd",
   "metadata": {
    "ExecuteTime": {
     "end_time": "2023-06-21T00:59:08.586322Z",
     "start_time": "2023-06-21T00:59:08.571699Z"
    }
   },
   "outputs": [],
   "source": [
    "def integral_trapezoidal(f, a, b, n):\n",
    "    # Cálculo do tamanho do intervalo\n",
    "    h = (b - a) / n\n",
    "    print(\"Tamanho do intervalo h = \"+str(h))\n",
    "    \n",
    "    # Inicialização da soma\n",
    "    soma = f(a) + f(b)\n",
    "    print(\"Funcao no ponto inicial: \"+str(f(a)))\n",
    "    print(\"\\nFuncao no ponto final: \"+str(f(b)))\n",
    "    print(\"\\nSoma: \"+str(soma))\n",
    "    \n",
    "    print('Soma dos intermediários \\n(valor de x no ponto , Soma dos 2*f(x) ):\\n')\n",
    "    # Loop para somar os valores intermediários\n",
    "    for i in range(1, n):\n",
    "        x = a + i * h\n",
    "        soma += 2 * f(x)\n",
    "        print(\"(\"+str(x)+\",\"+str(soma)+\")\")\n",
    "    \n",
    "    # Cálculo da integral usando a fórmula dos trapézios\n",
    "    integral = (h / 2) * soma\n",
    "    \n",
    "    return integral"
   ]
  },
  {
   "cell_type": "markdown",
   "id": "77445b3c",
   "metadata": {},
   "source": [
    "### Questão 1:"
   ]
  },
  {
   "cell_type": "code",
   "execution_count": 16,
   "id": "a7e16cdd",
   "metadata": {
    "ExecuteTime": {
     "end_time": "2023-06-21T00:59:08.614236Z",
     "start_time": "2023-06-21T00:59:08.592061Z"
    }
   },
   "outputs": [
    {
     "name": "stdout",
     "output_type": "stream",
     "text": [
      "valores de f(x): [1.         1.19705602 1.37406154 1.50385954 1.5505493  1.46869394]\n",
      "Tamanho do intervalo h = 0.2\n",
      "Funcao no ponto inicial: 1.0\n",
      "\n",
      "Funcao no ponto final: 1.4686939399158851\n",
      "\n",
      "Soma: 2.468693939915885\n",
      "Soma dos intermediários \n",
      "(valor de x no ponto , Soma dos 2*f(x) ):\n",
      "\n",
      "(0.2,4.862805982627668)\n",
      "(0.4,7.610929060402712)\n",
      "(0.6000000000000001,10.618648141520284)\n",
      "(0.8,13.719746735135129)\n"
     ]
    },
    {
     "data": {
      "text/plain": [
       "1.371974673513513"
      ]
     },
     "execution_count": 16,
     "metadata": {},
     "output_type": "execute_result"
    }
   ],
   "source": [
    "def funcao(x):\n",
    "    return np.exp(x)*np.cos(x)\n",
    "x = np.arange(0,1.2,0.2)\n",
    "print('valores de f(x): '+str(funcao(x)))\n",
    "integral_trapezoidal(funcao,0,1,5)"
   ]
  },
  {
   "cell_type": "code",
   "execution_count": 17,
   "id": "932a3c1b",
   "metadata": {
    "ExecuteTime": {
     "end_time": "2023-06-21T00:59:08.630066Z",
     "start_time": "2023-06-21T00:59:08.617895Z"
    }
   },
   "outputs": [
    {
     "data": {
      "text/plain": [
       "1.3780246135575303"
      ]
     },
     "execution_count": 17,
     "metadata": {},
     "output_type": "execute_result"
    }
   ],
   "source": [
    "1.3780246135575303"
   ]
  },
  {
   "cell_type": "markdown",
   "id": "8c9fcd61",
   "metadata": {},
   "source": [
    " - Verificando 'na mão':"
   ]
  },
  {
   "cell_type": "code",
   "execution_count": 18,
   "id": "4057c638",
   "metadata": {
    "ExecuteTime": {
     "end_time": "2023-06-21T00:59:08.648279Z",
     "start_time": "2023-06-21T00:59:08.635293Z"
    }
   },
   "outputs": [
    {
     "data": {
      "text/plain": [
       "1.371974673513513"
      ]
     },
     "execution_count": 18,
     "metadata": {},
     "output_type": "execute_result"
    }
   ],
   "source": [
    "(np.sum(funcao(x)[1:-1]*2) + funcao(x)[0] + funcao(x)[-1])*0.2/2"
   ]
  },
  {
   "cell_type": "code",
   "execution_count": 19,
   "id": "005fcbe4",
   "metadata": {
    "ExecuteTime": {
     "end_time": "2023-06-21T00:59:09.088245Z",
     "start_time": "2023-06-21T00:59:08.653415Z"
    }
   },
   "outputs": [
    {
     "data": {
      "image/png": "[encoded data removed]",
      "text/plain": [
       "<Figure size 432x288 with 1 Axes>"
      ]
     },
     "metadata": {},
     "output_type": "display_data"
    }
   ],
   "source": [
    "#Visualizando-as\n",
    "x = np.arange(0,1.2,0.2)\n",
    "\n",
    "plt.title('Gráfico da função integrando da Av6')\n",
    "plt.plot(x, funcao(x)) #Coeficientes arbitrarios\n",
    "plt.legend([\"I'\"])\n",
    "# Exibe o gráfico\n",
    "plt.show()"
   ]
  },
  {
   "cell_type": "code",
   "execution_count": 20,
   "id": "2b868d81",
   "metadata": {
    "ExecuteTime": {
     "end_time": "2023-06-21T00:59:09.478849Z",
     "start_time": "2023-06-21T00:59:09.095920Z"
    }
   },
   "outputs": [
    {
     "data": {
      "image/png": "[encoded data removed]",
      "text/plain": [
       "<Figure size 432x288 with 1 Axes>"
      ]
     },
     "metadata": {},
     "output_type": "display_data"
    }
   ],
   "source": [
    "def sn(x):\n",
    "    return 2*np.sin(x)*np.exp(x)\n",
    "\n",
    "x = np.arange(0,1.2,0.2)\n",
    "#x = np.arange(0,50)\n",
    "\n",
    "plt.title('Gráfico da função integrando da Av6')\n",
    "plt.plot(x, sn(x)) #Coeficientes arbitrarios\n",
    "plt.legend([\"I'\"])\n",
    "plt.plot(1,np.max(sn(x)),'rx',alpha = 0.9)\n",
    "# Exibe o gráfico\n",
    "plt.show()"
   ]
  },
  {
   "cell_type": "code",
   "execution_count": 21,
   "id": "f26dde3b",
   "metadata": {
    "ExecuteTime": {
     "end_time": "2023-06-21T00:59:09.499476Z",
     "start_time": "2023-06-21T00:59:09.485656Z"
    }
   },
   "outputs": [
    {
     "data": {
      "text/plain": [
       "4.574710574357685"
      ]
     },
     "execution_count": 21,
     "metadata": {},
     "output_type": "execute_result"
    }
   ],
   "source": [
    "np.max(sn(x))"
   ]
  },
  {
   "cell_type": "code",
   "execution_count": 22,
   "id": "407ad708",
   "metadata": {
    "ExecuteTime": {
     "end_time": "2023-06-21T00:59:09.520345Z",
     "start_time": "2023-06-21T00:59:09.506723Z"
    }
   },
   "outputs": [
    {
     "data": {
      "text/plain": [
       "0.015249035247858951"
      ]
     },
     "execution_count": 22,
     "metadata": {},
     "output_type": "execute_result"
    }
   ],
   "source": [
    "#Erro estimado\n",
    "0.2**2*4.574710574357685/12"
   ]
  },
  {
   "cell_type": "code",
   "execution_count": 23,
   "id": "69b469a0",
   "metadata": {
    "ExecuteTime": {
     "end_time": "2023-06-21T00:59:09.547666Z",
     "start_time": "2023-06-21T00:59:09.535027Z"
    }
   },
   "outputs": [
    {
     "data": {
      "text/plain": [
       "38122.588119647364"
      ]
     },
     "execution_count": 23,
     "metadata": {},
     "output_type": "execute_result"
    }
   ],
   "source": [
    "1/(12*0.00001/4.574710574357685)"
   ]
  },
  {
   "cell_type": "code",
   "execution_count": 24,
   "id": "7352b928",
   "metadata": {
    "ExecuteTime": {
     "end_time": "2023-06-21T00:59:09.564781Z",
     "start_time": "2023-06-21T00:59:09.553880Z"
    }
   },
   "outputs": [
    {
     "data": {
      "text/plain": [
       "7.130124777183601e-05"
      ]
     },
     "execution_count": 24,
     "metadata": {},
     "output_type": "execute_result"
    }
   ],
   "source": [
    "1/14025"
   ]
  },
  {
   "cell_type": "markdown",
   "id": "38b42f6f",
   "metadata": {},
   "source": [
    "- Método 1/3 de Simpson"
   ]
  },
  {
   "cell_type": "markdown",
   "id": "a26d5d44",
   "metadata": {},
   "source": [
    "    A função integral_simpson recebe como entrada a função f, os limites de integração a e b, e o número de subintervalos n.\n",
    "    Verificamos se n é par. Se não for, lançamos um erro, pois o método de Simpson requer um número par de subintervalos.\n",
    "    Calculamos o tamanho de cada subintervalo h dividindo a diferença entre b e a por n.\n",
    "    Inicializamos a soma com o valor de f(a) e f(b).\n",
    "    Utilizamos um loop para somar os valores intermediários. Para cada subintervalo, calculamos o valor de x e adicionamos 2 * f(x) se o índice i for par, ou 4 * f(x) se o índice i for ímpar.\n",
    "    Finalmente, calculamos a integral multiplicando a soma pelo tamanho do subintervalo h e dividindo por 3."
   ]
  },
  {
   "cell_type": "code",
   "execution_count": 25,
   "id": "2a1ac8b5",
   "metadata": {
    "ExecuteTime": {
     "end_time": "2023-06-21T00:59:09.585362Z",
     "start_time": "2023-06-21T00:59:09.569872Z"
    }
   },
   "outputs": [],
   "source": [
    "def integral_simpson(f, a, b, n):\n",
    "    # Verificação de n par\n",
    "    if n % 2 != 0:\n",
    "        raise ValueError(\"O número de subintervalos deve ser par.\")\n",
    "    \n",
    "    # Cálculo do tamanho do intervalo\n",
    "    h = (b - a) / n\n",
    "    \n",
    "    # Inicialização da soma\n",
    "    soma = f(a) + f(b)\n",
    "    \n",
    "    # Loop para somar os valores intermediários\n",
    "    for i in range(1, n):\n",
    "        x = a + i * h\n",
    "        if i % 2 == 0:\n",
    "            soma += 2 * f(x)\n",
    "        else:\n",
    "            soma += 4 * f(x)\n",
    "    \n",
    "    # Cálculo da integral usando a fórmula de 1/3 de Simpson\n",
    "    integral = (h / 3) * soma\n",
    "    \n",
    "    return integral"
   ]
  },
  {
   "cell_type": "code",
   "execution_count": 26,
   "id": "00c4ebe9",
   "metadata": {
    "ExecuteTime": {
     "end_time": "2023-06-21T00:59:09.649502Z",
     "start_time": "2023-06-21T00:59:09.592546Z"
    }
   },
   "outputs": [
    {
     "name": "stdout",
     "output_type": "stream",
     "text": [
      "Tamanho do intervalo h = 0.25\n",
      "Funcao no ponto inicial: 2.718281828459045\n",
      "\n",
      "Funcao no ponto final: 7.38905609893065\n",
      "\n",
      "Soma: 10.107337927389695\n",
      "Soma dos intermediários \n",
      "(valor de x no ponto , Soma dos 2*f(x) ):\n",
      "\n",
      "(1.25,17.088023842313376)\n",
      "(1.5,26.051401982989503)\n",
      "(1.75,37.56060733500097)\n",
      "Tamanho do intervalo h = 0.16666666666666666\n",
      "Funcao no ponto inicial: 2.718281828459045\n",
      "\n",
      "Funcao no ponto final: 7.38905609893065\n",
      "\n",
      "Soma: 10.107337927389695\n",
      "Soma dos intermediários \n",
      "(valor de x no ponto , Soma dos 2*f(x) ):\n",
      "\n",
      "(1.1666666666666667,16.529879013696817)\n",
      "(1.3333333333333333,24.11721480306317)\n",
      "(1.5,33.0805929437393)\n",
      "(1.6666666666666665,43.66957304467935)\n",
      "(1.8333333333333333,56.17897494855201)\n",
      "Método dos Trapézios (4 divisões):\n",
      "Valor aproximado da integral: 4.695075916875121\n",
      "Limitante superior para o erro: 0.03848466718193047\n",
      "\n",
      "Método dos Trapézios (6 divisões):\n",
      "Valor aproximado da integral: 4.6815812457126675\n",
      "Limitante superior para o erro: 0.01710429652530243\n",
      "\n",
      "Método de 1/3 de Simpson (4 divisões):\n",
      "Valor aproximado da integral: 4.670874883494676\n",
      "Limitante superior para o erro: 0.0001603527799247103\n",
      "\n",
      "Método de 1/3 de Simpson (6 divisões):\n",
      "Valor aproximado da integral: 4.670794226633774\n",
      "Limitante superior para o erro: 3.167462319500451e-05\n"
     ]
    }
   ],
   "source": [
    "def f(x):\n",
    "    return np.exp(x)\n",
    "\n",
    "#Exemplo, numero 1 letra A da lista\n",
    "# Definição dos limites de integração\n",
    "a = 1\n",
    "b = 2\n",
    "\n",
    "# Número de subintervalos\n",
    "n_trapezios_4 = 4\n",
    "n_trapezios_6 = 6\n",
    "n_simpson_4 = 4\n",
    "n_simpson_6 = 6\n",
    "\n",
    "# Cálculo das integrais pelos métodos dos trapézios e de 1/3 de Simpson\n",
    "integral_trapezios_4 = integral_trapezoidal(f, a, b, n_trapezios_4)\n",
    "integral_trapezios_6 = integral_trapezoidal(f, a, b, n_trapezios_6)\n",
    "integral_simpson_4 = integral_simpson(f, a, b, n_simpson_4)\n",
    "integral_simpson_6 = integral_simpson(f, a, b, n_simpson_6)\n",
    "\n",
    "# Cálculo dos limitantes superiores para o erro\n",
    "erro_trapezios_4 = (b - a) ** 3 / (12 * n_trapezios_4 ** 2) * np.exp(b)\n",
    "erro_trapezios_6 = (b - a) ** 3 / (12 * n_trapezios_6 ** 2) * np.exp(b)\n",
    "erro_simpson_4 = (b - a) ** 5 / (180 * n_simpson_4 ** 4) * np.exp(b)\n",
    "erro_simpson_6 = (b - a) ** 5 / (180 * n_simpson_6 ** 4) * np.exp(b)\n",
    "\n",
    "# Resultados\n",
    "print(\"Método dos Trapézios (4 divisões):\")\n",
    "print(\"Valor aproximado da integral:\", integral_trapezios_4)\n",
    "print(\"Limitante superior para o erro:\", erro_trapezios_4)\n",
    "print()\n",
    "print(\"Método dos Trapézios (6 divisões):\")\n",
    "print(\"Valor aproximado da integral:\", integral_trapezios_6)\n",
    "print(\"Limitante superior para o erro:\", erro_trapezios_6)\n",
    "print()\n",
    "print(\"Método de 1/3 de Simpson (4 divisões):\")\n",
    "print(\"Valor aproximado da integral:\", integral_simpson_4)\n",
    "print(\"Limitante superior para o erro:\", erro_simpson_4)\n",
    "print()\n",
    "print(\"Método de 1/3 de Simpson (6 divisões):\")\n",
    "print(\"Valor aproximado da integral:\", integral_simpson_6)\n",
    "print(\"Limitante superior para o erro:\", erro_simpson_6)"
   ]
  },
  {
   "cell_type": "markdown",
   "id": "01badf08",
   "metadata": {},
   "source": [
    "### Questão 4"
   ]
  },
  {
   "cell_type": "code",
   "execution_count": 27,
   "id": "ccd4d727",
   "metadata": {
    "ExecuteTime": {
     "end_time": "2023-06-21T00:59:09.696139Z",
     "start_time": "2023-06-21T00:59:09.658859Z"
    }
   },
   "outputs": [
    {
     "name": "stdout",
     "output_type": "stream",
     "text": [
      "1.3780246135575303\n"
     ]
    }
   ],
   "source": [
    "def quadratura_gaussiana(f, a, b, n):\n",
    "    # Tabela de pontos e pesos da quadratura gaussiana para 'n' pontos\n",
    "    pontos, pesos = pontos_pesos_quadratura_gaussiana(n)\n",
    "    \n",
    "    integral = 0\n",
    "    \n",
    "    # Transformação linear para ajustar os pontos e pesos ao intervalo [a, b]\n",
    "    x_transformado = 0.5 * (b - a) * np.array(pontos) + 0.5 * (b + a)\n",
    "    for i in range(n):\n",
    "        integral += pesos[i] * f(x_transformado[i])\n",
    "    \n",
    "    integral *= 0.5 * (b - a)\n",
    "    \n",
    "    return integral\n",
    "\n",
    "def pontos_pesos_quadratura_gaussiana(n):\n",
    "    # Tabela de pontos e pesos pré-definidos para a quadratura gaussiana\n",
    "    pontos = []\n",
    "    pesos = []\n",
    "    \n",
    "    if n == 2:\n",
    "        pontos = [-0.5773502691896257, 0.5773502691896257]\n",
    "        pesos = [1.0, 1.0]\n",
    "    elif n == 3:\n",
    "        pontos = [0.0, -0.7745966692414834, 0.7745966692414834]\n",
    "        pesos = [0.8888888888888888, 0.5555555555555556, 0.5555555555555556]\n",
    "    elif n == 4:\n",
    "        pontos = [-0.3399810435848563, 0.3399810435848563, -0.8611363115940526, 0.8611363115940526]\n",
    "        pesos = [0.6521451548625461, 0.6521451548625461, 0.34785484513745385, 0.34785484513745385]\n",
    "    elif n == 5:\n",
    "        pontos = [0.0, -0.5384693101056831, 0.5384693101056831, -0.906179845938664, 0.906179845938664]\n",
    "        pesos = [0.5688888888888889, 0.4786286704993665, 0.4786286704993665, 0.23692688505618908, \n",
    "                 0.23692688505618908]\n",
    "    else:\n",
    "        raise ValueError(\"A quadratura gaussiana com essa quantidade de pontos não está implementada.\")\n",
    "    \n",
    "    return pontos, pesos\n",
    "\n",
    "# Intervalo de integração\n",
    "a = 0\n",
    "b = 1\n",
    "\n",
    "# Número de pontos da quadratura gaussiana\n",
    "n = 5\n",
    "\n",
    "# Cálculo da integral usando a função quadratura_gaussiana\n",
    "resultado = quadratura_gaussiana(funcao, a, b, n)\n",
    "print(resultado)\n"
   ]
  },
  {
   "cell_type": "code",
   "execution_count": 28,
   "id": "2918c403",
   "metadata": {
    "ExecuteTime": {
     "end_time": "2023-06-21T00:59:23.269602Z",
     "start_time": "2023-06-21T00:59:09.705285Z"
    }
   },
   "outputs": [
    {
     "name": "stdout",
     "output_type": "stream",
     "text": [
      "[NbConvertApp] Converting notebook Notebook_av5_6.ipynb to webpdf\n",
      "[NbConvertApp] Writing 296659 bytes to Notebook_av5_6.pdf\n"
     ]
    }
   ],
   "source": [
    "!jupyter nbconvert --to webpdf --allow-chromium-download Notebook_av5_6.ipynb"
   ]
  }
 ],
 "metadata": {
  "kernelspec": {
   "display_name": "Python 3",
   "language": "python",
   "name": "python3"
  },
  "language_info": {
   "codemirror_mode": {
    "name": "ipython",
    "version": 3
   },
   "file_extension": ".py",
   "mimetype": "text/x-python",
   "name": "python",
   "nbconvert_exporter": "python",
   "pygments_lexer": "ipython3",
   "version": "3.8.3"
  }
 },
 "nbformat": 4,
 "nbformat_minor": 5
}
