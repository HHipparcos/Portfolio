{
 "cells": [
  {
   "cell_type": "code",
   "execution_count": 1,
   "id": "253d18c4",
   "metadata": {
    "ExecuteTime": {
     "end_time": "2023-04-26T01:37:11.197776Z",
     "start_time": "2023-04-26T01:37:08.484861Z"
    },
    "code_folding": []
   },
   "outputs": [],
   "source": [
    "# Importando Bibliotecas\n",
    "import numpy as np\n",
    "import pandas as pd\n",
    "import matplotlib.pyplot as plt\n",
    "import astropy.units as u\n",
    "import math\n",
    "import scipy.stats as stats\n",
    "from tqdm import tqdm \n",
    "import time\n",
    "import mplcyberpunk\n",
    "import smtplib"
   ]
  },
  {
   "cell_type": "markdown",
   "id": "64d51002",
   "metadata": {},
   "source": [
    "# Cálculo Numérico\n",
    "### Ferramenta auxiliar\n",
    "\n",
    "*Thiago Laidler Vidal Cunha*"
   ]
  },
  {
   "cell_type": "markdown",
   "id": "819dee0e",
   "metadata": {},
   "source": [
    "#### 1. Representação de Números em ponto flutuante\n",
    "\n",
    "Criaremos funções conversores que nos ajudarão a converter números da bse binárias e decimal. "
   ]
  },
  {
   "cell_type": "markdown",
   "id": "d5b54db9",
   "metadata": {},
   "source": [
    " - Conversor de **decimal** para **binário**"
   ]
  },
  {
   "cell_type": "code",
   "execution_count": 2,
   "id": "f8f18aad",
   "metadata": {
    "ExecuteTime": {
     "end_time": "2023-04-26T01:37:11.216823Z",
     "start_time": "2023-04-26T01:37:11.203650Z"
    }
   },
   "outputs": [],
   "source": [
    "def decimal_para_binario(decimal):\n",
    "    # Dividindo a parte inteira e a parte decimal do número\n",
    "    inteiro = int(decimal)\n",
    "    decimal = decimal - inteiro\n",
    "\n",
    "    # Convertendo a parte inteira para binário\n",
    "    binario_inteiro = bin(inteiro)[2:]\n",
    "\n",
    "    # Convertendo a parte decimal para binário\n",
    "    binario_decimal = ''\n",
    "    while decimal > 0:\n",
    "        decimal = decimal * 2\n",
    "        if decimal >= 1:\n",
    "            binario_decimal += '1'\n",
    "            decimal = decimal - 1\n",
    "        else:\n",
    "            binario_decimal += '0'\n",
    "\n",
    "    # Concatenando a parte inteira e a parte decimal em um único número binário\n",
    "    if len(binario_decimal) > 0:\n",
    "        binario = binario_inteiro + '.' + binario_decimal\n",
    "    else:\n",
    "        binario = binario_inteiro\n",
    "\n",
    "    return binario"
   ]
  },
  {
   "cell_type": "code",
   "execution_count": 3,
   "id": "105647c2",
   "metadata": {
    "ExecuteTime": {
     "end_time": "2023-04-26T01:37:11.248222Z",
     "start_time": "2023-04-26T01:37:11.225884Z"
    }
   },
   "outputs": [
    {
     "data": {
      "text/plain": [
       "'1.111111101111100111011011001000101101000011100101011'"
      ]
     },
     "execution_count": 3,
     "metadata": {},
     "output_type": "execute_result"
    }
   ],
   "source": [
    "decimal_para_binario(1.996)"
   ]
  },
  {
   "cell_type": "code",
   "execution_count": 4,
   "id": "79615149",
   "metadata": {
    "ExecuteTime": {
     "end_time": "2023-04-26T01:37:11.262420Z",
     "start_time": "2023-04-26T01:37:11.254119Z"
    }
   },
   "outputs": [
    {
     "data": {
      "text/plain": [
       "'1.11'"
      ]
     },
     "execution_count": 4,
     "metadata": {},
     "output_type": "execute_result"
    }
   ],
   "source": [
    "decimal_para_binario(1.75)"
   ]
  },
  {
   "cell_type": "code",
   "execution_count": 5,
   "id": "ca142190",
   "metadata": {
    "ExecuteTime": {
     "end_time": "2023-04-26T01:37:11.280380Z",
     "start_time": "2023-04-26T01:37:11.268484Z"
    }
   },
   "outputs": [
    {
     "data": {
      "text/plain": [
       "'0.0000000000000000000010001001011100000101111101000001001101101011010010101'"
      ]
     },
     "execution_count": 5,
     "metadata": {},
     "output_type": "execute_result"
    }
   ],
   "source": [
    "decimal_para_binario(0.000000512)"
   ]
  },
  {
   "cell_type": "code",
   "execution_count": 6,
   "id": "36510a32",
   "metadata": {
    "ExecuteTime": {
     "end_time": "2023-04-26T01:37:11.298203Z",
     "start_time": "2023-04-26T01:37:11.285842Z"
    }
   },
   "outputs": [
    {
     "data": {
      "text/plain": [
       "'1100100'"
      ]
     },
     "execution_count": 6,
     "metadata": {},
     "output_type": "execute_result"
    }
   ],
   "source": [
    "decimal_para_binario(100)"
   ]
  },
  {
   "cell_type": "code",
   "execution_count": 7,
   "id": "32e59ca1",
   "metadata": {
    "ExecuteTime": {
     "end_time": "2023-04-26T01:37:11.323492Z",
     "start_time": "2023-04-26T01:37:11.311287Z"
    }
   },
   "outputs": [
    {
     "data": {
      "text/plain": [
       "'1101.0011011000000100000110001001001101110100101111001'"
      ]
     },
     "execution_count": 7,
     "metadata": {},
     "output_type": "execute_result"
    }
   ],
   "source": [
    "decimal_para_binario(13.211)"
   ]
  },
  {
   "cell_type": "code",
   "execution_count": 8,
   "id": "638f721d",
   "metadata": {
    "ExecuteTime": {
     "end_time": "2023-04-26T01:37:11.350692Z",
     "start_time": "2023-04-26T01:37:11.337960Z"
    }
   },
   "outputs": [
    {
     "data": {
      "text/plain": [
       "'0.001100110011001100110011001100110011001100110011001101'"
      ]
     },
     "execution_count": 8,
     "metadata": {},
     "output_type": "execute_result"
    }
   ],
   "source": [
    "decimal_para_binario(0.2)"
   ]
  },
  {
   "cell_type": "code",
   "execution_count": 9,
   "id": "820c56c9",
   "metadata": {
    "ExecuteTime": {
     "end_time": "2023-04-26T01:37:11.371892Z",
     "start_time": "2023-04-26T01:37:11.358892Z"
    }
   },
   "outputs": [
    {
     "data": {
      "text/plain": [
       "'1101.0011011000000100000110001001001101110100101111001'"
      ]
     },
     "execution_count": 9,
     "metadata": {},
     "output_type": "execute_result"
    }
   ],
   "source": [
    "decimal_para_binario(13.211)"
   ]
  },
  {
   "cell_type": "code",
   "execution_count": 10,
   "id": "e7b61bb1",
   "metadata": {
    "ExecuteTime": {
     "end_time": "2023-04-26T01:37:11.399031Z",
     "start_time": "2023-04-26T01:37:11.380727Z"
    }
   },
   "outputs": [
    {
     "data": {
      "text/plain": [
       "'1.0011001100110011001100110011001100110011001100110011'"
      ]
     },
     "execution_count": 10,
     "metadata": {},
     "output_type": "execute_result"
    }
   ],
   "source": [
    "decimal_para_binario(1.2)"
   ]
  },
  {
   "cell_type": "code",
   "execution_count": 11,
   "id": "95db1a6c",
   "metadata": {
    "ExecuteTime": {
     "end_time": "2023-04-26T01:37:11.418175Z",
     "start_time": "2023-04-26T01:37:11.405762Z"
    }
   },
   "outputs": [
    {
     "data": {
      "text/plain": [
       "'1100.0000000101000111101011100001010001111010111000011'"
      ]
     },
     "execution_count": 11,
     "metadata": {},
     "output_type": "execute_result"
    }
   ],
   "source": [
    "decimal_para_binario(12.005)"
   ]
  },
  {
   "cell_type": "code",
   "execution_count": 12,
   "id": "2621f7a3",
   "metadata": {
    "ExecuteTime": {
     "end_time": "2023-04-26T01:37:11.441957Z",
     "start_time": "2023-04-26T01:37:11.427443Z"
    }
   },
   "outputs": [
    {
     "data": {
      "text/plain": [
       "'1000.01'"
      ]
     },
     "execution_count": 12,
     "metadata": {},
     "output_type": "execute_result"
    }
   ],
   "source": [
    "decimal_para_binario(8.25)"
   ]
  },
  {
   "cell_type": "code",
   "execution_count": 13,
   "id": "5a6a1f6f",
   "metadata": {
    "ExecuteTime": {
     "end_time": "2023-04-26T01:37:11.459575Z",
     "start_time": "2023-04-26T01:37:11.447363Z"
    }
   },
   "outputs": [
    {
     "data": {
      "text/plain": [
       "'100'"
      ]
     },
     "execution_count": 13,
     "metadata": {},
     "output_type": "execute_result"
    }
   ],
   "source": [
    "decimal_para_binario(4)"
   ]
  },
  {
   "cell_type": "markdown",
   "id": "56924ecd",
   "metadata": {},
   "source": [
    " - Conversor de **binário** para **decimal**"
   ]
  },
  {
   "cell_type": "code",
   "execution_count": 14,
   "id": "bfa930a2",
   "metadata": {
    "ExecuteTime": {
     "end_time": "2023-04-26T01:37:11.475915Z",
     "start_time": "2023-04-26T01:37:11.465630Z"
    }
   },
   "outputs": [],
   "source": [
    "def binario_para_decimal(binario):\n",
    "    # Dividindo a parte inteira e a parte decimal do número\n",
    "    partes = str(binario).split('.')\n",
    "    parte_inteira = partes[0]\n",
    "    if len(partes) > 1:\n",
    "        parte_decimal = partes[1]\n",
    "    else:\n",
    "        parte_decimal = ''\n",
    "\n",
    "    # Convertendo a parte inteira para decimal\n",
    "    decimal_inteiro = 0\n",
    "    for i in range(len(parte_inteira)):\n",
    "        digito = int(parte_inteira[-(i+1)])\n",
    "        decimal_inteiro += digito * 2**i\n",
    "\n",
    "    # Convertendo a parte decimal para decimal\n",
    "    decimal_decimal = 0\n",
    "    for i in range(len(parte_decimal)):\n",
    "        digito = int(parte_decimal[i])\n",
    "        decimal_decimal += digito * 2**(-(i+1))\n",
    "\n",
    "    # Somando a parte inteira e a parte decimal para obter o número decimal final\n",
    "    decimal = decimal_inteiro + decimal_decimal\n",
    "\n",
    "    return decimal"
   ]
  },
  {
   "cell_type": "code",
   "execution_count": 15,
   "id": "9823c6c7",
   "metadata": {
    "ExecuteTime": {
     "end_time": "2023-04-26T01:37:11.497333Z",
     "start_time": "2023-04-26T01:37:11.481684Z"
    }
   },
   "outputs": [
    {
     "data": {
      "text/plain": [
       "630"
      ]
     },
     "execution_count": 15,
     "metadata": {},
     "output_type": "execute_result"
    }
   ],
   "source": [
    "binario_para_decimal(1001110110)"
   ]
  },
  {
   "cell_type": "code",
   "execution_count": 16,
   "id": "80997765",
   "metadata": {
    "ExecuteTime": {
     "end_time": "2023-04-26T01:37:11.512866Z",
     "start_time": "2023-04-26T01:37:11.502736Z"
    }
   },
   "outputs": [
    {
     "data": {
      "text/plain": [
       "2047"
      ]
     },
     "execution_count": 16,
     "metadata": {},
     "output_type": "execute_result"
    }
   ],
   "source": [
    "binario_para_decimal(11111111111)"
   ]
  },
  {
   "cell_type": "code",
   "execution_count": 17,
   "id": "05a93d7b",
   "metadata": {
    "ExecuteTime": {
     "end_time": "2023-04-26T01:37:11.524480Z",
     "start_time": "2023-04-26T01:37:11.516726Z"
    }
   },
   "outputs": [
    {
     "data": {
      "text/plain": [
       "254.9375"
      ]
     },
     "execution_count": 17,
     "metadata": {},
     "output_type": "execute_result"
    }
   ],
   "source": [
    "binario_para_decimal(11111110.1111)"
   ]
  },
  {
   "cell_type": "code",
   "execution_count": 18,
   "id": "48fb7153",
   "metadata": {
    "ExecuteTime": {
     "end_time": "2023-04-26T01:37:11.541923Z",
     "start_time": "2023-04-26T01:37:11.531971Z"
    }
   },
   "outputs": [
    {
     "data": {
      "text/plain": [
       "0.99609375"
      ]
     },
     "execution_count": 18,
     "metadata": {},
     "output_type": "execute_result"
    }
   ],
   "source": [
    "binario_para_decimal(0.11111111)"
   ]
  },
  {
   "cell_type": "code",
   "execution_count": 19,
   "id": "b454c65c",
   "metadata": {
    "ExecuteTime": {
     "end_time": "2023-04-26T01:37:11.562588Z",
     "start_time": "2023-04-26T01:37:11.547266Z"
    }
   },
   "outputs": [
    {
     "data": {
      "text/plain": [
       "0.65234375"
      ]
     },
     "execution_count": 19,
     "metadata": {},
     "output_type": "execute_result"
    }
   ],
   "source": [
    "binario_para_decimal(0.10100111)"
   ]
  },
  {
   "cell_type": "code",
   "execution_count": 20,
   "id": "10ea8778",
   "metadata": {
    "ExecuteTime": {
     "end_time": "2023-04-26T01:37:11.584522Z",
     "start_time": "2023-04-26T01:37:11.571032Z"
    }
   },
   "outputs": [
    {
     "data": {
      "text/plain": [
       "12.00390625"
      ]
     },
     "execution_count": 20,
     "metadata": {},
     "output_type": "execute_result"
    }
   ],
   "source": [
    "binario_para_decimal(1100.00000001)"
   ]
  },
  {
   "cell_type": "markdown",
   "id": "3d44f40d",
   "metadata": {},
   "source": [
    "#### 2. Encontrar zeros de funções:\n",
    "\n",
    "- Método da Bissecção"
   ]
  },
  {
   "cell_type": "code",
   "execution_count": 21,
   "id": "89b2d89f",
   "metadata": {
    "ExecuteTime": {
     "end_time": "2023-04-26T01:37:11.615805Z",
     "start_time": "2023-04-26T01:37:11.590327Z"
    }
   },
   "outputs": [],
   "source": [
    "def bisseccao(funcao, a, b, tolerancia):\n",
    "    \n",
    "    df = pd.DataFrame(columns=['k','X_k','f(X_k)','a_k','b_k','b_k - a_k']) #Tabela armazena informações\n",
    "    k=[]\n",
    "    x=[]\n",
    "    fx=[]\n",
    "    ak=[]\n",
    "    bk=[]\n",
    "    bk_ak = []\n",
    "    \n",
    "    cont=0 #contador de iterações\n",
    "    \n",
    "    fa = funcao(a)\n",
    "    fb = funcao(b)\n",
    "    \n",
    "    if fa * fb >= 0: #vericiando o teorema dos sinais opostos\n",
    "        raise ValueError(\"A função deve ter valores opostos em 'a' e 'b'.\")\n",
    "    \n",
    "    while abs(b - a) > tolerancia or fc > tolerancia:\n",
    "        \n",
    "        c = (a + b) / 2 #primeiro x_k\n",
    "        fc = funcao(c) #imagem de x_k\n",
    "        x.append(c) #armazenando valor de x_k\n",
    "        fx.append(fc) #armazenando valor de f(xk)\n",
    "        \n",
    "        if fa * fc < 0: #se os sinais de f(a) e f(xk) forem inversos, trocar o b pelo xk\n",
    "            b = c\n",
    "            fb = fc\n",
    "        else: #Se não, trocar o f(a) pelo f(xk)\n",
    "            a = c\n",
    "            fa = fc\n",
    "            \n",
    "        cont = cont + 1\n",
    "        k.append(cont)\n",
    "        ak.append(a) #Armazenando primeiro valor de a\n",
    "        bk.append(b) #Armazenando primeiro valor de b\n",
    "        bk_ak.append(abs(b - a)) #Armazenando diferença de a e b\n",
    "        \n",
    "    df['k'] = k\n",
    "    df['X_k'] = x\n",
    "    df['f(X_k)'] = fx\n",
    "    df['a_k'] = ak\n",
    "    df['b_k'] = bk\n",
    "    df['b_k - a_k'] = bk_ak\n",
    "    \n",
    "    return c,fc,df"
   ]
  },
  {
   "cell_type": "markdown",
   "id": "5fb95438",
   "metadata": {},
   "source": [
    "- Método da Posição Falsa:"
   ]
  },
  {
   "cell_type": "code",
   "execution_count": 22,
   "id": "fed2fc9e",
   "metadata": {
    "ExecuteTime": {
     "end_time": "2023-04-26T01:37:11.641111Z",
     "start_time": "2023-04-26T01:37:11.620849Z"
    },
    "code_folding": []
   },
   "outputs": [],
   "source": [
    "def posicao_falsa(funcao, a, b, tolerancia, max_iteracoes=100):\n",
    "\n",
    "    df = pd.DataFrame(columns=['k','X_k','f(X_k)','a_k','f(ak)','b_k','f(bk)','b_k - a_k']) #Tabela armazena informações\n",
    "    k=[]\n",
    "    x=[]\n",
    "    fx=[]\n",
    "    ak=[]\n",
    "    fak=[]\n",
    "    bk=[]\n",
    "    fbk=[]\n",
    "    bk_ak = []\n",
    "    \n",
    "    cont=0 #contador de iterações\n",
    "    \n",
    "    fa = funcao(a)\n",
    "    fb = funcao(b)\n",
    "    \n",
    "    if fa * fb >= 0:\n",
    "        raise ValueError(\"A função deve ter valores opostos em 'a' e 'b'.\")\n",
    "    \n",
    "    c = (a * fb - b * fa) / (fb - fa)\n",
    "    fc = funcao(c) \n",
    "    \n",
    "    while abs(b - a) > tolerancia and abs(fc) > tolerancia:\n",
    "        \n",
    "        c = (a * fb - b * fa) / (fb - fa)\n",
    "        fc = funcao(c) #atualiza o valor da imagem da função no ponto c\n",
    "        x.append(c) #armazenando valor de x_k\n",
    "        fx.append(fc) #armazenando valor de f(xk)\n",
    "        \n",
    "        if fa * fc < 0:\n",
    "            b = c\n",
    "            fb = fc\n",
    "            \n",
    "        else:\n",
    "            a = c\n",
    "            fa = fc\n",
    "            \n",
    "        cont = cont + 1\n",
    "        k.append(cont)\n",
    "        ak.append(a) #Armazenando primeiro valor de a\n",
    "        fak.append(fa)\n",
    "        bk.append(b) #Armazenando primeiro valor de b\n",
    "        fbk.append(fb)\n",
    "        bk_ak.append(abs(b - a)) #Armazenando diferença de a e b\n",
    "        \n",
    "    df['k'] = k\n",
    "    df['X_k'] = x\n",
    "    df['f(X_k)'] = fx\n",
    "    df['a_k'] = ak\n",
    "    df['f(ak)'] = fak\n",
    "    df['b_k'] = bk\n",
    "    df['f(bk)'] = fbk\n",
    "    df['b_k - a_k'] = bk_ak\n",
    "    \n",
    "    return df"
   ]
  },
  {
   "cell_type": "markdown",
   "id": "1fc88d06",
   "metadata": {},
   "source": [
    " - Método do ponto fixo (Newton e Secante):"
   ]
  },
  {
   "cell_type": "code",
   "execution_count": 23,
   "id": "405ce507",
   "metadata": {
    "ExecuteTime": {
     "end_time": "2023-04-26T01:37:11.668380Z",
     "start_time": "2023-04-26T01:37:11.655706Z"
    }
   },
   "outputs": [],
   "source": [
    "def ponto_fixo_newton(funcao, derivada, x0, tolerancia, max_iteracoes=100):\n",
    "    \"\"\"\n",
    "    Encontra o zero de uma função utilizando o método do ponto fixo de Newton.\n",
    "    \n",
    "    Args:\n",
    "        funcao: função que se deseja encontrar o zero\n",
    "        derivada: derivada da função que se deseja encontrar o zero\n",
    "        x0: estimativa inicial\n",
    "        tolerancia: tolerância do erro absoluto\n",
    "        max_iteracoes: número máximo de iterações\n",
    "    \n",
    "    Returns:\n",
    "        Tabela com todas as iterações.\n",
    "    \"\"\"\n",
    "    \n",
    "    df = pd.DataFrame(columns=['k','X_k','f(X_k)','f_deriv(X_k)']) #Tabela armazena informações\n",
    "    k=[]\n",
    "    x_k=[]\n",
    "    fx=[]\n",
    "    fxx=[]\n",
    "        \n",
    "    cont = 0\n",
    "    x = x0\n",
    "    \n",
    "    x_next = x - funcao(x) / derivada(x) #definindo x_next\n",
    "    \n",
    "    while abs(funcao(x)) > tolerancia and cont < max_iteracoes:\n",
    "        \n",
    "        x_next = x - funcao(x) / derivada(x)\n",
    "        \n",
    "        x = x_next\n",
    "        cont += 1\n",
    "        \n",
    "        k.append(cont)\n",
    "        x_k.append(x_next)\n",
    "        fx.append(funcao(x))\n",
    "        fxx.append(derivada(x))\n",
    "        \n",
    "    df['k'] = k\n",
    "    df['X_k'] = x_k\n",
    "    df['f(X_k)'] = fx\n",
    "    df['f_deriv(X_k)'] = fxx\n",
    "    \n",
    "    return df\n",
    "    \n",
    "    raise ValueError(f'O método não convergiu em {max_iteracoes} iterações.')"
   ]
  },
  {
   "cell_type": "code",
   "execution_count": 24,
   "id": "d60453c1",
   "metadata": {
    "ExecuteTime": {
     "end_time": "2023-04-26T01:37:11.691980Z",
     "start_time": "2023-04-26T01:37:11.674507Z"
    },
    "code_folding": []
   },
   "outputs": [],
   "source": [
    "## Tentativa de mesclar Newton com Secante\n",
    "def secante(funcao, x0, x1, tolerancia, max_iteracoes=100):\n",
    "    df = pd.DataFrame(columns=['k','X_k','f(X_k)']) #Tabela armazena informações\n",
    "    k=[]\n",
    "    x_k=[]\n",
    "    fx=[]\n",
    "        \n",
    "    cont = 0\n",
    "    \n",
    "    fx0 = funcao(x0)\n",
    "    fx1 = funcao(x1)\n",
    "    x2 = x1 - fx1 * (x1 - x0) / (fx1 - fx0)\n",
    "    \n",
    "    k.append(cont)\n",
    "    x_k.append(x0)\n",
    "    fx.append(fx0)\n",
    "    x_k.append(x1)\n",
    "    fx.append(fx1)\n",
    "    \n",
    "    cont = cont + 1\n",
    "    \n",
    "    k.append(cont)\n",
    "    \n",
    "    while abs(fx1) > tolerancia and cont < max_iteracoes:\n",
    "        \n",
    "        fx0 = funcao(x0)\n",
    "        fx1 = funcao(x1)\n",
    "        x2 = x1 - fx1 * (x1 - x0) / (fx1 - fx0)\n",
    "        \n",
    "        x0 = x1\n",
    "        x1 = x2\n",
    "        fx1 = funcao(x1)\n",
    "        cont = cont+1\n",
    "        \n",
    "        k.append(cont)\n",
    "        x_k.append(x1)\n",
    "        fx.append(fx1)\n",
    "    \n",
    "    df['k'] = k\n",
    "    df['X_k'] = x_k\n",
    "    df['f(X_k)'] = fx\n",
    "    \n",
    "    return df\n",
    "\n",
    "    raise Exception(\"O método da secante não convergiu.\")\n",
    "\n",
    "def newton(funcao, derivada, x0, tolerancia, max_iteracoes=100):\n",
    "    for i in range(max_iteracoes):\n",
    "        fx = funcao(x0)\n",
    "        fpx = derivada(x0)\n",
    "        x1 = x0 - fx / fpx\n",
    "        \n",
    "        if abs(x1 - x0) < tolerancia:\n",
    "            return x1\n",
    "        \n",
    "        x0 = x1\n",
    "    \n",
    "    # Se o método do ponto fixo de Newton diverge, usar o método da secante\n",
    "    return secante(funcao, x0, x1, tolerancia, max_iteracoes)"
   ]
  },
  {
   "cell_type": "markdown",
   "id": "7c85aa72",
   "metadata": {},
   "source": [
    "### Prova 2\n",
    "\n",
    "$f(x) = [(x+2)*\\sin(x)] + \\cos(x) $ Possui 4 zeros entre $ [-8;+8] $.\n",
    "\n",
    "## 1. a) obter zero da funcao f(x) entre -8 e -4:\n",
    "$x_o = -8 $ e $x_1 = -4 $ para tolerancia $\\epsilon = 10^{-2}$ **(Método Secante)**\n",
    "\n"
   ]
  },
  {
   "cell_type": "code",
   "execution_count": 25,
   "id": "41ed2d01",
   "metadata": {
    "ExecuteTime": {
     "end_time": "2023-04-26T01:37:11.706753Z",
     "start_time": "2023-04-26T01:37:11.699512Z"
    }
   },
   "outputs": [],
   "source": [
    "def f_prova(x):\n",
    "    return ((x+2)*np.sin(x)) + np.cos(x)"
   ]
  },
  {
   "cell_type": "code",
   "execution_count": 26,
   "id": "f01ee282",
   "metadata": {
    "ExecuteTime": {
     "end_time": "2023-04-26T01:37:12.359123Z",
     "start_time": "2023-04-26T01:37:11.712663Z"
    }
   },
   "outputs": [
    {
     "data": {
      "image/png": "[encoded data removed]",
      "text/plain": [
       "<Figure size 432x288 with 1 Axes>"
      ]
     },
     "metadata": {
      "needs_background": "dark"
     },
     "output_type": "display_data"
    }
   ],
   "source": [
    "y = []\n",
    "for i in range(-10,10):\n",
    "    y.append(f_prova(i))\n",
    "\n",
    "plt.style.use('cyberpunk')\n",
    "plt.title(\"Gráfico da função Av2\")\n",
    "plt.plot(list(range(-10,10)),y)\n",
    "plt.axhline(0, color='k') # y = zero\n",
    "#plt.plot(x2,y2,'rx',alpha = 0.9)\n",
    "plt.legend(['Função'])\n",
    "plt.show()"
   ]
  },
  {
   "cell_type": "code",
   "execution_count": 27,
   "id": "d8436152",
   "metadata": {
    "ExecuteTime": {
     "end_time": "2023-04-26T01:37:12.403570Z",
     "start_time": "2023-04-26T01:37:12.367552Z"
    },
    "scrolled": true
   },
   "outputs": [
    {
     "data": {
      "text/html": [
       "<div>\n",
       "<style scoped>\n",
       "    .dataframe tbody tr th:only-of-type {\n",
       "        vertical-align: middle;\n",
       "    }\n",
       "\n",
       "    .dataframe tbody tr th {\n",
       "        vertical-align: top;\n",
       "    }\n",
       "\n",
       "    .dataframe thead th {\n",
       "        text-align: right;\n",
       "    }\n",
       "</style>\n",
       "<table border=\"1\" class=\"dataframe\">\n",
       "  <thead>\n",
       "    <tr style=\"text-align: right;\">\n",
       "      <th></th>\n",
       "      <th>k</th>\n",
       "      <th>X_k</th>\n",
       "      <th>f(X_k)</th>\n",
       "    </tr>\n",
       "  </thead>\n",
       "  <tbody>\n",
       "    <tr>\n",
       "      <th>0</th>\n",
       "      <td>0</td>\n",
       "      <td>-8.000000</td>\n",
       "      <td>5.790649</td>\n",
       "    </tr>\n",
       "    <tr>\n",
       "      <th>1</th>\n",
       "      <td>1</td>\n",
       "      <td>-4.000000</td>\n",
       "      <td>-2.167249</td>\n",
       "    </tr>\n",
       "    <tr>\n",
       "      <th>2</th>\n",
       "      <td>2</td>\n",
       "      <td>-5.089357</td>\n",
       "      <td>-2.504334</td>\n",
       "    </tr>\n",
       "    <tr>\n",
       "      <th>3</th>\n",
       "      <td>3</td>\n",
       "      <td>3.003881</td>\n",
       "      <td>-0.303614</td>\n",
       "    </tr>\n",
       "    <tr>\n",
       "      <th>4</th>\n",
       "      <td>4</td>\n",
       "      <td>4.120432</td>\n",
       "      <td>-5.637030</td>\n",
       "    </tr>\n",
       "    <tr>\n",
       "      <th>5</th>\n",
       "      <td>5</td>\n",
       "      <td>2.940319</td>\n",
       "      <td>0.007843</td>\n",
       "    </tr>\n",
       "  </tbody>\n",
       "</table>\n",
       "</div>"
      ],
      "text/plain": [
       "   k       X_k    f(X_k)\n",
       "0  0 -8.000000  5.790649\n",
       "1  1 -4.000000 -2.167249\n",
       "2  2 -5.089357 -2.504334\n",
       "3  3  3.003881 -0.303614\n",
       "4  4  4.120432 -5.637030\n",
       "5  5  2.940319  0.007843"
      ]
     },
     "execution_count": 27,
     "metadata": {},
     "output_type": "execute_result"
    }
   ],
   "source": [
    "secante(f_prova,-8,-4,0.01)"
   ]
  },
  {
   "cell_type": "code",
   "execution_count": 28,
   "id": "620e69a9",
   "metadata": {
    "ExecuteTime": {
     "end_time": "2023-04-26T01:37:12.458320Z",
     "start_time": "2023-04-26T01:37:12.413806Z"
    }
   },
   "outputs": [
    {
     "data": {
      "text/html": [
       "<div>\n",
       "<style scoped>\n",
       "    .dataframe tbody tr th:only-of-type {\n",
       "        vertical-align: middle;\n",
       "    }\n",
       "\n",
       "    .dataframe tbody tr th {\n",
       "        vertical-align: top;\n",
       "    }\n",
       "\n",
       "    .dataframe thead th {\n",
       "        text-align: right;\n",
       "    }\n",
       "</style>\n",
       "<table border=\"1\" class=\"dataframe\">\n",
       "  <thead>\n",
       "    <tr style=\"text-align: right;\">\n",
       "      <th></th>\n",
       "      <th>k</th>\n",
       "      <th>X_k</th>\n",
       "      <th>f(X_k)</th>\n",
       "      <th>a_k</th>\n",
       "      <th>b_k</th>\n",
       "      <th>b_k - a_k</th>\n",
       "    </tr>\n",
       "  </thead>\n",
       "  <tbody>\n",
       "    <tr>\n",
       "      <th>0</th>\n",
       "      <td>1</td>\n",
       "      <td>-6.000000</td>\n",
       "      <td>-0.157492</td>\n",
       "      <td>-8.000000</td>\n",
       "      <td>-6.000000</td>\n",
       "      <td>2.000000</td>\n",
       "    </tr>\n",
       "    <tr>\n",
       "      <th>1</th>\n",
       "      <td>2</td>\n",
       "      <td>-7.000000</td>\n",
       "      <td>4.038835</td>\n",
       "      <td>-7.000000</td>\n",
       "      <td>-6.000000</td>\n",
       "      <td>1.000000</td>\n",
       "    </tr>\n",
       "    <tr>\n",
       "      <th>2</th>\n",
       "      <td>3</td>\n",
       "      <td>-6.500000</td>\n",
       "      <td>1.944628</td>\n",
       "      <td>-6.500000</td>\n",
       "      <td>-6.000000</td>\n",
       "      <td>0.500000</td>\n",
       "    </tr>\n",
       "    <tr>\n",
       "      <th>3</th>\n",
       "      <td>4</td>\n",
       "      <td>-6.250000</td>\n",
       "      <td>0.858438</td>\n",
       "      <td>-6.250000</td>\n",
       "      <td>-6.000000</td>\n",
       "      <td>0.250000</td>\n",
       "    </tr>\n",
       "    <tr>\n",
       "      <th>4</th>\n",
       "      <td>5</td>\n",
       "      <td>-6.125000</td>\n",
       "      <td>0.337718</td>\n",
       "      <td>-6.125000</td>\n",
       "      <td>-6.000000</td>\n",
       "      <td>0.125000</td>\n",
       "    </tr>\n",
       "    <tr>\n",
       "      <th>5</th>\n",
       "      <td>6</td>\n",
       "      <td>-6.062500</td>\n",
       "      <td>0.086473</td>\n",
       "      <td>-6.062500</td>\n",
       "      <td>-6.000000</td>\n",
       "      <td>0.062500</td>\n",
       "    </tr>\n",
       "    <tr>\n",
       "      <th>6</th>\n",
       "      <td>7</td>\n",
       "      <td>-6.031250</td>\n",
       "      <td>-0.036473</td>\n",
       "      <td>-6.062500</td>\n",
       "      <td>-6.031250</td>\n",
       "      <td>0.031250</td>\n",
       "    </tr>\n",
       "    <tr>\n",
       "      <th>7</th>\n",
       "      <td>8</td>\n",
       "      <td>-6.046875</td>\n",
       "      <td>0.024766</td>\n",
       "      <td>-6.046875</td>\n",
       "      <td>-6.031250</td>\n",
       "      <td>0.015625</td>\n",
       "    </tr>\n",
       "    <tr>\n",
       "      <th>8</th>\n",
       "      <td>9</td>\n",
       "      <td>-6.039062</td>\n",
       "      <td>-0.005913</td>\n",
       "      <td>-6.046875</td>\n",
       "      <td>-6.039062</td>\n",
       "      <td>0.007812</td>\n",
       "    </tr>\n",
       "  </tbody>\n",
       "</table>\n",
       "</div>"
      ],
      "text/plain": [
       "   k       X_k    f(X_k)       a_k       b_k  b_k - a_k\n",
       "0  1 -6.000000 -0.157492 -8.000000 -6.000000   2.000000\n",
       "1  2 -7.000000  4.038835 -7.000000 -6.000000   1.000000\n",
       "2  3 -6.500000  1.944628 -6.500000 -6.000000   0.500000\n",
       "3  4 -6.250000  0.858438 -6.250000 -6.000000   0.250000\n",
       "4  5 -6.125000  0.337718 -6.125000 -6.000000   0.125000\n",
       "5  6 -6.062500  0.086473 -6.062500 -6.000000   0.062500\n",
       "6  7 -6.031250 -0.036473 -6.062500 -6.031250   0.031250\n",
       "7  8 -6.046875  0.024766 -6.046875 -6.031250   0.015625\n",
       "8  9 -6.039062 -0.005913 -6.046875 -6.039062   0.007812"
      ]
     },
     "execution_count": 28,
     "metadata": {},
     "output_type": "execute_result"
    }
   ],
   "source": [
    "bisseccao(f_prova,-8,-4,0.01)[2]"
   ]
  },
  {
   "cell_type": "code",
   "execution_count": 29,
   "id": "ea473c14",
   "metadata": {
    "ExecuteTime": {
     "end_time": "2023-04-26T01:37:12.482894Z",
     "start_time": "2023-04-26T01:37:12.465982Z"
    }
   },
   "outputs": [],
   "source": [
    "zeros = []\n",
    "zero_1 = -6.039062 #Encontrado por bisseccao\n",
    "zeros.append(zero_1)"
   ]
  },
  {
   "cell_type": "markdown",
   "id": "2f5eaf3a",
   "metadata": {},
   "source": [
    "## 1. b) Partindo de x_0 = -2.1 e com método de Newton"
   ]
  },
  {
   "cell_type": "code",
   "execution_count": 30,
   "id": "f181a95e",
   "metadata": {
    "ExecuteTime": {
     "end_time": "2023-04-26T01:37:12.500425Z",
     "start_time": "2023-04-26T01:37:12.488393Z"
    }
   },
   "outputs": [],
   "source": [
    "def f_prova_der(x):\n",
    "    return (x+2)*np.cos(x)"
   ]
  },
  {
   "cell_type": "code",
   "execution_count": 31,
   "id": "dbb09b21",
   "metadata": {
    "ExecuteTime": {
     "end_time": "2023-04-26T01:37:12.550472Z",
     "start_time": "2023-04-26T01:37:12.506900Z"
    }
   },
   "outputs": [
    {
     "data": {
      "text/html": [
       "<div>\n",
       "<style scoped>\n",
       "    .dataframe tbody tr th:only-of-type {\n",
       "        vertical-align: middle;\n",
       "    }\n",
       "\n",
       "    .dataframe tbody tr th {\n",
       "        vertical-align: top;\n",
       "    }\n",
       "\n",
       "    .dataframe thead th {\n",
       "        text-align: right;\n",
       "    }\n",
       "</style>\n",
       "<table border=\"1\" class=\"dataframe\">\n",
       "  <thead>\n",
       "    <tr style=\"text-align: right;\">\n",
       "      <th></th>\n",
       "      <th>k</th>\n",
       "      <th>X_k</th>\n",
       "      <th>f(X_k)</th>\n",
       "      <th>f_deriv(X_k)</th>\n",
       "    </tr>\n",
       "  </thead>\n",
       "  <tbody>\n",
       "    <tr>\n",
       "      <th>0</th>\n",
       "      <td>1</td>\n",
       "      <td>6.190153</td>\n",
       "      <td>0.234829</td>\n",
       "      <td>8.154736</td>\n",
       "    </tr>\n",
       "    <tr>\n",
       "      <th>1</th>\n",
       "      <td>2</td>\n",
       "      <td>6.161357</td>\n",
       "      <td>0.000760</td>\n",
       "      <td>8.100865</td>\n",
       "    </tr>\n",
       "  </tbody>\n",
       "</table>\n",
       "</div>"
      ],
      "text/plain": [
       "   k       X_k    f(X_k)  f_deriv(X_k)\n",
       "0  1  6.190153  0.234829      8.154736\n",
       "1  2  6.161357  0.000760      8.100865"
      ]
     },
     "execution_count": 31,
     "metadata": {},
     "output_type": "execute_result"
    }
   ],
   "source": [
    "ponto_fixo_newton(f_prova,f_prova_der,-2.1,0.01)"
   ]
  },
  {
   "cell_type": "code",
   "execution_count": 32,
   "id": "6f2b84fc",
   "metadata": {
    "ExecuteTime": {
     "end_time": "2023-04-26T01:37:12.567145Z",
     "start_time": "2023-04-26T01:37:12.557327Z"
    }
   },
   "outputs": [],
   "source": [
    "zero_2 = 6.161357\n",
    "zeros.append(zero_2)"
   ]
  },
  {
   "cell_type": "code",
   "execution_count": 33,
   "id": "10dbff03",
   "metadata": {
    "ExecuteTime": {
     "end_time": "2023-04-26T01:37:13.260389Z",
     "start_time": "2023-04-26T01:37:12.573928Z"
    }
   },
   "outputs": [
    {
     "data": {
      "image/png": "[encoded data removed]",
      "text/plain": [
       "<Figure size 432x288 with 1 Axes>"
      ]
     },
     "metadata": {},
     "output_type": "display_data"
    }
   ],
   "source": [
    "plt.style.use('cyberpunk')\n",
    "plt.title(\"Verificando aos zeros da função\")\n",
    "plt.plot(list(range(-10,10)),y)\n",
    "plt.axhline(0, color='k') # y = zero\n",
    "plt.plot(zeros,[0,0],'rx',alpha = 0.9)\n",
    "plt.legend(['Função'])\n",
    "plt.show()"
   ]
  },
  {
   "cell_type": "markdown",
   "id": "4d72c489",
   "metadata": {},
   "source": [
    "### C) bissecção entre 0 e 4"
   ]
  },
  {
   "cell_type": "code",
   "execution_count": 34,
   "id": "c6cc373d",
   "metadata": {
    "ExecuteTime": {
     "end_time": "2023-04-26T01:37:13.319045Z",
     "start_time": "2023-04-26T01:37:13.267576Z"
    }
   },
   "outputs": [
    {
     "data": {
      "text/html": [
       "<div>\n",
       "<style scoped>\n",
       "    .dataframe tbody tr th:only-of-type {\n",
       "        vertical-align: middle;\n",
       "    }\n",
       "\n",
       "    .dataframe tbody tr th {\n",
       "        vertical-align: top;\n",
       "    }\n",
       "\n",
       "    .dataframe thead th {\n",
       "        text-align: right;\n",
       "    }\n",
       "</style>\n",
       "<table border=\"1\" class=\"dataframe\">\n",
       "  <thead>\n",
       "    <tr style=\"text-align: right;\">\n",
       "      <th></th>\n",
       "      <th>k</th>\n",
       "      <th>X_k</th>\n",
       "      <th>f(X_k)</th>\n",
       "      <th>a_k</th>\n",
       "      <th>b_k</th>\n",
       "      <th>b_k - a_k</th>\n",
       "    </tr>\n",
       "  </thead>\n",
       "  <tbody>\n",
       "    <tr>\n",
       "      <th>0</th>\n",
       "      <td>1</td>\n",
       "      <td>2.000000</td>\n",
       "      <td>3.221043</td>\n",
       "      <td>2.0000</td>\n",
       "      <td>4.000000</td>\n",
       "      <td>2.000000</td>\n",
       "    </tr>\n",
       "    <tr>\n",
       "      <th>1</th>\n",
       "      <td>2</td>\n",
       "      <td>3.000000</td>\n",
       "      <td>-0.284392</td>\n",
       "      <td>2.0000</td>\n",
       "      <td>3.000000</td>\n",
       "      <td>1.000000</td>\n",
       "    </tr>\n",
       "    <tr>\n",
       "      <th>2</th>\n",
       "      <td>3</td>\n",
       "      <td>2.500000</td>\n",
       "      <td>1.891981</td>\n",
       "      <td>2.5000</td>\n",
       "      <td>3.000000</td>\n",
       "      <td>0.500000</td>\n",
       "    </tr>\n",
       "    <tr>\n",
       "      <th>3</th>\n",
       "      <td>4</td>\n",
       "      <td>2.750000</td>\n",
       "      <td>0.888587</td>\n",
       "      <td>2.7500</td>\n",
       "      <td>3.000000</td>\n",
       "      <td>0.250000</td>\n",
       "    </tr>\n",
       "    <tr>\n",
       "      <th>4</th>\n",
       "      <td>5</td>\n",
       "      <td>2.875000</td>\n",
       "      <td>0.319625</td>\n",
       "      <td>2.8750</td>\n",
       "      <td>3.000000</td>\n",
       "      <td>0.125000</td>\n",
       "    </tr>\n",
       "    <tr>\n",
       "      <th>5</th>\n",
       "      <td>6</td>\n",
       "      <td>2.937500</td>\n",
       "      <td>0.021481</td>\n",
       "      <td>2.9375</td>\n",
       "      <td>3.000000</td>\n",
       "      <td>0.062500</td>\n",
       "    </tr>\n",
       "    <tr>\n",
       "      <th>6</th>\n",
       "      <td>7</td>\n",
       "      <td>2.968750</td>\n",
       "      <td>-0.130558</td>\n",
       "      <td>2.9375</td>\n",
       "      <td>2.968750</td>\n",
       "      <td>0.031250</td>\n",
       "    </tr>\n",
       "    <tr>\n",
       "      <th>7</th>\n",
       "      <td>8</td>\n",
       "      <td>2.953125</td>\n",
       "      <td>-0.054305</td>\n",
       "      <td>2.9375</td>\n",
       "      <td>2.953125</td>\n",
       "      <td>0.015625</td>\n",
       "    </tr>\n",
       "    <tr>\n",
       "      <th>8</th>\n",
       "      <td>9</td>\n",
       "      <td>2.945312</td>\n",
       "      <td>-0.016353</td>\n",
       "      <td>2.9375</td>\n",
       "      <td>2.945312</td>\n",
       "      <td>0.007812</td>\n",
       "    </tr>\n",
       "  </tbody>\n",
       "</table>\n",
       "</div>"
      ],
      "text/plain": [
       "   k       X_k    f(X_k)     a_k       b_k  b_k - a_k\n",
       "0  1  2.000000  3.221043  2.0000  4.000000   2.000000\n",
       "1  2  3.000000 -0.284392  2.0000  3.000000   1.000000\n",
       "2  3  2.500000  1.891981  2.5000  3.000000   0.500000\n",
       "3  4  2.750000  0.888587  2.7500  3.000000   0.250000\n",
       "4  5  2.875000  0.319625  2.8750  3.000000   0.125000\n",
       "5  6  2.937500  0.021481  2.9375  3.000000   0.062500\n",
       "6  7  2.968750 -0.130558  2.9375  2.968750   0.031250\n",
       "7  8  2.953125 -0.054305  2.9375  2.953125   0.015625\n",
       "8  9  2.945312 -0.016353  2.9375  2.945312   0.007812"
      ]
     },
     "execution_count": 34,
     "metadata": {},
     "output_type": "execute_result"
    }
   ],
   "source": [
    "bisseccao(f_prova,0,4,0.01)[2]"
   ]
  },
  {
   "cell_type": "code",
   "execution_count": 35,
   "id": "206d63b3",
   "metadata": {
    "ExecuteTime": {
     "end_time": "2023-04-26T01:37:13.331682Z",
     "start_time": "2023-04-26T01:37:13.325057Z"
    }
   },
   "outputs": [],
   "source": [
    "zeros.append(2.945312)"
   ]
  },
  {
   "cell_type": "markdown",
   "id": "e0cc731a",
   "metadata": {},
   "source": [
    "## 1. D) Partindo de a_0 = 5 e b_0 = 8, com método de Posição Falsa"
   ]
  },
  {
   "cell_type": "code",
   "execution_count": 36,
   "id": "bb190839",
   "metadata": {
    "ExecuteTime": {
     "end_time": "2023-04-26T01:37:13.396887Z",
     "start_time": "2023-04-26T01:37:13.341169Z"
    }
   },
   "outputs": [
    {
     "data": {
      "text/html": [
       "<div>\n",
       "<style scoped>\n",
       "    .dataframe tbody tr th:only-of-type {\n",
       "        vertical-align: middle;\n",
       "    }\n",
       "\n",
       "    .dataframe tbody tr th {\n",
       "        vertical-align: top;\n",
       "    }\n",
       "\n",
       "    .dataframe thead th {\n",
       "        text-align: right;\n",
       "    }\n",
       "</style>\n",
       "<table border=\"1\" class=\"dataframe\">\n",
       "  <thead>\n",
       "    <tr style=\"text-align: right;\">\n",
       "      <th></th>\n",
       "      <th>k</th>\n",
       "      <th>X_k</th>\n",
       "      <th>f(X_k)</th>\n",
       "      <th>a_k</th>\n",
       "      <th>f(ak)</th>\n",
       "      <th>b_k</th>\n",
       "      <th>f(bk)</th>\n",
       "      <th>b_k - a_k</th>\n",
       "    </tr>\n",
       "  </thead>\n",
       "  <tbody>\n",
       "    <tr>\n",
       "      <th>0</th>\n",
       "      <td>1</td>\n",
       "      <td>6.192221</td>\n",
       "      <td>0.251691</td>\n",
       "      <td>5.000000</td>\n",
       "      <td>-6.428808</td>\n",
       "      <td>6.192221</td>\n",
       "      <td>0.251691</td>\n",
       "      <td>1.192221</td>\n",
       "    </tr>\n",
       "    <tr>\n",
       "      <th>1</th>\n",
       "      <td>2</td>\n",
       "      <td>6.147303</td>\n",
       "      <td>-0.112886</td>\n",
       "      <td>6.147303</td>\n",
       "      <td>-0.112886</td>\n",
       "      <td>6.192221</td>\n",
       "      <td>0.251691</td>\n",
       "      <td>0.044917</td>\n",
       "    </tr>\n",
       "    <tr>\n",
       "      <th>2</th>\n",
       "      <td>3</td>\n",
       "      <td>6.161211</td>\n",
       "      <td>-0.000418</td>\n",
       "      <td>6.161211</td>\n",
       "      <td>-0.000418</td>\n",
       "      <td>6.192221</td>\n",
       "      <td>0.251691</td>\n",
       "      <td>0.031009</td>\n",
       "    </tr>\n",
       "  </tbody>\n",
       "</table>\n",
       "</div>"
      ],
      "text/plain": [
       "   k       X_k    f(X_k)       a_k     f(ak)       b_k     f(bk)  b_k - a_k\n",
       "0  1  6.192221  0.251691  5.000000 -6.428808  6.192221  0.251691   1.192221\n",
       "1  2  6.147303 -0.112886  6.147303 -0.112886  6.192221  0.251691   0.044917\n",
       "2  3  6.161211 -0.000418  6.161211 -0.000418  6.192221  0.251691   0.031009"
      ]
     },
     "execution_count": 36,
     "metadata": {},
     "output_type": "execute_result"
    }
   ],
   "source": [
    "posicao_falsa(f_prova,5,8,0.01)"
   ]
  },
  {
   "cell_type": "code",
   "execution_count": 37,
   "id": "0c7a7ebe",
   "metadata": {
    "ExecuteTime": {
     "end_time": "2023-04-26T01:37:13.415237Z",
     "start_time": "2023-04-26T01:37:13.402969Z"
    }
   },
   "outputs": [],
   "source": [
    "zeros.append(6.161211)"
   ]
  },
  {
   "cell_type": "code",
   "execution_count": 38,
   "id": "7f6ad7db",
   "metadata": {
    "ExecuteTime": {
     "end_time": "2023-04-26T01:37:14.039656Z",
     "start_time": "2023-04-26T01:37:13.420749Z"
    },
    "scrolled": true
   },
   "outputs": [
    {
     "data": {
      "image/png": "[encoded data removed]",
      "text/plain": [
       "<Figure size 432x288 with 1 Axes>"
      ]
     },
     "metadata": {},
     "output_type": "display_data"
    }
   ],
   "source": [
    "plt.style.use('cyberpunk')\n",
    "plt.title(\"Verificando aos zeros da função\")\n",
    "plt.plot(list(range(-10,10)),y)\n",
    "plt.axhline(0, color='k') # y = zero\n",
    "plt.plot(zeros,[0,0,0,0],'rx',alpha = 0.9)\n",
    "plt.legend(['Função'])\n",
    "plt.show()"
   ]
  },
  {
   "cell_type": "markdown",
   "id": "21c7f9ab",
   "metadata": {},
   "source": [
    "### Questão 2:\n",
    "Tentativa de encontrar a raíz seguindo o phi que não converge (para confirmar)"
   ]
  },
  {
   "cell_type": "code",
   "execution_count": 39,
   "id": "a03d67cb",
   "metadata": {
    "ExecuteTime": {
     "end_time": "2023-04-26T01:37:14.069744Z",
     "start_time": "2023-04-26T01:37:14.046809Z"
    }
   },
   "outputs": [
    {
     "name": "stdout",
     "output_type": "stream",
     "text": [
      "Não foi possível encontrar uma raiz com a precisão desejada.\n"
     ]
    }
   ],
   "source": [
    "def phi(x):\n",
    "    return -(np.cos(x)/np.sin(x)) - 2 # Define a função phi(x)\n",
    "\n",
    "def ponto_fixo(g, x0, tol, max_it):\n",
    "    for i in range(max_it):\n",
    "        x1 = g(x0)\n",
    "        if abs(x1 - x0) < tol:\n",
    "            return x1\n",
    "        x0 = x1\n",
    "    return None\n",
    "\n",
    "x0 = 5 # Define o valor inicial\n",
    "tol = 0.01 # Define a tolerância\n",
    "max_it = 100 # Define o número máximo de iterações\n",
    "\n",
    "raiz = ponto_fixo(phi, x0, tol, max_it) # Encontra a raiz por meio do método do ponto fixo\n",
    "\n",
    "if raiz is not None:\n",
    "    print(f\"A raiz da função é {raiz:.6f}.\")\n",
    "else:\n",
    "    print(\"Não foi possível encontrar uma raiz com a precisão desejada.\")"
   ]
  },
  {
   "cell_type": "code",
   "execution_count": 40,
   "id": "4fbb698f",
   "metadata": {
    "ExecuteTime": {
     "end_time": "2023-04-26T01:37:28.595428Z",
     "start_time": "2023-04-26T01:37:14.079175Z"
    }
   },
   "outputs": [
    {
     "name": "stdout",
     "output_type": "stream",
     "text": [
      "[NbConvertApp] Converting notebook Notebook_av1_2.ipynb to webpdf\n",
      "[NbConvertApp] Writing 246848 bytes to Notebook_av1_2.pdf\n"
     ]
    }
   ],
   "source": [
    "!jupyter nbconvert --to webpdf --allow-chromium-download Notebook_av1_2.ipynb"
   ]
  },
  {
   "cell_type": "code",
   "execution_count": null,
   "id": "1bf298a2",
   "metadata": {},
   "outputs": [],
   "source": []
  }
 ],
 "metadata": {
  "kernelspec": {
   "display_name": "Python 3",
   "language": "python",
   "name": "python3"
  },
  "language_info": {
   "codemirror_mode": {
    "name": "ipython",
    "version": 3
   },
   "file_extension": ".py",
   "mimetype": "text/x-python",
   "name": "python",
   "nbconvert_exporter": "python",
   "pygments_lexer": "ipython3",
   "version": "3.8.3"
  }
 },
 "nbformat": 4,
 "nbformat_minor": 5
}
