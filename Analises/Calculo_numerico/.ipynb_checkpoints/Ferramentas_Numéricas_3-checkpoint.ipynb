{
 "cells": [
  {
   "cell_type": "code",
   "execution_count": 1,
   "id": "253d18c4",
   "metadata": {
    "ExecuteTime": {
     "end_time": "2023-06-17T16:15:10.543462Z",
     "start_time": "2023-06-17T16:15:08.096183Z"
    },
    "code_folding": []
   },
   "outputs": [],
   "source": [
    "# Importando Bibliotecas\n",
    "import numpy as np\n",
    "import pandas as pd\n",
    "import matplotlib.pyplot as plt\n",
    "import astropy.units as u\n",
    "import math\n",
    "import scipy.stats as stats\n",
    "from tqdm import tqdm \n",
    "import time\n",
    "import mplcyberpunk\n",
    "import smtplib"
   ]
  },
  {
   "cell_type": "markdown",
   "id": "64d51002",
   "metadata": {},
   "source": [
    "# Cálculo Numérico\n",
    "### Ferramenta auxiliar\n",
    "\n",
    "*Thiago Laidler Vidal Cunha*"
   ]
  },
  {
   "cell_type": "markdown",
   "id": "36cfb51a",
   "metadata": {},
   "source": [
    "### Ajuste de curvas"
   ]
  },
  {
   "cell_type": "code",
   "execution_count": 2,
   "id": "6c809da6",
   "metadata": {
    "ExecuteTime": {
     "end_time": "2023-06-17T16:15:10.565769Z",
     "start_time": "2023-06-17T16:15:10.548422Z"
    }
   },
   "outputs": [],
   "source": [
    "def Minimos_Quadrados(x, y, func):\n",
    "    \"\"\"Ajuste de curva pelo método dos mínimos quadrados\"\"\"\n",
    "    n = len(x)\n",
    "    m = len(func)\n",
    "    \n",
    "    # Construção da matriz V\n",
    "    V = np.zeros((n, m))\n",
    "    for i in range(n):\n",
    "        for j in range(m):\n",
    "            V[i, j] = func[j](x[i])\n",
    "    \n",
    "    # Cálculo da matriz transposta de V\n",
    "    Vt = V.T\n",
    "    \n",
    "    # Cálculo da matriz V^T * V = A\n",
    "    VtV = np.dot(Vt, V)\n",
    "    \n",
    "    # Cálculo da matriz V^T * y = b\n",
    "    VtY = np.dot(Vt, y)\n",
    "    \n",
    "    # Cálculo do vetor de coeficientes \n",
    "    coefficients = np.linalg.solve(VtV, VtY)\n",
    "    \n",
    "    # Criação dos DataFrames para armazenar as matrizes\n",
    "    df_V = pd.DataFrame(V, columns=['f{}'.format(i+1) for i in range(m)])\n",
    "    df_Vt = pd.DataFrame(Vt, columns=['f{}'.format(i+1) for i in range(n)])\n",
    "    df_VtV = pd.DataFrame(VtV, columns=['f{}'.format(i+1) for i in range(m)], index=['f{}'.format(i+1) for i in range(m)])\n",
    "    df_VtY = pd.DataFrame(VtY, columns=['y'])\n",
    "    \n",
    "    return df_V, df_Vt, df_VtV, df_VtY, coefficients"
   ]
  },
  {
   "cell_type": "code",
   "execution_count": 3,
   "id": "41c65013",
   "metadata": {
    "ExecuteTime": {
     "end_time": "2023-06-17T16:15:10.628432Z",
     "start_time": "2023-06-17T16:15:10.576223Z"
    }
   },
   "outputs": [
    {
     "data": {
      "text/plain": [
       "array([ 244.03657993, -161.18783062])"
      ]
     },
     "execution_count": 3,
     "metadata": {},
     "output_type": "execute_result"
    }
   ],
   "source": [
    "# Dados de entrada\n",
    "x = [0, 0.25, 0.5, 0.75, 1]\n",
    "y = [-153, 64, 242, 284, 175]\n",
    "func = [lambda x: np.sin(np.pi * x), lambda x: np.cos(np.pi * x)]  # Funções de base. Lambda para criar funcoes com qualquer coeficiente\n",
    "\n",
    "# Ajuste de curva pelo método dos mínimos quadrados\n",
    "Minimos_Quadrados(x, y, func)[4]"
   ]
  },
  {
   "cell_type": "code",
   "execution_count": 4,
   "id": "c45fc2a9",
   "metadata": {
    "ExecuteTime": {
     "end_time": "2023-06-17T16:15:10.691194Z",
     "start_time": "2023-06-17T16:15:10.639500Z"
    }
   },
   "outputs": [
    {
     "data": {
      "text/plain": [
       "(    f1    f2      f3\n",
       " 0  1.0  0.00  0.0000\n",
       " 1  1.0  0.25  0.0625\n",
       " 2  1.0  0.50  0.2500\n",
       " 3  1.0  0.75  0.5625\n",
       " 4  1.0  1.00  1.0000,\n",
       "     f1      f2    f3      f4   f5\n",
       " 0  1.0  1.0000  1.00  1.0000  1.0\n",
       " 1  0.0  0.2500  0.50  0.7500  1.0\n",
       " 2  0.0  0.0625  0.25  0.5625  1.0,\n",
       "        f1      f2        f3\n",
       " f1  5.000  2.5000  1.875000\n",
       " f2  2.500  1.8750  1.562500\n",
       " f3  1.875  1.5625  1.382812,\n",
       "         y\n",
       " 0  612.00\n",
       " 1  525.00\n",
       " 2  399.25,\n",
       " array([-165.37142857, 1250.97142857, -900.57142857]))"
      ]
     },
     "execution_count": 4,
     "metadata": {},
     "output_type": "execute_result"
    }
   ],
   "source": [
    "# Função de ajuste: f = a + b*x + c*x^2\n",
    "func = [lambda x: 1, lambda x: x, lambda x: x**2]\n",
    "\n",
    "# Tabela de dados\n",
    "x = np.array([0, 0.25, 0.5, 0.75, 1])\n",
    "y = np.array([-153, 64, 242, 284, 175])\n",
    "\n",
    "# Ajuste de curva pelo método dos mínimos quadrados\n",
    "Minimos_Quadrados(x, y, func)"
   ]
  },
  {
   "cell_type": "code",
   "execution_count": 5,
   "id": "fe28af86",
   "metadata": {
    "ExecuteTime": {
     "end_time": "2023-06-17T16:15:11.255581Z",
     "start_time": "2023-06-17T16:15:10.696866Z"
    }
   },
   "outputs": [
    {
     "data": {
      "image/png": "[encoded data removed]",
      "text/plain": [
       "<Figure size 432x288 with 1 Axes>"
      ]
     },
     "metadata": {
      "needs_background": "dark"
     },
     "output_type": "display_data"
    }
   ],
   "source": [
    "coef = Minimos_Quadrados(x, y, func)[4]\n",
    "def fun_lin(a,b,c,x):\n",
    "    return a + b*x + c*x**2\n",
    "\n",
    "plt.style.use('cyberpunk')\n",
    "plt.title(\"Gráfico Exemplo\")\n",
    "plt.plot(x,y,'.')\n",
    "plt.plot(x,fun_lin(coef[0],coef[1],coef[2],x),'r-')\n",
    "#plt.plot(9,np.min(polin_lag(x)),'yx',alpha = 0.9)\n",
    "plt.legend(['Dados','Curva Ajustada'])\n",
    "plt.show()"
   ]
  },
  {
   "cell_type": "code",
   "execution_count": 6,
   "id": "64867570",
   "metadata": {
    "ExecuteTime": {
     "end_time": "2023-06-17T16:15:11.308209Z",
     "start_time": "2023-06-17T16:15:11.262482Z"
    }
   },
   "outputs": [
    {
     "data": {
      "text/plain": [
       "(    f1    f2      f3        f4\n",
       " 0  1.0  0.90  0.8100 -0.105361\n",
       " 1  1.0  1.35  1.8225  0.300105\n",
       " 2  1.0  1.40  1.9600  0.336472\n",
       " 3  1.0  1.45  2.1025  0.371564\n",
       " 4  1.0  1.96  3.8416  0.672944\n",
       " 5  1.0  2.10  4.4100  0.741937\n",
       " 6  1.0  2.32  5.3824  0.841567\n",
       " 7  1.0  2.40  5.7600  0.875469,\n",
       "          f1        f2        f3        f4        f5        f6        f7  \\\n",
       " 0  1.000000  1.000000  1.000000  1.000000  1.000000  1.000000  1.000000   \n",
       " 1  0.900000  1.350000  1.400000  1.450000  1.960000  2.100000  2.320000   \n",
       " 2  0.810000  1.822500  1.960000  2.102500  3.841600  4.410000  5.382400   \n",
       " 3 -0.105361  0.300105  0.336472  0.371564  0.672944  0.741937  0.841567   \n",
       " \n",
       "          f8  \n",
       " 0  1.000000  \n",
       " 1  2.400000  \n",
       " 2  5.760000  \n",
       " 3  0.875469  ,\n",
       "            f1         f2          f3         f4\n",
       " f1   8.000000  13.880000   26.089000   4.034698\n",
       " f2  13.880000  26.089000   52.083704   8.250745\n",
       " f3  26.089000  52.083704  108.593533  17.331775\n",
       " f4   4.034698   8.250745   17.331775   2.830443,\n",
       "                y\n",
       " 0   82564.834000\n",
       " 1  194462.026250\n",
       " 2  458638.951914\n",
       " 3   70666.328171,\n",
       " array([ 1229095.45118565, -1482832.74344702,   260194.9993878 ,\n",
       "         1002130.21011983]))"
      ]
     },
     "execution_count": 6,
     "metadata": {},
     "output_type": "execute_result"
    }
   ],
   "source": [
    "func = [lambda x:1,lambda x: x, lambda x: x**2, lambda x: np.log(x)] #após linearização da exponencial\n",
    "\n",
    "x = np.array([0.9, 1.35, 1.4, 1.45, 1.96, 2.1, 2.32, 2.4])\n",
    "y = np.array([1.687, 18.107, 24.372, 33.082, 1175.12, 3655.226, 25032.65, 52624.59])\n",
    "Minimos_Quadrados(x, y, func)"
   ]
  },
  {
   "cell_type": "code",
   "execution_count": 7,
   "id": "cc83135d",
   "metadata": {
    "ExecuteTime": {
     "end_time": "2023-06-17T16:15:11.786973Z",
     "start_time": "2023-06-17T16:15:11.316730Z"
    }
   },
   "outputs": [
    {
     "data": {
      "image/png": "[encoded data removed]",
      "text/plain": [
       "<Figure size 432x288 with 1 Axes>"
      ]
     },
     "metadata": {},
     "output_type": "display_data"
    }
   ],
   "source": [
    "coef = Minimos_Quadrados(x, y, func)[4]\n",
    "def fun_lin(a,b,c,d,x):\n",
    "    return a + b*x + c*x**2 + d*np.log(x)\n",
    "\n",
    "plt.style.use('cyberpunk')\n",
    "plt.title(\"Gráfico Exemplo\")\n",
    "plt.plot(x,y,'.')\n",
    "plt.plot(x,fun_lin(coef[0],coef[1],coef[2],coef[3],x),'r-')\n",
    "#plt.plot(9,np.min(polin_lag(x)),'yx',alpha = 0.9)\n",
    "plt.legend(['Dados','Curva Ajustada'])\n",
    "plt.show()"
   ]
  },
  {
   "cell_type": "markdown",
   "id": "7b8f0bc8",
   "metadata": {
    "ExecuteTime": {
     "end_time": "2023-06-17T03:50:40.815248Z",
     "start_time": "2023-06-17T03:50:40.808832Z"
    }
   },
   "source": [
    "### Métodos de integrais"
   ]
  },
  {
   "cell_type": "markdown",
   "id": "d536ddea",
   "metadata": {},
   "source": [
    " - Método dos trapézios"
   ]
  },
  {
   "cell_type": "markdown",
   "id": "1673408c",
   "metadata": {},
   "source": [
    "    A função integral_trapezoidal recebe como entrada a função f, os limites de integração a e b, e o número de subintervalos n.\n",
    "    Calculamos o tamanho de cada subintervalo h dividindo a diferença entre b e a por n.\n",
    "    Inicializamos a soma com o valor de f(a) e f(b).\n",
    "    Utilizamos um loop para somar os valores intermediários. Para cada subintervalo, calculamos o valor de x e adicionamos 2 * f(x) à soma.\n",
    "    Finalmente, calculamos a integral multiplicando a soma pelo tamanho do subintervalo h e dividindo por 2."
   ]
  },
  {
   "cell_type": "code",
   "execution_count": 9,
   "id": "db5eb4dd",
   "metadata": {
    "ExecuteTime": {
     "end_time": "2023-06-17T16:19:27.864073Z",
     "start_time": "2023-06-17T16:19:27.852367Z"
    }
   },
   "outputs": [],
   "source": [
    "def integral_trapezoidal(f, a, b, n):\n",
    "    # Cálculo do tamanho do intervalo\n",
    "    h = (b - a) / n\n",
    "    \n",
    "    # Inicialização da soma\n",
    "    soma = f(a) + f(b)\n",
    "    \n",
    "    # Loop para somar os valores intermediários\n",
    "    for i in range(1, n):\n",
    "        x = a + i * h\n",
    "        soma += 2 * f(x)\n",
    "    \n",
    "    # Cálculo da integral usando a fórmula dos trapézios\n",
    "    integral = (h / 2) * soma\n",
    "    \n",
    "    return integral"
   ]
  },
  {
   "cell_type": "markdown",
   "id": "38b42f6f",
   "metadata": {},
   "source": [
    "- Método 1/3 de Simpson"
   ]
  },
  {
   "cell_type": "markdown",
   "id": "a26d5d44",
   "metadata": {},
   "source": [
    "    A função integral_simpson recebe como entrada a função f, os limites de integração a e b, e o número de subintervalos n.\n",
    "    Verificamos se n é par. Se não for, lançamos um erro, pois o método de Simpson requer um número par de subintervalos.\n",
    "    Calculamos o tamanho de cada subintervalo h dividindo a diferença entre b e a por n.\n",
    "    Inicializamos a soma com o valor de f(a) e f(b).\n",
    "    Utilizamos um loop para somar os valores intermediários. Para cada subintervalo, calculamos o valor de x e adicionamos 2 * f(x) se o índice i for par, ou 4 * f(x) se o índice i for ímpar.\n",
    "    Finalmente, calculamos a integral multiplicando a soma pelo tamanho do subintervalo h e dividindo por 3."
   ]
  },
  {
   "cell_type": "code",
   "execution_count": 10,
   "id": "2a1ac8b5",
   "metadata": {
    "ExecuteTime": {
     "end_time": "2023-06-17T16:19:50.420169Z",
     "start_time": "2023-06-17T16:19:50.406112Z"
    }
   },
   "outputs": [],
   "source": [
    "def integral_simpson(f, a, b, n):\n",
    "    # Verificação de n par\n",
    "    if n % 2 != 0:\n",
    "        raise ValueError(\"O número de subintervalos deve ser par.\")\n",
    "    \n",
    "    # Cálculo do tamanho do intervalo\n",
    "    h = (b - a) / n\n",
    "    \n",
    "    # Inicialização da soma\n",
    "    soma = f(a) + f(b)\n",
    "    \n",
    "    # Loop para somar os valores intermediários\n",
    "    for i in range(1, n):\n",
    "        x = a + i * h\n",
    "        if i % 2 == 0:\n",
    "            soma += 2 * f(x)\n",
    "        else:\n",
    "            soma += 4 * f(x)\n",
    "    \n",
    "    # Cálculo da integral usando a fórmula de 1/3 de Simpson\n",
    "    integral = (h / 3) * soma\n",
    "    \n",
    "    return integral"
   ]
  },
  {
   "cell_type": "code",
   "execution_count": 11,
   "id": "00c4ebe9",
   "metadata": {
    "ExecuteTime": {
     "end_time": "2023-06-17T16:24:46.752946Z",
     "start_time": "2023-06-17T16:24:46.718785Z"
    }
   },
   "outputs": [
    {
     "name": "stdout",
     "output_type": "stream",
     "text": [
      "Método dos Trapézios (4 divisões):\n",
      "Valor aproximado da integral: 4.695075916875121\n",
      "Limitante superior para o erro: 0.03848466718193047\n",
      "\n",
      "Método dos Trapézios (6 divisões):\n",
      "Valor aproximado da integral: 4.6815812457126675\n",
      "Limitante superior para o erro: 0.01710429652530243\n",
      "\n",
      "Método de 1/3 de Simpson (4 divisões):\n",
      "Valor aproximado da integral: 4.670874883494676\n",
      "Limitante superior para o erro: 0.0001603527799247103\n",
      "\n",
      "Método de 1/3 de Simpson (6 divisões):\n",
      "Valor aproximado da integral: 4.670794226633774\n",
      "Limitante superior para o erro: 3.167462319500451e-05\n"
     ]
    }
   ],
   "source": [
    "def f(x):\n",
    "    return np.exp(x)\n",
    "\n",
    "#Exemplo, numero 1 letra A da lista\n",
    "# Definição dos limites de integração\n",
    "a = 1\n",
    "b = 2\n",
    "\n",
    "# Número de subintervalos\n",
    "n_trapezios_4 = 4\n",
    "n_trapezios_6 = 6\n",
    "n_simpson_4 = 4\n",
    "n_simpson_6 = 6\n",
    "\n",
    "# Cálculo das integrais pelos métodos dos trapézios e de 1/3 de Simpson\n",
    "integral_trapezios_4 = integral_trapezoidal(f, a, b, n_trapezios_4)\n",
    "integral_trapezios_6 = integral_trapezoidal(f, a, b, n_trapezios_6)\n",
    "integral_simpson_4 = integral_simpson(f, a, b, n_simpson_4)\n",
    "integral_simpson_6 = integral_simpson(f, a, b, n_simpson_6)\n",
    "\n",
    "# Cálculo dos limitantes superiores para o erro\n",
    "erro_trapezios_4 = (b - a) ** 3 / (12 * n_trapezios_4 ** 2) * np.exp(b)\n",
    "erro_trapezios_6 = (b - a) ** 3 / (12 * n_trapezios_6 ** 2) * np.exp(b)\n",
    "erro_simpson_4 = (b - a) ** 5 / (180 * n_simpson_4 ** 4) * np.exp(b)\n",
    "erro_simpson_6 = (b - a) ** 5 / (180 * n_simpson_6 ** 4) * np.exp(b)\n",
    "\n",
    "# Resultados\n",
    "print(\"Método dos Trapézios (4 divisões):\")\n",
    "print(\"Valor aproximado da integral:\", integral_trapezios_4)\n",
    "print(\"Limitante superior para o erro:\", erro_trapezios_4)\n",
    "print()\n",
    "print(\"Método dos Trapézios (6 divisões):\")\n",
    "print(\"Valor aproximado da integral:\", integral_trapezios_6)\n",
    "print(\"Limitante superior para o erro:\", erro_trapezios_6)\n",
    "print()\n",
    "print(\"Método de 1/3 de Simpson (4 divisões):\")\n",
    "print(\"Valor aproximado da integral:\", integral_simpson_4)\n",
    "print(\"Limitante superior para o erro:\", erro_simpson_4)\n",
    "print()\n",
    "print(\"Método de 1/3 de Simpson (6 divisões):\")\n",
    "print(\"Valor aproximado da integral:\", integral_simpson_6)\n",
    "print(\"Limitante superior para o erro:\", erro_simpson_6)"
   ]
  },
  {
   "cell_type": "code",
   "execution_count": null,
   "id": "2918c403",
   "metadata": {},
   "outputs": [],
   "source": []
  }
 ],
 "metadata": {
  "kernelspec": {
   "display_name": "Python 3",
   "language": "python",
   "name": "python3"
  },
  "language_info": {
   "codemirror_mode": {
    "name": "ipython",
    "version": 3
   },
   "file_extension": ".py",
   "mimetype": "text/x-python",
   "name": "python",
   "nbconvert_exporter": "python",
   "pygments_lexer": "ipython3",
   "version": "3.8.3"
  }
 },
 "nbformat": 4,
 "nbformat_minor": 5
}
