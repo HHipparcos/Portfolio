{
 "cells": [
  {
   "cell_type": "code",
   "execution_count": 1,
   "id": "253d18c4",
   "metadata": {
    "ExecuteTime": {
     "end_time": "2023-05-21T22:58:49.866140Z",
     "start_time": "2023-05-21T22:58:47.421707Z"
    },
    "code_folding": []
   },
   "outputs": [],
   "source": [
    "# Importando Bibliotecas\n",
    "import numpy as np\n",
    "import pandas as pd\n",
    "import matplotlib.pyplot as plt\n",
    "import astropy.units as u\n",
    "import math\n",
    "import scipy.stats as stats\n",
    "from tqdm import tqdm \n",
    "import time\n",
    "import mplcyberpunk\n",
    "import smtplib"
   ]
  },
  {
   "cell_type": "markdown",
   "id": "64d51002",
   "metadata": {},
   "source": [
    "# Cálculo Numérico\n",
    "### Ferramenta auxiliar\n",
    "\n",
    "*Thiago Laidler Vidal Cunha*"
   ]
  },
  {
   "cell_type": "markdown",
   "id": "97594dc3",
   "metadata": {},
   "source": [
    "### 1. Resolução de Sistemas Lineares por métodos diretos\n",
    "#### 1.1 - Eliminação de Gauss"
   ]
  },
  {
   "cell_type": "code",
   "execution_count": 2,
   "id": "9a71d7d1",
   "metadata": {
    "ExecuteTime": {
     "end_time": "2023-05-21T22:58:49.898645Z",
     "start_time": "2023-05-21T22:58:49.871384Z"
    }
   },
   "outputs": [
    {
     "name": "stdout",
     "output_type": "stream",
     "text": [
      "Solução do sistema:\n",
      "[0.75 1.7  2.6 ]\n"
     ]
    }
   ],
   "source": [
    "def eliminacao_de_gauss(A, b):\n",
    "    n = len(b)\n",
    "    \n",
    "    # Eliminação\n",
    "    for i in range(n-1):\n",
    "        for j in range(i+1, n):\n",
    "            if A[j, i] != 0:\n",
    "                fator = A[j, i] / A[i, i]\n",
    "                A[j, i+1:] -= fator * A[i, i+1:]\n",
    "                b[j] -= fator * b[i]\n",
    "    # Substituição\n",
    "    x = np.zeros(n)\n",
    "    x[n-1] = b[n-1] / A[n-1, n-1]\n",
    "    \n",
    "    for i in range(n-2, -1, -1):\n",
    "        x[i] = (b[i] - np.dot(A[i, i+1:], x[i+1:])) / A[i, i] #np.dot multiplica matrizes\n",
    "    \n",
    "    return x\n",
    "\n",
    "# Exemplo de sistema linear\n",
    "A = np.array([[2.0, 3.0, -1.0],\n",
    "              [4.0, 4.0, -3.0],\n",
    "              [2.0, -3.0, 1.0]])\n",
    "\n",
    "b = np.array([4.0, 2.0, -1.0])\n",
    "\n",
    "# Chama a função de eliminação de Gauss para resolver o sistema\n",
    "solucao = eliminacao_de_gauss(A, b)\n",
    "\n",
    "print(\"Solução do sistema:\")\n",
    "print(solucao)"
   ]
  },
  {
   "cell_type": "code",
   "execution_count": 3,
   "id": "43b18f4b",
   "metadata": {
    "ExecuteTime": {
     "end_time": "2023-05-21T22:58:49.930522Z",
     "start_time": "2023-05-21T22:58:49.904752Z"
    }
   },
   "outputs": [
    {
     "data": {
      "text/plain": [
       "array([1., 0., 1., 0.])"
      ]
     },
     "execution_count": 3,
     "metadata": {},
     "output_type": "execute_result"
    }
   ],
   "source": [
    "'''\n",
    "Resolvendo exemplo 1 em aula\n",
    "'''\n",
    "\n",
    "A = np.array([[1.0, 2.0, -1.0, 1.0],\n",
    "              [-1.0, 1.0, 2.0, 0.0],\n",
    "              [2.0, 0.0, 1.0, 2.0],\n",
    "              [1.0, 1.0, -3.0, 2.0]])\n",
    "b = np.array([0.0, 1.0, 3.0,-2.0])\n",
    "\n",
    "eliminacao_de_gauss(A,b)"
   ]
  },
  {
   "cell_type": "code",
   "execution_count": 4,
   "id": "f09f1e3f",
   "metadata": {
    "ExecuteTime": {
     "end_time": "2023-05-21T22:58:49.951719Z",
     "start_time": "2023-05-21T22:58:49.936042Z"
    }
   },
   "outputs": [],
   "source": [
    "def eliminacao_de_gauss(A, b):\n",
    "    '''\n",
    "    Resolução com Pivô e guardando a matriz triangular final\n",
    "    '''\n",
    "    n = len(b)\n",
    "    Ab = np.column_stack((A, b))\n",
    "\n",
    "    for i in range(n-1):\n",
    "        pivot = Ab[i, i]\n",
    "        if pivot == 0:\n",
    "            raise ValueError(\"O pivô é zero, o sistema não possui solução única.\")\n",
    "        \n",
    "        Ab[i, :] /= pivot\n",
    "\n",
    "        for j in range(i+1, n):\n",
    "            multiplier = Ab[j, i] / Ab[i, i]\n",
    "            Ab[j, :] -= multiplier * Ab[i, :]\n",
    "    \n",
    "    Ab[-1, :] /= Ab[-1, -2]  # Divisão para normalizar o último elemento\n",
    "\n",
    "    df = pd.DataFrame(Ab[:, :-1], columns=[f'x{i+1}' for i in range(n)])\n",
    "    df['b'] = Ab[:, -1]\n",
    "    \n",
    "    return df"
   ]
  },
  {
   "cell_type": "code",
   "execution_count": 5,
   "id": "320b601f",
   "metadata": {
    "ExecuteTime": {
     "end_time": "2023-05-21T22:58:49.997132Z",
     "start_time": "2023-05-21T22:58:49.963252Z"
    }
   },
   "outputs": [
    {
     "data": {
      "text/html": [
       "<div>\n",
       "<style scoped>\n",
       "    .dataframe tbody tr th:only-of-type {\n",
       "        vertical-align: middle;\n",
       "    }\n",
       "\n",
       "    .dataframe tbody tr th {\n",
       "        vertical-align: top;\n",
       "    }\n",
       "\n",
       "    .dataframe thead th {\n",
       "        text-align: right;\n",
       "    }\n",
       "</style>\n",
       "<table border=\"1\" class=\"dataframe\">\n",
       "  <thead>\n",
       "    <tr style=\"text-align: right;\">\n",
       "      <th></th>\n",
       "      <th>x1</th>\n",
       "      <th>x2</th>\n",
       "      <th>x3</th>\n",
       "      <th>x4</th>\n",
       "      <th>b</th>\n",
       "    </tr>\n",
       "  </thead>\n",
       "  <tbody>\n",
       "    <tr>\n",
       "      <th>0</th>\n",
       "      <td>1.0</td>\n",
       "      <td>2.0</td>\n",
       "      <td>-1.000000</td>\n",
       "      <td>1.000000</td>\n",
       "      <td>0.000000</td>\n",
       "    </tr>\n",
       "    <tr>\n",
       "      <th>1</th>\n",
       "      <td>0.0</td>\n",
       "      <td>1.0</td>\n",
       "      <td>0.333333</td>\n",
       "      <td>0.333333</td>\n",
       "      <td>0.333333</td>\n",
       "    </tr>\n",
       "    <tr>\n",
       "      <th>2</th>\n",
       "      <td>0.0</td>\n",
       "      <td>0.0</td>\n",
       "      <td>1.000000</td>\n",
       "      <td>0.307692</td>\n",
       "      <td>1.000000</td>\n",
       "    </tr>\n",
       "    <tr>\n",
       "      <th>3</th>\n",
       "      <td>0.0</td>\n",
       "      <td>0.0</td>\n",
       "      <td>0.000000</td>\n",
       "      <td>1.000000</td>\n",
       "      <td>0.000000</td>\n",
       "    </tr>\n",
       "  </tbody>\n",
       "</table>\n",
       "</div>"
      ],
      "text/plain": [
       "    x1   x2        x3        x4         b\n",
       "0  1.0  2.0 -1.000000  1.000000  0.000000\n",
       "1  0.0  1.0  0.333333  0.333333  0.333333\n",
       "2  0.0  0.0  1.000000  0.307692  1.000000\n",
       "3  0.0  0.0  0.000000  1.000000  0.000000"
      ]
     },
     "execution_count": 5,
     "metadata": {},
     "output_type": "execute_result"
    }
   ],
   "source": [
    "A = np.array([[1.0, 2.0, -1.0, 1.0],\n",
    "              [-1.0, 1.0, 2.0, 0.0],\n",
    "              [2.0, 0.0, 1.0, 2.0],\n",
    "              [1.0, 1.0, -3.0, 2.0]])\n",
    "b = np.array([0.0, 1.0, 3.0,-2.0])\n",
    "\n",
    "eliminacao_de_gauss(A,b)"
   ]
  },
  {
   "cell_type": "markdown",
   "id": "579557c7",
   "metadata": {},
   "source": [
    "#### 1.2 - Fatoração LU"
   ]
  },
  {
   "cell_type": "code",
   "execution_count": 6,
   "id": "1249b39b",
   "metadata": {
    "ExecuteTime": {
     "end_time": "2023-05-21T22:58:50.034116Z",
     "start_time": "2023-05-21T22:58:50.003814Z"
    }
   },
   "outputs": [
    {
     "name": "stdout",
     "output_type": "stream",
     "text": [
      "Solução do sistema:\n",
      "[ 2.  3. -1.]\n"
     ]
    }
   ],
   "source": [
    "import numpy as np\n",
    "\n",
    "def fatoracao_LU(A, b):\n",
    "    n = len(b)\n",
    "    L = np.eye(n)\n",
    "    U = np.zeros((n, n))\n",
    "    \n",
    "    for k in range(n):\n",
    "        U[k, k:] = A[k, k:] - np.dot(L[k, :k], U[:k, k:])\n",
    "        L[(k+1):, k] = (A[(k+1):, k] - np.dot(L[(k+1):, :k], U[:k, k])) / U[k, k]\n",
    "    \n",
    "    # Resolvendo Ly = b por substituição progressiva\n",
    "    y = np.zeros(n)\n",
    "    y[0] = b[0]\n",
    "    \n",
    "    for i in range(1, n):\n",
    "        y[i] = b[i] - np.dot(L[i, :i], y[:i])\n",
    "    \n",
    "    # Resolvendo Ux = y por substituição regressiva\n",
    "    x = np.zeros(n)\n",
    "    x[n-1] = y[n-1] / U[n-1, n-1]\n",
    "    \n",
    "    for i in range(n-2, -1, -1):\n",
    "        x[i] = (y[i] - np.dot(U[i, i+1:], x[i+1:])) / U[i, i]\n",
    "    \n",
    "    return x\n",
    "\n",
    "# Exemplo de sistema linear\n",
    "A = np.array([[2, 1, -1],\n",
    "              [-3, -1, 2],\n",
    "              [-2, 1, 2]])\n",
    "\n",
    "b = np.array([8, -11, -3])\n",
    "\n",
    "# Chama a função de fatoração LU para resolver o sistema\n",
    "solucao = fatoracao_LU(A, b)\n",
    "\n",
    "print(\"Solução do sistema:\")\n",
    "print(solucao)"
   ]
  },
  {
   "cell_type": "markdown",
   "id": "56623fdb",
   "metadata": {},
   "source": [
    "### 2. Resolução de Sistemas Lineares por métodos iterativos\n",
    "#### 2.1 - Gauss-Jacobi"
   ]
  },
  {
   "cell_type": "code",
   "execution_count": 7,
   "id": "aa44b7fd",
   "metadata": {
    "ExecuteTime": {
     "end_time": "2023-05-21T22:58:50.051158Z",
     "start_time": "2023-05-21T22:58:50.038305Z"
    }
   },
   "outputs": [],
   "source": [
    "def gauss_jacobi(A, b, tolerance=0.05):\n",
    "    n = len(A)\n",
    "    x = np.zeros(n)\n",
    "    x_prev = np.zeros(n)\n",
    "    iterations = []\n",
    "    \n",
    "    dk_relativo = tolerance + 1\n",
    "    k = 0\n",
    "    \n",
    "    while dk_relativo > tolerance:\n",
    "        dx_max = 0\n",
    "        \n",
    "        for i in range(n):\n",
    "            temp_sum = 0\n",
    "            \n",
    "            for j in range(n):\n",
    "                if j != i:\n",
    "                    temp_sum += A[i][j] * x_prev[j]\n",
    "            \n",
    "            x[i] = (b[i] - temp_sum) / A[i][i]\n",
    "            \n",
    "            dx = abs(x[i] - x_prev[i])\n",
    "            if dx > dx_max:\n",
    "                dx_max = dx\n",
    "        \n",
    "        dk_relativo = dx_max / max(abs(x))\n",
    "        iterations.append([k+1] + list(x) + [dx_max, dk_relativo])\n",
    "        \n",
    "        x_prev = x.copy()\n",
    "        k += 1\n",
    "    \n",
    "    column_names = ['k'] + [f'x{i+1}' for i in range(n)] + ['dk', 'dk_relativo']\n",
    "    df = pd.DataFrame(iterations, columns=column_names)\n",
    "    return df"
   ]
  },
  {
   "cell_type": "code",
   "execution_count": 8,
   "id": "025ade9b",
   "metadata": {
    "ExecuteTime": {
     "end_time": "2023-05-21T22:58:50.090959Z",
     "start_time": "2023-05-21T22:58:50.059353Z"
    }
   },
   "outputs": [
    {
     "data": {
      "text/html": [
       "<div>\n",
       "<style scoped>\n",
       "    .dataframe tbody tr th:only-of-type {\n",
       "        vertical-align: middle;\n",
       "    }\n",
       "\n",
       "    .dataframe tbody tr th {\n",
       "        vertical-align: top;\n",
       "    }\n",
       "\n",
       "    .dataframe thead th {\n",
       "        text-align: right;\n",
       "    }\n",
       "</style>\n",
       "<table border=\"1\" class=\"dataframe\">\n",
       "  <thead>\n",
       "    <tr style=\"text-align: right;\">\n",
       "      <th></th>\n",
       "      <th>k</th>\n",
       "      <th>x1</th>\n",
       "      <th>x2</th>\n",
       "      <th>x3</th>\n",
       "      <th>dk</th>\n",
       "      <th>dk_relativo</th>\n",
       "    </tr>\n",
       "  </thead>\n",
       "  <tbody>\n",
       "    <tr>\n",
       "      <th>0</th>\n",
       "      <td>1</td>\n",
       "      <td>5.000000</td>\n",
       "      <td>10.000000</td>\n",
       "      <td>13.000000</td>\n",
       "      <td>13.000000</td>\n",
       "      <td>1.000000</td>\n",
       "    </tr>\n",
       "    <tr>\n",
       "      <th>1</th>\n",
       "      <td>2</td>\n",
       "      <td>-4.000000</td>\n",
       "      <td>7.333333</td>\n",
       "      <td>7.000000</td>\n",
       "      <td>9.000000</td>\n",
       "      <td>1.227273</td>\n",
       "    </tr>\n",
       "    <tr>\n",
       "      <th>2</th>\n",
       "      <td>3</td>\n",
       "      <td>-0.333333</td>\n",
       "      <td>6.333333</td>\n",
       "      <td>11.666667</td>\n",
       "      <td>4.666667</td>\n",
       "      <td>0.400000</td>\n",
       "    </tr>\n",
       "    <tr>\n",
       "      <th>3</th>\n",
       "      <td>4</td>\n",
       "      <td>-2.416667</td>\n",
       "      <td>6.000000</td>\n",
       "      <td>10.600000</td>\n",
       "      <td>2.083333</td>\n",
       "      <td>0.196541</td>\n",
       "    </tr>\n",
       "    <tr>\n",
       "      <th>4</th>\n",
       "      <td>5</td>\n",
       "      <td>-1.800000</td>\n",
       "      <td>5.661111</td>\n",
       "      <td>11.566667</td>\n",
       "      <td>0.966667</td>\n",
       "      <td>0.083573</td>\n",
       "    </tr>\n",
       "    <tr>\n",
       "      <th>5</th>\n",
       "      <td>6</td>\n",
       "      <td>-2.198611</td>\n",
       "      <td>5.544444</td>\n",
       "      <td>11.455556</td>\n",
       "      <td>0.398611</td>\n",
       "      <td>0.034796</td>\n",
       "    </tr>\n",
       "  </tbody>\n",
       "</table>\n",
       "</div>"
      ],
      "text/plain": [
       "   k        x1         x2         x3         dk  dk_relativo\n",
       "0  1  5.000000  10.000000  13.000000  13.000000     1.000000\n",
       "1  2 -4.000000   7.333333   7.000000   9.000000     1.227273\n",
       "2  3 -0.333333   6.333333  11.666667   4.666667     0.400000\n",
       "3  4 -2.416667   6.000000  10.600000   2.083333     0.196541\n",
       "4  5 -1.800000   5.661111  11.566667   0.966667     0.083573\n",
       "5  6 -2.198611   5.544444  11.455556   0.398611     0.034796"
      ]
     },
     "execution_count": 8,
     "metadata": {},
     "output_type": "execute_result"
    }
   ],
   "source": [
    "# Exemplo de sistema linear\n",
    "A = np.array([[4, 1, 2],\n",
    "              [-1, 3, 1],\n",
    "              [2, 2, 5]])\n",
    "b = np.array([20, 30, 65])\n",
    "\n",
    "# Chama a função para resolver o sistema pelo método de Gauss-Jacobi\n",
    "result = gauss_jacobi(A, b,0.05)\n",
    "result"
   ]
  },
  {
   "cell_type": "markdown",
   "id": "9d33d4e0",
   "metadata": {},
   "source": [
    "#### 2.2 - Gauss-Seidel"
   ]
  },
  {
   "cell_type": "code",
   "execution_count": 9,
   "id": "d8d3e9d9",
   "metadata": {
    "ExecuteTime": {
     "end_time": "2023-05-21T22:58:50.113526Z",
     "start_time": "2023-05-21T22:58:50.097464Z"
    }
   },
   "outputs": [],
   "source": [
    "def gauss_seidel(A, b, tolerance=0.05):\n",
    "    n = len(A)\n",
    "    x = np.zeros(n)\n",
    "    iterations = []\n",
    "    \n",
    "    dk_relativo = tolerance + 1\n",
    "    k = 0\n",
    "    \n",
    "    while dk_relativo > tolerance:\n",
    "        dx_max = 0\n",
    "        \n",
    "        for i in range(n):\n",
    "            x_prev = x.copy()\n",
    "            temp_sum = 0\n",
    "            \n",
    "            for j in range(n):\n",
    "                if j != i:\n",
    "                    temp_sum += A[i][j] * x[j]\n",
    "            \n",
    "            x[i] = (b[i] - temp_sum) / A[i][i]\n",
    "            \n",
    "            dx = abs(x[i] - x_prev[i])\n",
    "            if dx > dx_max:\n",
    "                dx_max = dx\n",
    "        \n",
    "        dk_relativo = dx_max / max(abs(x))\n",
    "        iterations.append([k+1] + list(x) + [dx_max, dk_relativo])\n",
    "        \n",
    "        k += 1\n",
    "    \n",
    "    column_names = ['k'] + [f'x{i+1}' for i in range(n)] + ['dk', 'dk_relativo']\n",
    "    df = pd.DataFrame(iterations, columns=column_names)\n",
    "    return df"
   ]
  },
  {
   "cell_type": "code",
   "execution_count": 10,
   "id": "1ede7ab7",
   "metadata": {
    "ExecuteTime": {
     "end_time": "2023-05-21T22:58:50.154228Z",
     "start_time": "2023-05-21T22:58:50.120453Z"
    }
   },
   "outputs": [
    {
     "data": {
      "text/html": [
       "<div>\n",
       "<style scoped>\n",
       "    .dataframe tbody tr th:only-of-type {\n",
       "        vertical-align: middle;\n",
       "    }\n",
       "\n",
       "    .dataframe tbody tr th {\n",
       "        vertical-align: top;\n",
       "    }\n",
       "\n",
       "    .dataframe thead th {\n",
       "        text-align: right;\n",
       "    }\n",
       "</style>\n",
       "<table border=\"1\" class=\"dataframe\">\n",
       "  <thead>\n",
       "    <tr style=\"text-align: right;\">\n",
       "      <th></th>\n",
       "      <th>k</th>\n",
       "      <th>x1</th>\n",
       "      <th>x2</th>\n",
       "      <th>x3</th>\n",
       "      <th>dk</th>\n",
       "      <th>dk_relativo</th>\n",
       "    </tr>\n",
       "  </thead>\n",
       "  <tbody>\n",
       "    <tr>\n",
       "      <th>0</th>\n",
       "      <td>1</td>\n",
       "      <td>0.500000</td>\n",
       "      <td>1.375000</td>\n",
       "      <td>0.593750</td>\n",
       "      <td>1.375000</td>\n",
       "      <td>1.000000</td>\n",
       "    </tr>\n",
       "    <tr>\n",
       "      <th>1</th>\n",
       "      <td>2</td>\n",
       "      <td>0.843750</td>\n",
       "      <td>1.609375</td>\n",
       "      <td>0.652344</td>\n",
       "      <td>0.343750</td>\n",
       "      <td>0.213592</td>\n",
       "    </tr>\n",
       "    <tr>\n",
       "      <th>2</th>\n",
       "      <td>3</td>\n",
       "      <td>0.902344</td>\n",
       "      <td>1.638672</td>\n",
       "      <td>0.659668</td>\n",
       "      <td>0.058594</td>\n",
       "      <td>0.035757</td>\n",
       "    </tr>\n",
       "  </tbody>\n",
       "</table>\n",
       "</div>"
      ],
      "text/plain": [
       "   k        x1        x2        x3        dk  dk_relativo\n",
       "0  1  0.500000  1.375000  0.593750  1.375000     1.000000\n",
       "1  2  0.843750  1.609375  0.652344  0.343750     0.213592\n",
       "2  3  0.902344  1.638672  0.659668  0.058594     0.035757"
      ]
     },
     "execution_count": 10,
     "metadata": {},
     "output_type": "execute_result"
    }
   ],
   "source": [
    "# Exemplo de sistema linear\n",
    "A = np.array([[4.0, -1.0, 0.0],\n",
    "              [-1.0, 4.0, -1.0],\n",
    "              [0.0, -1.0, 4.0]])\n",
    "\n",
    "b = np.array([2.0, 5.0, 1.0])\n",
    "\n",
    "# Chama a função de Gauss-Seidel para resolver o sistema\n",
    "solucao = gauss_seidel(A, b)\n",
    "solucao"
   ]
  },
  {
   "cell_type": "code",
   "execution_count": 11,
   "id": "367a7e91",
   "metadata": {
    "ExecuteTime": {
     "end_time": "2023-05-21T22:58:50.201629Z",
     "start_time": "2023-05-21T22:58:50.160290Z"
    }
   },
   "outputs": [
    {
     "data": {
      "text/html": [
       "<div>\n",
       "<style scoped>\n",
       "    .dataframe tbody tr th:only-of-type {\n",
       "        vertical-align: middle;\n",
       "    }\n",
       "\n",
       "    .dataframe tbody tr th {\n",
       "        vertical-align: top;\n",
       "    }\n",
       "\n",
       "    .dataframe thead th {\n",
       "        text-align: right;\n",
       "    }\n",
       "</style>\n",
       "<table border=\"1\" class=\"dataframe\">\n",
       "  <thead>\n",
       "    <tr style=\"text-align: right;\">\n",
       "      <th></th>\n",
       "      <th>k</th>\n",
       "      <th>x1</th>\n",
       "      <th>x2</th>\n",
       "      <th>x3</th>\n",
       "      <th>dk</th>\n",
       "      <th>dk_relativo</th>\n",
       "    </tr>\n",
       "  </thead>\n",
       "  <tbody>\n",
       "    <tr>\n",
       "      <th>0</th>\n",
       "      <td>1</td>\n",
       "      <td>1.250000</td>\n",
       "      <td>-3.083333</td>\n",
       "      <td>1.683333</td>\n",
       "      <td>3.083333</td>\n",
       "      <td>1.000000</td>\n",
       "    </tr>\n",
       "    <tr>\n",
       "      <th>1</th>\n",
       "      <td>2</td>\n",
       "      <td>0.058333</td>\n",
       "      <td>-1.563889</td>\n",
       "      <td>2.463889</td>\n",
       "      <td>1.519444</td>\n",
       "      <td>0.616685</td>\n",
       "    </tr>\n",
       "    <tr>\n",
       "      <th>2</th>\n",
       "      <td>3</td>\n",
       "      <td>0.243056</td>\n",
       "      <td>-1.105093</td>\n",
       "      <td>2.481759</td>\n",
       "      <td>0.458796</td>\n",
       "      <td>0.184867</td>\n",
       "    </tr>\n",
       "    <tr>\n",
       "      <th>3</th>\n",
       "      <td>4</td>\n",
       "      <td>0.353287</td>\n",
       "      <td>-1.129923</td>\n",
       "      <td>2.432701</td>\n",
       "      <td>0.110231</td>\n",
       "      <td>0.045312</td>\n",
       "    </tr>\n",
       "  </tbody>\n",
       "</table>\n",
       "</div>"
      ],
      "text/plain": [
       "   k        x1        x2        x3        dk  dk_relativo\n",
       "0  1  1.250000 -3.083333  1.683333  3.083333     1.000000\n",
       "1  2  0.058333 -1.563889  2.463889  1.519444     0.616685\n",
       "2  3  0.243056 -1.105093  2.481759  0.458796     0.184867\n",
       "3  4  0.353287 -1.129923  2.432701  0.110231     0.045312"
      ]
     },
     "execution_count": 11,
     "metadata": {},
     "output_type": "execute_result"
    }
   ],
   "source": [
    "# Exemplo de sistema linear\n",
    "A = np.array([[4, -1, 1],\n",
    "              [1, 3, -2],\n",
    "              [2, -1, 5]])\n",
    "b = np.array([5, -8, 14])\n",
    "\n",
    "# Chama a função para resolver o sistema pelo método de Gauss-Seidel\n",
    "result = gauss_seidel(A, b,0.05)\n",
    "result"
   ]
  },
  {
   "cell_type": "markdown",
   "id": "5ee48f66",
   "metadata": {},
   "source": [
    "### 3. Interpolação"
   ]
  },
  {
   "cell_type": "markdown",
   "id": "6311624a",
   "metadata": {},
   "source": [
    "#### 1. Forma Clássica / Vandermonde"
   ]
  },
  {
   "cell_type": "code",
   "execution_count": 12,
   "id": "e8347c56",
   "metadata": {
    "ExecuteTime": {
     "end_time": "2023-05-21T22:58:50.220683Z",
     "start_time": "2023-05-21T22:58:50.206297Z"
    }
   },
   "outputs": [],
   "source": [
    "def Inter_Classica(x, y):\n",
    "    n = len(x)\n",
    "    V = np.vander(x, increasing=True) #gera uma matriz vandermonde cujos elementos são potencias de x\n",
    "    \n",
    "    # Resolvendo o sistema linear utilizando o método de eliminação de Gauss \n",
    "    for i in range(n):\n",
    "        pivot = V[i, i]\n",
    "        for j in range(i+1, n):\n",
    "            factor = V[j, i] / pivot\n",
    "            V[j, i:] -= factor * V[i, i:]\n",
    "            y[j] -= factor * y[i]\n",
    "    '''\n",
    "    era possível utilizar a função np.linalg.solve(V,y) \n",
    "    '''\n",
    "    # Obtendo os coeficientes\n",
    "    coef = np.zeros(n)\n",
    "    for i in range(n-1, -1, -1):\n",
    "        coef[i] = y[i] / V[i, i]\n",
    "        for j in range(i-1, -1, -1):\n",
    "            y[j] -= V[j, i] * coef[i]\n",
    "    \n",
    "    return coef"
   ]
  },
  {
   "cell_type": "code",
   "execution_count": 13,
   "id": "74eae013",
   "metadata": {
    "ExecuteTime": {
     "end_time": "2023-05-21T22:58:50.237993Z",
     "start_time": "2023-05-21T22:58:50.226816Z"
    }
   },
   "outputs": [
    {
     "data": {
      "text/plain": [
       "array([ 1.,  6.,  0., -1.])"
      ]
     },
     "execution_count": 13,
     "metadata": {},
     "output_type": "execute_result"
    }
   ],
   "source": [
    "Inter_Classica([0.0,1.0,2.0,3.0],[1.0,6.0,5.0,-8.0]) "
   ]
  },
  {
   "cell_type": "code",
   "execution_count": 14,
   "id": "9907b33c",
   "metadata": {
    "ExecuteTime": {
     "end_time": "2023-05-21T22:58:50.252481Z",
     "start_time": "2023-05-21T22:58:50.242946Z"
    }
   },
   "outputs": [
    {
     "data": {
      "text/plain": [
       "'\\nversão simplificada:\\ndef Inter_Classica(x, y):\\n    n = len(x)\\n    V = np.vander(x, increasing=True)\\n    coefficients = np.linalg.solve(V, y) #simplesmente utilizando a função linalg do numpy\\n    return coefficients\\n'"
      ]
     },
     "execution_count": 14,
     "metadata": {},
     "output_type": "execute_result"
    }
   ],
   "source": [
    "'''\n",
    "versão simplificada:\n",
    "def Inter_Classica(x, y):\n",
    "    n = len(x)\n",
    "    V = np.vander(x, increasing=True)\n",
    "    coefficients = np.linalg.solve(V, y) #simplesmente utilizando a função linalg do numpy\n",
    "    return coefficients\n",
    "'''"
   ]
  },
  {
   "cell_type": "code",
   "execution_count": 15,
   "id": "5ba2fc6f",
   "metadata": {
    "ExecuteTime": {
     "end_time": "2023-05-21T22:58:50.270430Z",
     "start_time": "2023-05-21T22:58:50.258564Z"
    }
   },
   "outputs": [
    {
     "data": {
      "text/plain": [
       "'\\n#########Ideia de interação com usuário#########\\n\\n# Obter os dados de entrada do usuário\\nn = int(input(\"Digite o número de pontos de dados: \"))\\n\\nx = []\\ny = []\\n\\nfor i in range(n):\\n    point = input(f\"Digite as coordenadas (x, y) do ponto {i+1}, separadas por espaço: \")\\n    point = point.split()\\n    x.append(float(point[0]))\\n    y.append(float(point[1]))\\n\\n# Calcular o polinômio interpolador\\ncoefficients = vandermonde_interpolation(x, y)\\n\\n# Imprimir o polinômio interpolador\\nprint(\"O polinômio interpolador é dado por:\")\\nprint(\"P(x) =\", end=\" \")\\n\\nfor i in range(len(coefficients)):\\n    print(f\"({coefficients[i]:.2f})x^{len(coefficients)-i-1}\", end=\" \")\\n    if i < len(coefficients) - 1:\\n        print(\"+\", end=\" \")\\n        \\n'"
      ]
     },
     "execution_count": 15,
     "metadata": {},
     "output_type": "execute_result"
    }
   ],
   "source": [
    "'''\n",
    "#########Ideia de interação com usuário#########\n",
    "\n",
    "# Obter os dados de entrada do usuário\n",
    "n = int(input(\"Digite o número de pontos de dados: \"))\n",
    "\n",
    "x = []\n",
    "y = []\n",
    "\n",
    "for i in range(n):\n",
    "    point = input(f\"Digite as coordenadas (x, y) do ponto {i+1}, separadas por espaço: \")\n",
    "    point = point.split()\n",
    "    x.append(float(point[0]))\n",
    "    y.append(float(point[1]))\n",
    "\n",
    "# Calcular o polinômio interpolador\n",
    "coefficients = vandermonde_interpolation(x, y)\n",
    "\n",
    "# Imprimir o polinômio interpolador\n",
    "print(\"O polinômio interpolador é dado por:\")\n",
    "print(\"P(x) =\", end=\" \")\n",
    "\n",
    "for i in range(len(coefficients)):\n",
    "    print(f\"({coefficients[i]:.2f})x^{len(coefficients)-i-1}\", end=\" \")\n",
    "    if i < len(coefficients) - 1:\n",
    "        print(\"+\", end=\" \")\n",
    "        \n",
    "'''"
   ]
  },
  {
   "cell_type": "markdown",
   "id": "a28b1008",
   "metadata": {},
   "source": [
    "#### 2. Forma Lagrange"
   ]
  },
  {
   "cell_type": "code",
   "execution_count": 16,
   "id": "01d3c42c",
   "metadata": {
    "ExecuteTime": {
     "end_time": "2023-05-21T22:58:50.298916Z",
     "start_time": "2023-05-21T22:58:50.280156Z"
    }
   },
   "outputs": [],
   "source": [
    "def Inter_Lagrange(x, y):\n",
    "    n = len(x)\n",
    "    polyn = np.poly1d(0.0)\n",
    "    \n",
    "    for i in range(n):\n",
    "        # Calcula os coeficientes de Lagrange\n",
    "        coeficientes = np.poly1d(1.0) # função que gera coeficientes de um polinomio direto \n",
    "        for j in range(n):\n",
    "            if i != j:\n",
    "                coeficientes *= np.poly1d([1.0, -x[j]]) / (x[i] - x[j])\n",
    "        \n",
    "        # Atualiza o polinômio interpolador\n",
    "        polyn += y[i] * coeficientes\n",
    "    \n",
    "    return polyn"
   ]
  },
  {
   "cell_type": "code",
   "execution_count": 17,
   "id": "e32a1bf8",
   "metadata": {
    "ExecuteTime": {
     "end_time": "2023-05-21T22:58:50.320269Z",
     "start_time": "2023-05-21T22:58:50.305326Z"
    }
   },
   "outputs": [
    {
     "data": {
      "text/plain": [
       "'\\n##### ideia de interação com usuario####\\n\\n# Solicita ao usuário os pontos da tabela de dados\\nn = int(input(\"Digite o número de pontos na tabela de dados: \"))\\nx = []\\ny = []\\nfor i in range(n):\\n    xi = float(input(f\"Digite o valor de x{i+1}: \"))\\n    yi = float(input(f\"Digite o valor de y{i+1}: \"))\\n    x.append(xi)\\n    y.append(yi)\\n\\n# Encontra o polinômio interpolador\\ninterpolating_polynomial = lagrange_interpolation(x, y)\\n\\n# Imprime o polinômio interpolador\\nprint(\"Polinômio Interpolador:\")\\nprint(interpolating_polynomial)\\n\\n'"
      ]
     },
     "execution_count": 17,
     "metadata": {},
     "output_type": "execute_result"
    }
   ],
   "source": [
    "'''\n",
    "##### ideia de interação com usuario####\n",
    "\n",
    "# Solicita ao usuário os pontos da tabela de dados\n",
    "n = int(input(\"Digite o número de pontos na tabela de dados: \"))\n",
    "x = []\n",
    "y = []\n",
    "for i in range(n):\n",
    "    xi = float(input(f\"Digite o valor de x{i+1}: \"))\n",
    "    yi = float(input(f\"Digite o valor de y{i+1}: \"))\n",
    "    x.append(xi)\n",
    "    y.append(yi)\n",
    "\n",
    "# Encontra o polinômio interpolador\n",
    "interpolating_polynomial = lagrange_interpolation(x, y)\n",
    "\n",
    "# Imprime o polinômio interpolador\n",
    "print(\"Polinômio Interpolador:\")\n",
    "print(interpolating_polynomial)\n",
    "\n",
    "'''"
   ]
  },
  {
   "cell_type": "code",
   "execution_count": 18,
   "id": "ceabe2c2",
   "metadata": {
    "ExecuteTime": {
     "end_time": "2023-05-21T22:58:50.342047Z",
     "start_time": "2023-05-21T22:58:50.326934Z"
    }
   },
   "outputs": [
    {
     "data": {
      "text/plain": [
       "poly1d([-1.,  0.,  6.,  1.])"
      ]
     },
     "execution_count": 18,
     "metadata": {},
     "output_type": "execute_result"
    }
   ],
   "source": [
    "Inter_Lagrange([0,1,2,3],[1,6,5,-8])"
   ]
  },
  {
   "cell_type": "markdown",
   "id": "49be8291",
   "metadata": {},
   "source": [
    "#### 3. Forma Newton"
   ]
  },
  {
   "cell_type": "code",
   "execution_count": 19,
   "id": "4a02dd23",
   "metadata": {
    "ExecuteTime": {
     "end_time": "2023-05-21T22:58:50.385752Z",
     "start_time": "2023-05-21T22:58:50.347096Z"
    }
   },
   "outputs": [
    {
     "name": "stdout",
     "output_type": "stream",
     "text": [
      "Polinômio Interpolador:\n",
      "   3     2\n",
      "1 x + 5 x - 3 x - 1\n"
     ]
    },
    {
     "data": {
      "text/html": [
       "<div>\n",
       "<style scoped>\n",
       "    .dataframe tbody tr th:only-of-type {\n",
       "        vertical-align: middle;\n",
       "    }\n",
       "\n",
       "    .dataframe tbody tr th {\n",
       "        vertical-align: top;\n",
       "    }\n",
       "\n",
       "    .dataframe thead th {\n",
       "        text-align: right;\n",
       "    }\n",
       "</style>\n",
       "<table border=\"1\" class=\"dataframe\">\n",
       "  <thead>\n",
       "    <tr style=\"text-align: right;\">\n",
       "      <th></th>\n",
       "      <th>x</th>\n",
       "      <th>Or0</th>\n",
       "      <th>Or1</th>\n",
       "      <th>Or2</th>\n",
       "      <th>Or3</th>\n",
       "    </tr>\n",
       "  </thead>\n",
       "  <tbody>\n",
       "    <tr>\n",
       "      <th>0</th>\n",
       "      <td>0</td>\n",
       "      <td>1.0</td>\n",
       "      <td>5.0</td>\n",
       "      <td>-3.0</td>\n",
       "      <td>-1.0</td>\n",
       "    </tr>\n",
       "    <tr>\n",
       "      <th>1</th>\n",
       "      <td>1</td>\n",
       "      <td>6.0</td>\n",
       "      <td>-1.0</td>\n",
       "      <td>-6.0</td>\n",
       "      <td>0.0</td>\n",
       "    </tr>\n",
       "    <tr>\n",
       "      <th>2</th>\n",
       "      <td>2</td>\n",
       "      <td>5.0</td>\n",
       "      <td>-13.0</td>\n",
       "      <td>0.0</td>\n",
       "      <td>0.0</td>\n",
       "    </tr>\n",
       "    <tr>\n",
       "      <th>3</th>\n",
       "      <td>3</td>\n",
       "      <td>-8.0</td>\n",
       "      <td>0.0</td>\n",
       "      <td>0.0</td>\n",
       "      <td>0.0</td>\n",
       "    </tr>\n",
       "  </tbody>\n",
       "</table>\n",
       "</div>"
      ],
      "text/plain": [
       "   x  Or0   Or1  Or2  Or3\n",
       "0  0  1.0   5.0 -3.0 -1.0\n",
       "1  1  6.0  -1.0 -6.0  0.0\n",
       "2  2  5.0 -13.0  0.0  0.0\n",
       "3  3 -8.0   0.0  0.0  0.0"
      ]
     },
     "execution_count": 19,
     "metadata": {},
     "output_type": "execute_result"
    }
   ],
   "source": [
    "def Dif_Div(x, y):\n",
    "    '''\n",
    "    monta a tabela de diferenciais divididos\n",
    "    '''\n",
    "    n = len(x)\n",
    "    tabela = np.zeros((n, n))\n",
    "    tabela[:, 0] = y\n",
    "    \n",
    "    for j in range(1, n):\n",
    "        for i in range(n - j):\n",
    "            tabela[i, j] = (tabela[i+1, j-1] - tabela[i, j-1]) / (x[i+j] - x[i])\n",
    "            \n",
    "    df = pd.DataFrame(tabela, columns=['Or0'] + [f'Or{i}' for i in range(1, n)])\n",
    "    df.insert(0, 'x', x)\n",
    "    \n",
    "    return tabela,df\n",
    "\n",
    "def newton_interpol(x, y):\n",
    "    n = len(x)\n",
    "    coef = Dif_Div(x, y)[0]\n",
    "    polyn = np.poly1d(coef[0, :])\n",
    "    \n",
    "    return polyn\n",
    "\n",
    "###Exemplo:\n",
    "x=[0,1,2,3]\n",
    "y=[1,6,5,-8]\n",
    "# Encontra o polinômio interpolador\n",
    "interpol_polyn = newton_interpol(x, y)\n",
    "\n",
    "# Imprime o polinômio interpolador\n",
    "print(\"Polinômio Interpolador:\")\n",
    "print(interpol_polyn)\n",
    "\n",
    "# Imprime a tabela de diferenças divididas\n",
    "tabela = Dif_Div(x,y)[1]\n",
    "tabela"
   ]
  },
  {
   "cell_type": "markdown",
   "id": "98da07ab",
   "metadata": {},
   "source": [
    " - Análise de Erro (Corolário 3):"
   ]
  },
  {
   "cell_type": "code",
   "execution_count": 22,
   "id": "2b8c83e6",
   "metadata": {
    "ExecuteTime": {
     "end_time": "2023-05-21T23:00:06.300707Z",
     "start_time": "2023-05-21T23:00:06.253909Z"
    }
   },
   "outputs": [
    {
     "name": "stdout",
     "output_type": "stream",
     "text": [
      "Polinômio Interpolador:\n",
      "    5     4       3         2\n",
      "-2 x - 3 x + 4.5 x - 1.667 x + 0.2083 x - 0.05\n",
      "\n",
      "Erro estimado para x = 1.5: 13.9453125\n"
     ]
    },
    {
     "data": {
      "text/html": [
       "<div>\n",
       "<style scoped>\n",
       "    .dataframe tbody tr th:only-of-type {\n",
       "        vertical-align: middle;\n",
       "    }\n",
       "\n",
       "    .dataframe tbody tr th {\n",
       "        vertical-align: top;\n",
       "    }\n",
       "\n",
       "    .dataframe thead th {\n",
       "        text-align: right;\n",
       "    }\n",
       "</style>\n",
       "<table border=\"1\" class=\"dataframe\">\n",
       "  <thead>\n",
       "    <tr style=\"text-align: right;\">\n",
       "      <th></th>\n",
       "      <th>x</th>\n",
       "      <th>Or0</th>\n",
       "      <th>Or1</th>\n",
       "      <th>Or2</th>\n",
       "      <th>Or3</th>\n",
       "      <th>Or4</th>\n",
       "      <th>Or5</th>\n",
       "    </tr>\n",
       "  </thead>\n",
       "  <tbody>\n",
       "    <tr>\n",
       "      <th>0</th>\n",
       "      <td>-2</td>\n",
       "      <td>-2.0</td>\n",
       "      <td>-3.0</td>\n",
       "      <td>4.5</td>\n",
       "      <td>-1.666667</td>\n",
       "      <td>0.208333</td>\n",
       "      <td>-0.05</td>\n",
       "    </tr>\n",
       "    <tr>\n",
       "      <th>1</th>\n",
       "      <td>-1</td>\n",
       "      <td>-5.0</td>\n",
       "      <td>6.0</td>\n",
       "      <td>-0.5</td>\n",
       "      <td>-0.833333</td>\n",
       "      <td>-0.041667</td>\n",
       "      <td>0.00</td>\n",
       "    </tr>\n",
       "    <tr>\n",
       "      <th>2</th>\n",
       "      <td>0</td>\n",
       "      <td>1.0</td>\n",
       "      <td>5.0</td>\n",
       "      <td>-3.0</td>\n",
       "      <td>-1.000000</td>\n",
       "      <td>0.000000</td>\n",
       "      <td>0.00</td>\n",
       "    </tr>\n",
       "    <tr>\n",
       "      <th>3</th>\n",
       "      <td>1</td>\n",
       "      <td>6.0</td>\n",
       "      <td>-1.0</td>\n",
       "      <td>-6.0</td>\n",
       "      <td>0.000000</td>\n",
       "      <td>0.000000</td>\n",
       "      <td>0.00</td>\n",
       "    </tr>\n",
       "    <tr>\n",
       "      <th>4</th>\n",
       "      <td>2</td>\n",
       "      <td>5.0</td>\n",
       "      <td>-13.0</td>\n",
       "      <td>0.0</td>\n",
       "      <td>0.000000</td>\n",
       "      <td>0.000000</td>\n",
       "      <td>0.00</td>\n",
       "    </tr>\n",
       "    <tr>\n",
       "      <th>5</th>\n",
       "      <td>3</td>\n",
       "      <td>-8.0</td>\n",
       "      <td>0.0</td>\n",
       "      <td>0.0</td>\n",
       "      <td>0.000000</td>\n",
       "      <td>0.000000</td>\n",
       "      <td>0.00</td>\n",
       "    </tr>\n",
       "  </tbody>\n",
       "</table>\n",
       "</div>"
      ],
      "text/plain": [
       "   x  Or0   Or1  Or2       Or3       Or4   Or5\n",
       "0 -2 -2.0  -3.0  4.5 -1.666667  0.208333 -0.05\n",
       "1 -1 -5.0   6.0 -0.5 -0.833333 -0.041667  0.00\n",
       "2  0  1.0   5.0 -3.0 -1.000000  0.000000  0.00\n",
       "3  1  6.0  -1.0 -6.0  0.000000  0.000000  0.00\n",
       "4  2  5.0 -13.0  0.0  0.000000  0.000000  0.00\n",
       "5  3 -8.0   0.0  0.0  0.000000  0.000000  0.00"
      ]
     },
     "execution_count": 22,
     "metadata": {},
     "output_type": "execute_result"
    }
   ],
   "source": [
    "def newton_interpolation(x, y, point):\n",
    "    n = len(x)\n",
    "    coef = Dif_Div(x, y)[0]\n",
    "\n",
    "    # Calcula o polinômio interpolador\n",
    "    polyn = np.poly1d(coef[0, :n])\n",
    "\n",
    "    # Calcula o erro estimado para o ponto extra\n",
    "    error_estimation = 0.0\n",
    "    prod = 1.0\n",
    "    for i in range(n):\n",
    "        prod *= (point - x[i])\n",
    "        error_estimation += coef[0, i] * prod\n",
    "\n",
    "    return polyn, error_estimation\n",
    "\n",
    "x = [-2,-1,-0,1,2,3]\n",
    "y = [-2,-5,1,6,5,-8]\n",
    "point = 1.5\n",
    "degree = 3\n",
    "\n",
    "# Verifica se o grau do polinômio é válido\n",
    "if degree < 0 or degree >= len(x):\n",
    "    print(\"Grau inválido! Deve ser maior ou igual a 0 e menor que o número de pontos na tabela.\")\n",
    "    exit()\n",
    "\n",
    "# Calcula o polinômio interpolador e o erro estimado\n",
    "polyn, error = newton_interpolation(x, y, point)\n",
    "\n",
    "# Devolve a tabela de diferenças divididas\n",
    "differences_table = Dif_Div(x, y)[1]\n",
    "\n",
    "# Imprime o polinômio interpolador\n",
    "print(\"Polinômio Interpolador:\")\n",
    "print(polyn)\n",
    "\n",
    "# Imprime o erro estimado\n",
    "print(f\"\\nErro estimado para x = {point}: {error}\")\n",
    "\n",
    "differences_table"
   ]
  },
  {
   "cell_type": "code",
   "execution_count": null,
   "id": "87884cf6",
   "metadata": {},
   "outputs": [],
   "source": []
  }
 ],
 "metadata": {
  "kernelspec": {
   "display_name": "Python 3",
   "language": "python",
   "name": "python3"
  },
  "language_info": {
   "codemirror_mode": {
    "name": "ipython",
    "version": 3
   },
   "file_extension": ".py",
   "mimetype": "text/x-python",
   "name": "python",
   "nbconvert_exporter": "python",
   "pygments_lexer": "ipython3",
   "version": "3.8.3"
  }
 },
 "nbformat": 4,
 "nbformat_minor": 5
}
