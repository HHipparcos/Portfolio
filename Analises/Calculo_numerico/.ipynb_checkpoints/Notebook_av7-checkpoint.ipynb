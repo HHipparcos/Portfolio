{
 "cells": [
  {
   "cell_type": "code",
   "execution_count": 1,
   "id": "253d18c4",
   "metadata": {
    "ExecuteTime": {
     "end_time": "2023-07-12T02:29:47.287554Z",
     "start_time": "2023-07-12T02:29:44.765839Z"
    },
    "code_folding": []
   },
   "outputs": [],
   "source": [
    "# Importando Bibliotecas\n",
    "import numpy as np\n",
    "import pandas as pd\n",
    "import matplotlib.pyplot as plt\n",
    "import astropy.units as u\n",
    "import math\n",
    "import scipy.stats as stats\n",
    "from tqdm import tqdm \n",
    "import time\n",
    "import mplcyberpunk\n",
    "import smtplib\n",
    "from scipy.optimize import curve_fit\n",
    "\n",
    "plt.style.use('cyberpunk')"
   ]
  },
  {
   "cell_type": "markdown",
   "id": "64d51002",
   "metadata": {},
   "source": [
    "# Cálculo Numérico\n",
    "### Ferramenta auxiliar\n",
    "\n",
    "*Thiago Laidler Vidal Cunha*"
   ]
  },
  {
   "cell_type": "markdown",
   "id": "e84de18d",
   "metadata": {},
   "source": [
    "### Resoluções numéricas de EDO"
   ]
  },
  {
   "cell_type": "code",
   "execution_count": 2,
   "id": "0f8e6425",
   "metadata": {
    "ExecuteTime": {
     "end_time": "2023-07-12T02:29:47.706290Z",
     "start_time": "2023-07-12T02:29:47.293666Z"
    }
   },
   "outputs": [
    {
     "data": {
      "image/png": "[encoded data removed]",
      "text/plain": [
       "<Figure size 432x288 with 1 Axes>"
      ]
     },
     "metadata": {
      "needs_background": "dark"
     },
     "output_type": "display_data"
    }
   ],
   "source": [
    "def euler(f, t0, y0, h, num_steps):\n",
    "    # Inicialização dos arrays para armazenar os valores de tempo e solução\n",
    "    t = np.zeros(num_steps+1)\n",
    "    y = np.zeros(num_steps+1)\n",
    "    \n",
    "    # Atribuição dos valores iniciais\n",
    "    t[0] = t0\n",
    "    y[0] = y0\n",
    "    \n",
    "    # Iteração para calcular os valores subsequentes\n",
    "    for i in range(num_steps):\n",
    "        # Cálculo do próximo ponto usando o método de Euler\n",
    "        y[i+1] = y[i] + h * f(t[i], y[i])\n",
    "        \n",
    "        # Atualização do tempo\n",
    "        t[i+1] = t[i] + h\n",
    "    \n",
    "    return t, y\n",
    "\n",
    "# Exemplo de função f(t, y) = t + y = y'\n",
    "def f(t, y):\n",
    "    return t + y\n",
    "\n",
    "# Parâmetros do problema\n",
    "t0 = 0  # Valor inicial de t\n",
    "y0 = 1  # Valor inicial de y\n",
    "h = 0.1  # Tamanho do passo\n",
    "num_steps = 10  # Número de passos\n",
    "\n",
    "# Chamada da função euler para resolver a EDO\n",
    "t, y = euler(f, t0, y0, h, num_steps)\n",
    "\n",
    "# Plot dos resultados\n",
    "plt.plot(t, y)\n",
    "plt.xlabel('t')\n",
    "plt.ylabel('y')\n",
    "plt.title('Solução da EDO pelo método de Euler')\n",
    "plt.grid(True)\n",
    "plt.show()"
   ]
  },
  {
   "cell_type": "markdown",
   "id": "0c748b0c",
   "metadata": {},
   "source": [
    "#### Questão 1:"
   ]
  },
  {
   "cell_type": "markdown",
   "id": "6cd1c904",
   "metadata": {},
   "source": [
    "Dentre os métodos listados, o método mais adequado para a resolução da EDO considerada é o Método de Runge-Kutta de ordem 2 com a1 = 1/6 (opção C). Esse método possui uma precisão maior do que o Método de Euler (opção A) e a Diferença Finita de segunda ordem (opção B), e é mais simples do que a Diferença Finita centrada e de segunda ordem (opção D) e o Método de Série de Taylor de ordem 1 (opção E)."
   ]
  },
  {
   "cell_type": "code",
   "execution_count": 3,
   "id": "cdb3b147",
   "metadata": {
    "ExecuteTime": {
     "end_time": "2023-07-12T02:29:47.750833Z",
     "start_time": "2023-07-12T02:29:47.712725Z"
    }
   },
   "outputs": [
    {
     "name": "stdout",
     "output_type": "stream",
     "text": [
      "Iteração 1\n",
      "t = 1.0\n",
      "Z = [0. 1. 1.]\n",
      "\n",
      "Iteração 2\n",
      "t = 1.2\n",
      "Z = [0.10864924 1.17997716 1.11364924]\n",
      "\n",
      "Estimativa da imagem de x = 0.8: 0.10864924423532965\n"
     ]
    }
   ],
   "source": [
    "'''\n",
    "1° tentativa (falhou)\n",
    "'''\n",
    "def runge_kutta_ordem2(f, xo, a, Z0, h):\n",
    "    num_passos = int((a - xo) / h)\n",
    "    t = np.linspace(xo, a, num_passos+1)\n",
    "    Z = np.zeros((num_passos+1, 3))\n",
    "    Z[0] = Z0\n",
    "    \n",
    "    for i in range(num_passos):\n",
    "        z1, z2, z3 = Z[i]\n",
    "        \n",
    "        m1 = f(t[i], z1, z2, z3, t[i])\n",
    "        m2 = f(t[i] + h, z1 + h * m1[0], z2 + h * m1[1], z3 + h * m1[2], t[i] + h)\n",
    "        \n",
    "        Z[i+1] = Z[i] + h/2 * (m1 + m2)\n",
    "    \n",
    "    return t, Z\n",
    "\n",
    "def f(t, z1, z2, z3, x):\n",
    "    return np.array([z2, 0.5 * z2 - z1 + x**2 - 0.5 * np.cos(x) + 3/2 - t, z1 + z2])\n",
    "\n",
    "a = 1.2\n",
    "xo = 1\n",
    "Z0 = np.array([0, 1, 1])\n",
    "h = 0.1\n",
    "\n",
    "t, Z = runge_kutta_ordem2(f, xo, a, Z0, h)\n",
    "\n",
    "# Imprime cada iteração\n",
    "for i in range(len(t)):\n",
    "    print(\"Iteração\", i+1)\n",
    "    print(\"t =\", t[i])\n",
    "    print(\"Z =\", Z[i])\n",
    "    print()\n",
    "\n",
    "# Estimativa da imagem de x = 0.8\n",
    "x_estimado = 0.8\n",
    "index_estimado = int((x_estimado - xo) / h)\n",
    "y_estimado = Z[index_estimado][0]\n",
    "\n",
    "print(\"Estimativa da imagem de x = 0.8:\", y_estimado)\n"
   ]
  },
  {
   "cell_type": "code",
   "execution_count": 4,
   "id": "19a4c265",
   "metadata": {
    "ExecuteTime": {
     "end_time": "2023-07-12T02:29:47.797638Z",
     "start_time": "2023-07-12T02:29:47.759598Z"
    }
   },
   "outputs": [
    {
     "name": "stdout",
     "output_type": "stream",
     "text": [
      "y(0.4) = 0.9600\n",
      "y(0.8) = 2.1848\n",
      "y(1.2) = 3.6177\n",
      "y(1.6) = 5.2193\n",
      "\n",
      "Estimativa de y(0.8): 2.1847517013898554\n"
     ]
    }
   ],
   "source": [
    "'''\n",
    "2° tentativa\n",
    "'''\n",
    "\n",
    "def f(x, z1, z2):\n",
    "    return z2\n",
    "\n",
    "def g(x, z1, z2):\n",
    "    return 0.5 * z2 - z1 + x**2 - 0.5 * np.cos(x) + 1.5\n",
    "\n",
    "def runge_kutta_ordem2(a, b, h, z10, z20):\n",
    "    n = int((b - a) / h) + 1\n",
    "    x = np.linspace(a, b, n)\n",
    "    z1 = np.zeros(n)\n",
    "    z2 = np.zeros(n)\n",
    "\n",
    "    z1[0] = z10\n",
    "    z2[0] = z20\n",
    "\n",
    "    for i in range(1, n):\n",
    "        k1 = h * f(x[i-1], z1[i-1], z2[i-1])\n",
    "        l1 = h * g(x[i-1], z1[i-1], z2[i-1])\n",
    "        k2 = h * f(x[i-1] + h/2, z1[i-1] + k1/2, z2[i-1] + l1/2)\n",
    "        l2 = h * g(x[i-1] + h/2, z1[i-1] + k1/2, z2[i-1] + l1/2)\n",
    "\n",
    "        z1[i] = z1[i-1] + k2\n",
    "        z2[i] = z2[i-1] + l2\n",
    "\n",
    "        # Print do valor de y(x) em cada iteração\n",
    "        print(\"y({:.1f}) = {:.4f}\".format(x[i], z1[i]))\n",
    "\n",
    "    return z1, z2\n",
    "\n",
    "h = 0.4\n",
    "a = 0\n",
    "b = 1.6\n",
    "x_estimado = 0.8\n",
    "z10 = 0\n",
    "z20 = 2\n",
    "\n",
    "z1, z2 = runge_kutta_ordem2(a, b, h, z10, z20)\n",
    "\n",
    "# Estimativa de y(0.8)\n",
    "index_estimado = int((x_estimado - a) / h)\n",
    "y_estimado = z1[index_estimado]\n",
    "\n",
    "print(\"\\nEstimativa de y(0.8):\", y_estimado)"
   ]
  },
  {
   "cell_type": "code",
   "execution_count": 5,
   "id": "ac4e6d86",
   "metadata": {
    "ExecuteTime": {
     "end_time": "2023-07-12T02:29:48.300082Z",
     "start_time": "2023-07-12T02:29:47.803049Z"
    }
   },
   "outputs": [
    {
     "data": {
      "image/png": "[encoded data removed]",
      "text/plain": [
       "<Figure size 432x288 with 1 Axes>"
      ]
     },
     "metadata": {
      "needs_background": "dark"
     },
     "output_type": "display_data"
    }
   ],
   "source": [
    "# Plot da solução\n",
    "plt.plot(np.linspace(a, b, len(z1)), z1, label='y(x)')\n",
    "plt.plot(np.linspace(a, b, len(z2)), z2, label=\"y'(x)\")\n",
    "plt.xlabel('x')\n",
    "plt.ylabel('y(x), dy/dx')\n",
    "plt.legend()\n",
    "plt.grid(True)\n",
    "plt.title('Solução da EDO usando Runge-Kutta de Ordem 2')\n",
    "plt.show()"
   ]
  },
  {
   "cell_type": "markdown",
   "id": "6796d51f",
   "metadata": {},
   "source": [
    "#### Questão 2:"
   ]
  },
  {
   "cell_type": "code",
   "execution_count": 6,
   "id": "be48347f",
   "metadata": {
    "ExecuteTime": {
     "end_time": "2023-07-12T02:29:48.314643Z",
     "start_time": "2023-07-12T02:29:48.305414Z"
    }
   },
   "outputs": [
    {
     "name": "stdout",
     "output_type": "stream",
     "text": [
      "\n",
      "Estimativa de dy(0.8)/dx: 3.3280964773902038\n"
     ]
    }
   ],
   "source": [
    "print(\"\\nEstimativa de dy(0.8)/dx:\", z2[index_estimado])"
   ]
  },
  {
   "cell_type": "code",
   "execution_count": 7,
   "id": "c20f7d0e",
   "metadata": {
    "ExecuteTime": {
     "end_time": "2023-07-12T02:29:48.340082Z",
     "start_time": "2023-07-12T02:29:48.320842Z"
    }
   },
   "outputs": [
    {
     "name": "stdout",
     "output_type": "stream",
     "text": [
      "Estimativa de y'(0.8): 3.2750000000000004\n"
     ]
    }
   ],
   "source": [
    "'''\n",
    "Outra tentativa (falhou)\n",
    "'''\n",
    "\n",
    "def estimar_derivada(y, h):\n",
    "    n = len(y)\n",
    "    derivada = np.zeros(n)\n",
    "\n",
    "    derivada[0] = (-3 * y[0] + 4 * y[1] - y[2]) / (2 * h)\n",
    "    derivada[-1] = (y[-3] - 4 * y[-2] + 3 * y[-1]) / (2 * h)\n",
    "\n",
    "    for i in range(1, n-1):\n",
    "        derivada[i] = (y[i+1] - y[i-1]) / (2 * h)\n",
    "\n",
    "    return derivada\n",
    "\n",
    "h = 0.4\n",
    "y_derivada = estimar_derivada(y, h)\n",
    "\n",
    "# Estimativa de y'(0.8)\n",
    "x_estimado = 0.8\n",
    "index_estimado = int(x_estimado / h)\n",
    "y_derivada_estimada = y_derivada[index_estimado]\n",
    "\n",
    "print(\"Estimativa de y'(0.8):\", y_derivada_estimada*10)"
   ]
  },
  {
   "cell_type": "markdown",
   "id": "e01363c6",
   "metadata": {},
   "source": [
    "#### Questão 3: "
   ]
  },
  {
   "cell_type": "code",
   "execution_count": 8,
   "id": "4e094a17",
   "metadata": {
    "ExecuteTime": {
     "end_time": "2023-07-12T02:29:48.364553Z",
     "start_time": "2023-07-12T02:29:48.351350Z"
    }
   },
   "outputs": [
    {
     "name": "stdout",
     "output_type": "stream",
     "text": [
      "y(0.4) = 0.9600\n",
      "y(0.8) = 2.1848\n",
      "y(1.2) = 3.6177\n",
      "y(1.6) = 5.2193\n",
      "\n",
      "Estimativa de y(0.8): 2.1847517013898554\n"
     ]
    }
   ],
   "source": [
    "h = 0.4\n",
    "a = 0\n",
    "b = 1.6\n",
    "x_estimado = 0.8\n",
    "z10 = 0\n",
    "z20 = 2\n",
    "\n",
    "z1, z2 = runge_kutta_ordem2(a, b, h, z10, z20)\n",
    "\n",
    "# Estimativa de y(0.8)\n",
    "index_estimado = int((x_estimado - a) / h)\n",
    "y_estimado = z1[index_estimado]\n",
    "\n",
    "print(\"\\nEstimativa de y(0.8):\", y_estimado)"
   ]
  },
  {
   "cell_type": "markdown",
   "id": "456d7891",
   "metadata": {},
   "source": [
    "#### Questão 4:"
   ]
  },
  {
   "cell_type": "code",
   "execution_count": 9,
   "id": "324ade42",
   "metadata": {
    "ExecuteTime": {
     "end_time": "2023-07-12T02:29:48.397778Z",
     "start_time": "2023-07-12T02:29:48.368899Z"
    }
   },
   "outputs": [
    {
     "name": "stdout",
     "output_type": "stream",
     "text": [
      "Estimativa de y(0.8): 2.1847517013898554\n"
     ]
    }
   ],
   "source": [
    "def runge_kutta_ordem2(a, b, h, z10, z20):\n",
    "    n = int((b - a) / h) + 1\n",
    "    x = np.linspace(a, b, n)\n",
    "    z1 = np.zeros(n)\n",
    "    z2 = np.zeros(n)\n",
    "\n",
    "    z1[0] = z10\n",
    "    z2[0] = z20\n",
    "\n",
    "    for i in range(1, n):\n",
    "        k1 = h * f(x[i-1], z1[i-1], z2[i-1])\n",
    "        l1 = h * g(x[i-1], z1[i-1], z2[i-1])\n",
    "        k2 = h * f(x[i-1] + h/2, z1[i-1] + k1/2, z2[i-1] + l1/2)\n",
    "        l2 = h * g(x[i-1] + h/2, z1[i-1] + k1/2, z2[i-1] + l1/2)\n",
    "\n",
    "        z1[i] = z1[i-1] + k2\n",
    "        z2[i] = z2[i-1] + l2\n",
    "\n",
    "    return z1, z2\n",
    "\n",
    "h = 0.4\n",
    "a = 0\n",
    "b = 1.6\n",
    "x_estimado = 0.8\n",
    "z10 = 0\n",
    "z20 = 2\n",
    "\n",
    "z1, z2 = runge_kutta_ordem2(a, b, h, z10, z20)\n",
    "\n",
    "# Estimativa de y(0.8)\n",
    "x_index = int(x_estimado / h)\n",
    "y_estimado = z1[x_index]\n",
    "\n",
    "print(\"Estimativa de y(0.8):\", y_estimado)"
   ]
  },
  {
   "cell_type": "code",
   "execution_count": 10,
   "id": "e7e30c90",
   "metadata": {
    "ExecuteTime": {
     "end_time": "2023-07-12T02:29:48.936466Z",
     "start_time": "2023-07-12T02:29:48.404047Z"
    }
   },
   "outputs": [
    {
     "data": {
      "image/png": "[encoded data removed]",
      "text/plain": [
       "<Figure size 432x288 with 1 Axes>"
      ]
     },
     "metadata": {
      "needs_background": "dark"
     },
     "output_type": "display_data"
    }
   ],
   "source": [
    "# Plot da solução\n",
    "plt.plot(np.linspace(a, b, len(z1)), z1, label='y(x)')\n",
    "plt.plot(np.linspace(a, b, len(z2)), z2, label=\"y'(x)\")\n",
    "plt.xlabel('x')\n",
    "plt.ylabel('y(x), dy/dx')\n",
    "plt.legend()\n",
    "plt.grid(True)\n",
    "plt.title('Solução da EDO usando Runge-Kutta de Ordem 2')\n",
    "plt.show()"
   ]
  },
  {
   "cell_type": "markdown",
   "id": "3202f299",
   "metadata": {},
   "source": [
    "A mudança do ponto auxiliar não alterou muito o resultado"
   ]
  },
  {
   "cell_type": "code",
   "execution_count": 11,
   "id": "b0605228",
   "metadata": {
    "ExecuteTime": {
     "end_time": "2023-07-12T02:30:03.540188Z",
     "start_time": "2023-07-12T02:29:48.943754Z"
    }
   },
   "outputs": [
    {
     "name": "stdout",
     "output_type": "stream",
     "text": [
      "[NbConvertApp] Converting notebook Notebook_av7.ipynb to webpdf\n",
      "[NbConvertApp] Writing 125412 bytes to Notebook_av7.pdf\n"
     ]
    }
   ],
   "source": [
    "!jupyter nbconvert --to webpdf --allow-chromium-download Notebook_av7.ipynb"
   ]
  }
 ],
 "metadata": {
  "kernelspec": {
   "display_name": "Python 3",
   "language": "python",
   "name": "python3"
  },
  "language_info": {
   "codemirror_mode": {
    "name": "ipython",
    "version": 3
   },
   "file_extension": ".py",
   "mimetype": "text/x-python",
   "name": "python",
   "nbconvert_exporter": "python",
   "pygments_lexer": "ipython3",
   "version": "3.8.3"
  }
 },
 "nbformat": 4,
 "nbformat_minor": 5
}
