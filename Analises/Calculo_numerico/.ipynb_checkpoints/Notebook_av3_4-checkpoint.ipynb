{
 "cells": [
  {
   "cell_type": "code",
   "execution_count": 1,
   "id": "253d18c4",
   "metadata": {
    "ExecuteTime": {
     "end_time": "2023-05-23T21:30:01.077049Z",
     "start_time": "2023-05-23T21:29:57.789506Z"
    },
    "code_folding": []
   },
   "outputs": [],
   "source": [
    "# Importando Bibliotecas\n",
    "import numpy as np\n",
    "import pandas as pd\n",
    "import matplotlib.pyplot as plt\n",
    "import astropy.units as u\n",
    "import math\n",
    "import scipy.stats as stats\n",
    "from tqdm import tqdm \n",
    "import time\n",
    "import mplcyberpunk\n",
    "import smtplib"
   ]
  },
  {
   "cell_type": "markdown",
   "id": "64d51002",
   "metadata": {},
   "source": [
    "# Cálculo Numérico\n",
    "### Ferramenta auxiliar\n",
    "\n",
    "*Thiago Laidler Vidal Cunha*"
   ]
  },
  {
   "cell_type": "markdown",
   "id": "97594dc3",
   "metadata": {},
   "source": [
    "### 1. Resolução de Sistemas Lineares por métodos diretos\n",
    "#### 1.1 - Eliminação de Gauss"
   ]
  },
  {
   "cell_type": "code",
   "execution_count": 2,
   "id": "9a71d7d1",
   "metadata": {
    "ExecuteTime": {
     "end_time": "2023-05-23T21:30:01.105566Z",
     "start_time": "2023-05-23T21:30:01.083418Z"
    }
   },
   "outputs": [
    {
     "name": "stdout",
     "output_type": "stream",
     "text": [
      "Solução do sistema:\n",
      "[0.75 1.7  2.6 ]\n"
     ]
    }
   ],
   "source": [
    "def eliminacao_de_gauss(A, b):\n",
    "    n = len(b)\n",
    "    \n",
    "    # Eliminação\n",
    "    for i in range(n-1):\n",
    "        for j in range(i+1, n):\n",
    "            if A[j, i] != 0:\n",
    "                fator = A[j, i] / A[i, i]\n",
    "                A[j, i+1:] -= fator * A[i, i+1:]\n",
    "                b[j] -= fator * b[i]\n",
    "    # Substituição\n",
    "    x = np.zeros(n)\n",
    "    x[n-1] = b[n-1] / A[n-1, n-1]\n",
    "    \n",
    "    for i in range(n-2, -1, -1):\n",
    "        x[i] = (b[i] - np.dot(A[i, i+1:], x[i+1:])) / A[i, i] #np.dot multiplica matrizes\n",
    "    \n",
    "    return x\n",
    "\n",
    "# Exemplo de sistema linear\n",
    "A = np.array([[2.0, 3.0, -1.0],\n",
    "              [4.0, 4.0, -3.0],\n",
    "              [2.0, -3.0, 1.0]])\n",
    "\n",
    "b = np.array([4.0, 2.0, -1.0])\n",
    "\n",
    "# Chama a função de eliminação de Gauss para resolver o sistema\n",
    "solucao = eliminacao_de_gauss(A, b)\n",
    "\n",
    "print(\"Solução do sistema:\")\n",
    "print(solucao)"
   ]
  },
  {
   "cell_type": "code",
   "execution_count": 3,
   "id": "f09f1e3f",
   "metadata": {
    "ExecuteTime": {
     "end_time": "2023-05-23T21:30:01.129589Z",
     "start_time": "2023-05-23T21:30:01.116577Z"
    }
   },
   "outputs": [],
   "source": [
    "def eliminacao_de_gauss(A, b):\n",
    "    '''\n",
    "    Resolução com Pivô e guardando a matriz triangular final\n",
    "    '''\n",
    "    n = len(b)\n",
    "    Ab = np.column_stack((A, b))\n",
    "\n",
    "    for i in range(n-1):\n",
    "        pivot = Ab[i, i]\n",
    "        if pivot == 0:\n",
    "            raise ValueError(\"O pivô é zero, o sistema não possui solução única.\")\n",
    "        \n",
    "        Ab[i, :] /= pivot\n",
    "\n",
    "        for j in range(i+1, n):\n",
    "            multiplier = Ab[j, i] / Ab[i, i]\n",
    "            Ab[j, :] -= multiplier * Ab[i, :]\n",
    "    \n",
    "    Ab[-1, :] /= Ab[-1, -2]  # Divisão para normalizar o último elemento\n",
    "\n",
    "    df = pd.DataFrame(Ab[:, :-1], columns=[f'x{i+1}' for i in range(n)])\n",
    "    df['b'] = Ab[:, -1]\n",
    "    \n",
    "    return df"
   ]
  },
  {
   "cell_type": "code",
   "execution_count": 4,
   "id": "320b601f",
   "metadata": {
    "ExecuteTime": {
     "end_time": "2023-05-23T21:30:01.191912Z",
     "start_time": "2023-05-23T21:30:01.138004Z"
    }
   },
   "outputs": [
    {
     "data": {
      "text/html": [
       "<div>\n",
       "<style scoped>\n",
       "    .dataframe tbody tr th:only-of-type {\n",
       "        vertical-align: middle;\n",
       "    }\n",
       "\n",
       "    .dataframe tbody tr th {\n",
       "        vertical-align: top;\n",
       "    }\n",
       "\n",
       "    .dataframe thead th {\n",
       "        text-align: right;\n",
       "    }\n",
       "</style>\n",
       "<table border=\"1\" class=\"dataframe\">\n",
       "  <thead>\n",
       "    <tr style=\"text-align: right;\">\n",
       "      <th></th>\n",
       "      <th>x1</th>\n",
       "      <th>x2</th>\n",
       "      <th>x3</th>\n",
       "      <th>x4</th>\n",
       "      <th>b</th>\n",
       "    </tr>\n",
       "  </thead>\n",
       "  <tbody>\n",
       "    <tr>\n",
       "      <th>0</th>\n",
       "      <td>1.0</td>\n",
       "      <td>2.0</td>\n",
       "      <td>-1.000000</td>\n",
       "      <td>1.000000</td>\n",
       "      <td>0.000000</td>\n",
       "    </tr>\n",
       "    <tr>\n",
       "      <th>1</th>\n",
       "      <td>0.0</td>\n",
       "      <td>1.0</td>\n",
       "      <td>0.333333</td>\n",
       "      <td>0.333333</td>\n",
       "      <td>0.333333</td>\n",
       "    </tr>\n",
       "    <tr>\n",
       "      <th>2</th>\n",
       "      <td>0.0</td>\n",
       "      <td>0.0</td>\n",
       "      <td>1.000000</td>\n",
       "      <td>0.307692</td>\n",
       "      <td>1.000000</td>\n",
       "    </tr>\n",
       "    <tr>\n",
       "      <th>3</th>\n",
       "      <td>0.0</td>\n",
       "      <td>0.0</td>\n",
       "      <td>0.000000</td>\n",
       "      <td>1.000000</td>\n",
       "      <td>0.000000</td>\n",
       "    </tr>\n",
       "  </tbody>\n",
       "</table>\n",
       "</div>"
      ],
      "text/plain": [
       "    x1   x2        x3        x4         b\n",
       "0  1.0  2.0 -1.000000  1.000000  0.000000\n",
       "1  0.0  1.0  0.333333  0.333333  0.333333\n",
       "2  0.0  0.0  1.000000  0.307692  1.000000\n",
       "3  0.0  0.0  0.000000  1.000000  0.000000"
      ]
     },
     "execution_count": 4,
     "metadata": {},
     "output_type": "execute_result"
    }
   ],
   "source": [
    "A = np.array([[1.0, 2.0, -1.0, 1.0],\n",
    "              [-1.0, 1.0, 2.0, 0.0],\n",
    "              [2.0, 0.0, 1.0, 2.0],\n",
    "              [1.0, 1.0, -3.0, 2.0]])\n",
    "b = np.array([0.0, 1.0, 3.0,-2.0])\n",
    "\n",
    "eliminacao_de_gauss(A,b)"
   ]
  },
  {
   "cell_type": "markdown",
   "id": "579557c7",
   "metadata": {},
   "source": [
    "#### 1.2 - Fatoração LU"
   ]
  },
  {
   "cell_type": "code",
   "execution_count": 5,
   "id": "1249b39b",
   "metadata": {
    "ExecuteTime": {
     "end_time": "2023-05-23T21:30:01.224589Z",
     "start_time": "2023-05-23T21:30:01.197729Z"
    }
   },
   "outputs": [],
   "source": [
    "import numpy as np\n",
    "\n",
    "def fatoracao_LU(A, b):\n",
    "    n = len(b)\n",
    "    L = np.eye(n)\n",
    "    U = np.zeros((n, n))\n",
    "    \n",
    "    for k in range(n):\n",
    "        U[k, k:] = A[k, k:] - np.dot(L[k, :k], U[:k, k:])\n",
    "        L[(k+1):, k] = (A[(k+1):, k] - np.dot(L[(k+1):, :k], U[:k, k])) / U[k, k]\n",
    "    \n",
    "    # Resolvendo Ly = b por substituição progressiva\n",
    "    y = np.zeros(n)\n",
    "    y[0] = b[0]\n",
    "    \n",
    "    for i in range(1, n):\n",
    "        y[i] = b[i] - np.dot(L[i, :i], y[:i])\n",
    "    \n",
    "    # Resolvendo Ux = y por substituição regressiva\n",
    "    x = np.zeros(n)\n",
    "    x[n-1] = y[n-1] / U[n-1, n-1]\n",
    "    \n",
    "    for i in range(n-2, -1, -1):\n",
    "        x[i] = (y[i] - np.dot(U[i, i+1:], x[i+1:])) / U[i, i]\n",
    "    \n",
    "    return x,L,U"
   ]
  },
  {
   "cell_type": "markdown",
   "id": "c4647638",
   "metadata": {},
   "source": [
    "#### Questão 1 Av3"
   ]
  },
  {
   "cell_type": "code",
   "execution_count": 6,
   "id": "9bd105a2",
   "metadata": {
    "ExecuteTime": {
     "end_time": "2023-05-23T21:30:01.254354Z",
     "start_time": "2023-05-23T21:30:01.231060Z"
    }
   },
   "outputs": [
    {
     "data": {
      "text/plain": [
       "array([[  2.        ,  -1.        ,   3.        ,   0.        ],\n",
       "       [  0.        ,   1.5       ,  -5.5       ,   1.        ],\n",
       "       [  0.        ,   0.        ,  -2.        ,   3.        ],\n",
       "       [  0.        ,   0.        ,   0.        , -12.33333333]])"
      ]
     },
     "execution_count": 6,
     "metadata": {},
     "output_type": "execute_result"
    }
   ],
   "source": [
    "A = np.array([[2.0, -1.0, 3.0, 0.0],\n",
    "              [1.0, 1.0, -4.0, 1.0],\n",
    "              [-1.0, -1.0, 2.0, 2.0],\n",
    "              [1.0, -3.0, 0.0, 2.0]])\n",
    "\n",
    "b = np.array([7.0, -1.0, 2.0, 4.0])\n",
    "\n",
    "# Chama a função de fatoração LU para resolver o sistema\n",
    "solucao = fatoracao_LU(A, b)\n",
    "solucao[2]"
   ]
  },
  {
   "cell_type": "code",
   "execution_count": 7,
   "id": "b1cd513d",
   "metadata": {
    "ExecuteTime": {
     "end_time": "2023-05-23T21:30:01.273622Z",
     "start_time": "2023-05-23T21:30:01.258534Z"
    }
   },
   "outputs": [
    {
     "data": {
      "text/plain": [
       "array([[ 3.        , -4.        ,  1.        ],\n",
       "       [ 0.        ,  3.33333333,  1.66666667],\n",
       "       [ 0.        ,  0.        , -7.        ]])"
      ]
     },
     "execution_count": 7,
     "metadata": {},
     "output_type": "execute_result"
    }
   ],
   "source": [
    "A = np.array([[3, -4, 1],\n",
    "              [1, 2, 2],\n",
    "              [4, 0, -3]])\n",
    "\n",
    "b = np.array([9, 3, -2])\n",
    "\n",
    "# Chama a função de fatoração LU para resolver o sistema\n",
    "solucao = fatoracao_LU(A, b)\n",
    "solucao[2]"
   ]
  },
  {
   "cell_type": "markdown",
   "id": "56623fdb",
   "metadata": {},
   "source": [
    "### 2. Resolução de Sistemas Lineares por métodos iterativos\n",
    "#### 2.1 - Gauss-Jacobi"
   ]
  },
  {
   "cell_type": "code",
   "execution_count": 8,
   "id": "aa44b7fd",
   "metadata": {
    "ExecuteTime": {
     "end_time": "2023-05-23T21:30:01.297459Z",
     "start_time": "2023-05-23T21:30:01.282674Z"
    }
   },
   "outputs": [],
   "source": [
    "def gauss_jacobi(A, b, tolerance=0.05):\n",
    "    n = len(A)\n",
    "    x = np.zeros(n)\n",
    "    x_prev = np.zeros(n)\n",
    "    iterations = []\n",
    "    \n",
    "    dk_relativo = tolerance + 1\n",
    "    k = 0\n",
    "    \n",
    "    while dk_relativo > tolerance:\n",
    "        dx_max = 0\n",
    "        \n",
    "        for i in range(n):\n",
    "            temp_sum = 0\n",
    "            \n",
    "            for j in range(n):\n",
    "                if j != i:\n",
    "                    temp_sum += A[i][j] * x_prev[j]\n",
    "            \n",
    "            x[i] = (b[i] - temp_sum) / A[i][i]\n",
    "            \n",
    "            dx = abs(x[i] - x_prev[i])\n",
    "            if dx > dx_max:\n",
    "                dx_max = dx\n",
    "        \n",
    "        dk_relativo = dx_max / max(abs(x))\n",
    "        iterations.append([k+1] + list(x) + [dx_max, dk_relativo])\n",
    "        \n",
    "        x_prev = x.copy()\n",
    "        k += 1\n",
    "    \n",
    "    column_names = ['k'] + [f'x{i+1}' for i in range(n)] + ['dk', 'dk_relativo']\n",
    "    df = pd.DataFrame(iterations, columns=column_names)\n",
    "    return df"
   ]
  },
  {
   "cell_type": "code",
   "execution_count": 9,
   "id": "025ade9b",
   "metadata": {
    "ExecuteTime": {
     "end_time": "2023-05-23T21:30:01.347191Z",
     "start_time": "2023-05-23T21:30:01.306328Z"
    }
   },
   "outputs": [
    {
     "data": {
      "text/html": [
       "<div>\n",
       "<style scoped>\n",
       "    .dataframe tbody tr th:only-of-type {\n",
       "        vertical-align: middle;\n",
       "    }\n",
       "\n",
       "    .dataframe tbody tr th {\n",
       "        vertical-align: top;\n",
       "    }\n",
       "\n",
       "    .dataframe thead th {\n",
       "        text-align: right;\n",
       "    }\n",
       "</style>\n",
       "<table border=\"1\" class=\"dataframe\">\n",
       "  <thead>\n",
       "    <tr style=\"text-align: right;\">\n",
       "      <th></th>\n",
       "      <th>k</th>\n",
       "      <th>x1</th>\n",
       "      <th>x2</th>\n",
       "      <th>x3</th>\n",
       "      <th>dk</th>\n",
       "      <th>dk_relativo</th>\n",
       "    </tr>\n",
       "  </thead>\n",
       "  <tbody>\n",
       "    <tr>\n",
       "      <th>0</th>\n",
       "      <td>1</td>\n",
       "      <td>5.000000</td>\n",
       "      <td>10.000000</td>\n",
       "      <td>13.000000</td>\n",
       "      <td>13.000000</td>\n",
       "      <td>1.000000</td>\n",
       "    </tr>\n",
       "    <tr>\n",
       "      <th>1</th>\n",
       "      <td>2</td>\n",
       "      <td>-4.000000</td>\n",
       "      <td>7.333333</td>\n",
       "      <td>7.000000</td>\n",
       "      <td>9.000000</td>\n",
       "      <td>1.227273</td>\n",
       "    </tr>\n",
       "    <tr>\n",
       "      <th>2</th>\n",
       "      <td>3</td>\n",
       "      <td>-0.333333</td>\n",
       "      <td>6.333333</td>\n",
       "      <td>11.666667</td>\n",
       "      <td>4.666667</td>\n",
       "      <td>0.400000</td>\n",
       "    </tr>\n",
       "    <tr>\n",
       "      <th>3</th>\n",
       "      <td>4</td>\n",
       "      <td>-2.416667</td>\n",
       "      <td>6.000000</td>\n",
       "      <td>10.600000</td>\n",
       "      <td>2.083333</td>\n",
       "      <td>0.196541</td>\n",
       "    </tr>\n",
       "    <tr>\n",
       "      <th>4</th>\n",
       "      <td>5</td>\n",
       "      <td>-1.800000</td>\n",
       "      <td>5.661111</td>\n",
       "      <td>11.566667</td>\n",
       "      <td>0.966667</td>\n",
       "      <td>0.083573</td>\n",
       "    </tr>\n",
       "    <tr>\n",
       "      <th>5</th>\n",
       "      <td>6</td>\n",
       "      <td>-2.198611</td>\n",
       "      <td>5.544444</td>\n",
       "      <td>11.455556</td>\n",
       "      <td>0.398611</td>\n",
       "      <td>0.034796</td>\n",
       "    </tr>\n",
       "  </tbody>\n",
       "</table>\n",
       "</div>"
      ],
      "text/plain": [
       "   k        x1         x2         x3         dk  dk_relativo\n",
       "0  1  5.000000  10.000000  13.000000  13.000000     1.000000\n",
       "1  2 -4.000000   7.333333   7.000000   9.000000     1.227273\n",
       "2  3 -0.333333   6.333333  11.666667   4.666667     0.400000\n",
       "3  4 -2.416667   6.000000  10.600000   2.083333     0.196541\n",
       "4  5 -1.800000   5.661111  11.566667   0.966667     0.083573\n",
       "5  6 -2.198611   5.544444  11.455556   0.398611     0.034796"
      ]
     },
     "execution_count": 9,
     "metadata": {},
     "output_type": "execute_result"
    }
   ],
   "source": [
    "# Exemplo de sistema linear\n",
    "A = np.array([[4, 1, 2],\n",
    "              [-1, 3, 1],\n",
    "              [2, 2, 5]])\n",
    "b = np.array([20, 30, 65])\n",
    "\n",
    "# Chama a função para resolver o sistema pelo método de Gauss-Jacobi\n",
    "result = gauss_jacobi(A, b,0.05)\n",
    "result"
   ]
  },
  {
   "cell_type": "markdown",
   "id": "9d33d4e0",
   "metadata": {},
   "source": [
    "#### 2.2 - Gauss-Seidel"
   ]
  },
  {
   "cell_type": "code",
   "execution_count": 10,
   "id": "d8d3e9d9",
   "metadata": {
    "ExecuteTime": {
     "end_time": "2023-05-23T21:30:01.373364Z",
     "start_time": "2023-05-23T21:30:01.353959Z"
    }
   },
   "outputs": [],
   "source": [
    "def gauss_seidel(A, b, tolerance=0.05):\n",
    "    n = len(A)\n",
    "    x = np.zeros(n)\n",
    "    iterations = []\n",
    "    \n",
    "    dk_relativo = tolerance + 1\n",
    "    k = 0\n",
    "    \n",
    "    while dk_relativo > tolerance:\n",
    "        dx_max = 0\n",
    "        \n",
    "        for i in range(n):\n",
    "            x_prev = x.copy()\n",
    "            temp_sum = 0\n",
    "            \n",
    "            for j in range(n):\n",
    "                if j != i:\n",
    "                    temp_sum += A[i][j] * x[j]\n",
    "            \n",
    "            x[i] = (b[i] - temp_sum) / A[i][i]\n",
    "            \n",
    "            dx = abs(x[i] - x_prev[i])\n",
    "            if dx > dx_max:\n",
    "                dx_max = dx\n",
    "        \n",
    "        dk_relativo = dx_max / max(abs(x))\n",
    "        iterations.append([k+1] + list(x) + [dx_max, dk_relativo])\n",
    "        \n",
    "        k += 1\n",
    "    \n",
    "    column_names = ['k'] + [f'x{i+1}' for i in range(n)] + ['dk', 'dk_relativo']\n",
    "    df = pd.DataFrame(iterations, columns=column_names)\n",
    "    return df"
   ]
  },
  {
   "cell_type": "markdown",
   "id": "b20b25b9",
   "metadata": {},
   "source": [
    "####  Questão 5~6 Av3"
   ]
  },
  {
   "cell_type": "code",
   "execution_count": 11,
   "id": "6809781d",
   "metadata": {
    "ExecuteTime": {
     "end_time": "2023-05-23T21:30:01.410345Z",
     "start_time": "2023-05-23T21:30:01.379498Z"
    }
   },
   "outputs": [
    {
     "data": {
      "text/html": [
       "<div>\n",
       "<style scoped>\n",
       "    .dataframe tbody tr th:only-of-type {\n",
       "        vertical-align: middle;\n",
       "    }\n",
       "\n",
       "    .dataframe tbody tr th {\n",
       "        vertical-align: top;\n",
       "    }\n",
       "\n",
       "    .dataframe thead th {\n",
       "        text-align: right;\n",
       "    }\n",
       "</style>\n",
       "<table border=\"1\" class=\"dataframe\">\n",
       "  <thead>\n",
       "    <tr style=\"text-align: right;\">\n",
       "      <th></th>\n",
       "      <th>k</th>\n",
       "      <th>x1</th>\n",
       "      <th>x2</th>\n",
       "      <th>x3</th>\n",
       "      <th>x4</th>\n",
       "      <th>dk</th>\n",
       "      <th>dk_relativo</th>\n",
       "    </tr>\n",
       "  </thead>\n",
       "  <tbody>\n",
       "    <tr>\n",
       "      <th>0</th>\n",
       "      <td>1</td>\n",
       "      <td>1.0</td>\n",
       "      <td>0.166667</td>\n",
       "      <td>0.055556</td>\n",
       "      <td>1.125000</td>\n",
       "      <td>1.125000</td>\n",
       "      <td>1.000000</td>\n",
       "    </tr>\n",
       "    <tr>\n",
       "      <th>1</th>\n",
       "      <td>2</td>\n",
       "      <td>1.0</td>\n",
       "      <td>-0.011574</td>\n",
       "      <td>-0.003858</td>\n",
       "      <td>0.991319</td>\n",
       "      <td>0.178241</td>\n",
       "      <td>0.178241</td>\n",
       "    </tr>\n",
       "    <tr>\n",
       "      <th>2</th>\n",
       "      <td>3</td>\n",
       "      <td>1.0</td>\n",
       "      <td>0.000804</td>\n",
       "      <td>0.000268</td>\n",
       "      <td>1.000603</td>\n",
       "      <td>0.012378</td>\n",
       "      <td>0.012370</td>\n",
       "    </tr>\n",
       "  </tbody>\n",
       "</table>\n",
       "</div>"
      ],
      "text/plain": [
       "   k   x1        x2        x3        x4        dk  dk_relativo\n",
       "0  1  1.0  0.166667  0.055556  1.125000  1.125000     1.000000\n",
       "1  2  1.0 -0.011574 -0.003858  0.991319  0.178241     0.178241\n",
       "2  3  1.0  0.000804  0.000268  1.000603  0.012378     0.012370"
      ]
     },
     "execution_count": 11,
     "metadata": {},
     "output_type": "execute_result"
    }
   ],
   "source": [
    "# Exemplo de sistema linear\n",
    "A = np.array([[5.0, -1.0, 3.0, 0.0],\n",
    "              [4.0, 6.0, -1.0, 1.0],\n",
    "              [-1.0, -1.0, 3.0, 0.0],\n",
    "              [1, -3.0, 0.0, 4.0 ] ])\n",
    "\n",
    "b = np.array([5.0, 5.0, -1.0, 5.0])\n",
    "\n",
    "# Chama a função de Gauss-Seidel para resolver o sistema\n",
    "solucao = gauss_seidel(A, b)\n",
    "solucao"
   ]
  },
  {
   "cell_type": "markdown",
   "id": "5ee48f66",
   "metadata": {},
   "source": [
    "### 3. Interpolação"
   ]
  },
  {
   "cell_type": "markdown",
   "id": "efd15f2a",
   "metadata": {},
   "source": [
    "#### Q1~3 Av4"
   ]
  },
  {
   "cell_type": "code",
   "execution_count": 12,
   "id": "b6bacfdd",
   "metadata": {
    "ExecuteTime": {
     "end_time": "2023-05-23T21:30:02.004145Z",
     "start_time": "2023-05-23T21:30:01.416155Z"
    }
   },
   "outputs": [
    {
     "data": {
      "image/png": "[encoded data removed]",
      "text/plain": [
       "<Figure size 432x288 with 1 Axes>"
      ]
     },
     "metadata": {
      "needs_background": "dark"
     },
     "output_type": "display_data"
    }
   ],
   "source": [
    "x = [2,4,6,9,11,12]\n",
    "y = [140,150,100,140,145,200]\n",
    "\n",
    "plt.style.use('cyberpunk')\n",
    "plt.title(\"Gráfico da quantidade de chuvas RJ (mm)\")\n",
    "plt.plot(x,y)\n",
    "plt.axhline(0, color='k') # y = zero\n",
    "#plt.plot(x2,y2,'rx',alpha = 0.9)\n",
    "plt.legend(['Dados'])\n",
    "plt.show()"
   ]
  },
  {
   "cell_type": "markdown",
   "id": "6311624a",
   "metadata": {},
   "source": [
    "#### 1. Forma Clássica / Vandermonde"
   ]
  },
  {
   "cell_type": "code",
   "execution_count": 13,
   "id": "e8347c56",
   "metadata": {
    "ExecuteTime": {
     "end_time": "2023-05-23T21:30:02.024116Z",
     "start_time": "2023-05-23T21:30:02.009845Z"
    }
   },
   "outputs": [],
   "source": [
    "def Inter_Classica(x, y):\n",
    "    n = len(x)\n",
    "    V = np.vander(x, increasing=True) #gera uma matriz vandermonde cujos elementos são potencias de x\n",
    "    \n",
    "    # Resolvendo o sistema linear utilizando o método de eliminação de Gauss \n",
    "    for i in range(n):\n",
    "        pivot = V[i, i]\n",
    "        for j in range(i+1, n):\n",
    "            factor = V[j, i] / pivot\n",
    "            V[j, i:] -= factor * V[i, i:]\n",
    "            y[j] -= factor * y[i]\n",
    "    '''\n",
    "    era possível utilizar a função np.linalg.solve(V,y) \n",
    "    '''\n",
    "    # Obtendo os coeficientes\n",
    "    coef = np.zeros(n)\n",
    "    for i in range(n-1, -1, -1):\n",
    "        coef[i] = y[i] / V[i, i]\n",
    "        for j in range(i-1, -1, -1):\n",
    "            y[j] -= V[j, i] * coef[i]\n",
    "    \n",
    "    return coef"
   ]
  },
  {
   "cell_type": "code",
   "execution_count": 14,
   "id": "74eae013",
   "metadata": {
    "ExecuteTime": {
     "end_time": "2023-05-23T21:30:02.048501Z",
     "start_time": "2023-05-23T21:30:02.030810Z"
    }
   },
   "outputs": [
    {
     "data": {
      "text/plain": [
       "array([ 1.,  6.,  0., -1.])"
      ]
     },
     "execution_count": 14,
     "metadata": {},
     "output_type": "execute_result"
    }
   ],
   "source": [
    "Inter_Classica([0.0,1.0,2.0,3.0],[1.0,6.0,5.0,-8.0]) "
   ]
  },
  {
   "cell_type": "markdown",
   "id": "a28b1008",
   "metadata": {},
   "source": [
    "#### 2. Forma Lagrange"
   ]
  },
  {
   "cell_type": "code",
   "execution_count": 15,
   "id": "01d3c42c",
   "metadata": {
    "ExecuteTime": {
     "end_time": "2023-05-23T21:30:02.070103Z",
     "start_time": "2023-05-23T21:30:02.055847Z"
    }
   },
   "outputs": [],
   "source": [
    "def Inter_Lagrange(x, y):\n",
    "    n = len(x)\n",
    "    polyn = np.poly1d(0.0)\n",
    "    \n",
    "    for i in range(n):\n",
    "        # Calcula os coeficientes de Lagrange\n",
    "        coeficientes = np.poly1d(1.0) # função que gera coeficientes de um polinomio direto \n",
    "        for j in range(n):\n",
    "            if i != j:\n",
    "                coeficientes *= np.poly1d([1.0, -x[j]]) / (x[i] - x[j])\n",
    "        \n",
    "        # Atualiza o polinômio interpolador\n",
    "        polyn += y[i] * coeficientes\n",
    "    \n",
    "    return polyn"
   ]
  },
  {
   "cell_type": "code",
   "execution_count": 16,
   "id": "ceabe2c2",
   "metadata": {
    "ExecuteTime": {
     "end_time": "2023-05-23T21:30:02.087668Z",
     "start_time": "2023-05-23T21:30:02.074463Z"
    }
   },
   "outputs": [
    {
     "data": {
      "text/plain": [
       "poly1d([-1.,  0.,  6.,  1.])"
      ]
     },
     "execution_count": 16,
     "metadata": {},
     "output_type": "execute_result"
    }
   ],
   "source": [
    "Inter_Lagrange([0,1,2,3],[1,6,5,-8])"
   ]
  },
  {
   "cell_type": "markdown",
   "id": "e5f9cc38",
   "metadata": {},
   "source": [
    "#### Q2 Av4"
   ]
  },
  {
   "cell_type": "code",
   "execution_count": 17,
   "id": "57804c62",
   "metadata": {
    "ExecuteTime": {
     "end_time": "2023-05-23T21:30:02.102006Z",
     "start_time": "2023-05-23T21:30:02.092100Z"
    }
   },
   "outputs": [
    {
     "name": "stdout",
     "output_type": "stream",
     "text": [
      "      2\n",
      "17.5 x - 347.5 x + 1850\n"
     ]
    }
   ],
   "source": [
    "### pegando os 3 ultimos pontos pra calcular\n",
    "x = [9,11,12]\n",
    "y = [140,145,200]\n",
    "# Encontra o polinômio interpolador\n",
    "print(Inter_Lagrange(x,y))"
   ]
  },
  {
   "cell_type": "code",
   "execution_count": 18,
   "id": "930e41bc",
   "metadata": {
    "ExecuteTime": {
     "end_time": "2023-05-23T21:30:02.120125Z",
     "start_time": "2023-05-23T21:30:02.106157Z"
    }
   },
   "outputs": [
    {
     "data": {
      "text/plain": [
       "poly1d([  17.5, -347.5, 1850. ])"
      ]
     },
     "execution_count": 18,
     "metadata": {},
     "output_type": "execute_result"
    }
   ],
   "source": [
    "Inter_Lagrange(x,y)"
   ]
  },
  {
   "cell_type": "code",
   "execution_count": 19,
   "id": "a230afba",
   "metadata": {
    "ExecuteTime": {
     "end_time": "2023-05-23T21:30:02.136632Z",
     "start_time": "2023-05-23T21:30:02.127024Z"
    }
   },
   "outputs": [],
   "source": [
    "def polin_lag(x):\n",
    "    '''\n",
    "    Polinomio de grau 2 utilizando forma de Lagrange\n",
    "    '''\n",
    "    return 17.5*np.power(x,2) -347.5*np.power(x,1) + 1850*np.power(x,0)"
   ]
  },
  {
   "cell_type": "code",
   "execution_count": 20,
   "id": "964e8810",
   "metadata": {
    "ExecuteTime": {
     "end_time": "2023-05-23T21:30:02.574056Z",
     "start_time": "2023-05-23T21:30:02.140972Z"
    }
   },
   "outputs": [
    {
     "data": {
      "image/png": "[encoded data removed]",
      "text/plain": [
       "<Figure size 432x288 with 1 Axes>"
      ]
     },
     "metadata": {},
     "output_type": "display_data"
    }
   ],
   "source": [
    "## Comparando o gráfico dos pontos com o polinomio de Lagrange\n",
    "#Todos os pontos\n",
    "x = [2,4,6,9,11,12]\n",
    "y = [140,150,100,140,145,200]\n",
    "\n",
    "plt.style.use('cyberpunk')\n",
    "plt.title(\"Gráfico da quantidade de chuvas RJ (mm)\")\n",
    "plt.plot(x,y,'.')\n",
    "plt.plot(x,polin_lag(x),'r-')\n",
    "plt.plot(9,np.min(polin_lag(x)),'yx',alpha = 0.9)\n",
    "plt.legend(['Dados','Polinomio Lagrange', 'Ponto mínimo'])\n",
    "plt.show()"
   ]
  },
  {
   "cell_type": "markdown",
   "id": "aab7ff7f",
   "metadata": {},
   "source": [
    " - Mês de menos chuva foi 9 (Setembro)"
   ]
  },
  {
   "cell_type": "code",
   "execution_count": 21,
   "id": "924f4f96",
   "metadata": {
    "ExecuteTime": {
     "end_time": "2023-05-23T21:30:02.592732Z",
     "start_time": "2023-05-23T21:30:02.581451Z"
    }
   },
   "outputs": [
    {
     "data": {
      "text/plain": [
       "9"
      ]
     },
     "execution_count": 21,
     "metadata": {},
     "output_type": "execute_result"
    }
   ],
   "source": [
    "x[np.argmin(polin_lag(x))]"
   ]
  },
  {
   "cell_type": "code",
   "execution_count": 22,
   "id": "e2acb195",
   "metadata": {
    "ExecuteTime": {
     "end_time": "2023-05-23T21:30:03.038640Z",
     "start_time": "2023-05-23T21:30:02.599256Z"
    }
   },
   "outputs": [
    {
     "data": {
      "image/png": "[encoded data removed]",
      "text/plain": [
       "<Figure size 432x288 with 1 Axes>"
      ]
     },
     "metadata": {},
     "output_type": "display_data"
    }
   ],
   "source": [
    "##### Observando o ponto mínimo do polinômio em si:\n",
    "plt.style.use('cyberpunk')\n",
    "plt.title(\"Gráfico da quantidade de chuvas RJ (mm)\")\n",
    "plt.plot(np.arange(1,13),polin_lag(np.arange(1,13)),'r-')\n",
    "plt.plot(np.argmin(polin_lag(np.arange(1,13))),np.min(polin_lag(np.arange(1,13))),'yx',alpha = 0.9)\n",
    "plt.legend(['Polinomio Lagrange', 'Ponto mínimo'])\n",
    "plt.show()"
   ]
  },
  {
   "cell_type": "code",
   "execution_count": 23,
   "id": "fb066b17",
   "metadata": {
    "ExecuteTime": {
     "end_time": "2023-05-23T21:30:03.067812Z",
     "start_time": "2023-05-23T21:30:03.057767Z"
    }
   },
   "outputs": [
    {
     "data": {
      "text/plain": [
       "9"
      ]
     },
     "execution_count": 23,
     "metadata": {},
     "output_type": "execute_result"
    }
   ],
   "source": [
    "np.argmin(polin_lag(np.arange(1,13)))"
   ]
  },
  {
   "cell_type": "code",
   "execution_count": 24,
   "id": "2180b018",
   "metadata": {
    "ExecuteTime": {
     "end_time": "2023-05-23T21:30:03.091184Z",
     "start_time": "2023-05-23T21:30:03.078202Z"
    }
   },
   "outputs": [
    {
     "data": {
      "text/plain": [
       "125.0"
      ]
     },
     "execution_count": 24,
     "metadata": {},
     "output_type": "execute_result"
    }
   ],
   "source": [
    "np.min(polin_lag(np.arange(1,13)))"
   ]
  },
  {
   "cell_type": "markdown",
   "id": "63d36a31",
   "metadata": {},
   "source": [
    " - Continua sendo Setembro"
   ]
  },
  {
   "cell_type": "markdown",
   "id": "49be8291",
   "metadata": {},
   "source": [
    "#### 3. Forma Newton"
   ]
  },
  {
   "cell_type": "code",
   "execution_count": 25,
   "id": "4a02dd23",
   "metadata": {
    "ExecuteTime": {
     "end_time": "2023-05-23T21:30:03.150827Z",
     "start_time": "2023-05-23T21:30:03.102446Z"
    },
    "scrolled": true
   },
   "outputs": [
    {
     "name": "stdout",
     "output_type": "stream",
     "text": [
      "Polinômio Interpolador:\n",
      "   3     2\n",
      "1 x + 5 x - 3 x - 1\n"
     ]
    },
    {
     "data": {
      "text/html": [
       "<div>\n",
       "<style scoped>\n",
       "    .dataframe tbody tr th:only-of-type {\n",
       "        vertical-align: middle;\n",
       "    }\n",
       "\n",
       "    .dataframe tbody tr th {\n",
       "        vertical-align: top;\n",
       "    }\n",
       "\n",
       "    .dataframe thead th {\n",
       "        text-align: right;\n",
       "    }\n",
       "</style>\n",
       "<table border=\"1\" class=\"dataframe\">\n",
       "  <thead>\n",
       "    <tr style=\"text-align: right;\">\n",
       "      <th></th>\n",
       "      <th>x</th>\n",
       "      <th>Or0</th>\n",
       "      <th>Or1</th>\n",
       "      <th>Or2</th>\n",
       "      <th>Or3</th>\n",
       "    </tr>\n",
       "  </thead>\n",
       "  <tbody>\n",
       "    <tr>\n",
       "      <th>0</th>\n",
       "      <td>0</td>\n",
       "      <td>1.0</td>\n",
       "      <td>5.0</td>\n",
       "      <td>-3.0</td>\n",
       "      <td>-1.0</td>\n",
       "    </tr>\n",
       "    <tr>\n",
       "      <th>1</th>\n",
       "      <td>1</td>\n",
       "      <td>6.0</td>\n",
       "      <td>-1.0</td>\n",
       "      <td>-6.0</td>\n",
       "      <td>0.0</td>\n",
       "    </tr>\n",
       "    <tr>\n",
       "      <th>2</th>\n",
       "      <td>2</td>\n",
       "      <td>5.0</td>\n",
       "      <td>-13.0</td>\n",
       "      <td>0.0</td>\n",
       "      <td>0.0</td>\n",
       "    </tr>\n",
       "    <tr>\n",
       "      <th>3</th>\n",
       "      <td>3</td>\n",
       "      <td>-8.0</td>\n",
       "      <td>0.0</td>\n",
       "      <td>0.0</td>\n",
       "      <td>0.0</td>\n",
       "    </tr>\n",
       "  </tbody>\n",
       "</table>\n",
       "</div>"
      ],
      "text/plain": [
       "   x  Or0   Or1  Or2  Or3\n",
       "0  0  1.0   5.0 -3.0 -1.0\n",
       "1  1  6.0  -1.0 -6.0  0.0\n",
       "2  2  5.0 -13.0  0.0  0.0\n",
       "3  3 -8.0   0.0  0.0  0.0"
      ]
     },
     "execution_count": 25,
     "metadata": {},
     "output_type": "execute_result"
    }
   ],
   "source": [
    "def Dif_Div(x, y):\n",
    "    '''\n",
    "    monta a tabela de diferenciais divididos\n",
    "    '''\n",
    "    n = len(x)\n",
    "    tabela = np.zeros((n, n))\n",
    "    tabela[:, 0] = y\n",
    "    \n",
    "    for j in range(1, n):\n",
    "        for i in range(n - j):\n",
    "            tabela[i, j] = (tabela[i+1, j-1] - tabela[i, j-1]) / (x[i+j] - x[i])\n",
    "            \n",
    "    df = pd.DataFrame(tabela, columns=['Or0'] + [f'Or{i}' for i in range(1, n)])\n",
    "    df.insert(0, 'x', x)\n",
    "    \n",
    "    return tabela,df\n",
    "\n",
    "def newton_interpol(x, y):\n",
    "    n = len(x)\n",
    "    coef = Dif_Div(x, y)[0]\n",
    "    polyn = np.poly1d(coef[0, :])\n",
    "    \n",
    "    return polyn\n",
    "\n",
    "###Exemplo do caderno:\n",
    "x=[0,1,2,3]\n",
    "y=[1,6,5,-8]\n",
    "# Encontra o polinômio interpolador\n",
    "interpol_polyn = newton_interpol(x, y)\n",
    "\n",
    "# Imprime o polinômio interpolador\n",
    "print(\"Polinômio Interpolador:\")\n",
    "print(interpol_polyn)\n",
    "\n",
    "# Imprime a tabela de diferenças divididas\n",
    "tabela = Dif_Div(x,y)[1]\n",
    "tabela"
   ]
  },
  {
   "cell_type": "markdown",
   "id": "0eb9d932",
   "metadata": {},
   "source": [
    "#### Q1~3 Av4"
   ]
  },
  {
   "cell_type": "code",
   "execution_count": 26,
   "id": "6af0a2ca",
   "metadata": {
    "ExecuteTime": {
     "end_time": "2023-05-23T21:30:03.187706Z",
     "start_time": "2023-05-23T21:30:03.156476Z"
    }
   },
   "outputs": [
    {
     "data": {
      "text/html": [
       "<div>\n",
       "<style scoped>\n",
       "    .dataframe tbody tr th:only-of-type {\n",
       "        vertical-align: middle;\n",
       "    }\n",
       "\n",
       "    .dataframe tbody tr th {\n",
       "        vertical-align: top;\n",
       "    }\n",
       "\n",
       "    .dataframe thead th {\n",
       "        text-align: right;\n",
       "    }\n",
       "</style>\n",
       "<table border=\"1\" class=\"dataframe\">\n",
       "  <thead>\n",
       "    <tr style=\"text-align: right;\">\n",
       "      <th></th>\n",
       "      <th>x</th>\n",
       "      <th>Or0</th>\n",
       "      <th>Or1</th>\n",
       "      <th>Or2</th>\n",
       "      <th>Or3</th>\n",
       "    </tr>\n",
       "  </thead>\n",
       "  <tbody>\n",
       "    <tr>\n",
       "      <th>0</th>\n",
       "      <td>6</td>\n",
       "      <td>100.0</td>\n",
       "      <td>13.333333</td>\n",
       "      <td>-2.166667</td>\n",
       "      <td>3.277778</td>\n",
       "    </tr>\n",
       "    <tr>\n",
       "      <th>1</th>\n",
       "      <td>9</td>\n",
       "      <td>140.0</td>\n",
       "      <td>2.500000</td>\n",
       "      <td>17.500000</td>\n",
       "      <td>0.000000</td>\n",
       "    </tr>\n",
       "    <tr>\n",
       "      <th>2</th>\n",
       "      <td>11</td>\n",
       "      <td>145.0</td>\n",
       "      <td>55.000000</td>\n",
       "      <td>0.000000</td>\n",
       "      <td>0.000000</td>\n",
       "    </tr>\n",
       "    <tr>\n",
       "      <th>3</th>\n",
       "      <td>12</td>\n",
       "      <td>200.0</td>\n",
       "      <td>0.000000</td>\n",
       "      <td>0.000000</td>\n",
       "      <td>0.000000</td>\n",
       "    </tr>\n",
       "  </tbody>\n",
       "</table>\n",
       "</div>"
      ],
      "text/plain": [
       "    x    Or0        Or1        Or2       Or3\n",
       "0   6  100.0  13.333333  -2.166667  3.277778\n",
       "1   9  140.0   2.500000  17.500000  0.000000\n",
       "2  11  145.0  55.000000   0.000000  0.000000\n",
       "3  12  200.0   0.000000   0.000000  0.000000"
      ]
     },
     "execution_count": 26,
     "metadata": {},
     "output_type": "execute_result"
    }
   ],
   "source": [
    "### pegando os quatro ultimos pontos pra calcular\n",
    "x = [6,9,11,12]\n",
    "y = [100,140,145,200]\n",
    "\n",
    "# Imprime a tabela de diferenças divididas\n",
    "tabela = Dif_Div(x,y)[1]\n",
    "tabela"
   ]
  },
  {
   "cell_type": "code",
   "execution_count": 27,
   "id": "29bf5f56",
   "metadata": {
    "ExecuteTime": {
     "end_time": "2023-05-23T21:30:03.215906Z",
     "start_time": "2023-05-23T21:30:03.192093Z"
    }
   },
   "outputs": [
    {
     "data": {
      "text/html": [
       "<div>\n",
       "<style scoped>\n",
       "    .dataframe tbody tr th:only-of-type {\n",
       "        vertical-align: middle;\n",
       "    }\n",
       "\n",
       "    .dataframe tbody tr th {\n",
       "        vertical-align: top;\n",
       "    }\n",
       "\n",
       "    .dataframe thead th {\n",
       "        text-align: right;\n",
       "    }\n",
       "</style>\n",
       "<table border=\"1\" class=\"dataframe\">\n",
       "  <thead>\n",
       "    <tr style=\"text-align: right;\">\n",
       "      <th></th>\n",
       "      <th>x</th>\n",
       "      <th>Or0</th>\n",
       "      <th>Or1</th>\n",
       "      <th>Or2</th>\n",
       "      <th>Or3</th>\n",
       "    </tr>\n",
       "  </thead>\n",
       "  <tbody>\n",
       "    <tr>\n",
       "      <th>0</th>\n",
       "      <td>2</td>\n",
       "      <td>140.0</td>\n",
       "      <td>5.000000</td>\n",
       "      <td>-7.500000</td>\n",
       "      <td>1.270833</td>\n",
       "    </tr>\n",
       "    <tr>\n",
       "      <th>1</th>\n",
       "      <td>4</td>\n",
       "      <td>150.0</td>\n",
       "      <td>-25.000000</td>\n",
       "      <td>5.208333</td>\n",
       "      <td>0.000000</td>\n",
       "    </tr>\n",
       "    <tr>\n",
       "      <th>2</th>\n",
       "      <td>6</td>\n",
       "      <td>100.0</td>\n",
       "      <td>16.666667</td>\n",
       "      <td>0.000000</td>\n",
       "      <td>0.000000</td>\n",
       "    </tr>\n",
       "    <tr>\n",
       "      <th>3</th>\n",
       "      <td>12</td>\n",
       "      <td>200.0</td>\n",
       "      <td>0.000000</td>\n",
       "      <td>0.000000</td>\n",
       "      <td>0.000000</td>\n",
       "    </tr>\n",
       "  </tbody>\n",
       "</table>\n",
       "</div>"
      ],
      "text/plain": [
       "    x    Or0        Or1       Or2       Or3\n",
       "0   2  140.0   5.000000 -7.500000  1.270833\n",
       "1   4  150.0 -25.000000  5.208333  0.000000\n",
       "2   6  100.0  16.666667  0.000000  0.000000\n",
       "3  12  200.0   0.000000  0.000000  0.000000"
      ]
     },
     "execution_count": 27,
     "metadata": {},
     "output_type": "execute_result"
    }
   ],
   "source": [
    "### pegando os pontos pares pra calcular\n",
    "x = [2,4,6,12]\n",
    "y = [140,150,100,200]\n",
    "\n",
    "# Imprime a tabela de diferenças divididas\n",
    "tabela = Dif_Div(x,y)[1]\n",
    "tabela"
   ]
  },
  {
   "cell_type": "code",
   "execution_count": 28,
   "id": "74022f73",
   "metadata": {
    "ExecuteTime": {
     "end_time": "2023-05-23T21:30:03.248509Z",
     "start_time": "2023-05-23T21:30:03.222020Z"
    }
   },
   "outputs": [
    {
     "data": {
      "text/html": [
       "<div>\n",
       "<style scoped>\n",
       "    .dataframe tbody tr th:only-of-type {\n",
       "        vertical-align: middle;\n",
       "    }\n",
       "\n",
       "    .dataframe tbody tr th {\n",
       "        vertical-align: top;\n",
       "    }\n",
       "\n",
       "    .dataframe thead th {\n",
       "        text-align: right;\n",
       "    }\n",
       "</style>\n",
       "<table border=\"1\" class=\"dataframe\">\n",
       "  <thead>\n",
       "    <tr style=\"text-align: right;\">\n",
       "      <th></th>\n",
       "      <th>x</th>\n",
       "      <th>Or0</th>\n",
       "      <th>Or1</th>\n",
       "      <th>Or2</th>\n",
       "      <th>Or3</th>\n",
       "    </tr>\n",
       "  </thead>\n",
       "  <tbody>\n",
       "    <tr>\n",
       "      <th>0</th>\n",
       "      <td>2</td>\n",
       "      <td>140.0</td>\n",
       "      <td>5.000000</td>\n",
       "      <td>-7.500000</td>\n",
       "      <td>2.166667</td>\n",
       "    </tr>\n",
       "    <tr>\n",
       "      <th>1</th>\n",
       "      <td>4</td>\n",
       "      <td>150.0</td>\n",
       "      <td>-25.000000</td>\n",
       "      <td>7.666667</td>\n",
       "      <td>0.000000</td>\n",
       "    </tr>\n",
       "    <tr>\n",
       "      <th>2</th>\n",
       "      <td>6</td>\n",
       "      <td>100.0</td>\n",
       "      <td>13.333333</td>\n",
       "      <td>0.000000</td>\n",
       "      <td>0.000000</td>\n",
       "    </tr>\n",
       "    <tr>\n",
       "      <th>3</th>\n",
       "      <td>9</td>\n",
       "      <td>140.0</td>\n",
       "      <td>0.000000</td>\n",
       "      <td>0.000000</td>\n",
       "      <td>0.000000</td>\n",
       "    </tr>\n",
       "  </tbody>\n",
       "</table>\n",
       "</div>"
      ],
      "text/plain": [
       "   x    Or0        Or1       Or2       Or3\n",
       "0  2  140.0   5.000000 -7.500000  2.166667\n",
       "1  4  150.0 -25.000000  7.666667  0.000000\n",
       "2  6  100.0  13.333333  0.000000  0.000000\n",
       "3  9  140.0   0.000000  0.000000  0.000000"
      ]
     },
     "execution_count": 28,
     "metadata": {},
     "output_type": "execute_result"
    }
   ],
   "source": [
    "# pegando os 4 primeiros pontos para calcular\n",
    "x = [2,4,6,9]\n",
    "y = [140,150,100,140]\n",
    "\n",
    "# Imprime a tabela de diferenças divididas\n",
    "tabela = Dif_Div(x,y)[1]\n",
    "tabela"
   ]
  },
  {
   "cell_type": "code",
   "execution_count": 29,
   "id": "4551ae7f",
   "metadata": {
    "ExecuteTime": {
     "end_time": "2023-05-23T21:30:03.296356Z",
     "start_time": "2023-05-23T21:30:03.253597Z"
    }
   },
   "outputs": [
    {
     "data": {
      "text/html": [
       "<div>\n",
       "<style scoped>\n",
       "    .dataframe tbody tr th:only-of-type {\n",
       "        vertical-align: middle;\n",
       "    }\n",
       "\n",
       "    .dataframe tbody tr th {\n",
       "        vertical-align: top;\n",
       "    }\n",
       "\n",
       "    .dataframe thead th {\n",
       "        text-align: right;\n",
       "    }\n",
       "</style>\n",
       "<table border=\"1\" class=\"dataframe\">\n",
       "  <thead>\n",
       "    <tr style=\"text-align: right;\">\n",
       "      <th></th>\n",
       "      <th>x</th>\n",
       "      <th>Or0</th>\n",
       "      <th>Or1</th>\n",
       "      <th>Or2</th>\n",
       "      <th>Or3</th>\n",
       "      <th>Or4</th>\n",
       "      <th>Or5</th>\n",
       "    </tr>\n",
       "  </thead>\n",
       "  <tbody>\n",
       "    <tr>\n",
       "      <th>0</th>\n",
       "      <td>2</td>\n",
       "      <td>140.0</td>\n",
       "      <td>5.000000</td>\n",
       "      <td>-7.500000</td>\n",
       "      <td>2.166667</td>\n",
       "      <td>-0.396825</td>\n",
       "      <td>0.098214</td>\n",
       "    </tr>\n",
       "    <tr>\n",
       "      <th>1</th>\n",
       "      <td>4</td>\n",
       "      <td>150.0</td>\n",
       "      <td>-25.000000</td>\n",
       "      <td>7.666667</td>\n",
       "      <td>-1.404762</td>\n",
       "      <td>0.585317</td>\n",
       "      <td>0.000000</td>\n",
       "    </tr>\n",
       "    <tr>\n",
       "      <th>2</th>\n",
       "      <td>6</td>\n",
       "      <td>100.0</td>\n",
       "      <td>13.333333</td>\n",
       "      <td>-2.166667</td>\n",
       "      <td>3.277778</td>\n",
       "      <td>0.000000</td>\n",
       "      <td>0.000000</td>\n",
       "    </tr>\n",
       "    <tr>\n",
       "      <th>3</th>\n",
       "      <td>9</td>\n",
       "      <td>140.0</td>\n",
       "      <td>2.500000</td>\n",
       "      <td>17.500000</td>\n",
       "      <td>0.000000</td>\n",
       "      <td>0.000000</td>\n",
       "      <td>0.000000</td>\n",
       "    </tr>\n",
       "    <tr>\n",
       "      <th>4</th>\n",
       "      <td>11</td>\n",
       "      <td>145.0</td>\n",
       "      <td>55.000000</td>\n",
       "      <td>0.000000</td>\n",
       "      <td>0.000000</td>\n",
       "      <td>0.000000</td>\n",
       "      <td>0.000000</td>\n",
       "    </tr>\n",
       "    <tr>\n",
       "      <th>5</th>\n",
       "      <td>12</td>\n",
       "      <td>200.0</td>\n",
       "      <td>0.000000</td>\n",
       "      <td>0.000000</td>\n",
       "      <td>0.000000</td>\n",
       "      <td>0.000000</td>\n",
       "      <td>0.000000</td>\n",
       "    </tr>\n",
       "  </tbody>\n",
       "</table>\n",
       "</div>"
      ],
      "text/plain": [
       "    x    Or0        Or1        Or2       Or3       Or4       Or5\n",
       "0   2  140.0   5.000000  -7.500000  2.166667 -0.396825  0.098214\n",
       "1   4  150.0 -25.000000   7.666667 -1.404762  0.585317  0.000000\n",
       "2   6  100.0  13.333333  -2.166667  3.277778  0.000000  0.000000\n",
       "3   9  140.0   2.500000  17.500000  0.000000  0.000000  0.000000\n",
       "4  11  145.0  55.000000   0.000000  0.000000  0.000000  0.000000\n",
       "5  12  200.0   0.000000   0.000000  0.000000  0.000000  0.000000"
      ]
     },
     "execution_count": 29,
     "metadata": {},
     "output_type": "execute_result"
    }
   ],
   "source": [
    "#Todos os pontos\n",
    "x = [2,4,6,9,11,12]\n",
    "y = [140,150,100,140,145,200]\n",
    "\n",
    "# Imprime a tabela de diferenças divididas\n",
    "tabela = Dif_Div(x,y)[1]\n",
    "tabela"
   ]
  },
  {
   "cell_type": "code",
   "execution_count": 30,
   "id": "36884296",
   "metadata": {
    "ExecuteTime": {
     "end_time": "2023-05-23T21:30:03.692411Z",
     "start_time": "2023-05-23T21:30:03.303021Z"
    }
   },
   "outputs": [
    {
     "data": {
      "image/png": "[encoded data removed]",
      "text/plain": [
       "<Figure size 432x288 with 1 Axes>"
      ]
     },
     "metadata": {},
     "output_type": "display_data"
    }
   ],
   "source": [
    "###Visualizando os dados\n",
    "\n",
    "plt.style.use('cyberpunk')\n",
    "plt.title(\"Gráfico da quantidade de chuvas RJ (mm)\")\n",
    "plt.plot(x,y)\n",
    "plt.legend(['Dados'])\n",
    "\n",
    "plt.show()"
   ]
  },
  {
   "cell_type": "code",
   "execution_count": 31,
   "id": "3957f1b1",
   "metadata": {
    "ExecuteTime": {
     "end_time": "2023-05-23T21:30:03.707041Z",
     "start_time": "2023-05-23T21:30:03.698781Z"
    }
   },
   "outputs": [],
   "source": [
    "def polin_grau3_ult(x):\n",
    "    '''\n",
    "    Polinomio de grau 3 utilizando os quatro ultimos pontos da tabela\n",
    "    '''\n",
    "    return 3.277778*np.power(x,3) -90.6667*np.power(x,2) +812.833*np.power(x,1) -2221*np.power(x,0)"
   ]
  },
  {
   "cell_type": "code",
   "execution_count": 32,
   "id": "ae195dfa",
   "metadata": {
    "ExecuteTime": {
     "end_time": "2023-05-23T21:30:03.724527Z",
     "start_time": "2023-05-23T21:30:03.714547Z"
    }
   },
   "outputs": [],
   "source": [
    "def polin_grau3_par(x):\n",
    "    '''\n",
    "    Polinomio de grau 3 utilizando os pontos pares\n",
    "    '''\n",
    "    return 1.27085*np.power(x,3) -22.7502*np.power(x,2) + 105.918*np.power(x,1) + 8.99904*np.power(x,0)"
   ]
  },
  {
   "cell_type": "code",
   "execution_count": 33,
   "id": "4f371c1a",
   "metadata": {
    "ExecuteTime": {
     "end_time": "2023-05-23T21:30:03.740440Z",
     "start_time": "2023-05-23T21:30:03.731278Z"
    }
   },
   "outputs": [],
   "source": [
    "def polin_grau3_prim(x):\n",
    "    '''\n",
    "    Polinomio de grau 3 utilizando os quatro primeiros pontos da tabela\n",
    "    '''\n",
    "    return 2.166667*np.power(x,3) -33.5*np.power(x,2) +145.3333*np.power(x,1) -34*np.power(x,0)"
   ]
  },
  {
   "cell_type": "code",
   "execution_count": 34,
   "id": "acf3b48b",
   "metadata": {
    "ExecuteTime": {
     "end_time": "2023-05-23T21:30:04.308548Z",
     "start_time": "2023-05-23T21:30:03.745679Z"
    }
   },
   "outputs": [
    {
     "data": {
      "image/png": "[encoded data removed]",
      "text/plain": [
       "<Figure size 432x288 with 1 Axes>"
      ]
     },
     "metadata": {},
     "output_type": "display_data"
    }
   ],
   "source": [
    "###Visualizando o polinomio interpolador nos dados\n",
    "\n",
    "plt.style.use('cyberpunk')\n",
    "plt.title(\"Gráfico da quantidade de chuvas RJ (mm)\")\n",
    "plt.plot(x,y,'.')\n",
    "plt.plot(x,polin_grau3_ult(x),'r-')\n",
    "plt.plot(x,polin_grau3_prim(x),'m-')\n",
    "plt.plot(x,polin_grau3_par(x),'y-')\n",
    "plt.legend(['Dados','Polinomio ULT', 'Polinomio PRI','Polinomio PAR'])\n",
    "#plt.ylim(0,50000)\n",
    "plt.show()"
   ]
  },
  {
   "cell_type": "code",
   "execution_count": 35,
   "id": "8346f306",
   "metadata": {
    "ExecuteTime": {
     "end_time": "2023-05-23T21:30:04.742966Z",
     "start_time": "2023-05-23T21:30:04.314245Z"
    }
   },
   "outputs": [
    {
     "data": {
      "image/png": "[encoded data removed]",
      "text/plain": [
       "<Figure size 432x288 with 1 Axes>"
      ]
     },
     "metadata": {},
     "output_type": "display_data"
    }
   ],
   "source": [
    "## Escolhendo o polinomio com os primeiros 4 pontos\n",
    "plt.style.use('cyberpunk')\n",
    "plt.title(\"Gráfico da quantidade de chuvas RJ (mm)\")\n",
    "plt.plot(x,y,'.')\n",
    "plt.plot(x,polin_grau3_prim(x),'r-')\n",
    "plt.legend(['Dados','Polinomio Newton'])\n",
    "#plt.xlim(2,12)\n",
    "plt.show()"
   ]
  },
  {
   "cell_type": "code",
   "execution_count": 36,
   "id": "56a6a441",
   "metadata": {
    "ExecuteTime": {
     "end_time": "2023-05-23T21:30:05.232317Z",
     "start_time": "2023-05-23T21:30:04.748742Z"
    }
   },
   "outputs": [
    {
     "data": {
      "image/png": "[encoded data removed]",
      "text/plain": [
       "<Figure size 432x288 with 1 Axes>"
      ]
     },
     "metadata": {},
     "output_type": "display_data"
    }
   ],
   "source": [
    "## Escolhendo o polinomio com os pontos pares\n",
    "plt.style.use('cyberpunk')\n",
    "plt.title(\"Gráfico da quantidade de chuvas RJ (mm)\")\n",
    "plt.plot(x,y,'.')\n",
    "plt.plot(x,polin_grau3_par(x),'r-')\n",
    "plt.legend(['Dados','Polinomio Newton'])\n",
    "plt.ylim(0,300)\n",
    "plt.show()"
   ]
  },
  {
   "cell_type": "markdown",
   "id": "25c933aa",
   "metadata": {
    "ExecuteTime": {
     "end_time": "2023-05-23T18:51:53.072893Z",
     "start_time": "2023-05-23T18:51:52.975236Z"
    }
   },
   "source": [
    "#### Estimando para x = 7 meses"
   ]
  },
  {
   "cell_type": "code",
   "execution_count": 37,
   "id": "e818a794",
   "metadata": {
    "ExecuteTime": {
     "end_time": "2023-05-23T21:30:05.247501Z",
     "start_time": "2023-05-23T21:30:05.237369Z"
    }
   },
   "outputs": [
    {
     "data": {
      "text/plain": [
       "84.99988100000007"
      ]
     },
     "execution_count": 37,
     "metadata": {},
     "output_type": "execute_result"
    }
   ],
   "source": [
    "polin_grau3_prim(7) #Polinomio dos 4 primeiros pontos"
   ]
  },
  {
   "cell_type": "code",
   "execution_count": 38,
   "id": "d1c6c309",
   "metadata": {
    "ExecuteTime": {
     "end_time": "2023-05-23T21:30:05.729701Z",
     "start_time": "2023-05-23T21:30:05.252264Z"
    }
   },
   "outputs": [
    {
     "data": {
      "image/png": "[encoded data removed]",
      "text/plain": [
       "<Figure size 432x288 with 1 Axes>"
      ]
     },
     "metadata": {},
     "output_type": "display_data"
    }
   ],
   "source": [
    "plt.style.use('cyberpunk')\n",
    "plt.title(\"Gráfico da quantidade de chuvas RJ (mm)\")\n",
    "plt.plot(x,y,'.')\n",
    "plt.plot(x,polin_grau3_prim(x),'r-')\n",
    "plt.plot(7,polin_grau3_prim(7),'yx',alpha = 0.9)\n",
    "plt.legend(['Dados','Polinomio Newton','Valor previsto mês 7'])\n",
    "plt.ylim(0,300)\n",
    "plt.show()"
   ]
  },
  {
   "cell_type": "code",
   "execution_count": 39,
   "id": "77368df5",
   "metadata": {
    "ExecuteTime": {
     "end_time": "2023-05-23T21:30:05.747815Z",
     "start_time": "2023-05-23T21:30:05.734405Z"
    }
   },
   "outputs": [
    {
     "data": {
      "text/plain": [
       "71.56679000000005"
      ]
     },
     "execution_count": 39,
     "metadata": {},
     "output_type": "execute_result"
    }
   ],
   "source": [
    "polin_grau3_par(7) #Polinomio dos pontos pares"
   ]
  },
  {
   "cell_type": "code",
   "execution_count": 40,
   "id": "67d101a7",
   "metadata": {
    "ExecuteTime": {
     "end_time": "2023-05-23T21:30:06.201654Z",
     "start_time": "2023-05-23T21:30:05.751846Z"
    }
   },
   "outputs": [
    {
     "data": {
      "image/png": "[encoded data removed]",
      "text/plain": [
       "<Figure size 432x288 with 1 Axes>"
      ]
     },
     "metadata": {},
     "output_type": "display_data"
    }
   ],
   "source": [
    "## Escolhendo o polinomio com os pontos pares\n",
    "plt.style.use('cyberpunk')\n",
    "plt.title(\"Gráfico da quantidade de chuvas RJ (mm)\")\n",
    "plt.plot(x,y,'.')\n",
    "plt.plot(x,polin_grau3_par(x),'r-')\n",
    "plt.plot(7,polin_grau3_par(7),'yx',alpha = 0.9)\n",
    "plt.legend(['Dados','Polinomio Newton','Valor previsto mês 7'])\n",
    "plt.ylim(0,300)\n",
    "plt.show()"
   ]
  },
  {
   "cell_type": "markdown",
   "id": "98da07ab",
   "metadata": {},
   "source": [
    " - Análise de Erro (Corolário 3):"
   ]
  },
  {
   "cell_type": "code",
   "execution_count": 41,
   "id": "2b8c83e6",
   "metadata": {
    "ExecuteTime": {
     "end_time": "2023-05-23T21:30:06.278790Z",
     "start_time": "2023-05-23T21:30:06.208964Z"
    }
   },
   "outputs": [
    {
     "name": "stdout",
     "output_type": "stream",
     "text": [
      "Polinômio Interpolador:\n",
      "    5     4       3         2\n",
      "-2 x - 3 x + 4.5 x - 1.667 x + 0.2083 x - 0.05\n",
      "\n",
      "Erro estimado para x = 1.5: 13.9453125\n"
     ]
    },
    {
     "data": {
      "text/html": [
       "<div>\n",
       "<style scoped>\n",
       "    .dataframe tbody tr th:only-of-type {\n",
       "        vertical-align: middle;\n",
       "    }\n",
       "\n",
       "    .dataframe tbody tr th {\n",
       "        vertical-align: top;\n",
       "    }\n",
       "\n",
       "    .dataframe thead th {\n",
       "        text-align: right;\n",
       "    }\n",
       "</style>\n",
       "<table border=\"1\" class=\"dataframe\">\n",
       "  <thead>\n",
       "    <tr style=\"text-align: right;\">\n",
       "      <th></th>\n",
       "      <th>x</th>\n",
       "      <th>Or0</th>\n",
       "      <th>Or1</th>\n",
       "      <th>Or2</th>\n",
       "      <th>Or3</th>\n",
       "      <th>Or4</th>\n",
       "      <th>Or5</th>\n",
       "    </tr>\n",
       "  </thead>\n",
       "  <tbody>\n",
       "    <tr>\n",
       "      <th>0</th>\n",
       "      <td>-2</td>\n",
       "      <td>-2.0</td>\n",
       "      <td>-3.0</td>\n",
       "      <td>4.5</td>\n",
       "      <td>-1.666667</td>\n",
       "      <td>0.208333</td>\n",
       "      <td>-0.05</td>\n",
       "    </tr>\n",
       "    <tr>\n",
       "      <th>1</th>\n",
       "      <td>-1</td>\n",
       "      <td>-5.0</td>\n",
       "      <td>6.0</td>\n",
       "      <td>-0.5</td>\n",
       "      <td>-0.833333</td>\n",
       "      <td>-0.041667</td>\n",
       "      <td>0.00</td>\n",
       "    </tr>\n",
       "    <tr>\n",
       "      <th>2</th>\n",
       "      <td>0</td>\n",
       "      <td>1.0</td>\n",
       "      <td>5.0</td>\n",
       "      <td>-3.0</td>\n",
       "      <td>-1.000000</td>\n",
       "      <td>0.000000</td>\n",
       "      <td>0.00</td>\n",
       "    </tr>\n",
       "    <tr>\n",
       "      <th>3</th>\n",
       "      <td>1</td>\n",
       "      <td>6.0</td>\n",
       "      <td>-1.0</td>\n",
       "      <td>-6.0</td>\n",
       "      <td>0.000000</td>\n",
       "      <td>0.000000</td>\n",
       "      <td>0.00</td>\n",
       "    </tr>\n",
       "    <tr>\n",
       "      <th>4</th>\n",
       "      <td>2</td>\n",
       "      <td>5.0</td>\n",
       "      <td>-13.0</td>\n",
       "      <td>0.0</td>\n",
       "      <td>0.000000</td>\n",
       "      <td>0.000000</td>\n",
       "      <td>0.00</td>\n",
       "    </tr>\n",
       "    <tr>\n",
       "      <th>5</th>\n",
       "      <td>3</td>\n",
       "      <td>-8.0</td>\n",
       "      <td>0.0</td>\n",
       "      <td>0.0</td>\n",
       "      <td>0.000000</td>\n",
       "      <td>0.000000</td>\n",
       "      <td>0.00</td>\n",
       "    </tr>\n",
       "  </tbody>\n",
       "</table>\n",
       "</div>"
      ],
      "text/plain": [
       "   x  Or0   Or1  Or2       Or3       Or4   Or5\n",
       "0 -2 -2.0  -3.0  4.5 -1.666667  0.208333 -0.05\n",
       "1 -1 -5.0   6.0 -0.5 -0.833333 -0.041667  0.00\n",
       "2  0  1.0   5.0 -3.0 -1.000000  0.000000  0.00\n",
       "3  1  6.0  -1.0 -6.0  0.000000  0.000000  0.00\n",
       "4  2  5.0 -13.0  0.0  0.000000  0.000000  0.00\n",
       "5  3 -8.0   0.0  0.0  0.000000  0.000000  0.00"
      ]
     },
     "execution_count": 41,
     "metadata": {},
     "output_type": "execute_result"
    }
   ],
   "source": [
    "def newton_interpolation(x, y, point):\n",
    "    n = len(x)\n",
    "    coef = Dif_Div(x, y)[0]\n",
    "\n",
    "    # Calcula o polinômio interpolador\n",
    "    polyn = np.poly1d(coef[0, :n])\n",
    "\n",
    "    # Calcula o erro estimado para o ponto extra\n",
    "    error_estimation = 0.0\n",
    "    prod = 1.0\n",
    "    for i in range(n):\n",
    "        prod *= (point - x[i])\n",
    "        error_estimation += coef[0, i] * prod\n",
    "\n",
    "    return polyn, error_estimation\n",
    "\n",
    "x = [-2,-1,-0,1,2,3]\n",
    "y = [-2,-5,1,6,5,-8]\n",
    "point = 1.5\n",
    "degree = 3\n",
    "\n",
    "# Verifica se o grau do polinômio é válido\n",
    "if degree < 0 or degree >= len(x):\n",
    "    print(\"Grau inválido! Deve ser maior ou igual a 0 e menor que o número de pontos na tabela.\")\n",
    "    exit()\n",
    "\n",
    "# Calcula o polinômio interpolador e o erro estimado\n",
    "polyn, error = newton_interpolation(x, y, point)\n",
    "\n",
    "# Devolve a tabela de diferenças divididas\n",
    "differences_table = Dif_Div(x, y)[1]\n",
    "\n",
    "# Imprime o polinômio interpolador\n",
    "print(\"Polinômio Interpolador:\")\n",
    "print(polyn)\n",
    "\n",
    "# Imprime o erro estimado\n",
    "print(f\"\\nErro estimado para x = {point}: {error}\")\n",
    "\n",
    "differences_table"
   ]
  },
  {
   "cell_type": "code",
   "execution_count": 42,
   "id": "c0cb5c0f",
   "metadata": {
    "ExecuteTime": {
     "end_time": "2023-05-23T21:30:06.323589Z",
     "start_time": "2023-05-23T21:30:06.283444Z"
    }
   },
   "outputs": [
    {
     "name": "stdout",
     "output_type": "stream",
     "text": [
      "\n",
      "Erro estimado para x = 7: 490.95238095238096\n"
     ]
    },
    {
     "data": {
      "text/html": [
       "<div>\n",
       "<style scoped>\n",
       "    .dataframe tbody tr th:only-of-type {\n",
       "        vertical-align: middle;\n",
       "    }\n",
       "\n",
       "    .dataframe tbody tr th {\n",
       "        vertical-align: top;\n",
       "    }\n",
       "\n",
       "    .dataframe thead th {\n",
       "        text-align: right;\n",
       "    }\n",
       "</style>\n",
       "<table border=\"1\" class=\"dataframe\">\n",
       "  <thead>\n",
       "    <tr style=\"text-align: right;\">\n",
       "      <th></th>\n",
       "      <th>x</th>\n",
       "      <th>Or0</th>\n",
       "      <th>Or1</th>\n",
       "      <th>Or2</th>\n",
       "      <th>Or3</th>\n",
       "      <th>Or4</th>\n",
       "      <th>Or5</th>\n",
       "    </tr>\n",
       "  </thead>\n",
       "  <tbody>\n",
       "    <tr>\n",
       "      <th>0</th>\n",
       "      <td>2</td>\n",
       "      <td>140.0</td>\n",
       "      <td>5.000000</td>\n",
       "      <td>-7.500000</td>\n",
       "      <td>2.166667</td>\n",
       "      <td>-0.396825</td>\n",
       "      <td>0.098214</td>\n",
       "    </tr>\n",
       "    <tr>\n",
       "      <th>1</th>\n",
       "      <td>4</td>\n",
       "      <td>150.0</td>\n",
       "      <td>-25.000000</td>\n",
       "      <td>7.666667</td>\n",
       "      <td>-1.404762</td>\n",
       "      <td>0.585317</td>\n",
       "      <td>0.000000</td>\n",
       "    </tr>\n",
       "    <tr>\n",
       "      <th>2</th>\n",
       "      <td>6</td>\n",
       "      <td>100.0</td>\n",
       "      <td>13.333333</td>\n",
       "      <td>-2.166667</td>\n",
       "      <td>3.277778</td>\n",
       "      <td>0.000000</td>\n",
       "      <td>0.000000</td>\n",
       "    </tr>\n",
       "    <tr>\n",
       "      <th>3</th>\n",
       "      <td>9</td>\n",
       "      <td>140.0</td>\n",
       "      <td>2.500000</td>\n",
       "      <td>17.500000</td>\n",
       "      <td>0.000000</td>\n",
       "      <td>0.000000</td>\n",
       "      <td>0.000000</td>\n",
       "    </tr>\n",
       "    <tr>\n",
       "      <th>4</th>\n",
       "      <td>11</td>\n",
       "      <td>145.0</td>\n",
       "      <td>55.000000</td>\n",
       "      <td>0.000000</td>\n",
       "      <td>0.000000</td>\n",
       "      <td>0.000000</td>\n",
       "      <td>0.000000</td>\n",
       "    </tr>\n",
       "    <tr>\n",
       "      <th>5</th>\n",
       "      <td>12</td>\n",
       "      <td>200.0</td>\n",
       "      <td>0.000000</td>\n",
       "      <td>0.000000</td>\n",
       "      <td>0.000000</td>\n",
       "      <td>0.000000</td>\n",
       "      <td>0.000000</td>\n",
       "    </tr>\n",
       "  </tbody>\n",
       "</table>\n",
       "</div>"
      ],
      "text/plain": [
       "    x    Or0        Or1        Or2       Or3       Or4       Or5\n",
       "0   2  140.0   5.000000  -7.500000  2.166667 -0.396825  0.098214\n",
       "1   4  150.0 -25.000000   7.666667 -1.404762  0.585317  0.000000\n",
       "2   6  100.0  13.333333  -2.166667  3.277778  0.000000  0.000000\n",
       "3   9  140.0   2.500000  17.500000  0.000000  0.000000  0.000000\n",
       "4  11  145.0  55.000000   0.000000  0.000000  0.000000  0.000000\n",
       "5  12  200.0   0.000000   0.000000  0.000000  0.000000  0.000000"
      ]
     },
     "execution_count": 42,
     "metadata": {},
     "output_type": "execute_result"
    }
   ],
   "source": [
    "#Todos os pontos\n",
    "x = [2,4,6,9,11,12]\n",
    "y = [140,150,100,140,145,200]\n",
    "point = 7\n",
    "degree = 3\n",
    "\n",
    "# Verifica se o grau do polinômio é válido\n",
    "if degree < 0 or degree >= len(x):\n",
    "    print(\"Grau inválido! Deve ser maior ou igual a 0 e menor que o número de pontos na tabela.\")\n",
    "    exit()\n",
    "\n",
    "# Calcula o polinômio interpolador e o erro estimado\n",
    "polyn, error = newton_interpolation(x, y, point)\n",
    "\n",
    "# Imprime o erro estimado\n",
    "print(f\"\\nErro estimado para x = {point}: {error}\")\n",
    "\n",
    "Dif_Div(x, y)[1]"
   ]
  },
  {
   "cell_type": "code",
   "execution_count": 43,
   "id": "588bff6f",
   "metadata": {
    "ExecuteTime": {
     "end_time": "2023-05-23T21:30:06.369964Z",
     "start_time": "2023-05-23T21:30:06.329692Z"
    }
   },
   "outputs": [
    {
     "name": "stdout",
     "output_type": "stream",
     "text": [
      "\n",
      "Erro estimado para x = 7: 567.1875\n"
     ]
    },
    {
     "data": {
      "text/html": [
       "<div>\n",
       "<style scoped>\n",
       "    .dataframe tbody tr th:only-of-type {\n",
       "        vertical-align: middle;\n",
       "    }\n",
       "\n",
       "    .dataframe tbody tr th {\n",
       "        vertical-align: top;\n",
       "    }\n",
       "\n",
       "    .dataframe thead th {\n",
       "        text-align: right;\n",
       "    }\n",
       "</style>\n",
       "<table border=\"1\" class=\"dataframe\">\n",
       "  <thead>\n",
       "    <tr style=\"text-align: right;\">\n",
       "      <th></th>\n",
       "      <th>x</th>\n",
       "      <th>Or0</th>\n",
       "      <th>Or1</th>\n",
       "      <th>Or2</th>\n",
       "      <th>Or3</th>\n",
       "    </tr>\n",
       "  </thead>\n",
       "  <tbody>\n",
       "    <tr>\n",
       "      <th>0</th>\n",
       "      <td>2</td>\n",
       "      <td>140.0</td>\n",
       "      <td>5.000000</td>\n",
       "      <td>-7.500000</td>\n",
       "      <td>1.270833</td>\n",
       "    </tr>\n",
       "    <tr>\n",
       "      <th>1</th>\n",
       "      <td>4</td>\n",
       "      <td>150.0</td>\n",
       "      <td>-25.000000</td>\n",
       "      <td>5.208333</td>\n",
       "      <td>0.000000</td>\n",
       "    </tr>\n",
       "    <tr>\n",
       "      <th>2</th>\n",
       "      <td>6</td>\n",
       "      <td>100.0</td>\n",
       "      <td>16.666667</td>\n",
       "      <td>0.000000</td>\n",
       "      <td>0.000000</td>\n",
       "    </tr>\n",
       "    <tr>\n",
       "      <th>3</th>\n",
       "      <td>12</td>\n",
       "      <td>200.0</td>\n",
       "      <td>0.000000</td>\n",
       "      <td>0.000000</td>\n",
       "      <td>0.000000</td>\n",
       "    </tr>\n",
       "  </tbody>\n",
       "</table>\n",
       "</div>"
      ],
      "text/plain": [
       "    x    Or0        Or1       Or2       Or3\n",
       "0   2  140.0   5.000000 -7.500000  1.270833\n",
       "1   4  150.0 -25.000000  5.208333  0.000000\n",
       "2   6  100.0  16.666667  0.000000  0.000000\n",
       "3  12  200.0   0.000000  0.000000  0.000000"
      ]
     },
     "execution_count": 43,
     "metadata": {},
     "output_type": "execute_result"
    }
   ],
   "source": [
    "### Pontos pares\n",
    "x = [2,4,6,12]\n",
    "y = [140,150,100,200]\n",
    "\n",
    "point = 7\n",
    "degree = 3\n",
    "\n",
    "# Verifica se o grau do polinômio é válido\n",
    "if degree < 0 or degree >= len(x):\n",
    "    print(\"Grau inválido! Deve ser maior ou igual a 0 e menor que o número de pontos na tabela.\")\n",
    "    exit()\n",
    "\n",
    "# Calcula o polinômio interpolador e o erro estimado\n",
    "polyn, error = newton_interpolation(x, y, point)\n",
    "\n",
    "# Imprime o erro estimado\n",
    "print(f\"\\nErro estimado para x = {point}: {error}\")\n",
    "\n",
    "Dif_Div(x, y)[1]"
   ]
  },
  {
   "cell_type": "markdown",
   "id": "53036236",
   "metadata": {},
   "source": [
    "#### Q4 Av4"
   ]
  },
  {
   "cell_type": "code",
   "execution_count": 44,
   "id": "c611eafe",
   "metadata": {
    "ExecuteTime": {
     "end_time": "2023-05-23T21:30:06.383899Z",
     "start_time": "2023-05-23T21:30:06.376105Z"
    }
   },
   "outputs": [],
   "source": [
    "def f(x):\n",
    "    '''\n",
    "    função de x dada na questão 4\n",
    "    '''\n",
    "    return x*np.log(x) + np.exp(x)*np.cos(x)"
   ]
  },
  {
   "cell_type": "code",
   "execution_count": 45,
   "id": "cdee4d97",
   "metadata": {
    "ExecuteTime": {
     "end_time": "2023-05-23T21:30:06.809295Z",
     "start_time": "2023-05-23T21:30:06.389619Z"
    }
   },
   "outputs": [
    {
     "data": {
      "image/png": "[encoded data removed]",
      "text/plain": [
       "<Figure size 432x288 with 1 Axes>"
      ]
     },
     "metadata": {},
     "output_type": "display_data"
    }
   ],
   "source": [
    "#Seja os pontos utilizados:\n",
    "\n",
    "x = np.arange(2,4.5,0.5)\n",
    "y = f(x)\n",
    "\n",
    "plt.style.use('cyberpunk')\n",
    "plt.title(\"Gráfico da tabela Q4\")\n",
    "plt.plot(x,y,'.')\n",
    "plt.legend(['Pontos'])\n",
    "plt.show()"
   ]
  },
  {
   "cell_type": "markdown",
   "id": "36605556",
   "metadata": {},
   "source": [
    "- Traçando o polinomio de grau 3:"
   ]
  },
  {
   "cell_type": "code",
   "execution_count": 46,
   "id": "74abcef4",
   "metadata": {
    "ExecuteTime": {
     "end_time": "2023-05-23T21:30:06.848179Z",
     "start_time": "2023-05-23T21:30:06.815109Z"
    }
   },
   "outputs": [
    {
     "data": {
      "text/html": [
       "<div>\n",
       "<style scoped>\n",
       "    .dataframe tbody tr th:only-of-type {\n",
       "        vertical-align: middle;\n",
       "    }\n",
       "\n",
       "    .dataframe tbody tr th {\n",
       "        vertical-align: top;\n",
       "    }\n",
       "\n",
       "    .dataframe thead th {\n",
       "        text-align: right;\n",
       "    }\n",
       "</style>\n",
       "<table border=\"1\" class=\"dataframe\">\n",
       "  <thead>\n",
       "    <tr style=\"text-align: right;\">\n",
       "      <th></th>\n",
       "      <th>x</th>\n",
       "      <th>Or0</th>\n",
       "      <th>Or1</th>\n",
       "      <th>Or2</th>\n",
       "      <th>Or3</th>\n",
       "    </tr>\n",
       "  </thead>\n",
       "  <tbody>\n",
       "    <tr>\n",
       "      <th>0</th>\n",
       "      <td>2.0</td>\n",
       "      <td>-1.688638</td>\n",
       "      <td>-11.561125</td>\n",
       "      <td>-6.677862</td>\n",
       "      <td>3.22747</td>\n",
       "    </tr>\n",
       "    <tr>\n",
       "      <th>1</th>\n",
       "      <td>2.5</td>\n",
       "      <td>-7.469200</td>\n",
       "      <td>-18.238987</td>\n",
       "      <td>-1.836657</td>\n",
       "      <td>0.00000</td>\n",
       "    </tr>\n",
       "    <tr>\n",
       "      <th>2</th>\n",
       "      <td>3.0</td>\n",
       "      <td>-16.588694</td>\n",
       "      <td>-20.075644</td>\n",
       "      <td>0.000000</td>\n",
       "      <td>0.00000</td>\n",
       "    </tr>\n",
       "    <tr>\n",
       "      <th>3</th>\n",
       "      <td>3.5</td>\n",
       "      <td>-26.626516</td>\n",
       "      <td>0.000000</td>\n",
       "      <td>0.000000</td>\n",
       "      <td>0.00000</td>\n",
       "    </tr>\n",
       "  </tbody>\n",
       "</table>\n",
       "</div>"
      ],
      "text/plain": [
       "     x        Or0        Or1       Or2      Or3\n",
       "0  2.0  -1.688638 -11.561125 -6.677862  3.22747\n",
       "1  2.5  -7.469200 -18.238987 -1.836657  0.00000\n",
       "2  3.0 -16.588694 -20.075644  0.000000  0.00000\n",
       "3  3.5 -26.626516   0.000000  0.000000  0.00000"
      ]
     },
     "execution_count": 46,
     "metadata": {},
     "output_type": "execute_result"
    }
   ],
   "source": [
    "#Todos os primeiros 4 pontos\n",
    "x = x[:-1]\n",
    "y = y[:-1]\n",
    "# Imprime a tabela de diferenças divididas\n",
    "tabela = Dif_Div(x,y)[1]\n",
    "tabela"
   ]
  },
  {
   "cell_type": "code",
   "execution_count": 47,
   "id": "51a32869",
   "metadata": {
    "ExecuteTime": {
     "end_time": "2023-05-23T21:30:06.864655Z",
     "start_time": "2023-05-23T21:30:06.854463Z"
    }
   },
   "outputs": [
    {
     "data": {
      "text/plain": [
       "array([2. , 2.5, 3. ])"
      ]
     },
     "execution_count": 47,
     "metadata": {},
     "output_type": "execute_result"
    }
   ],
   "source": [
    "x[:-1]"
   ]
  },
  {
   "cell_type": "code",
   "execution_count": 48,
   "id": "40abf078",
   "metadata": {
    "ExecuteTime": {
     "end_time": "2023-05-23T21:30:06.876746Z",
     "start_time": "2023-05-23T21:30:06.869526Z"
    }
   },
   "outputs": [],
   "source": [
    "def polin_grau3_q4(x):\n",
    "    '''\n",
    "    Polinomio de grau 3 questão4\n",
    "    '''\n",
    "    return -60.3677 + 78.1974*np.power(x,1) - 30.8839*np.power(x,2) + 3.22747*np.power(x,3)"
   ]
  },
  {
   "cell_type": "code",
   "execution_count": 49,
   "id": "9b8abe5c",
   "metadata": {
    "ExecuteTime": {
     "end_time": "2023-05-23T21:30:07.345827Z",
     "start_time": "2023-05-23T21:30:06.880853Z"
    }
   },
   "outputs": [
    {
     "data": {
      "image/png": "[encoded data removed]",
      "text/plain": [
       "<Figure size 432x288 with 1 Axes>"
      ]
     },
     "metadata": {},
     "output_type": "display_data"
    }
   ],
   "source": [
    "#Seja os pontos utilizados:\n",
    "\n",
    "x = np.arange(2,4.5,0.5)\n",
    "y = f(x)\n",
    "\n",
    "plt.style.use('cyberpunk')\n",
    "plt.title(\"Gráfico da tabela Q4\")\n",
    "plt.plot(x,y,'.')\n",
    "plt.plot(x,polin_grau3_q4(x),'r-')\n",
    "plt.legend(['Pontos'])\n",
    "plt.show()"
   ]
  },
  {
   "cell_type": "code",
   "execution_count": 51,
   "id": "0810d614",
   "metadata": {
    "ExecuteTime": {
     "end_time": "2023-05-23T21:40:36.713245Z",
     "start_time": "2023-05-23T21:40:36.707504Z"
    }
   },
   "outputs": [],
   "source": [
    "def derivada(x):\n",
    "    '''\n",
    "    Derivada a quarta\n",
    "    '''\n",
    "    return ((2/np.power(x,3)) - 4*np.exp(x)*np.cos(x))"
   ]
  },
  {
   "cell_type": "markdown",
   "id": "7acf4a55",
   "metadata": {},
   "source": [
    "$M_{4}$"
   ]
  },
  {
   "cell_type": "code",
   "execution_count": 55,
   "id": "32cfdff7",
   "metadata": {
    "ExecuteTime": {
     "end_time": "2023-05-23T21:42:26.740751Z",
     "start_time": "2023-05-23T21:42:26.728581Z"
    }
   },
   "outputs": [
    {
     "data": {
      "text/plain": [
       "array([ 12.54972928,  79.61219745, 142.78217992])"
      ]
     },
     "execution_count": 55,
     "metadata": {},
     "output_type": "execute_result"
    }
   ],
   "source": [
    "derivada(np.arange(2,5))"
   ]
  },
  {
   "cell_type": "markdown",
   "id": "2b233a7c",
   "metadata": {},
   "source": [
    " - Fazendo espaçamento de 0.1 como calculado:"
   ]
  },
  {
   "cell_type": "code",
   "execution_count": 58,
   "id": "7bd2835e",
   "metadata": {
    "ExecuteTime": {
     "end_time": "2023-05-23T21:51:15.340659Z",
     "start_time": "2023-05-23T21:51:15.329010Z"
    }
   },
   "outputs": [
    {
     "data": {
      "text/plain": [
       "array([2. , 2.1, 2.2, 2.3, 2.4, 2.5, 2.6, 2.7, 2.8, 2.9, 3. , 3.1, 3.2,\n",
       "       3.3, 3.4, 3.5, 3.6, 3.7, 3.8, 3.9, 4. ])"
      ]
     },
     "execution_count": 58,
     "metadata": {},
     "output_type": "execute_result"
    }
   ],
   "source": [
    "np.arange(2,4.1,0.1)"
   ]
  },
  {
   "cell_type": "code",
   "execution_count": 60,
   "id": "ede9ac59",
   "metadata": {
    "ExecuteTime": {
     "end_time": "2023-05-23T21:51:57.425024Z",
     "start_time": "2023-05-23T21:51:57.027451Z"
    }
   },
   "outputs": [
    {
     "data": {
      "image/png": "[encoded data removed]",
      "text/plain": [
       "<Figure size 432x288 with 1 Axes>"
      ]
     },
     "metadata": {},
     "output_type": "display_data"
    }
   ],
   "source": [
    "#Seja os pontos utilizados:\n",
    "\n",
    "x = np.arange(2,4.1,0.1)\n",
    "y = f(x)\n",
    "\n",
    "plt.style.use('cyberpunk')\n",
    "plt.title(\"Gráfico da tabela Q4\")\n",
    "plt.plot(x,y,'.')\n",
    "plt.plot(x,polin_grau3_q4(x),'r-')\n",
    "plt.legend(['Pontos','Polinomio'])\n",
    "plt.show()"
   ]
  },
  {
   "cell_type": "code",
   "execution_count": 50,
   "id": "87884cf6",
   "metadata": {
    "ExecuteTime": {
     "end_time": "2023-05-23T21:30:07.363787Z",
     "start_time": "2023-05-23T21:30:07.352348Z"
    }
   },
   "outputs": [
    {
     "data": {
      "text/plain": [
       "'!jupyter nbconvert --to webpdf --allow-chromium-download Notebook_av3_4.ipynb'"
      ]
     },
     "execution_count": 50,
     "metadata": {},
     "output_type": "execute_result"
    }
   ],
   "source": [
    "'''!jupyter nbconvert --to webpdf --allow-chromium-download Notebook_av3_4.ipynb'''"
   ]
  }
 ],
 "metadata": {
  "kernelspec": {
   "display_name": "Python 3",
   "language": "python",
   "name": "python3"
  },
  "language_info": {
   "codemirror_mode": {
    "name": "ipython",
    "version": 3
   },
   "file_extension": ".py",
   "mimetype": "text/x-python",
   "name": "python",
   "nbconvert_exporter": "python",
   "pygments_lexer": "ipython3",
   "version": "3.8.3"
  }
 },
 "nbformat": 4,
 "nbformat_minor": 5
}
